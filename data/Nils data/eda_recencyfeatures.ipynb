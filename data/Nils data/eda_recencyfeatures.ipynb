{
 "cells": [
  {
   "cell_type": "code",
   "execution_count": 1,
   "metadata": {},
   "outputs": [],
   "source": [
    "import pandas as pd\n",
    "\n",
    "\n",
    "\n",
    "df_bundesliga = pd.read_csv(\"/Users/nilsweigeldt/Desktop/capstone2/BWArchenemies/data/bundesliga.csv\")\n"
   ]
  },
  {
   "cell_type": "code",
   "execution_count": 2,
   "metadata": {},
   "outputs": [
    {
     "data": {
      "text/html": [
       "<div>\n",
       "<style scoped>\n",
       "    .dataframe tbody tr th:only-of-type {\n",
       "        vertical-align: middle;\n",
       "    }\n",
       "\n",
       "    .dataframe tbody tr th {\n",
       "        vertical-align: top;\n",
       "    }\n",
       "\n",
       "    .dataframe thead th {\n",
       "        text-align: right;\n",
       "    }\n",
       "</style>\n",
       "<table border=\"1\" class=\"dataframe\">\n",
       "  <thead>\n",
       "    <tr style=\"text-align: right;\">\n",
       "      <th></th>\n",
       "      <th>Unnamed: 0</th>\n",
       "      <th>matchday</th>\n",
       "      <th>date</th>\n",
       "      <th>home_team</th>\n",
       "      <th>final_result</th>\n",
       "      <th>away_team</th>\n",
       "      <th>home_goals</th>\n",
       "      <th>away_goals</th>\n",
       "      <th>winner</th>\n",
       "    </tr>\n",
       "  </thead>\n",
       "  <tbody>\n",
       "    <tr>\n",
       "      <th>0</th>\n",
       "      <td>0</td>\n",
       "      <td>1</td>\n",
       "      <td>1963-08-24</td>\n",
       "      <td>Werder Bremen</td>\n",
       "      <td>3-2</td>\n",
       "      <td>Borussia Dortmund</td>\n",
       "      <td>3</td>\n",
       "      <td>2</td>\n",
       "      <td>0</td>\n",
       "    </tr>\n",
       "    <tr>\n",
       "      <th>1</th>\n",
       "      <td>1</td>\n",
       "      <td>1</td>\n",
       "      <td>1963-08-24</td>\n",
       "      <td>1. FC Saarbrücken</td>\n",
       "      <td>0-2</td>\n",
       "      <td>1. FC Köln</td>\n",
       "      <td>0</td>\n",
       "      <td>2</td>\n",
       "      <td>2</td>\n",
       "    </tr>\n",
       "    <tr>\n",
       "      <th>2</th>\n",
       "      <td>2</td>\n",
       "      <td>1</td>\n",
       "      <td>1963-08-24</td>\n",
       "      <td>TSV 1860 München</td>\n",
       "      <td>1-1</td>\n",
       "      <td>Eintracht Braunschweig</td>\n",
       "      <td>1</td>\n",
       "      <td>1</td>\n",
       "      <td>1</td>\n",
       "    </tr>\n",
       "    <tr>\n",
       "      <th>3</th>\n",
       "      <td>3</td>\n",
       "      <td>1</td>\n",
       "      <td>1963-08-24</td>\n",
       "      <td>Eintracht Frankfurt</td>\n",
       "      <td>1-1</td>\n",
       "      <td>1. FC Kaiserslautern</td>\n",
       "      <td>1</td>\n",
       "      <td>1</td>\n",
       "      <td>1</td>\n",
       "    </tr>\n",
       "    <tr>\n",
       "      <th>4</th>\n",
       "      <td>4</td>\n",
       "      <td>1</td>\n",
       "      <td>1963-08-24</td>\n",
       "      <td>FC Schalke 04</td>\n",
       "      <td>2-0</td>\n",
       "      <td>VfB Stuttgart</td>\n",
       "      <td>2</td>\n",
       "      <td>0</td>\n",
       "      <td>0</td>\n",
       "    </tr>\n",
       "    <tr>\n",
       "      <th>...</th>\n",
       "      <td>...</td>\n",
       "      <td>...</td>\n",
       "      <td>...</td>\n",
       "      <td>...</td>\n",
       "      <td>...</td>\n",
       "      <td>...</td>\n",
       "      <td>...</td>\n",
       "      <td>...</td>\n",
       "      <td>...</td>\n",
       "    </tr>\n",
       "    <tr>\n",
       "      <th>18603</th>\n",
       "      <td>18603</td>\n",
       "      <td>34</td>\n",
       "      <td>2024-05-18</td>\n",
       "      <td>1. FC Union Berlin</td>\n",
       "      <td>2-1</td>\n",
       "      <td>SC Freiburg</td>\n",
       "      <td>2</td>\n",
       "      <td>1</td>\n",
       "      <td>0</td>\n",
       "    </tr>\n",
       "    <tr>\n",
       "      <th>18604</th>\n",
       "      <td>18604</td>\n",
       "      <td>34</td>\n",
       "      <td>2024-05-18</td>\n",
       "      <td>Eintracht Frankfurt</td>\n",
       "      <td>2-2</td>\n",
       "      <td>RB Leipzig</td>\n",
       "      <td>2</td>\n",
       "      <td>2</td>\n",
       "      <td>1</td>\n",
       "    </tr>\n",
       "    <tr>\n",
       "      <th>18605</th>\n",
       "      <td>18605</td>\n",
       "      <td>34</td>\n",
       "      <td>2024-05-18</td>\n",
       "      <td>TSG 1899 Hoffenheim</td>\n",
       "      <td>4-2</td>\n",
       "      <td>Bayern München</td>\n",
       "      <td>4</td>\n",
       "      <td>2</td>\n",
       "      <td>0</td>\n",
       "    </tr>\n",
       "    <tr>\n",
       "      <th>18606</th>\n",
       "      <td>18606</td>\n",
       "      <td>34</td>\n",
       "      <td>2024-05-18</td>\n",
       "      <td>VfL Wolfsburg</td>\n",
       "      <td>1-3</td>\n",
       "      <td>1. FSV Mainz 05</td>\n",
       "      <td>1</td>\n",
       "      <td>3</td>\n",
       "      <td>2</td>\n",
       "    </tr>\n",
       "    <tr>\n",
       "      <th>18607</th>\n",
       "      <td>18607</td>\n",
       "      <td>34</td>\n",
       "      <td>2024-05-18</td>\n",
       "      <td>Borussia Dortmund</td>\n",
       "      <td>4-0</td>\n",
       "      <td>SV Darmstadt 98</td>\n",
       "      <td>4</td>\n",
       "      <td>0</td>\n",
       "      <td>0</td>\n",
       "    </tr>\n",
       "  </tbody>\n",
       "</table>\n",
       "<p>18608 rows × 9 columns</p>\n",
       "</div>"
      ],
      "text/plain": [
       "       Unnamed: 0  matchday        date            home_team final_result   \n",
       "0               0         1  1963-08-24        Werder Bremen          3-2  \\\n",
       "1               1         1  1963-08-24    1. FC Saarbrücken          0-2   \n",
       "2               2         1  1963-08-24     TSV 1860 München          1-1   \n",
       "3               3         1  1963-08-24  Eintracht Frankfurt          1-1   \n",
       "4               4         1  1963-08-24        FC Schalke 04          2-0   \n",
       "...           ...       ...         ...                  ...          ...   \n",
       "18603       18603        34  2024-05-18   1. FC Union Berlin          2-1   \n",
       "18604       18604        34  2024-05-18  Eintracht Frankfurt          2-2   \n",
       "18605       18605        34  2024-05-18  TSG 1899 Hoffenheim          4-2   \n",
       "18606       18606        34  2024-05-18        VfL Wolfsburg          1-3   \n",
       "18607       18607        34  2024-05-18    Borussia Dortmund          4-0   \n",
       "\n",
       "                    away_team  home_goals  away_goals  winner  \n",
       "0           Borussia Dortmund           3           2       0  \n",
       "1                  1. FC Köln           0           2       2  \n",
       "2      Eintracht Braunschweig           1           1       1  \n",
       "3        1. FC Kaiserslautern           1           1       1  \n",
       "4               VfB Stuttgart           2           0       0  \n",
       "...                       ...         ...         ...     ...  \n",
       "18603             SC Freiburg           2           1       0  \n",
       "18604              RB Leipzig           2           2       1  \n",
       "18605          Bayern München           4           2       0  \n",
       "18606         1. FSV Mainz 05           1           3       2  \n",
       "18607         SV Darmstadt 98           4           0       0  \n",
       "\n",
       "[18608 rows x 9 columns]"
      ]
     },
     "execution_count": 2,
     "metadata": {},
     "output_type": "execute_result"
    }
   ],
   "source": [
    "df_bundesliga"
   ]
  },
  {
   "cell_type": "markdown",
   "metadata": {},
   "source": [
    "Additional EDA and plot interesting graphs on football stats"
   ]
  },
  {
   "cell_type": "code",
   "execution_count": 3,
   "metadata": {},
   "outputs": [
    {
     "name": "stdout",
     "output_type": "stream",
     "text": [
      "Percentage of matches that end in a draw or are won by two or fewer goals: 80.01%\n"
     ]
    }
   ],
   "source": [
    "# Count matches that are either a draw or won by 2 or fewer goals\n",
    "df_bundesliga['goal_difference'] = abs(df_bundesliga['home_goals'] - df_bundesliga['away_goals'])\n",
    "\n",
    "\n",
    "total_matches = df_bundesliga.shape[0]\n",
    "\n",
    "close_matches = df_bundesliga[(df_bundesliga['goal_difference'] <= 2)].shape[0]\n",
    "\n",
    "\n",
    "percentage_close_matches = (close_matches / total_matches) * 100\n",
    "\n",
    "print(f\"Percentage of matches that end in a draw or are won by two or fewer goals: {percentage_close_matches:.2f}%\")"
   ]
  },
  {
   "cell_type": "code",
   "execution_count": 4,
   "metadata": {},
   "outputs": [
    {
     "data": {
      "application/vnd.plotly.v1+json": {
       "config": {
        "plotlyServerURL": "https://plot.ly"
       },
       "data": [
        {
         "hole": 0.3,
         "hoverinfo": "label+percent",
         "labels": [
          "Close Matches (Draw or Win by 2 or Fewer Goals)",
          "Other Matches"
         ],
         "marker": {
          "colors": [
           "#636EFA",
           "#EF553B"
          ]
         },
         "textfont": {
          "size": 20
         },
         "textinfo": "percent",
         "type": "pie",
         "values": [
          80,
          20
         ]
        }
       ],
       "layout": {
        "template": {
         "data": {
          "bar": [
           {
            "error_x": {
             "color": "#2a3f5f"
            },
            "error_y": {
             "color": "#2a3f5f"
            },
            "marker": {
             "line": {
              "color": "#E5ECF6",
              "width": 0.5
             },
             "pattern": {
              "fillmode": "overlay",
              "size": 10,
              "solidity": 0.2
             }
            },
            "type": "bar"
           }
          ],
          "barpolar": [
           {
            "marker": {
             "line": {
              "color": "#E5ECF6",
              "width": 0.5
             },
             "pattern": {
              "fillmode": "overlay",
              "size": 10,
              "solidity": 0.2
             }
            },
            "type": "barpolar"
           }
          ],
          "carpet": [
           {
            "aaxis": {
             "endlinecolor": "#2a3f5f",
             "gridcolor": "white",
             "linecolor": "white",
             "minorgridcolor": "white",
             "startlinecolor": "#2a3f5f"
            },
            "baxis": {
             "endlinecolor": "#2a3f5f",
             "gridcolor": "white",
             "linecolor": "white",
             "minorgridcolor": "white",
             "startlinecolor": "#2a3f5f"
            },
            "type": "carpet"
           }
          ],
          "choropleth": [
           {
            "colorbar": {
             "outlinewidth": 0,
             "ticks": ""
            },
            "type": "choropleth"
           }
          ],
          "contour": [
           {
            "colorbar": {
             "outlinewidth": 0,
             "ticks": ""
            },
            "colorscale": [
             [
              0,
              "#0d0887"
             ],
             [
              0.1111111111111111,
              "#46039f"
             ],
             [
              0.2222222222222222,
              "#7201a8"
             ],
             [
              0.3333333333333333,
              "#9c179e"
             ],
             [
              0.4444444444444444,
              "#bd3786"
             ],
             [
              0.5555555555555556,
              "#d8576b"
             ],
             [
              0.6666666666666666,
              "#ed7953"
             ],
             [
              0.7777777777777778,
              "#fb9f3a"
             ],
             [
              0.8888888888888888,
              "#fdca26"
             ],
             [
              1,
              "#f0f921"
             ]
            ],
            "type": "contour"
           }
          ],
          "contourcarpet": [
           {
            "colorbar": {
             "outlinewidth": 0,
             "ticks": ""
            },
            "type": "contourcarpet"
           }
          ],
          "heatmap": [
           {
            "colorbar": {
             "outlinewidth": 0,
             "ticks": ""
            },
            "colorscale": [
             [
              0,
              "#0d0887"
             ],
             [
              0.1111111111111111,
              "#46039f"
             ],
             [
              0.2222222222222222,
              "#7201a8"
             ],
             [
              0.3333333333333333,
              "#9c179e"
             ],
             [
              0.4444444444444444,
              "#bd3786"
             ],
             [
              0.5555555555555556,
              "#d8576b"
             ],
             [
              0.6666666666666666,
              "#ed7953"
             ],
             [
              0.7777777777777778,
              "#fb9f3a"
             ],
             [
              0.8888888888888888,
              "#fdca26"
             ],
             [
              1,
              "#f0f921"
             ]
            ],
            "type": "heatmap"
           }
          ],
          "heatmapgl": [
           {
            "colorbar": {
             "outlinewidth": 0,
             "ticks": ""
            },
            "colorscale": [
             [
              0,
              "#0d0887"
             ],
             [
              0.1111111111111111,
              "#46039f"
             ],
             [
              0.2222222222222222,
              "#7201a8"
             ],
             [
              0.3333333333333333,
              "#9c179e"
             ],
             [
              0.4444444444444444,
              "#bd3786"
             ],
             [
              0.5555555555555556,
              "#d8576b"
             ],
             [
              0.6666666666666666,
              "#ed7953"
             ],
             [
              0.7777777777777778,
              "#fb9f3a"
             ],
             [
              0.8888888888888888,
              "#fdca26"
             ],
             [
              1,
              "#f0f921"
             ]
            ],
            "type": "heatmapgl"
           }
          ],
          "histogram": [
           {
            "marker": {
             "pattern": {
              "fillmode": "overlay",
              "size": 10,
              "solidity": 0.2
             }
            },
            "type": "histogram"
           }
          ],
          "histogram2d": [
           {
            "colorbar": {
             "outlinewidth": 0,
             "ticks": ""
            },
            "colorscale": [
             [
              0,
              "#0d0887"
             ],
             [
              0.1111111111111111,
              "#46039f"
             ],
             [
              0.2222222222222222,
              "#7201a8"
             ],
             [
              0.3333333333333333,
              "#9c179e"
             ],
             [
              0.4444444444444444,
              "#bd3786"
             ],
             [
              0.5555555555555556,
              "#d8576b"
             ],
             [
              0.6666666666666666,
              "#ed7953"
             ],
             [
              0.7777777777777778,
              "#fb9f3a"
             ],
             [
              0.8888888888888888,
              "#fdca26"
             ],
             [
              1,
              "#f0f921"
             ]
            ],
            "type": "histogram2d"
           }
          ],
          "histogram2dcontour": [
           {
            "colorbar": {
             "outlinewidth": 0,
             "ticks": ""
            },
            "colorscale": [
             [
              0,
              "#0d0887"
             ],
             [
              0.1111111111111111,
              "#46039f"
             ],
             [
              0.2222222222222222,
              "#7201a8"
             ],
             [
              0.3333333333333333,
              "#9c179e"
             ],
             [
              0.4444444444444444,
              "#bd3786"
             ],
             [
              0.5555555555555556,
              "#d8576b"
             ],
             [
              0.6666666666666666,
              "#ed7953"
             ],
             [
              0.7777777777777778,
              "#fb9f3a"
             ],
             [
              0.8888888888888888,
              "#fdca26"
             ],
             [
              1,
              "#f0f921"
             ]
            ],
            "type": "histogram2dcontour"
           }
          ],
          "mesh3d": [
           {
            "colorbar": {
             "outlinewidth": 0,
             "ticks": ""
            },
            "type": "mesh3d"
           }
          ],
          "parcoords": [
           {
            "line": {
             "colorbar": {
              "outlinewidth": 0,
              "ticks": ""
             }
            },
            "type": "parcoords"
           }
          ],
          "pie": [
           {
            "automargin": true,
            "type": "pie"
           }
          ],
          "scatter": [
           {
            "fillpattern": {
             "fillmode": "overlay",
             "size": 10,
             "solidity": 0.2
            },
            "type": "scatter"
           }
          ],
          "scatter3d": [
           {
            "line": {
             "colorbar": {
              "outlinewidth": 0,
              "ticks": ""
             }
            },
            "marker": {
             "colorbar": {
              "outlinewidth": 0,
              "ticks": ""
             }
            },
            "type": "scatter3d"
           }
          ],
          "scattercarpet": [
           {
            "marker": {
             "colorbar": {
              "outlinewidth": 0,
              "ticks": ""
             }
            },
            "type": "scattercarpet"
           }
          ],
          "scattergeo": [
           {
            "marker": {
             "colorbar": {
              "outlinewidth": 0,
              "ticks": ""
             }
            },
            "type": "scattergeo"
           }
          ],
          "scattergl": [
           {
            "marker": {
             "colorbar": {
              "outlinewidth": 0,
              "ticks": ""
             }
            },
            "type": "scattergl"
           }
          ],
          "scattermapbox": [
           {
            "marker": {
             "colorbar": {
              "outlinewidth": 0,
              "ticks": ""
             }
            },
            "type": "scattermapbox"
           }
          ],
          "scatterpolar": [
           {
            "marker": {
             "colorbar": {
              "outlinewidth": 0,
              "ticks": ""
             }
            },
            "type": "scatterpolar"
           }
          ],
          "scatterpolargl": [
           {
            "marker": {
             "colorbar": {
              "outlinewidth": 0,
              "ticks": ""
             }
            },
            "type": "scatterpolargl"
           }
          ],
          "scatterternary": [
           {
            "marker": {
             "colorbar": {
              "outlinewidth": 0,
              "ticks": ""
             }
            },
            "type": "scatterternary"
           }
          ],
          "surface": [
           {
            "colorbar": {
             "outlinewidth": 0,
             "ticks": ""
            },
            "colorscale": [
             [
              0,
              "#0d0887"
             ],
             [
              0.1111111111111111,
              "#46039f"
             ],
             [
              0.2222222222222222,
              "#7201a8"
             ],
             [
              0.3333333333333333,
              "#9c179e"
             ],
             [
              0.4444444444444444,
              "#bd3786"
             ],
             [
              0.5555555555555556,
              "#d8576b"
             ],
             [
              0.6666666666666666,
              "#ed7953"
             ],
             [
              0.7777777777777778,
              "#fb9f3a"
             ],
             [
              0.8888888888888888,
              "#fdca26"
             ],
             [
              1,
              "#f0f921"
             ]
            ],
            "type": "surface"
           }
          ],
          "table": [
           {
            "cells": {
             "fill": {
              "color": "#EBF0F8"
             },
             "line": {
              "color": "white"
             }
            },
            "header": {
             "fill": {
              "color": "#C8D4E3"
             },
             "line": {
              "color": "white"
             }
            },
            "type": "table"
           }
          ]
         },
         "layout": {
          "annotationdefaults": {
           "arrowcolor": "#2a3f5f",
           "arrowhead": 0,
           "arrowwidth": 1
          },
          "autotypenumbers": "strict",
          "coloraxis": {
           "colorbar": {
            "outlinewidth": 0,
            "ticks": ""
           }
          },
          "colorscale": {
           "diverging": [
            [
             0,
             "#8e0152"
            ],
            [
             0.1,
             "#c51b7d"
            ],
            [
             0.2,
             "#de77ae"
            ],
            [
             0.3,
             "#f1b6da"
            ],
            [
             0.4,
             "#fde0ef"
            ],
            [
             0.5,
             "#f7f7f7"
            ],
            [
             0.6,
             "#e6f5d0"
            ],
            [
             0.7,
             "#b8e186"
            ],
            [
             0.8,
             "#7fbc41"
            ],
            [
             0.9,
             "#4d9221"
            ],
            [
             1,
             "#276419"
            ]
           ],
           "sequential": [
            [
             0,
             "#0d0887"
            ],
            [
             0.1111111111111111,
             "#46039f"
            ],
            [
             0.2222222222222222,
             "#7201a8"
            ],
            [
             0.3333333333333333,
             "#9c179e"
            ],
            [
             0.4444444444444444,
             "#bd3786"
            ],
            [
             0.5555555555555556,
             "#d8576b"
            ],
            [
             0.6666666666666666,
             "#ed7953"
            ],
            [
             0.7777777777777778,
             "#fb9f3a"
            ],
            [
             0.8888888888888888,
             "#fdca26"
            ],
            [
             1,
             "#f0f921"
            ]
           ],
           "sequentialminus": [
            [
             0,
             "#0d0887"
            ],
            [
             0.1111111111111111,
             "#46039f"
            ],
            [
             0.2222222222222222,
             "#7201a8"
            ],
            [
             0.3333333333333333,
             "#9c179e"
            ],
            [
             0.4444444444444444,
             "#bd3786"
            ],
            [
             0.5555555555555556,
             "#d8576b"
            ],
            [
             0.6666666666666666,
             "#ed7953"
            ],
            [
             0.7777777777777778,
             "#fb9f3a"
            ],
            [
             0.8888888888888888,
             "#fdca26"
            ],
            [
             1,
             "#f0f921"
            ]
           ]
          },
          "colorway": [
           "#636efa",
           "#EF553B",
           "#00cc96",
           "#ab63fa",
           "#FFA15A",
           "#19d3f3",
           "#FF6692",
           "#B6E880",
           "#FF97FF",
           "#FECB52"
          ],
          "font": {
           "color": "#2a3f5f"
          },
          "geo": {
           "bgcolor": "white",
           "lakecolor": "white",
           "landcolor": "#E5ECF6",
           "showlakes": true,
           "showland": true,
           "subunitcolor": "white"
          },
          "hoverlabel": {
           "align": "left"
          },
          "hovermode": "closest",
          "mapbox": {
           "style": "light"
          },
          "paper_bgcolor": "white",
          "plot_bgcolor": "#E5ECF6",
          "polar": {
           "angularaxis": {
            "gridcolor": "white",
            "linecolor": "white",
            "ticks": ""
           },
           "bgcolor": "#E5ECF6",
           "radialaxis": {
            "gridcolor": "white",
            "linecolor": "white",
            "ticks": ""
           }
          },
          "scene": {
           "xaxis": {
            "backgroundcolor": "#E5ECF6",
            "gridcolor": "white",
            "gridwidth": 2,
            "linecolor": "white",
            "showbackground": true,
            "ticks": "",
            "zerolinecolor": "white"
           },
           "yaxis": {
            "backgroundcolor": "#E5ECF6",
            "gridcolor": "white",
            "gridwidth": 2,
            "linecolor": "white",
            "showbackground": true,
            "ticks": "",
            "zerolinecolor": "white"
           },
           "zaxis": {
            "backgroundcolor": "#E5ECF6",
            "gridcolor": "white",
            "gridwidth": 2,
            "linecolor": "white",
            "showbackground": true,
            "ticks": "",
            "zerolinecolor": "white"
           }
          },
          "shapedefaults": {
           "line": {
            "color": "#2a3f5f"
           }
          },
          "ternary": {
           "aaxis": {
            "gridcolor": "white",
            "linecolor": "white",
            "ticks": ""
           },
           "baxis": {
            "gridcolor": "white",
            "linecolor": "white",
            "ticks": ""
           },
           "bgcolor": "#E5ECF6",
           "caxis": {
            "gridcolor": "white",
            "linecolor": "white",
            "ticks": ""
           }
          },
          "title": {
           "x": 0.05
          },
          "xaxis": {
           "automargin": true,
           "gridcolor": "white",
           "linecolor": "white",
           "ticks": "",
           "title": {
            "standoff": 15
           },
           "zerolinecolor": "white",
           "zerolinewidth": 2
          },
          "yaxis": {
           "automargin": true,
           "gridcolor": "white",
           "linecolor": "white",
           "ticks": "",
           "title": {
            "standoff": 15
           },
           "zerolinecolor": "white",
           "zerolinewidth": 2
          }
         }
        },
        "title": {
         "text": "Distribution of Bundesliga Matches by Outcome"
        }
       }
      }
     },
     "metadata": {},
     "output_type": "display_data"
    }
   ],
   "source": [
    "import plotly.graph_objects as go\n",
    "\n",
    "\n",
    "labels = ['Close Matches (Draw or Win by 2 or Fewer Goals)', 'Other Matches']\n",
    "sizes = [round(80.01), round(100 - 80.01)]\n",
    "colors = ['#636EFA', '#EF553B']\n",
    "\n",
    "fig = go.Figure(data=[go.Pie(labels=labels, values=sizes, hole=.3, marker=dict(colors=colors))])\n",
    "\n",
    "fig.update_traces(hoverinfo='label+percent', textinfo='percent', textfont_size=20)\n",
    "fig.update_layout(title_text='Distribution of Bundesliga Matches by Outcome')\n",
    "\n",
    "fig.show()"
   ]
  },
  {
   "cell_type": "code",
   "execution_count": 5,
   "metadata": {},
   "outputs": [
    {
     "data": {
      "text/html": [
       "\n",
       "<style>\n",
       "  #altair-viz-4c226e643c14428db720187776f3fda1.vega-embed {\n",
       "    width: 100%;\n",
       "    display: flex;\n",
       "  }\n",
       "\n",
       "  #altair-viz-4c226e643c14428db720187776f3fda1.vega-embed details,\n",
       "  #altair-viz-4c226e643c14428db720187776f3fda1.vega-embed details summary {\n",
       "    position: relative;\n",
       "  }\n",
       "</style>\n",
       "<div id=\"altair-viz-4c226e643c14428db720187776f3fda1\"></div>\n",
       "<script type=\"text/javascript\">\n",
       "  var VEGA_DEBUG = (typeof VEGA_DEBUG == \"undefined\") ? {} : VEGA_DEBUG;\n",
       "  (function(spec, embedOpt){\n",
       "    let outputDiv = document.currentScript.previousElementSibling;\n",
       "    if (outputDiv.id !== \"altair-viz-4c226e643c14428db720187776f3fda1\") {\n",
       "      outputDiv = document.getElementById(\"altair-viz-4c226e643c14428db720187776f3fda1\");\n",
       "    }\n",
       "    const paths = {\n",
       "      \"vega\": \"https://cdn.jsdelivr.net/npm/vega@5?noext\",\n",
       "      \"vega-lib\": \"https://cdn.jsdelivr.net/npm/vega-lib?noext\",\n",
       "      \"vega-lite\": \"https://cdn.jsdelivr.net/npm/vega-lite@5.8.0?noext\",\n",
       "      \"vega-embed\": \"https://cdn.jsdelivr.net/npm/vega-embed@6?noext\",\n",
       "    };\n",
       "\n",
       "    function maybeLoadScript(lib, version) {\n",
       "      var key = `${lib.replace(\"-\", \"\")}_version`;\n",
       "      return (VEGA_DEBUG[key] == version) ?\n",
       "        Promise.resolve(paths[lib]) :\n",
       "        new Promise(function(resolve, reject) {\n",
       "          var s = document.createElement('script');\n",
       "          document.getElementsByTagName(\"head\")[0].appendChild(s);\n",
       "          s.async = true;\n",
       "          s.onload = () => {\n",
       "            VEGA_DEBUG[key] = version;\n",
       "            return resolve(paths[lib]);\n",
       "          };\n",
       "          s.onerror = () => reject(`Error loading script: ${paths[lib]}`);\n",
       "          s.src = paths[lib];\n",
       "        });\n",
       "    }\n",
       "\n",
       "    function showError(err) {\n",
       "      outputDiv.innerHTML = `<div class=\"error\" style=\"color:red;\">${err}</div>`;\n",
       "      throw err;\n",
       "    }\n",
       "\n",
       "    function displayChart(vegaEmbed) {\n",
       "      vegaEmbed(outputDiv, spec, embedOpt)\n",
       "        .catch(err => showError(`Javascript Error: ${err.message}<br>This usually means there's a typo in your chart specification. See the javascript console for the full traceback.`));\n",
       "    }\n",
       "\n",
       "    if(typeof define === \"function\" && define.amd) {\n",
       "      requirejs.config({paths});\n",
       "      require([\"vega-embed\"], displayChart, err => showError(`Error loading script: ${err.message}`));\n",
       "    } else {\n",
       "      maybeLoadScript(\"vega\", \"5\")\n",
       "        .then(() => maybeLoadScript(\"vega-lite\", \"5.8.0\"))\n",
       "        .then(() => maybeLoadScript(\"vega-embed\", \"6\"))\n",
       "        .catch(showError)\n",
       "        .then(() => displayChart(vegaEmbed));\n",
       "    }\n",
       "  })({\"config\": {\"view\": {\"continuousWidth\": 300, \"continuousHeight\": 300}}, \"data\": {\"name\": \"data-325ef876bbf184c7d9a5bce5be074c2a\"}, \"mark\": {\"type\": \"line\", \"point\": true}, \"encoding\": {\"color\": {\"field\": \"winner\", \"type\": \"nominal\"}, \"tooltip\": [{\"field\": \"season\", \"type\": \"nominal\"}, {\"field\": \"winner\", \"type\": \"nominal\"}, {\"field\": \"count\", \"type\": \"quantitative\"}], \"x\": {\"field\": \"season\", \"sort\": {\"field\": \"season_start_year\", \"order\": \"ascending\"}, \"title\": \"Season\", \"type\": \"ordinal\"}, \"y\": {\"field\": \"count\", \"title\": \"Number of Matches\", \"type\": \"quantitative\"}}, \"height\": 400, \"title\": \"Match Outcome Distribution Over the Seasons\", \"width\": 600, \"$schema\": \"https://vega.github.io/schema/vega-lite/v5.8.0.json\", \"datasets\": {\"data-325ef876bbf184c7d9a5bce5be074c2a\": [{\"season_start_year\": 1963, \"winner\": \"Home Wins\", \"count\": 126, \"season\": \"1963-1964\"}, {\"season_start_year\": 1963, \"winner\": \"Draws\", \"count\": 61, \"season\": \"1963-1964\"}, {\"season_start_year\": 1963, \"winner\": \"Away Wins\", \"count\": 53, \"season\": \"1963-1964\"}, {\"season_start_year\": 1964, \"winner\": \"Home Wins\", \"count\": 122, \"season\": \"1964-1965\"}, {\"season_start_year\": 1964, \"winner\": \"Draws\", \"count\": 62, \"season\": \"1964-1965\"}, {\"season_start_year\": 1964, \"winner\": \"Away Wins\", \"count\": 56, \"season\": \"1964-1965\"}, {\"season_start_year\": 1965, \"winner\": \"Home Wins\", \"count\": 168, \"season\": \"1965-1966\"}, {\"season_start_year\": 1965, \"winner\": \"Draws\", \"count\": 68, \"season\": \"1965-1966\"}, {\"season_start_year\": 1965, \"winner\": \"Away Wins\", \"count\": 70, \"season\": \"1965-1966\"}, {\"season_start_year\": 1966, \"winner\": \"Home Wins\", \"count\": 158, \"season\": \"1966-1967\"}, {\"season_start_year\": 1966, \"winner\": \"Draws\", \"count\": 84, \"season\": \"1966-1967\"}, {\"season_start_year\": 1966, \"winner\": \"Away Wins\", \"count\": 64, \"season\": \"1966-1967\"}, {\"season_start_year\": 1967, \"winner\": \"Home Wins\", \"count\": 167, \"season\": \"1967-1968\"}, {\"season_start_year\": 1967, \"winner\": \"Draws\", \"count\": 73, \"season\": \"1967-1968\"}, {\"season_start_year\": 1967, \"winner\": \"Away Wins\", \"count\": 66, \"season\": \"1967-1968\"}, {\"season_start_year\": 1968, \"winner\": \"Home Wins\", \"count\": 171, \"season\": \"1968-1969\"}, {\"season_start_year\": 1968, \"winner\": \"Draws\", \"count\": 79, \"season\": \"1968-1969\"}, {\"season_start_year\": 1968, \"winner\": \"Away Wins\", \"count\": 56, \"season\": \"1968-1969\"}, {\"season_start_year\": 1969, \"winner\": \"Home Wins\", \"count\": 174, \"season\": \"1969-1970\"}, {\"season_start_year\": 1969, \"winner\": \"Draws\", \"count\": 77, \"season\": \"1969-1970\"}, {\"season_start_year\": 1969, \"winner\": \"Away Wins\", \"count\": 55, \"season\": \"1969-1970\"}, {\"season_start_year\": 1970, \"winner\": \"Home Wins\", \"count\": 173, \"season\": \"1970-1971\"}, {\"season_start_year\": 1970, \"winner\": \"Draws\", \"count\": 77, \"season\": \"1970-1971\"}, {\"season_start_year\": 1970, \"winner\": \"Away Wins\", \"count\": 56, \"season\": \"1970-1971\"}, {\"season_start_year\": 1971, \"winner\": \"Home Wins\", \"count\": 176, \"season\": \"1971-1972\"}, {\"season_start_year\": 1971, \"winner\": \"Draws\", \"count\": 73, \"season\": \"1971-1972\"}, {\"season_start_year\": 1971, \"winner\": \"Away Wins\", \"count\": 57, \"season\": \"1971-1972\"}, {\"season_start_year\": 1972, \"winner\": \"Home Wins\", \"count\": 187, \"season\": \"1972-1973\"}, {\"season_start_year\": 1972, \"winner\": \"Draws\", \"count\": 67, \"season\": \"1972-1973\"}, {\"season_start_year\": 1972, \"winner\": \"Away Wins\", \"count\": 52, \"season\": \"1972-1973\"}, {\"season_start_year\": 1973, \"winner\": \"Home Wins\", \"count\": 161, \"season\": \"1973-1974\"}, {\"season_start_year\": 1973, \"winner\": \"Draws\", \"count\": 79, \"season\": \"1973-1974\"}, {\"season_start_year\": 1973, \"winner\": \"Away Wins\", \"count\": 66, \"season\": \"1973-1974\"}, {\"season_start_year\": 1974, \"winner\": \"Home Wins\", \"count\": 180, \"season\": \"1974-1975\"}, {\"season_start_year\": 1974, \"winner\": \"Draws\", \"count\": 63, \"season\": \"1974-1975\"}, {\"season_start_year\": 1974, \"winner\": \"Away Wins\", \"count\": 63, \"season\": \"1974-1975\"}, {\"season_start_year\": 1975, \"winner\": \"Home Wins\", \"count\": 173, \"season\": \"1975-1976\"}, {\"season_start_year\": 1975, \"winner\": \"Draws\", \"count\": 83, \"season\": \"1975-1976\"}, {\"season_start_year\": 1975, \"winner\": \"Away Wins\", \"count\": 50, \"season\": \"1975-1976\"}, {\"season_start_year\": 1976, \"winner\": \"Home Wins\", \"count\": 167, \"season\": \"1976-1977\"}, {\"season_start_year\": 1976, \"winner\": \"Draws\", \"count\": 81, \"season\": \"1976-1977\"}, {\"season_start_year\": 1976, \"winner\": \"Away Wins\", \"count\": 58, \"season\": \"1976-1977\"}, {\"season_start_year\": 1977, \"winner\": \"Home Wins\", \"count\": 191, \"season\": \"1977-1978\"}, {\"season_start_year\": 1977, \"winner\": \"Draws\", \"count\": 60, \"season\": \"1977-1978\"}, {\"season_start_year\": 1977, \"winner\": \"Away Wins\", \"count\": 55, \"season\": \"1977-1978\"}, {\"season_start_year\": 1978, \"winner\": \"Home Wins\", \"count\": 166, \"season\": \"1978-1979\"}, {\"season_start_year\": 1978, \"winner\": \"Draws\", \"count\": 85, \"season\": \"1978-1979\"}, {\"season_start_year\": 1978, \"winner\": \"Away Wins\", \"count\": 55, \"season\": \"1978-1979\"}, {\"season_start_year\": 1979, \"winner\": \"Home Wins\", \"count\": 184, \"season\": \"1979-1980\"}, {\"season_start_year\": 1979, \"winner\": \"Draws\", \"count\": 63, \"season\": \"1979-1980\"}, {\"season_start_year\": 1979, \"winner\": \"Away Wins\", \"count\": 59, \"season\": \"1979-1980\"}, {\"season_start_year\": 1980, \"winner\": \"Home Wins\", \"count\": 164, \"season\": \"1980-1981\"}, {\"season_start_year\": 1980, \"winner\": \"Draws\", \"count\": 80, \"season\": \"1980-1981\"}, {\"season_start_year\": 1980, \"winner\": \"Away Wins\", \"count\": 62, \"season\": \"1980-1981\"}, {\"season_start_year\": 1981, \"winner\": \"Home Wins\", \"count\": 177, \"season\": \"1981-1982\"}, {\"season_start_year\": 1981, \"winner\": \"Draws\", \"count\": 68, \"season\": \"1981-1982\"}, {\"season_start_year\": 1981, \"winner\": \"Away Wins\", \"count\": 61, \"season\": \"1981-1982\"}, {\"season_start_year\": 1982, \"winner\": \"Home Wins\", \"count\": 172, \"season\": \"1982-1983\"}, {\"season_start_year\": 1982, \"winner\": \"Draws\", \"count\": 75, \"season\": \"1982-1983\"}, {\"season_start_year\": 1982, \"winner\": \"Away Wins\", \"count\": 59, \"season\": \"1982-1983\"}, {\"season_start_year\": 1983, \"winner\": \"Home Wins\", \"count\": 174, \"season\": \"1983-1984\"}, {\"season_start_year\": 1983, \"winner\": \"Draws\", \"count\": 66, \"season\": \"1983-1984\"}, {\"season_start_year\": 1983, \"winner\": \"Away Wins\", \"count\": 66, \"season\": \"1983-1984\"}, {\"season_start_year\": 1984, \"winner\": \"Home Wins\", \"count\": 167, \"season\": \"1984-1985\"}, {\"season_start_year\": 1984, \"winner\": \"Draws\", \"count\": 79, \"season\": \"1984-1985\"}, {\"season_start_year\": 1984, \"winner\": \"Away Wins\", \"count\": 60, \"season\": \"1984-1985\"}, {\"season_start_year\": 1985, \"winner\": \"Home Wins\", \"count\": 168, \"season\": \"1985-1986\"}, {\"season_start_year\": 1985, \"winner\": \"Draws\", \"count\": 76, \"season\": \"1985-1986\"}, {\"season_start_year\": 1985, \"winner\": \"Away Wins\", \"count\": 62, \"season\": \"1985-1986\"}, {\"season_start_year\": 1986, \"winner\": \"Home Wins\", \"count\": 167, \"season\": \"1986-1987\"}, {\"season_start_year\": 1986, \"winner\": \"Draws\", \"count\": 81, \"season\": \"1986-1987\"}, {\"season_start_year\": 1986, \"winner\": \"Away Wins\", \"count\": 61, \"season\": \"1986-1987\"}, {\"season_start_year\": 1987, \"winner\": \"Home Wins\", \"count\": 162, \"season\": \"1987-1988\"}, {\"season_start_year\": 1987, \"winner\": \"Draws\", \"count\": 91, \"season\": \"1987-1988\"}, {\"season_start_year\": 1987, \"winner\": \"Away Wins\", \"count\": 68, \"season\": \"1987-1988\"}, {\"season_start_year\": 1988, \"winner\": \"Home Wins\", \"count\": 151, \"season\": \"1988-1989\"}, {\"season_start_year\": 1988, \"winner\": \"Draws\", \"count\": 89, \"season\": \"1988-1989\"}, {\"season_start_year\": 1988, \"winner\": \"Away Wins\", \"count\": 57, \"season\": \"1988-1989\"}, {\"season_start_year\": 1989, \"winner\": \"Home Wins\", \"count\": 149, \"season\": \"1989-1990\"}, {\"season_start_year\": 1989, \"winner\": \"Draws\", \"count\": 88, \"season\": \"1989-1990\"}, {\"season_start_year\": 1989, \"winner\": \"Away Wins\", \"count\": 60, \"season\": \"1989-1990\"}, {\"season_start_year\": 1990, \"winner\": \"Home Wins\", \"count\": 123, \"season\": \"1990-1991\"}, {\"season_start_year\": 1990, \"winner\": \"Draws\", \"count\": 106, \"season\": \"1990-1991\"}, {\"season_start_year\": 1990, \"winner\": \"Away Wins\", \"count\": 77, \"season\": \"1990-1991\"}, {\"season_start_year\": 1991, \"winner\": \"Home Wins\", \"count\": 174, \"season\": \"1991-1992\"}, {\"season_start_year\": 1991, \"winner\": \"Draws\", \"count\": 124, \"season\": \"1991-1992\"}, {\"season_start_year\": 1991, \"winner\": \"Away Wins\", \"count\": 82, \"season\": \"1991-1992\"}, {\"season_start_year\": 1992, \"winner\": \"Home Wins\", \"count\": 151, \"season\": \"1992-1993\"}, {\"season_start_year\": 1992, \"winner\": \"Draws\", \"count\": 92, \"season\": \"1992-1993\"}, {\"season_start_year\": 1992, \"winner\": \"Away Wins\", \"count\": 63, \"season\": \"1992-1993\"}, {\"season_start_year\": 1993, \"winner\": \"Home Wins\", \"count\": 152, \"season\": \"1993-1994\"}, {\"season_start_year\": 1993, \"winner\": \"Draws\", \"count\": 83, \"season\": \"1993-1994\"}, {\"season_start_year\": 1993, \"winner\": \"Away Wins\", \"count\": 71, \"season\": \"1993-1994\"}, {\"season_start_year\": 1994, \"winner\": \"Home Wins\", \"count\": 147, \"season\": \"1994-1995\"}, {\"season_start_year\": 1994, \"winner\": \"Draws\", \"count\": 86, \"season\": \"1994-1995\"}, {\"season_start_year\": 1994, \"winner\": \"Away Wins\", \"count\": 73, \"season\": \"1994-1995\"}, {\"season_start_year\": 1995, \"winner\": \"Home Wins\", \"count\": 123, \"season\": \"1995-1996\"}, {\"season_start_year\": 1995, \"winner\": \"Draws\", \"count\": 108, \"season\": \"1995-1996\"}, {\"season_start_year\": 1995, \"winner\": \"Away Wins\", \"count\": 75, \"season\": \"1995-1996\"}, {\"season_start_year\": 1996, \"winner\": \"Home Wins\", \"count\": 156, \"season\": \"1996-1997\"}, {\"season_start_year\": 1996, \"winner\": \"Draws\", \"count\": 70, \"season\": \"1996-1997\"}, {\"season_start_year\": 1996, \"winner\": \"Away Wins\", \"count\": 80, \"season\": \"1996-1997\"}, {\"season_start_year\": 1997, \"winner\": \"Home Wins\", \"count\": 145, \"season\": \"1997-1998\"}, {\"season_start_year\": 1997, \"winner\": \"Draws\", \"count\": 85, \"season\": \"1997-1998\"}, {\"season_start_year\": 1997, \"winner\": \"Away Wins\", \"count\": 76, \"season\": \"1997-1998\"}, {\"season_start_year\": 1998, \"winner\": \"Home Wins\", \"count\": 144, \"season\": \"1998-1999\"}, {\"season_start_year\": 1998, \"winner\": \"Draws\", \"count\": 87, \"season\": \"1998-1999\"}, {\"season_start_year\": 1998, \"winner\": \"Away Wins\", \"count\": 75, \"season\": \"1998-1999\"}, {\"season_start_year\": 1999, \"winner\": \"Home Wins\", \"count\": 143, \"season\": \"1999-2000\"}, {\"season_start_year\": 1999, \"winner\": \"Draws\", \"count\": 87, \"season\": \"1999-2000\"}, {\"season_start_year\": 1999, \"winner\": \"Away Wins\", \"count\": 76, \"season\": \"1999-2000\"}, {\"season_start_year\": 2000, \"winner\": \"Home Wins\", \"count\": 165, \"season\": \"2000-2001\"}, {\"season_start_year\": 2000, \"winner\": \"Draws\", \"count\": 71, \"season\": \"2000-2001\"}, {\"season_start_year\": 2000, \"winner\": \"Away Wins\", \"count\": 78, \"season\": \"2000-2001\"}, {\"season_start_year\": 2001, \"winner\": \"Home Wins\", \"count\": 155, \"season\": \"2001-2002\"}, {\"season_start_year\": 2001, \"winner\": \"Draws\", \"count\": 66, \"season\": \"2001-2002\"}, {\"season_start_year\": 2001, \"winner\": \"Away Wins\", \"count\": 77, \"season\": \"2001-2002\"}, {\"season_start_year\": 2002, \"winner\": \"Home Wins\", \"count\": 144, \"season\": \"2002-2003\"}, {\"season_start_year\": 2002, \"winner\": \"Draws\", \"count\": 77, \"season\": \"2002-2003\"}, {\"season_start_year\": 2002, \"winner\": \"Away Wins\", \"count\": 85, \"season\": \"2002-2003\"}, {\"season_start_year\": 2003, \"winner\": \"Home Wins\", \"count\": 160, \"season\": \"2003-2004\"}, {\"season_start_year\": 2003, \"winner\": \"Draws\", \"count\": 72, \"season\": \"2003-2004\"}, {\"season_start_year\": 2003, \"winner\": \"Away Wins\", \"count\": 74, \"season\": \"2003-2004\"}, {\"season_start_year\": 2004, \"winner\": \"Home Wins\", \"count\": 149, \"season\": \"2004-2005\"}, {\"season_start_year\": 2004, \"winner\": \"Draws\", \"count\": 65, \"season\": \"2004-2005\"}, {\"season_start_year\": 2004, \"winner\": \"Away Wins\", \"count\": 92, \"season\": \"2004-2005\"}, {\"season_start_year\": 2005, \"winner\": \"Home Wins\", \"count\": 131, \"season\": \"2005-2006\"}, {\"season_start_year\": 2005, \"winner\": \"Draws\", \"count\": 96, \"season\": \"2005-2006\"}, {\"season_start_year\": 2005, \"winner\": \"Away Wins\", \"count\": 79, \"season\": \"2005-2006\"}, {\"season_start_year\": 2006, \"winner\": \"Home Wins\", \"count\": 134, \"season\": \"2006-2007\"}, {\"season_start_year\": 2006, \"winner\": \"Draws\", \"count\": 79, \"season\": \"2006-2007\"}, {\"season_start_year\": 2006, \"winner\": \"Away Wins\", \"count\": 93, \"season\": \"2006-2007\"}, {\"season_start_year\": 2007, \"winner\": \"Home Wins\", \"count\": 143, \"season\": \"2007-2008\"}, {\"season_start_year\": 2007, \"winner\": \"Draws\", \"count\": 78, \"season\": \"2007-2008\"}, {\"season_start_year\": 2007, \"winner\": \"Away Wins\", \"count\": 85, \"season\": \"2007-2008\"}, {\"season_start_year\": 2008, \"winner\": \"Home Wins\", \"count\": 147, \"season\": \"2008-2009\"}, {\"season_start_year\": 2008, \"winner\": \"Draws\", \"count\": 74, \"season\": \"2008-2009\"}, {\"season_start_year\": 2008, \"winner\": \"Away Wins\", \"count\": 85, \"season\": \"2008-2009\"}, {\"season_start_year\": 2009, \"winner\": \"Home Wins\", \"count\": 125, \"season\": \"2009-2010\"}, {\"season_start_year\": 2009, \"winner\": \"Draws\", \"count\": 86, \"season\": \"2009-2010\"}, {\"season_start_year\": 2009, \"winner\": \"Away Wins\", \"count\": 95, \"season\": \"2009-2010\"}, {\"season_start_year\": 2010, \"winner\": \"Home Wins\", \"count\": 141, \"season\": \"2010-2011\"}, {\"season_start_year\": 2010, \"winner\": \"Draws\", \"count\": 63, \"season\": \"2010-2011\"}, {\"season_start_year\": 2010, \"winner\": \"Away Wins\", \"count\": 102, \"season\": \"2010-2011\"}, {\"season_start_year\": 2011, \"winner\": \"Home Wins\", \"count\": 139, \"season\": \"2011-2012\"}, {\"season_start_year\": 2011, \"winner\": \"Draws\", \"count\": 79, \"season\": \"2011-2012\"}, {\"season_start_year\": 2011, \"winner\": \"Away Wins\", \"count\": 88, \"season\": \"2011-2012\"}, {\"season_start_year\": 2012, \"winner\": \"Home Wins\", \"count\": 130, \"season\": \"2012-2013\"}, {\"season_start_year\": 2012, \"winner\": \"Draws\", \"count\": 78, \"season\": \"2012-2013\"}, {\"season_start_year\": 2012, \"winner\": \"Away Wins\", \"count\": 98, \"season\": \"2012-2013\"}, {\"season_start_year\": 2013, \"winner\": \"Home Wins\", \"count\": 145, \"season\": \"2013-2014\"}, {\"season_start_year\": 2013, \"winner\": \"Draws\", \"count\": 64, \"season\": \"2013-2014\"}, {\"season_start_year\": 2013, \"winner\": \"Away Wins\", \"count\": 97, \"season\": \"2013-2014\"}, {\"season_start_year\": 2014, \"winner\": \"Home Wins\", \"count\": 145, \"season\": \"2014-2015\"}, {\"season_start_year\": 2014, \"winner\": \"Draws\", \"count\": 82, \"season\": \"2014-2015\"}, {\"season_start_year\": 2014, \"winner\": \"Away Wins\", \"count\": 79, \"season\": \"2014-2015\"}, {\"season_start_year\": 2015, \"winner\": \"Home Wins\", \"count\": 135, \"season\": \"2015-2016\"}, {\"season_start_year\": 2015, \"winner\": \"Draws\", \"count\": 71, \"season\": \"2015-2016\"}, {\"season_start_year\": 2015, \"winner\": \"Away Wins\", \"count\": 100, \"season\": \"2015-2016\"}, {\"season_start_year\": 2016, \"winner\": \"Home Wins\", \"count\": 150, \"season\": \"2016-2017\"}, {\"season_start_year\": 2016, \"winner\": \"Draws\", \"count\": 74, \"season\": \"2016-2017\"}, {\"season_start_year\": 2016, \"winner\": \"Away Wins\", \"count\": 82, \"season\": \"2016-2017\"}, {\"season_start_year\": 2017, \"winner\": \"Home Wins\", \"count\": 139, \"season\": \"2017-2018\"}, {\"season_start_year\": 2017, \"winner\": \"Draws\", \"count\": 83, \"season\": \"2017-2018\"}, {\"season_start_year\": 2017, \"winner\": \"Away Wins\", \"count\": 84, \"season\": \"2017-2018\"}, {\"season_start_year\": 2018, \"winner\": \"Home Wins\", \"count\": 138, \"season\": \"2018-2019\"}, {\"season_start_year\": 2018, \"winner\": \"Draws\", \"count\": 73, \"season\": \"2018-2019\"}, {\"season_start_year\": 2018, \"winner\": \"Away Wins\", \"count\": 95, \"season\": \"2018-2019\"}, {\"season_start_year\": 2019, \"winner\": \"Home Wins\", \"count\": 123, \"season\": \"2019-2020\"}, {\"season_start_year\": 2019, \"winner\": \"Draws\", \"count\": 68, \"season\": \"2019-2020\"}, {\"season_start_year\": 2019, \"winner\": \"Away Wins\", \"count\": 115, \"season\": \"2019-2020\"}, {\"season_start_year\": 2020, \"winner\": \"Home Wins\", \"count\": 129, \"season\": \"2020-2021\"}, {\"season_start_year\": 2020, \"winner\": \"Draws\", \"count\": 81, \"season\": \"2020-2021\"}, {\"season_start_year\": 2020, \"winner\": \"Away Wins\", \"count\": 96, \"season\": \"2020-2021\"}, {\"season_start_year\": 2021, \"winner\": \"Home Wins\", \"count\": 143, \"season\": \"2021-2022\"}, {\"season_start_year\": 2021, \"winner\": \"Draws\", \"count\": 73, \"season\": \"2021-2022\"}, {\"season_start_year\": 2021, \"winner\": \"Away Wins\", \"count\": 90, \"season\": \"2021-2022\"}, {\"season_start_year\": 2022, \"winner\": \"Home Wins\", \"count\": 145, \"season\": \"2022-2023\"}, {\"season_start_year\": 2022, \"winner\": \"Draws\", \"count\": 75, \"season\": \"2022-2023\"}, {\"season_start_year\": 2022, \"winner\": \"Away Wins\", \"count\": 86, \"season\": \"2022-2023\"}, {\"season_start_year\": 2023, \"winner\": \"Home Wins\", \"count\": 134, \"season\": \"2023-2024\"}, {\"season_start_year\": 2023, \"winner\": \"Draws\", \"count\": 81, \"season\": \"2023-2024\"}, {\"season_start_year\": 2023, \"winner\": \"Away Wins\", \"count\": 91, \"season\": \"2023-2024\"}]}}, {\"mode\": \"vega-lite\"});\n",
       "</script>"
      ],
      "text/plain": [
       "alt.Chart(...)"
      ]
     },
     "metadata": {},
     "output_type": "display_data"
    }
   ],
   "source": [
    "#Plot how many games were won home, were a draw and were won away \n",
    "\n",
    "import altair as alt\n",
    "\n",
    "\n",
    "df_bundesliga['date'] = pd.to_datetime(df_bundesliga['date'])\n",
    "\n",
    "df_bundesliga['season_start_year'] = df_bundesliga['date'].apply(lambda x: x.year if x.month >= 8 else x.year - 1)\n",
    "\n",
    "\n",
    "outcomes_by_season = df_bundesliga.groupby(['season_start_year', 'winner']).size().reset_index(name='count')\n",
    "\n",
    "\n",
    "outcomes_by_season['winner'] = outcomes_by_season['winner'].map({\n",
    "    0: 'Home Wins',\n",
    "    1: 'Draws',\n",
    "    2: 'Away Wins'\n",
    "})\n",
    "\n",
    "outcomes_by_season['season'] = outcomes_by_season['season_start_year'].astype(str) + '-' + (outcomes_by_season['season_start_year'] + 1).astype(str)\n",
    "\n",
    "\n",
    "chart = alt.Chart(outcomes_by_season).mark_line(point=True).encode(\n",
    "    x=alt.X('season:O', title='Season', sort=alt.EncodingSortField('season_start_year', order='ascending')),\n",
    "    y=alt.Y('count:Q', title='Number of Matches'),\n",
    "    color='winner:N',\n",
    "    tooltip=['season', 'winner', 'count']\n",
    ").properties(\n",
    "    title='Match Outcome Distribution Over the Seasons',\n",
    "    width=600,\n",
    "    height=400\n",
    ")\n",
    "\n",
    "\n",
    "chart.display()"
   ]
  },
  {
   "cell_type": "code",
   "execution_count": 6,
   "metadata": {},
   "outputs": [
    {
     "data": {
      "image/png": "[encoded data removed]",
      "text/plain": [
       "<Figure size 1400x800 with 1 Axes>"
      ]
     },
     "metadata": {},
     "output_type": "display_data"
    }
   ],
   "source": [
    "#What was the most frequent score? \n",
    "\n",
    "import seaborn as sns\n",
    "import matplotlib.pyplot as plt\n",
    "\n",
    "result_counts = df_bundesliga['final_result'].value_counts().reset_index()\n",
    "result_counts.columns = ['Final Result', 'Count']\n",
    "\n",
    "plt.figure(figsize=(14, 8))\n",
    "sns.barplot(x='Final Result', y='Count', data=result_counts, palette='coolwarm')\n",
    "plt.xticks(rotation=90)\n",
    "plt.title('Frequency of Specific Match Results')\n",
    "plt.xlabel('Final Result')\n",
    "plt.ylabel('Frequency')\n",
    "plt.show()\n"
   ]
  },
  {
   "cell_type": "code",
   "execution_count": 7,
   "metadata": {},
   "outputs": [
    {
     "name": "stdout",
     "output_type": "stream",
     "text": [
      "RB Leipzig has 19 wins in the 2023-2024 season.\n",
      "Bayern München has 23 wins in the 2023-2024 season.\n"
     ]
    },
    {
     "data": {
      "text/html": [
       "\n",
       "<style>\n",
       "  #altair-viz-4a948a1bd33541a9af37e05f2d315dbd.vega-embed {\n",
       "    width: 100%;\n",
       "    display: flex;\n",
       "  }\n",
       "\n",
       "  #altair-viz-4a948a1bd33541a9af37e05f2d315dbd.vega-embed details,\n",
       "  #altair-viz-4a948a1bd33541a9af37e05f2d315dbd.vega-embed details summary {\n",
       "    position: relative;\n",
       "  }\n",
       "</style>\n",
       "<div id=\"altair-viz-4a948a1bd33541a9af37e05f2d315dbd\"></div>\n",
       "<script type=\"text/javascript\">\n",
       "  var VEGA_DEBUG = (typeof VEGA_DEBUG == \"undefined\") ? {} : VEGA_DEBUG;\n",
       "  (function(spec, embedOpt){\n",
       "    let outputDiv = document.currentScript.previousElementSibling;\n",
       "    if (outputDiv.id !== \"altair-viz-4a948a1bd33541a9af37e05f2d315dbd\") {\n",
       "      outputDiv = document.getElementById(\"altair-viz-4a948a1bd33541a9af37e05f2d315dbd\");\n",
       "    }\n",
       "    const paths = {\n",
       "      \"vega\": \"https://cdn.jsdelivr.net/npm/vega@5?noext\",\n",
       "      \"vega-lib\": \"https://cdn.jsdelivr.net/npm/vega-lib?noext\",\n",
       "      \"vega-lite\": \"https://cdn.jsdelivr.net/npm/vega-lite@5.8.0?noext\",\n",
       "      \"vega-embed\": \"https://cdn.jsdelivr.net/npm/vega-embed@6?noext\",\n",
       "    };\n",
       "\n",
       "    function maybeLoadScript(lib, version) {\n",
       "      var key = `${lib.replace(\"-\", \"\")}_version`;\n",
       "      return (VEGA_DEBUG[key] == version) ?\n",
       "        Promise.resolve(paths[lib]) :\n",
       "        new Promise(function(resolve, reject) {\n",
       "          var s = document.createElement('script');\n",
       "          document.getElementsByTagName(\"head\")[0].appendChild(s);\n",
       "          s.async = true;\n",
       "          s.onload = () => {\n",
       "            VEGA_DEBUG[key] = version;\n",
       "            return resolve(paths[lib]);\n",
       "          };\n",
       "          s.onerror = () => reject(`Error loading script: ${paths[lib]}`);\n",
       "          s.src = paths[lib];\n",
       "        });\n",
       "    }\n",
       "\n",
       "    function showError(err) {\n",
       "      outputDiv.innerHTML = `<div class=\"error\" style=\"color:red;\">${err}</div>`;\n",
       "      throw err;\n",
       "    }\n",
       "\n",
       "    function displayChart(vegaEmbed) {\n",
       "      vegaEmbed(outputDiv, spec, embedOpt)\n",
       "        .catch(err => showError(`Javascript Error: ${err.message}<br>This usually means there's a typo in your chart specification. See the javascript console for the full traceback.`));\n",
       "    }\n",
       "\n",
       "    if(typeof define === \"function\" && define.amd) {\n",
       "      requirejs.config({paths});\n",
       "      require([\"vega-embed\"], displayChart, err => showError(`Error loading script: ${err.message}`));\n",
       "    } else {\n",
       "      maybeLoadScript(\"vega\", \"5\")\n",
       "        .then(() => maybeLoadScript(\"vega-lite\", \"5.8.0\"))\n",
       "        .then(() => maybeLoadScript(\"vega-embed\", \"6\"))\n",
       "        .catch(showError)\n",
       "        .then(() => displayChart(vegaEmbed));\n",
       "    }\n",
       "  })({\"config\": {\"view\": {\"continuousWidth\": 300, \"continuousHeight\": 300}, \"legend\": {\"symbolLimit\": 0}}, \"data\": {\"name\": \"data-9da6ab61d7a3582313df8c9ebd41be10\"}, \"mark\": {\"type\": \"line\"}, \"encoding\": {\"color\": {\"field\": \"team\", \"legend\": {\"orient\": \"right\", \"title\": \"Teams\"}, \"type\": \"nominal\"}, \"opacity\": {\"condition\": {\"param\": \"param_1\", \"value\": 1}, \"value\": 0.1}, \"tooltip\": [{\"field\": \"season\", \"type\": \"nominal\"}, {\"field\": \"team\", \"type\": \"nominal\"}, {\"field\": \"wins\", \"type\": \"quantitative\"}], \"x\": {\"field\": \"season\", \"sort\": {\"field\": \"season_start_year\", \"order\": \"ascending\"}, \"title\": \"Season\", \"type\": \"ordinal\"}, \"y\": {\"field\": \"wins\", \"title\": \"Total Wins\", \"type\": \"quantitative\"}}, \"height\": 500, \"params\": [{\"name\": \"param_1\", \"select\": {\"type\": \"point\", \"fields\": [\"team\"]}, \"bind\": \"legend\"}], \"title\": \"Total Wins per Team per Season\", \"width\": 800, \"$schema\": \"https://vega.github.io/schema/vega-lite/v5.8.0.json\", \"datasets\": {\"data-9da6ab61d7a3582313df8c9ebd41be10\": [{\"season_start_year\": 1963, \"team\": \"1. FC Kaiserslautern\", \"wins\": 10, \"season\": \"1963-1964\"}, {\"season_start_year\": 1963, \"team\": \"1. FC K\\u00f6ln\", \"wins\": 17, \"season\": \"1963-1964\"}, {\"season_start_year\": 1963, \"team\": \"1. FC N\\u00fcrnberg\", \"wins\": 11, \"season\": \"1963-1964\"}, {\"season_start_year\": 1963, \"team\": \"1. FC Saarbr\\u00fccken\", \"wins\": 6, \"season\": \"1963-1964\"}, {\"season_start_year\": 1963, \"team\": \"Borussia Dortmund\", \"wins\": 14, \"season\": \"1963-1964\"}, {\"season_start_year\": 1963, \"team\": \"Eintracht Braunschweig\", \"wins\": 11, \"season\": \"1963-1964\"}, {\"season_start_year\": 1963, \"team\": \"Eintracht Frankfurt\", \"wins\": 16, \"season\": \"1963-1964\"}, {\"season_start_year\": 1963, \"team\": \"FC Schalke 04\", \"wins\": 12, \"season\": \"1963-1964\"}, {\"season_start_year\": 1963, \"team\": \"Hamburger SV\", \"wins\": 11, \"season\": \"1963-1964\"}, {\"season_start_year\": 1963, \"team\": \"Hertha BSC\", \"wins\": 9, \"season\": \"1963-1964\"}, {\"season_start_year\": 1963, \"team\": \"Karlsruher SC\", \"wins\": 8, \"season\": \"1963-1964\"}, {\"season_start_year\": 1963, \"team\": \"MSV Duisburg\", \"wins\": 13, \"season\": \"1963-1964\"}, {\"season_start_year\": 1963, \"team\": \"Preussen M\\u00fcnster\", \"wins\": 7, \"season\": \"1963-1964\"}, {\"season_start_year\": 1963, \"team\": \"TSV 1860 M\\u00fcnchen\", \"wins\": 11, \"season\": \"1963-1964\"}, {\"season_start_year\": 1963, \"team\": \"VfB Stuttgart\", \"wins\": 13, \"season\": \"1963-1964\"}, {\"season_start_year\": 1963, \"team\": \"Werder Bremen\", \"wins\": 10, \"season\": \"1963-1964\"}, {\"season_start_year\": 1964, \"team\": \"1. FC Kaiserslautern\", \"wins\": 11, \"season\": \"1964-1965\"}, {\"season_start_year\": 1964, \"team\": \"1. FC K\\u00f6ln\", \"wins\": 14, \"season\": \"1964-1965\"}, {\"season_start_year\": 1964, \"team\": \"1. FC N\\u00fcrnberg\", \"wins\": 11, \"season\": \"1964-1965\"}, {\"season_start_year\": 1964, \"team\": \"Borussia Dortmund\", \"wins\": 15, \"season\": \"1964-1965\"}, {\"season_start_year\": 1964, \"team\": \"Borussia Neunkirchen\", \"wins\": 9, \"season\": \"1964-1965\"}, {\"season_start_year\": 1964, \"team\": \"Eintracht Braunschweig\", \"wins\": 10, \"season\": \"1964-1965\"}, {\"season_start_year\": 1964, \"team\": \"Eintracht Frankfurt\", \"wins\": 11, \"season\": \"1964-1965\"}, {\"season_start_year\": 1964, \"team\": \"FC Schalke 04\", \"wins\": 7, \"season\": \"1964-1965\"}, {\"season_start_year\": 1964, \"team\": \"Hamburger SV\", \"wins\": 11, \"season\": \"1964-1965\"}, {\"season_start_year\": 1964, \"team\": \"Hannover 96\", \"wins\": 13, \"season\": \"1964-1965\"}, {\"season_start_year\": 1964, \"team\": \"Hertha BSC\", \"wins\": 7, \"season\": \"1964-1965\"}, {\"season_start_year\": 1964, \"team\": \"Karlsruher SC\", \"wins\": 9, \"season\": \"1964-1965\"}, {\"season_start_year\": 1964, \"team\": \"MSV Duisburg\", \"wins\": 12, \"season\": \"1964-1965\"}, {\"season_start_year\": 1964, \"team\": \"TSV 1860 M\\u00fcnchen\", \"wins\": 14, \"season\": \"1964-1965\"}, {\"season_start_year\": 1964, \"team\": \"VfB Stuttgart\", \"wins\": 9, \"season\": \"1964-1965\"}, {\"season_start_year\": 1964, \"team\": \"Werder Bremen\", \"wins\": 15, \"season\": \"1964-1965\"}, {\"season_start_year\": 1965, \"team\": \"1. FC Kaiserslautern\", \"wins\": 8, \"season\": \"1965-1966\"}, {\"season_start_year\": 1965, \"team\": \"1. FC K\\u00f6ln\", \"wins\": 19, \"season\": \"1965-1966\"}, {\"season_start_year\": 1965, \"team\": \"1. FC N\\u00fcrnberg\", \"wins\": 14, \"season\": \"1965-1966\"}, {\"season_start_year\": 1965, \"team\": \"Bayern M\\u00fcnchen\", \"wins\": 20, \"season\": \"1965-1966\"}, {\"season_start_year\": 1965, \"team\": \"Bor. M\\u00f6nchengladbach\", \"wins\": 9, \"season\": \"1965-1966\"}, {\"season_start_year\": 1965, \"team\": \"Borussia Dortmund\", \"wins\": 19, \"season\": \"1965-1966\"}, {\"season_start_year\": 1965, \"team\": \"Borussia Neunkirchen\", \"wins\": 9, \"season\": \"1965-1966\"}, {\"season_start_year\": 1965, \"team\": \"Eintracht Braunschweig\", \"wins\": 11, \"season\": \"1965-1966\"}, {\"season_start_year\": 1965, \"team\": \"Eintracht Frankfurt\", \"wins\": 16, \"season\": \"1965-1966\"}, {\"season_start_year\": 1965, \"team\": \"FC Schalke 04\", \"wins\": 10, \"season\": \"1965-1966\"}, {\"season_start_year\": 1965, \"team\": \"Hamburger SV\", \"wins\": 13, \"season\": \"1965-1966\"}, {\"season_start_year\": 1965, \"team\": \"Hannover 96\", \"wins\": 11, \"season\": \"1965-1966\"}, {\"season_start_year\": 1965, \"team\": \"Karlsruher SC\", \"wins\": 9, \"season\": \"1965-1966\"}, {\"season_start_year\": 1965, \"team\": \"MSV Duisburg\", \"wins\": 14, \"season\": \"1965-1966\"}, {\"season_start_year\": 1965, \"team\": \"SC Tasmania 1900 Berlin\", \"wins\": 2, \"season\": \"1965-1966\"}, {\"season_start_year\": 1965, \"team\": \"TSV 1860 M\\u00fcnchen\", \"wins\": 20, \"season\": \"1965-1966\"}, {\"season_start_year\": 1965, \"team\": \"VfB Stuttgart\", \"wins\": 13, \"season\": \"1965-1966\"}, {\"season_start_year\": 1965, \"team\": \"Werder Bremen\", \"wins\": 21, \"season\": \"1965-1966\"}, {\"season_start_year\": 1966, \"team\": \"1. FC Kaiserslautern\", \"wins\": 13, \"season\": \"1966-1967\"}, {\"season_start_year\": 1966, \"team\": \"1. FC K\\u00f6ln\", \"wins\": 14, \"season\": \"1966-1967\"}, {\"season_start_year\": 1966, \"team\": \"1. FC N\\u00fcrnberg\", \"wins\": 12, \"season\": \"1966-1967\"}, {\"season_start_year\": 1966, \"team\": \"Bayern M\\u00fcnchen\", \"wins\": 16, \"season\": \"1966-1967\"}, {\"season_start_year\": 1966, \"team\": \"Bor. M\\u00f6nchengladbach\", \"wins\": 12, \"season\": \"1966-1967\"}, {\"season_start_year\": 1966, \"team\": \"Borussia Dortmund\", \"wins\": 15, \"season\": \"1966-1967\"}, {\"season_start_year\": 1966, \"team\": \"Eintracht Braunschweig\", \"wins\": 17, \"season\": \"1966-1967\"}, {\"season_start_year\": 1966, \"team\": \"Eintracht Frankfurt\", \"wins\": 15, \"season\": \"1966-1967\"}, {\"season_start_year\": 1966, \"team\": \"FC Schalke 04\", \"wins\": 12, \"season\": \"1966-1967\"}, {\"season_start_year\": 1966, \"team\": \"Fortuna D\\u00fcsseldorf\", \"wins\": 9, \"season\": \"1966-1967\"}, {\"season_start_year\": 1966, \"team\": \"Hamburger SV\", \"wins\": 10, \"season\": \"1966-1967\"}, {\"season_start_year\": 1966, \"team\": \"Hannover 96\", \"wins\": 13, \"season\": \"1966-1967\"}, {\"season_start_year\": 1966, \"team\": \"Karlsruher SC\", \"wins\": 11, \"season\": \"1966-1967\"}, {\"season_start_year\": 1966, \"team\": \"MSV Duisburg\", \"wins\": 10, \"season\": \"1966-1967\"}, {\"season_start_year\": 1966, \"team\": \"Rot-Weiss Essen\", \"wins\": 6, \"season\": \"1966-1967\"}, {\"season_start_year\": 1966, \"team\": \"TSV 1860 M\\u00fcnchen\", \"wins\": 17, \"season\": \"1966-1967\"}, {\"season_start_year\": 1966, \"team\": \"VfB Stuttgart\", \"wins\": 10, \"season\": \"1966-1967\"}, {\"season_start_year\": 1966, \"team\": \"Werder Bremen\", \"wins\": 10, \"season\": \"1966-1967\"}, {\"season_start_year\": 1967, \"team\": \"1. FC Kaiserslautern\", \"wins\": 8, \"season\": \"1967-1968\"}, {\"season_start_year\": 1967, \"team\": \"1. FC K\\u00f6ln\", \"wins\": 17, \"season\": \"1967-1968\"}, {\"season_start_year\": 1967, \"team\": \"1. FC N\\u00fcrnberg\", \"wins\": 19, \"season\": \"1967-1968\"}, {\"season_start_year\": 1967, \"team\": \"Alemannia Aachen\", \"wins\": 13, \"season\": \"1967-1968\"}, {\"season_start_year\": 1967, \"team\": \"Bayern M\\u00fcnchen\", \"wins\": 16, \"season\": \"1967-1968\"}, {\"season_start_year\": 1967, \"team\": \"Bor. M\\u00f6nchengladbach\", \"wins\": 15, \"season\": \"1967-1968\"}, {\"season_start_year\": 1967, \"team\": \"Borussia Dortmund\", \"wins\": 12, \"season\": \"1967-1968\"}, {\"season_start_year\": 1967, \"team\": \"Borussia Neunkirchen\", \"wins\": 7, \"season\": \"1967-1968\"}, {\"season_start_year\": 1967, \"team\": \"Eintracht Braunschweig\", \"wins\": 15, \"season\": \"1967-1968\"}, {\"season_start_year\": 1967, \"team\": \"Eintracht Frankfurt\", \"wins\": 15, \"season\": \"1967-1968\"}, {\"season_start_year\": 1967, \"team\": \"FC Schalke 04\", \"wins\": 11, \"season\": \"1967-1968\"}, {\"season_start_year\": 1967, \"team\": \"Hamburger SV\", \"wins\": 11, \"season\": \"1967-1968\"}, {\"season_start_year\": 1967, \"team\": \"Hannover 96\", \"wins\": 12, \"season\": \"1967-1968\"}, {\"season_start_year\": 1967, \"team\": \"Karlsruher SC\", \"wins\": 6, \"season\": \"1967-1968\"}, {\"season_start_year\": 1967, \"team\": \"MSV Duisburg\", \"wins\": 13, \"season\": \"1967-1968\"}, {\"season_start_year\": 1967, \"team\": \"TSV 1860 M\\u00fcnchen\", \"wins\": 11, \"season\": \"1967-1968\"}, {\"season_start_year\": 1967, \"team\": \"VfB Stuttgart\", \"wins\": 14, \"season\": \"1967-1968\"}, {\"season_start_year\": 1967, \"team\": \"Werder Bremen\", \"wins\": 18, \"season\": \"1967-1968\"}, {\"season_start_year\": 1968, \"team\": \"1. FC Kaiserslautern\", \"wins\": 12, \"season\": \"1968-1969\"}, {\"season_start_year\": 1968, \"team\": \"1. FC K\\u00f6ln\", \"wins\": 13, \"season\": \"1968-1969\"}, {\"season_start_year\": 1968, \"team\": \"1. FC N\\u00fcrnberg\", \"wins\": 9, \"season\": \"1968-1969\"}, {\"season_start_year\": 1968, \"team\": \"Alemannia Aachen\", \"wins\": 16, \"season\": \"1968-1969\"}, {\"season_start_year\": 1968, \"team\": \"Bayern M\\u00fcnchen\", \"wins\": 18, \"season\": \"1968-1969\"}, {\"season_start_year\": 1968, \"team\": \"Bor. M\\u00f6nchengladbach\", \"wins\": 13, \"season\": \"1968-1969\"}, {\"season_start_year\": 1968, \"team\": \"Borussia Dortmund\", \"wins\": 11, \"season\": \"1968-1969\"}, {\"season_start_year\": 1968, \"team\": \"Eintracht Braunschweig\", \"wins\": 13, \"season\": \"1968-1969\"}, {\"season_start_year\": 1968, \"team\": \"Eintracht Frankfurt\", \"wins\": 13, \"season\": \"1968-1969\"}, {\"season_start_year\": 1968, \"team\": \"FC Schalke 04\", \"wins\": 14, \"season\": \"1968-1969\"}, {\"season_start_year\": 1968, \"team\": \"Hamburger SV\", \"wins\": 13, \"season\": \"1968-1969\"}, {\"season_start_year\": 1968, \"team\": \"Hannover 96\", \"wins\": 9, \"season\": \"1968-1969\"}, {\"season_start_year\": 1968, \"team\": \"Hertha BSC\", \"wins\": 12, \"season\": \"1968-1969\"}, {\"season_start_year\": 1968, \"team\": \"Kickers Offenbach\", \"wins\": 10, \"season\": \"1968-1969\"}, {\"season_start_year\": 1968, \"team\": \"MSV Duisburg\", \"wins\": 8, \"season\": \"1968-1969\"}, {\"season_start_year\": 1968, \"team\": \"TSV 1860 M\\u00fcnchen\", \"wins\": 15, \"season\": \"1968-1969\"}, {\"season_start_year\": 1968, \"team\": \"VfB Stuttgart\", \"wins\": 14, \"season\": \"1968-1969\"}, {\"season_start_year\": 1968, \"team\": \"Werder Bremen\", \"wins\": 14, \"season\": \"1968-1969\"}, {\"season_start_year\": 1969, \"team\": \"1. FC Kaiserslautern\", \"wins\": 10, \"season\": \"1969-1970\"}, {\"season_start_year\": 1969, \"team\": \"1. FC K\\u00f6ln\", \"wins\": 20, \"season\": \"1969-1970\"}, {\"season_start_year\": 1969, \"team\": \"Alemannia Aachen\", \"wins\": 5, \"season\": \"1969-1970\"}, {\"season_start_year\": 1969, \"team\": \"Bayern M\\u00fcnchen\", \"wins\": 21, \"season\": \"1969-1970\"}, {\"season_start_year\": 1969, \"team\": \"Bor. M\\u00f6nchengladbach\", \"wins\": 23, \"season\": \"1969-1970\"}, {\"season_start_year\": 1969, \"team\": \"Borussia Dortmund\", \"wins\": 14, \"season\": \"1969-1970\"}, {\"season_start_year\": 1969, \"team\": \"Eintracht Braunschweig\", \"wins\": 9, \"season\": \"1969-1970\"}, {\"season_start_year\": 1969, \"team\": \"Eintracht Frankfurt\", \"wins\": 12, \"season\": \"1969-1970\"}, {\"season_start_year\": 1969, \"team\": \"FC Schalke 04\", \"wins\": 11, \"season\": \"1969-1970\"}, {\"season_start_year\": 1969, \"team\": \"Hamburger SV\", \"wins\": 12, \"season\": \"1969-1970\"}, {\"season_start_year\": 1969, \"team\": \"Hannover 96\", \"wins\": 11, \"season\": \"1969-1970\"}, {\"season_start_year\": 1969, \"team\": \"Hertha BSC\", \"wins\": 20, \"season\": \"1969-1970\"}, {\"season_start_year\": 1969, \"team\": \"MSV Duisburg\", \"wins\": 9, \"season\": \"1969-1970\"}, {\"season_start_year\": 1969, \"team\": \"Rot-Weiss Essen\", \"wins\": 8, \"season\": \"1969-1970\"}, {\"season_start_year\": 1969, \"team\": \"Rot-Wei\\u00df Oberhausen\", \"wins\": 11, \"season\": \"1969-1970\"}, {\"season_start_year\": 1969, \"team\": \"TSV 1860 M\\u00fcnchen\", \"wins\": 9, \"season\": \"1969-1970\"}, {\"season_start_year\": 1969, \"team\": \"VfB Stuttgart\", \"wins\": 14, \"season\": \"1969-1970\"}, {\"season_start_year\": 1969, \"team\": \"Werder Bremen\", \"wins\": 10, \"season\": \"1969-1970\"}, {\"season_start_year\": 1970, \"team\": \"1. FC Kaiserslautern\", \"wins\": 15, \"season\": \"1970-1971\"}, {\"season_start_year\": 1970, \"team\": \"1. FC K\\u00f6ln\", \"wins\": 11, \"season\": \"1970-1971\"}, {\"season_start_year\": 1970, \"team\": \"Arminia Bielefeld\", \"wins\": 12, \"season\": \"1970-1971\"}, {\"season_start_year\": 1970, \"team\": \"Bayern M\\u00fcnchen\", \"wins\": 19, \"season\": \"1970-1971\"}, {\"season_start_year\": 1970, \"team\": \"Bor. M\\u00f6nchengladbach\", \"wins\": 20, \"season\": \"1970-1971\"}, {\"season_start_year\": 1970, \"team\": \"Borussia Dortmund\", \"wins\": 10, \"season\": \"1970-1971\"}, {\"season_start_year\": 1970, \"team\": \"Eintracht Braunschweig\", \"wins\": 16, \"season\": \"1970-1971\"}, {\"season_start_year\": 1970, \"team\": \"Eintracht Frankfurt\", \"wins\": 11, \"season\": \"1970-1971\"}, {\"season_start_year\": 1970, \"team\": \"FC Schalke 04\", \"wins\": 15, \"season\": \"1970-1971\"}, {\"season_start_year\": 1970, \"team\": \"Hamburger SV\", \"wins\": 13, \"season\": \"1970-1971\"}, {\"season_start_year\": 1970, \"team\": \"Hannover 96\", \"wins\": 12, \"season\": \"1970-1971\"}, {\"season_start_year\": 1970, \"team\": \"Hertha BSC\", \"wins\": 16, \"season\": \"1970-1971\"}, {\"season_start_year\": 1970, \"team\": \"Kickers Offenbach\", \"wins\": 9, \"season\": \"1970-1971\"}, {\"season_start_year\": 1970, \"team\": \"MSV Duisburg\", \"wins\": 12, \"season\": \"1970-1971\"}, {\"season_start_year\": 1970, \"team\": \"Rot-Weiss Essen\", \"wins\": 7, \"season\": \"1970-1971\"}, {\"season_start_year\": 1970, \"team\": \"Rot-Wei\\u00df Oberhausen\", \"wins\": 9, \"season\": \"1970-1971\"}, {\"season_start_year\": 1970, \"team\": \"VfB Stuttgart\", \"wins\": 11, \"season\": \"1970-1971\"}, {\"season_start_year\": 1970, \"team\": \"Werder Bremen\", \"wins\": 11, \"season\": \"1970-1971\"}, {\"season_start_year\": 1971, \"team\": \"1. FC Kaiserslautern\", \"wins\": 14, \"season\": \"1971-1972\"}, {\"season_start_year\": 1971, \"team\": \"1. FC K\\u00f6ln\", \"wins\": 15, \"season\": \"1971-1972\"}, {\"season_start_year\": 1971, \"team\": \"Arminia Bielefeld\", \"wins\": 6, \"season\": \"1971-1972\"}, {\"season_start_year\": 1971, \"team\": \"Bayern M\\u00fcnchen\", \"wins\": 24, \"season\": \"1971-1972\"}, {\"season_start_year\": 1971, \"team\": \"Bor. M\\u00f6nchengladbach\", \"wins\": 18, \"season\": \"1971-1972\"}, {\"season_start_year\": 1971, \"team\": \"Borussia Dortmund\", \"wins\": 6, \"season\": \"1971-1972\"}, {\"season_start_year\": 1971, \"team\": \"Eintracht Braunschweig\", \"wins\": 8, \"season\": \"1971-1972\"}, {\"season_start_year\": 1971, \"team\": \"Eintracht Frankfurt\", \"wins\": 16, \"season\": \"1971-1972\"}, {\"season_start_year\": 1971, \"team\": \"FC Schalke 04\", \"wins\": 24, \"season\": \"1971-1972\"}, {\"season_start_year\": 1971, \"team\": \"Fortuna D\\u00fcsseldorf\", \"wins\": 10, \"season\": \"1971-1972\"}, {\"season_start_year\": 1971, \"team\": \"Hamburger SV\", \"wins\": 13, \"season\": \"1971-1972\"}, {\"season_start_year\": 1971, \"team\": \"Hannover 96\", \"wins\": 10, \"season\": \"1971-1972\"}, {\"season_start_year\": 1971, \"team\": \"Hertha BSC\", \"wins\": 14, \"season\": \"1971-1972\"}, {\"season_start_year\": 1971, \"team\": \"MSV Duisburg\", \"wins\": 10, \"season\": \"1971-1972\"}, {\"season_start_year\": 1971, \"team\": \"Rot-Wei\\u00df Oberhausen\", \"wins\": 7, \"season\": \"1971-1972\"}, {\"season_start_year\": 1971, \"team\": \"VfB Stuttgart\", \"wins\": 13, \"season\": \"1971-1972\"}, {\"season_start_year\": 1971, \"team\": \"VfL Bochum\", \"wins\": 14, \"season\": \"1971-1972\"}, {\"season_start_year\": 1971, \"team\": \"Werder Bremen\", \"wins\": 11, \"season\": \"1971-1972\"}, {\"season_start_year\": 1972, \"team\": \"1. FC Kaiserslautern\", \"wins\": 12, \"season\": \"1972-1973\"}, {\"season_start_year\": 1972, \"team\": \"1. FC K\\u00f6ln\", \"wins\": 16, \"season\": \"1972-1973\"}, {\"season_start_year\": 1972, \"team\": \"Bayern M\\u00fcnchen\", \"wins\": 25, \"season\": \"1972-1973\"}, {\"season_start_year\": 1972, \"team\": \"Bor. M\\u00f6nchengladbach\", \"wins\": 17, \"season\": \"1972-1973\"}, {\"season_start_year\": 1972, \"team\": \"Eintracht Braunschweig\", \"wins\": 9, \"season\": \"1972-1973\"}, {\"season_start_year\": 1972, \"team\": \"Eintracht Frankfurt\", \"wins\": 15, \"season\": \"1972-1973\"}, {\"season_start_year\": 1972, \"team\": \"FC Schalke 04\", \"wins\": 10, \"season\": \"1972-1973\"}, {\"season_start_year\": 1972, \"team\": \"Fortuna D\\u00fcsseldorf\", \"wins\": 15, \"season\": \"1972-1973\"}, {\"season_start_year\": 1972, \"team\": \"Hamburger SV\", \"wins\": 10, \"season\": \"1972-1973\"}, {\"season_start_year\": 1972, \"team\": \"Hannover 96\", \"wins\": 9, \"season\": \"1972-1973\"}, {\"season_start_year\": 1972, \"team\": \"Hertha BSC\", \"wins\": 11, \"season\": \"1972-1973\"}, {\"season_start_year\": 1972, \"team\": \"Kickers Offenbach\", \"wins\": 14, \"season\": \"1972-1973\"}, {\"season_start_year\": 1972, \"team\": \"MSV Duisburg\", \"wins\": 12, \"season\": \"1972-1973\"}, {\"season_start_year\": 1972, \"team\": \"Rot-Wei\\u00df Oberhausen\", \"wins\": 9, \"season\": \"1972-1973\"}, {\"season_start_year\": 1972, \"team\": \"VfB Stuttgart\", \"wins\": 17, \"season\": \"1972-1973\"}, {\"season_start_year\": 1972, \"team\": \"VfL Bochum\", \"wins\": 11, \"season\": \"1972-1973\"}, {\"season_start_year\": 1972, \"team\": \"Werder Bremen\", \"wins\": 12, \"season\": \"1972-1973\"}, {\"season_start_year\": 1972, \"team\": \"Wuppertaler SV\", \"wins\": 15, \"season\": \"1972-1973\"}, {\"season_start_year\": 1973, \"team\": \"1. FC Kaiserslautern\", \"wins\": 15, \"season\": \"1973-1974\"}, {\"season_start_year\": 1973, \"team\": \"1. FC K\\u00f6ln\", \"wins\": 16, \"season\": \"1973-1974\"}, {\"season_start_year\": 1973, \"team\": \"Bayern M\\u00fcnchen\", \"wins\": 20, \"season\": \"1973-1974\"}, {\"season_start_year\": 1973, \"team\": \"Bor. M\\u00f6nchengladbach\", \"wins\": 21, \"season\": \"1973-1974\"}, {\"season_start_year\": 1973, \"team\": \"Eintracht Frankfurt\", \"wins\": 15, \"season\": \"1973-1974\"}, {\"season_start_year\": 1973, \"team\": \"FC Schalke 04\", \"wins\": 16, \"season\": \"1973-1974\"}, {\"season_start_year\": 1973, \"team\": \"Fortuna D\\u00fcsseldorf\", \"wins\": 16, \"season\": \"1973-1974\"}, {\"season_start_year\": 1973, \"team\": \"Fortuna K\\u00f6ln\", \"wins\": 8, \"season\": \"1973-1974\"}, {\"season_start_year\": 1973, \"team\": \"Hamburger SV\", \"wins\": 13, \"season\": \"1973-1974\"}, {\"season_start_year\": 1973, \"team\": \"Hannover 96\", \"wins\": 6, \"season\": \"1973-1974\"}, {\"season_start_year\": 1973, \"team\": \"Hertha BSC\", \"wins\": 11, \"season\": \"1973-1974\"}, {\"season_start_year\": 1973, \"team\": \"Kickers Offenbach\", \"wins\": 11, \"season\": \"1973-1974\"}, {\"season_start_year\": 1973, \"team\": \"MSV Duisburg\", \"wins\": 11, \"season\": \"1973-1974\"}, {\"season_start_year\": 1973, \"team\": \"Rot-Weiss Essen\", \"wins\": 10, \"season\": \"1973-1974\"}, {\"season_start_year\": 1973, \"team\": \"VfB Stuttgart\", \"wins\": 12, \"season\": \"1973-1974\"}, {\"season_start_year\": 1973, \"team\": \"VfL Bochum\", \"wins\": 9, \"season\": \"1973-1974\"}, {\"season_start_year\": 1973, \"team\": \"Werder Bremen\", \"wins\": 9, \"season\": \"1973-1974\"}, {\"season_start_year\": 1973, \"team\": \"Wuppertaler SV\", \"wins\": 8, \"season\": \"1973-1974\"}, {\"season_start_year\": 1974, \"team\": \"1. FC Kaiserslautern\", \"wins\": 13, \"season\": \"1974-1975\"}, {\"season_start_year\": 1974, \"team\": \"1. FC K\\u00f6ln\", \"wins\": 17, \"season\": \"1974-1975\"}, {\"season_start_year\": 1974, \"team\": \"Bayern M\\u00fcnchen\", \"wins\": 14, \"season\": \"1974-1975\"}, {\"season_start_year\": 1974, \"team\": \"Bor. M\\u00f6nchengladbach\", \"wins\": 21, \"season\": \"1974-1975\"}, {\"season_start_year\": 1974, \"team\": \"Eintracht Braunschweig\", \"wins\": 14, \"season\": \"1974-1975\"}, {\"season_start_year\": 1974, \"team\": \"Eintracht Frankfurt\", \"wins\": 18, \"season\": \"1974-1975\"}, {\"season_start_year\": 1974, \"team\": \"FC Schalke 04\", \"wins\": 16, \"season\": \"1974-1975\"}, {\"season_start_year\": 1974, \"team\": \"Fortuna D\\u00fcsseldorf\", \"wins\": 16, \"season\": \"1974-1975\"}, {\"season_start_year\": 1974, \"team\": \"Hamburger SV\", \"wins\": 18, \"season\": \"1974-1975\"}, {\"season_start_year\": 1974, \"team\": \"Hertha BSC\", \"wins\": 19, \"season\": \"1974-1975\"}, {\"season_start_year\": 1974, \"team\": \"Kickers Offenbach\", \"wins\": 17, \"season\": \"1974-1975\"}, {\"season_start_year\": 1974, \"team\": \"MSV Duisburg\", \"wins\": 12, \"season\": \"1974-1975\"}, {\"season_start_year\": 1974, \"team\": \"Rot-Weiss Essen\", \"wins\": 10, \"season\": \"1974-1975\"}, {\"season_start_year\": 1974, \"team\": \"Tennis Borussia Berlin\", \"wins\": 5, \"season\": \"1974-1975\"}, {\"season_start_year\": 1974, \"team\": \"VfB Stuttgart\", \"wins\": 8, \"season\": \"1974-1975\"}, {\"season_start_year\": 1974, \"team\": \"VfL Bochum\", \"wins\": 14, \"season\": \"1974-1975\"}, {\"season_start_year\": 1974, \"team\": \"Werder Bremen\", \"wins\": 9, \"season\": \"1974-1975\"}, {\"season_start_year\": 1974, \"team\": \"Wuppertaler SV\", \"wins\": 2, \"season\": \"1974-1975\"}, {\"season_start_year\": 1975, \"team\": \"1. FC Kaiserslautern\", \"wins\": 15, \"season\": \"1975-1976\"}, {\"season_start_year\": 1975, \"team\": \"1. FC K\\u00f6ln\", \"wins\": 14, \"season\": \"1975-1976\"}, {\"season_start_year\": 1975, \"team\": \"Bayern M\\u00fcnchen\", \"wins\": 15, \"season\": \"1975-1976\"}, {\"season_start_year\": 1975, \"team\": \"Bor. M\\u00f6nchengladbach\", \"wins\": 16, \"season\": \"1975-1976\"}, {\"season_start_year\": 1975, \"team\": \"Eintracht Braunschweig\", \"wins\": 14, \"season\": \"1975-1976\"}, {\"season_start_year\": 1975, \"team\": \"Eintracht Frankfurt\", \"wins\": 13, \"season\": \"1975-1976\"}, {\"season_start_year\": 1975, \"team\": \"FC Schalke 04\", \"wins\": 13, \"season\": \"1975-1976\"}, {\"season_start_year\": 1975, \"team\": \"Fortuna D\\u00fcsseldorf\", \"wins\": 10, \"season\": \"1975-1976\"}, {\"season_start_year\": 1975, \"team\": \"Hamburger SV\", \"wins\": 17, \"season\": \"1975-1976\"}, {\"season_start_year\": 1975, \"team\": \"Hannover 96\", \"wins\": 9, \"season\": \"1975-1976\"}, {\"season_start_year\": 1975, \"team\": \"Hertha BSC\", \"wins\": 11, \"season\": \"1975-1976\"}, {\"season_start_year\": 1975, \"team\": \"KFC Uerdingen\", \"wins\": 6, \"season\": \"1975-1976\"}, {\"season_start_year\": 1975, \"team\": \"Karlsruher SC\", \"wins\": 12, \"season\": \"1975-1976\"}, {\"season_start_year\": 1975, \"team\": \"Kickers Offenbach\", \"wins\": 9, \"season\": \"1975-1976\"}, {\"season_start_year\": 1975, \"team\": \"MSV Duisburg\", \"wins\": 13, \"season\": \"1975-1976\"}, {\"season_start_year\": 1975, \"team\": \"Rot-Weiss Essen\", \"wins\": 13, \"season\": \"1975-1976\"}, {\"season_start_year\": 1975, \"team\": \"VfL Bochum\", \"wins\": 12, \"season\": \"1975-1976\"}, {\"season_start_year\": 1975, \"team\": \"Werder Bremen\", \"wins\": 11, \"season\": \"1975-1976\"}, {\"season_start_year\": 1976, \"team\": \"1. FC Kaiserslautern\", \"wins\": 12, \"season\": \"1976-1977\"}, {\"season_start_year\": 1976, \"team\": \"1. FC K\\u00f6ln\", \"wins\": 17, \"season\": \"1976-1977\"}, {\"season_start_year\": 1976, \"team\": \"1. FC Saarbr\\u00fccken\", \"wins\": 9, \"season\": \"1976-1977\"}, {\"season_start_year\": 1976, \"team\": \"Bayern M\\u00fcnchen\", \"wins\": 14, \"season\": \"1976-1977\"}, {\"season_start_year\": 1976, \"team\": \"Bor. M\\u00f6nchengladbach\", \"wins\": 17, \"season\": \"1976-1977\"}, {\"season_start_year\": 1976, \"team\": \"Borussia Dortmund\", \"wins\": 12, \"season\": \"1976-1977\"}, {\"season_start_year\": 1976, \"team\": \"Eintracht Braunschweig\", \"wins\": 15, \"season\": \"1976-1977\"}, {\"season_start_year\": 1976, \"team\": \"Eintracht Frankfurt\", \"wins\": 17, \"season\": \"1976-1977\"}, {\"season_start_year\": 1976, \"team\": \"FC Schalke 04\", \"wins\": 17, \"season\": \"1976-1977\"}, {\"season_start_year\": 1976, \"team\": \"Fortuna D\\u00fcsseldorf\", \"wins\": 11, \"season\": \"1976-1977\"}, {\"season_start_year\": 1976, \"team\": \"Hamburger SV\", \"wins\": 14, \"season\": \"1976-1977\"}, {\"season_start_year\": 1976, \"team\": \"Hertha BSC\", \"wins\": 13, \"season\": \"1976-1977\"}, {\"season_start_year\": 1976, \"team\": \"Karlsruher SC\", \"wins\": 9, \"season\": \"1976-1977\"}, {\"season_start_year\": 1976, \"team\": \"MSV Duisburg\", \"wins\": 11, \"season\": \"1976-1977\"}, {\"season_start_year\": 1976, \"team\": \"Rot-Weiss Essen\", \"wins\": 7, \"season\": \"1976-1977\"}, {\"season_start_year\": 1976, \"team\": \"Tennis Borussia Berlin\", \"wins\": 6, \"season\": \"1976-1977\"}, {\"season_start_year\": 1976, \"team\": \"VfL Bochum\", \"wins\": 11, \"season\": \"1976-1977\"}, {\"season_start_year\": 1976, \"team\": \"Werder Bremen\", \"wins\": 13, \"season\": \"1976-1977\"}, {\"season_start_year\": 1977, \"team\": \"1. FC Kaiserslautern\", \"wins\": 16, \"season\": \"1977-1978\"}, {\"season_start_year\": 1977, \"team\": \"1. FC K\\u00f6ln\", \"wins\": 22, \"season\": \"1977-1978\"}, {\"season_start_year\": 1977, \"team\": \"1. FC Saarbr\\u00fccken\", \"wins\": 6, \"season\": \"1977-1978\"}, {\"season_start_year\": 1977, \"team\": \"Bayern M\\u00fcnchen\", \"wins\": 11, \"season\": \"1977-1978\"}, {\"season_start_year\": 1977, \"team\": \"Bor. M\\u00f6nchengladbach\", \"wins\": 20, \"season\": \"1977-1978\"}, {\"season_start_year\": 1977, \"team\": \"Borussia Dortmund\", \"wins\": 14, \"season\": \"1977-1978\"}, {\"season_start_year\": 1977, \"team\": \"Eintracht Braunschweig\", \"wins\": 14, \"season\": \"1977-1978\"}, {\"season_start_year\": 1977, \"team\": \"Eintracht Frankfurt\", \"wins\": 16, \"season\": \"1977-1978\"}, {\"season_start_year\": 1977, \"team\": \"FC Schalke 04\", \"wins\": 14, \"season\": \"1977-1978\"}, {\"season_start_year\": 1977, \"team\": \"FC St. Pauli\", \"wins\": 6, \"season\": \"1977-1978\"}, {\"season_start_year\": 1977, \"team\": \"Fortuna D\\u00fcsseldorf\", \"wins\": 15, \"season\": \"1977-1978\"}, {\"season_start_year\": 1977, \"team\": \"Hamburger SV\", \"wins\": 14, \"season\": \"1977-1978\"}, {\"season_start_year\": 1977, \"team\": \"Hertha BSC\", \"wins\": 15, \"season\": \"1977-1978\"}, {\"season_start_year\": 1977, \"team\": \"MSV Duisburg\", \"wins\": 15, \"season\": \"1977-1978\"}, {\"season_start_year\": 1977, \"team\": \"TSV 1860 M\\u00fcnchen\", \"wins\": 7, \"season\": \"1977-1978\"}, {\"season_start_year\": 1977, \"team\": \"VfB Stuttgart\", \"wins\": 17, \"season\": \"1977-1978\"}, {\"season_start_year\": 1977, \"team\": \"VfL Bochum\", \"wins\": 11, \"season\": \"1977-1978\"}, {\"season_start_year\": 1977, \"team\": \"Werder Bremen\", \"wins\": 13, \"season\": \"1977-1978\"}, {\"season_start_year\": 1978, \"team\": \"1. FC Kaiserslautern\", \"wins\": 16, \"season\": \"1978-1979\"}, {\"season_start_year\": 1978, \"team\": \"1. FC K\\u00f6ln\", \"wins\": 13, \"season\": \"1978-1979\"}, {\"season_start_year\": 1978, \"team\": \"1. FC N\\u00fcrnberg\", \"wins\": 8, \"season\": \"1978-1979\"}, {\"season_start_year\": 1978, \"team\": \"Arminia Bielefeld\", \"wins\": 9, \"season\": \"1978-1979\"}, {\"season_start_year\": 1978, \"team\": \"Bayern M\\u00fcnchen\", \"wins\": 16, \"season\": \"1978-1979\"}, {\"season_start_year\": 1978, \"team\": \"Bor. M\\u00f6nchengladbach\", \"wins\": 12, \"season\": \"1978-1979\"}, {\"season_start_year\": 1978, \"team\": \"Borussia Dortmund\", \"wins\": 10, \"season\": \"1978-1979\"}, {\"season_start_year\": 1978, \"team\": \"Eintracht Braunschweig\", \"wins\": 10, \"season\": \"1978-1979\"}, {\"season_start_year\": 1978, \"team\": \"Eintracht Frankfurt\", \"wins\": 16, \"season\": \"1978-1979\"}, {\"season_start_year\": 1978, \"team\": \"FC Schalke 04\", \"wins\": 9, \"season\": \"1978-1979\"}, {\"season_start_year\": 1978, \"team\": \"Fortuna D\\u00fcsseldorf\", \"wins\": 13, \"season\": \"1978-1979\"}, {\"season_start_year\": 1978, \"team\": \"Hamburger SV\", \"wins\": 21, \"season\": \"1978-1979\"}, {\"season_start_year\": 1978, \"team\": \"Hertha BSC\", \"wins\": 9, \"season\": \"1978-1979\"}, {\"season_start_year\": 1978, \"team\": \"MSV Duisburg\", \"wins\": 12, \"season\": \"1978-1979\"}, {\"season_start_year\": 1978, \"team\": \"SV Darmstadt 98\", \"wins\": 7, \"season\": \"1978-1979\"}, {\"season_start_year\": 1978, \"team\": \"VfB Stuttgart\", \"wins\": 20, \"season\": \"1978-1979\"}, {\"season_start_year\": 1978, \"team\": \"VfL Bochum\", \"wins\": 10, \"season\": \"1978-1979\"}, {\"season_start_year\": 1978, \"team\": \"Werder Bremen\", \"wins\": 10, \"season\": \"1978-1979\"}, {\"season_start_year\": 1979, \"team\": \"1. FC Kaiserslautern\", \"wins\": 18, \"season\": \"1979-1980\"}, {\"season_start_year\": 1979, \"team\": \"1. FC K\\u00f6ln\", \"wins\": 14, \"season\": \"1979-1980\"}, {\"season_start_year\": 1979, \"team\": \"Bayer 04 Leverkusen\", \"wins\": 12, \"season\": \"1979-1980\"}, {\"season_start_year\": 1979, \"team\": \"Bayern M\\u00fcnchen\", \"wins\": 22, \"season\": \"1979-1980\"}, {\"season_start_year\": 1979, \"team\": \"Bor. M\\u00f6nchengladbach\", \"wins\": 12, \"season\": \"1979-1980\"}, {\"season_start_year\": 1979, \"team\": \"Borussia Dortmund\", \"wins\": 14, \"season\": \"1979-1980\"}, {\"season_start_year\": 1979, \"team\": \"Eintracht Braunschweig\", \"wins\": 6, \"season\": \"1979-1980\"}, {\"season_start_year\": 1979, \"team\": \"Eintracht Frankfurt\", \"wins\": 15, \"season\": \"1979-1980\"}, {\"season_start_year\": 1979, \"team\": \"FC Schalke 04\", \"wins\": 12, \"season\": \"1979-1980\"}, {\"season_start_year\": 1979, \"team\": \"Fortuna D\\u00fcsseldorf\", \"wins\": 13, \"season\": \"1979-1980\"}, {\"season_start_year\": 1979, \"team\": \"Hamburger SV\", \"wins\": 20, \"season\": \"1979-1980\"}, {\"season_start_year\": 1979, \"team\": \"Hertha BSC\", \"wins\": 11, \"season\": \"1979-1980\"}, {\"season_start_year\": 1979, \"team\": \"KFC Uerdingen\", \"wins\": 12, \"season\": \"1979-1980\"}, {\"season_start_year\": 1979, \"team\": \"MSV Duisburg\", \"wins\": 11, \"season\": \"1979-1980\"}, {\"season_start_year\": 1979, \"team\": \"TSV 1860 M\\u00fcnchen\", \"wins\": 10, \"season\": \"1979-1980\"}, {\"season_start_year\": 1979, \"team\": \"VfB Stuttgart\", \"wins\": 17, \"season\": \"1979-1980\"}, {\"season_start_year\": 1979, \"team\": \"VfL Bochum\", \"wins\": 13, \"season\": \"1979-1980\"}, {\"season_start_year\": 1979, \"team\": \"Werder Bremen\", \"wins\": 11, \"season\": \"1979-1980\"}, {\"season_start_year\": 1980, \"team\": \"1. FC Kaiserslautern\", \"wins\": 17, \"season\": \"1980-1981\"}, {\"season_start_year\": 1980, \"team\": \"1. FC K\\u00f6ln\", \"wins\": 12, \"season\": \"1980-1981\"}, {\"season_start_year\": 1980, \"team\": \"1. FC N\\u00fcrnberg\", \"wins\": 11, \"season\": \"1980-1981\"}, {\"season_start_year\": 1980, \"team\": \"Arminia Bielefeld\", \"wins\": 10, \"season\": \"1980-1981\"}, {\"season_start_year\": 1980, \"team\": \"Bayer 04 Leverkusen\", \"wins\": 10, \"season\": \"1980-1981\"}, {\"season_start_year\": 1980, \"team\": \"Bayern M\\u00fcnchen\", \"wins\": 22, \"season\": \"1980-1981\"}, {\"season_start_year\": 1980, \"team\": \"Bor. M\\u00f6nchengladbach\", \"wins\": 15, \"season\": \"1980-1981\"}, {\"season_start_year\": 1980, \"team\": \"Borussia Dortmund\", \"wins\": 13, \"season\": \"1980-1981\"}, {\"season_start_year\": 1980, \"team\": \"Eintracht Frankfurt\", \"wins\": 13, \"season\": \"1980-1981\"}, {\"season_start_year\": 1980, \"team\": \"FC Schalke 04\", \"wins\": 8, \"season\": \"1980-1981\"}, {\"season_start_year\": 1980, \"team\": \"Fortuna D\\u00fcsseldorf\", \"wins\": 10, \"season\": \"1980-1981\"}, {\"season_start_year\": 1980, \"team\": \"Hamburger SV\", \"wins\": 21, \"season\": \"1980-1981\"}, {\"season_start_year\": 1980, \"team\": \"KFC Uerdingen\", \"wins\": 8, \"season\": \"1980-1981\"}, {\"season_start_year\": 1980, \"team\": \"Karlsruher SC\", \"wins\": 9, \"season\": \"1980-1981\"}, {\"season_start_year\": 1980, \"team\": \"MSV Duisburg\", \"wins\": 10, \"season\": \"1980-1981\"}, {\"season_start_year\": 1980, \"team\": \"TSV 1860 M\\u00fcnchen\", \"wins\": 9, \"season\": \"1980-1981\"}, {\"season_start_year\": 1980, \"team\": \"VfB Stuttgart\", \"wins\": 19, \"season\": \"1980-1981\"}, {\"season_start_year\": 1980, \"team\": \"VfL Bochum\", \"wins\": 9, \"season\": \"1980-1981\"}, {\"season_start_year\": 1981, \"team\": \"1. FC Kaiserslautern\", \"wins\": 16, \"season\": \"1981-1982\"}, {\"season_start_year\": 1981, \"team\": \"1. FC K\\u00f6ln\", \"wins\": 18, \"season\": \"1981-1982\"}, {\"season_start_year\": 1981, \"team\": \"1. FC N\\u00fcrnberg\", \"wins\": 11, \"season\": \"1981-1982\"}, {\"season_start_year\": 1981, \"team\": \"Arminia Bielefeld\", \"wins\": 12, \"season\": \"1981-1982\"}, {\"season_start_year\": 1981, \"team\": \"Bayer 04 Leverkusen\", \"wins\": 9, \"season\": \"1981-1982\"}, {\"season_start_year\": 1981, \"team\": \"Bayern M\\u00fcnchen\", \"wins\": 20, \"season\": \"1981-1982\"}, {\"season_start_year\": 1981, \"team\": \"Bor. M\\u00f6nchengladbach\", \"wins\": 15, \"season\": \"1981-1982\"}, {\"season_start_year\": 1981, \"team\": \"Borussia Dortmund\", \"wins\": 18, \"season\": \"1981-1982\"}, {\"season_start_year\": 1981, \"team\": \"Eintracht Braunschweig\", \"wins\": 14, \"season\": \"1981-1982\"}, {\"season_start_year\": 1981, \"team\": \"Eintracht Frankfurt\", \"wins\": 17, \"season\": \"1981-1982\"}, {\"season_start_year\": 1981, \"team\": \"Fortuna D\\u00fcsseldorf\", \"wins\": 6, \"season\": \"1981-1982\"}, {\"season_start_year\": 1981, \"team\": \"Hamburger SV\", \"wins\": 18, \"season\": \"1981-1982\"}, {\"season_start_year\": 1981, \"team\": \"Karlsruher SC\", \"wins\": 9, \"season\": \"1981-1982\"}, {\"season_start_year\": 1981, \"team\": \"MSV Duisburg\", \"wins\": 8, \"season\": \"1981-1982\"}, {\"season_start_year\": 1981, \"team\": \"SV Darmstadt 98\", \"wins\": 5, \"season\": \"1981-1982\"}, {\"season_start_year\": 1981, \"team\": \"VfB Stuttgart\", \"wins\": 13, \"season\": \"1981-1982\"}, {\"season_start_year\": 1981, \"team\": \"VfL Bochum\", \"wins\": 12, \"season\": \"1981-1982\"}, {\"season_start_year\": 1981, \"team\": \"Werder Bremen\", \"wins\": 17, \"season\": \"1981-1982\"}, {\"season_start_year\": 1982, \"team\": \"1. FC Kaiserslautern\", \"wins\": 14, \"season\": \"1982-1983\"}, {\"season_start_year\": 1982, \"team\": \"1. FC K\\u00f6ln\", \"wins\": 17, \"season\": \"1982-1983\"}, {\"season_start_year\": 1982, \"team\": \"1. FC N\\u00fcrnberg\", \"wins\": 11, \"season\": \"1982-1983\"}, {\"season_start_year\": 1982, \"team\": \"Arminia Bielefeld\", \"wins\": 12, \"season\": \"1982-1983\"}, {\"season_start_year\": 1982, \"team\": \"Bayer 04 Leverkusen\", \"wins\": 10, \"season\": \"1982-1983\"}, {\"season_start_year\": 1982, \"team\": \"Bayern M\\u00fcnchen\", \"wins\": 17, \"season\": \"1982-1983\"}, {\"season_start_year\": 1982, \"team\": \"Bor. M\\u00f6nchengladbach\", \"wins\": 12, \"season\": \"1982-1983\"}, {\"season_start_year\": 1982, \"team\": \"Borussia Dortmund\", \"wins\": 16, \"season\": \"1982-1983\"}, {\"season_start_year\": 1982, \"team\": \"Eintracht Braunschweig\", \"wins\": 8, \"season\": \"1982-1983\"}, {\"season_start_year\": 1982, \"team\": \"Eintracht Frankfurt\", \"wins\": 12, \"season\": \"1982-1983\"}, {\"season_start_year\": 1982, \"team\": \"FC Schalke 04\", \"wins\": 8, \"season\": \"1982-1983\"}, {\"season_start_year\": 1982, \"team\": \"Fortuna D\\u00fcsseldorf\", \"wins\": 11, \"season\": \"1982-1983\"}, {\"season_start_year\": 1982, \"team\": \"Hamburger SV\", \"wins\": 20, \"season\": \"1982-1983\"}, {\"season_start_year\": 1982, \"team\": \"Hertha BSC\", \"wins\": 5, \"season\": \"1982-1983\"}, {\"season_start_year\": 1982, \"team\": \"Karlsruher SC\", \"wins\": 7, \"season\": \"1982-1983\"}, {\"season_start_year\": 1982, \"team\": \"VfB Stuttgart\", \"wins\": 20, \"season\": \"1982-1983\"}, {\"season_start_year\": 1982, \"team\": \"VfL Bochum\", \"wins\": 8, \"season\": \"1982-1983\"}, {\"season_start_year\": 1982, \"team\": \"Werder Bremen\", \"wins\": 23, \"season\": \"1982-1983\"}, {\"season_start_year\": 1983, \"team\": \"1. FC Kaiserslautern\", \"wins\": 12, \"season\": \"1983-1984\"}, {\"season_start_year\": 1983, \"team\": \"1. FC K\\u00f6ln\", \"wins\": 16, \"season\": \"1983-1984\"}, {\"season_start_year\": 1983, \"team\": \"1. FC N\\u00fcrnberg\", \"wins\": 6, \"season\": \"1983-1984\"}, {\"season_start_year\": 1983, \"team\": \"Arminia Bielefeld\", \"wins\": 12, \"season\": \"1983-1984\"}, {\"season_start_year\": 1983, \"team\": \"Bayer 04 Leverkusen\", \"wins\": 13, \"season\": \"1983-1984\"}, {\"season_start_year\": 1983, \"team\": \"Bayern M\\u00fcnchen\", \"wins\": 20, \"season\": \"1983-1984\"}, {\"season_start_year\": 1983, \"team\": \"Bor. M\\u00f6nchengladbach\", \"wins\": 21, \"season\": \"1983-1984\"}, {\"season_start_year\": 1983, \"team\": \"Borussia Dortmund\", \"wins\": 11, \"season\": \"1983-1984\"}, {\"season_start_year\": 1983, \"team\": \"Eintracht Braunschweig\", \"wins\": 13, \"season\": \"1983-1984\"}, {\"season_start_year\": 1983, \"team\": \"Eintracht Frankfurt\", \"wins\": 7, \"season\": \"1983-1984\"}, {\"season_start_year\": 1983, \"team\": \"Fortuna D\\u00fcsseldorf\", \"wins\": 11, \"season\": \"1983-1984\"}, {\"season_start_year\": 1983, \"team\": \"Hamburger SV\", \"wins\": 21, \"season\": \"1983-1984\"}, {\"season_start_year\": 1983, \"team\": \"KFC Uerdingen\", \"wins\": 12, \"season\": \"1983-1984\"}, {\"season_start_year\": 1983, \"team\": \"Kickers Offenbach\", \"wins\": 7, \"season\": \"1983-1984\"}, {\"season_start_year\": 1983, \"team\": \"SV Waldhof Mannheim\", \"wins\": 10, \"season\": \"1983-1984\"}, {\"season_start_year\": 1983, \"team\": \"VfB Stuttgart\", \"wins\": 19, \"season\": \"1983-1984\"}, {\"season_start_year\": 1983, \"team\": \"VfL Bochum\", \"wins\": 10, \"season\": \"1983-1984\"}, {\"season_start_year\": 1983, \"team\": \"Werder Bremen\", \"wins\": 19, \"season\": \"1983-1984\"}, {\"season_start_year\": 1984, \"team\": \"1. FC Kaiserslautern\", \"wins\": 11, \"season\": \"1984-1985\"}, {\"season_start_year\": 1984, \"team\": \"1. FC K\\u00f6ln\", \"wins\": 18, \"season\": \"1984-1985\"}, {\"season_start_year\": 1984, \"team\": \"Arminia Bielefeld\", \"wins\": 8, \"season\": \"1984-1985\"}, {\"season_start_year\": 1984, \"team\": \"Bayer 04 Leverkusen\", \"wins\": 9, \"season\": \"1984-1985\"}, {\"season_start_year\": 1984, \"team\": \"Bayern M\\u00fcnchen\", \"wins\": 21, \"season\": \"1984-1985\"}, {\"season_start_year\": 1984, \"team\": \"Bor. M\\u00f6nchengladbach\", \"wins\": 15, \"season\": \"1984-1985\"}, {\"season_start_year\": 1984, \"team\": \"Borussia Dortmund\", \"wins\": 13, \"season\": \"1984-1985\"}, {\"season_start_year\": 1984, \"team\": \"Eintracht Braunschweig\", \"wins\": 9, \"season\": \"1984-1985\"}, {\"season_start_year\": 1984, \"team\": \"Eintracht Frankfurt\", \"wins\": 10, \"season\": \"1984-1985\"}, {\"season_start_year\": 1984, \"team\": \"FC Schalke 04\", \"wins\": 13, \"season\": \"1984-1985\"}, {\"season_start_year\": 1984, \"team\": \"Fortuna D\\u00fcsseldorf\", \"wins\": 10, \"season\": \"1984-1985\"}, {\"season_start_year\": 1984, \"team\": \"Hamburger SV\", \"wins\": 14, \"season\": \"1984-1985\"}, {\"season_start_year\": 1984, \"team\": \"KFC Uerdingen\", \"wins\": 14, \"season\": \"1984-1985\"}, {\"season_start_year\": 1984, \"team\": \"Karlsruher SC\", \"wins\": 5, \"season\": \"1984-1985\"}, {\"season_start_year\": 1984, \"team\": \"SV Waldhof Mannheim\", \"wins\": 13, \"season\": \"1984-1985\"}, {\"season_start_year\": 1984, \"team\": \"VfB Stuttgart\", \"wins\": 14, \"season\": \"1984-1985\"}, {\"season_start_year\": 1984, \"team\": \"VfL Bochum\", \"wins\": 12, \"season\": \"1984-1985\"}, {\"season_start_year\": 1984, \"team\": \"Werder Bremen\", \"wins\": 18, \"season\": \"1984-1985\"}, {\"season_start_year\": 1985, \"team\": \"1. FC Kaiserslautern\", \"wins\": 10, \"season\": \"1985-1986\"}, {\"season_start_year\": 1985, \"team\": \"1. FC K\\u00f6ln\", \"wins\": 9, \"season\": \"1985-1986\"}, {\"season_start_year\": 1985, \"team\": \"1. FC N\\u00fcrnberg\", \"wins\": 12, \"season\": \"1985-1986\"}, {\"season_start_year\": 1985, \"team\": \"1. FC Saarbr\\u00fccken\", \"wins\": 6, \"season\": \"1985-1986\"}, {\"season_start_year\": 1985, \"team\": \"Bayer 04 Leverkusen\", \"wins\": 15, \"season\": \"1985-1986\"}, {\"season_start_year\": 1985, \"team\": \"Bayern M\\u00fcnchen\", \"wins\": 21, \"season\": \"1985-1986\"}, {\"season_start_year\": 1985, \"team\": \"Bor. M\\u00f6nchengladbach\", \"wins\": 15, \"season\": \"1985-1986\"}, {\"season_start_year\": 1985, \"team\": \"Borussia Dortmund\", \"wins\": 10, \"season\": \"1985-1986\"}, {\"season_start_year\": 1985, \"team\": \"Eintracht Frankfurt\", \"wins\": 7, \"season\": \"1985-1986\"}, {\"season_start_year\": 1985, \"team\": \"FC Schalke 04\", \"wins\": 11, \"season\": \"1985-1986\"}, {\"season_start_year\": 1985, \"team\": \"Fortuna D\\u00fcsseldorf\", \"wins\": 11, \"season\": \"1985-1986\"}, {\"season_start_year\": 1985, \"team\": \"Hamburger SV\", \"wins\": 17, \"season\": \"1985-1986\"}, {\"season_start_year\": 1985, \"team\": \"Hannover 96\", \"wins\": 5, \"season\": \"1985-1986\"}, {\"season_start_year\": 1985, \"team\": \"KFC Uerdingen\", \"wins\": 19, \"season\": \"1985-1986\"}, {\"season_start_year\": 1985, \"team\": \"SV Waldhof Mannheim\", \"wins\": 11, \"season\": \"1985-1986\"}, {\"season_start_year\": 1985, \"team\": \"VfB Stuttgart\", \"wins\": 17, \"season\": \"1985-1986\"}, {\"season_start_year\": 1985, \"team\": \"VfL Bochum\", \"wins\": 14, \"season\": \"1985-1986\"}, {\"season_start_year\": 1985, \"team\": \"Werder Bremen\", \"wins\": 20, \"season\": \"1985-1986\"}, {\"season_start_year\": 1986, \"team\": \"1. FC Kaiserslautern\", \"wins\": 15, \"season\": \"1986-1987\"}, {\"season_start_year\": 1986, \"team\": \"1. FC K\\u00f6ln\", \"wins\": 13, \"season\": \"1986-1987\"}, {\"season_start_year\": 1986, \"team\": \"1. FC N\\u00fcrnberg\", \"wins\": 13, \"season\": \"1986-1987\"}, {\"season_start_year\": 1986, \"team\": \"Bayer 04 Leverkusen\", \"wins\": 17, \"season\": \"1986-1987\"}, {\"season_start_year\": 1986, \"team\": \"Bayern M\\u00fcnchen\", \"wins\": 20, \"season\": \"1986-1987\"}, {\"season_start_year\": 1986, \"team\": \"Blau-Wei\\u00df 90 Berlin\", \"wins\": 3, \"season\": \"1986-1987\"}, {\"season_start_year\": 1986, \"team\": \"Bor. M\\u00f6nchengladbach\", \"wins\": 19, \"season\": \"1986-1987\"}, {\"season_start_year\": 1986, \"team\": \"Borussia Dortmund\", \"wins\": 15, \"season\": \"1986-1987\"}, {\"season_start_year\": 1986, \"team\": \"Eintracht Frankfurt\", \"wins\": 8, \"season\": \"1986-1987\"}, {\"season_start_year\": 1986, \"team\": \"FC 08 Homburg\", \"wins\": 6, \"season\": \"1986-1987\"}, {\"season_start_year\": 1986, \"team\": \"FC Schalke 04\", \"wins\": 12, \"season\": \"1986-1987\"}, {\"season_start_year\": 1986, \"team\": \"Fortuna D\\u00fcsseldorf\", \"wins\": 7, \"season\": \"1986-1987\"}, {\"season_start_year\": 1986, \"team\": \"Hamburger SV\", \"wins\": 19, \"season\": \"1986-1987\"}, {\"season_start_year\": 1986, \"team\": \"KFC Uerdingen\", \"wins\": 12, \"season\": \"1986-1987\"}, {\"season_start_year\": 1986, \"team\": \"SV Waldhof Mannheim\", \"wins\": 10, \"season\": \"1986-1987\"}, {\"season_start_year\": 1986, \"team\": \"VfB Stuttgart\", \"wins\": 13, \"season\": \"1986-1987\"}, {\"season_start_year\": 1986, \"team\": \"VfL Bochum\", \"wins\": 9, \"season\": \"1986-1987\"}, {\"season_start_year\": 1986, \"team\": \"Werder Bremen\", \"wins\": 17, \"season\": \"1986-1987\"}, {\"season_start_year\": 1987, \"team\": \"1. FC Kaiserslautern\", \"wins\": 11, \"season\": \"1987-1988\"}, {\"season_start_year\": 1987, \"team\": \"1. FC K\\u00f6ln\", \"wins\": 19, \"season\": \"1987-1988\"}, {\"season_start_year\": 1987, \"team\": \"1. FC N\\u00fcrnberg\", \"wins\": 13, \"season\": \"1987-1988\"}, {\"season_start_year\": 1987, \"team\": \"Bayer 04 Leverkusen\", \"wins\": 10, \"season\": \"1987-1988\"}, {\"season_start_year\": 1987, \"team\": \"Bayern M\\u00fcnchen\", \"wins\": 23, \"season\": \"1987-1988\"}, {\"season_start_year\": 1987, \"team\": \"Bor. M\\u00f6nchengladbach\", \"wins\": 14, \"season\": \"1987-1988\"}, {\"season_start_year\": 1987, \"team\": \"Borussia Dortmund\", \"wins\": 9, \"season\": \"1987-1988\"}, {\"season_start_year\": 1987, \"team\": \"Eintracht Frankfurt\", \"wins\": 10, \"season\": \"1987-1988\"}, {\"season_start_year\": 1987, \"team\": \"FC 08 Homburg\", \"wins\": 7, \"season\": \"1987-1988\"}, {\"season_start_year\": 1987, \"team\": \"FC Schalke 04\", \"wins\": 8, \"season\": \"1987-1988\"}, {\"season_start_year\": 1987, \"team\": \"Hamburger SV\", \"wins\": 13, \"season\": \"1987-1988\"}, {\"season_start_year\": 1987, \"team\": \"Hannover 96\", \"wins\": 12, \"season\": \"1987-1988\"}, {\"season_start_year\": 1987, \"team\": \"KFC Uerdingen\", \"wins\": 11, \"season\": \"1987-1988\"}, {\"season_start_year\": 1987, \"team\": \"Karlsruher SC\", \"wins\": 10, \"season\": \"1987-1988\"}, {\"season_start_year\": 1987, \"team\": \"SV Waldhof Mannheim\", \"wins\": 7, \"season\": \"1987-1988\"}, {\"season_start_year\": 1987, \"team\": \"Stuttgarter Kickers\", \"wins\": 1, \"season\": \"1987-1988\"}, {\"season_start_year\": 1987, \"team\": \"VfB Stuttgart\", \"wins\": 18, \"season\": \"1987-1988\"}, {\"season_start_year\": 1987, \"team\": \"VfL Bochum\", \"wins\": 11, \"season\": \"1987-1988\"}, {\"season_start_year\": 1987, \"team\": \"Werder Bremen\", \"wins\": 23, \"season\": \"1987-1988\"}, {\"season_start_year\": 1988, \"team\": \"1. FC Kaiserslautern\", \"wins\": 11, \"season\": \"1988-1989\"}, {\"season_start_year\": 1988, \"team\": \"1. FC K\\u00f6ln\", \"wins\": 18, \"season\": \"1988-1989\"}, {\"season_start_year\": 1988, \"team\": \"1. FC N\\u00fcrnberg\", \"wins\": 7, \"season\": \"1988-1989\"}, {\"season_start_year\": 1988, \"team\": \"Bayer 04 Leverkusen\", \"wins\": 10, \"season\": \"1988-1989\"}, {\"season_start_year\": 1988, \"team\": \"Bayern M\\u00fcnchen\", \"wins\": 19, \"season\": \"1988-1989\"}, {\"season_start_year\": 1988, \"team\": \"Bor. M\\u00f6nchengladbach\", \"wins\": 11, \"season\": \"1988-1989\"}, {\"season_start_year\": 1988, \"team\": \"Borussia Dortmund\", \"wins\": 12, \"season\": \"1988-1989\"}, {\"season_start_year\": 1988, \"team\": \"Eintracht Frankfurt\", \"wins\": 9, \"season\": \"1988-1989\"}, {\"season_start_year\": 1988, \"team\": \"FC St. Pauli\", \"wins\": 9, \"season\": \"1988-1989\"}, {\"season_start_year\": 1988, \"team\": \"Hamburger SV\", \"wins\": 17, \"season\": \"1988-1989\"}, {\"season_start_year\": 1988, \"team\": \"Hannover 96\", \"wins\": 4, \"season\": \"1988-1989\"}, {\"season_start_year\": 1988, \"team\": \"KFC Uerdingen\", \"wins\": 11, \"season\": \"1988-1989\"}, {\"season_start_year\": 1988, \"team\": \"Karlsruher SC\", \"wins\": 11, \"season\": \"1988-1989\"}, {\"season_start_year\": 1988, \"team\": \"SV Waldhof Mannheim\", \"wins\": 10, \"season\": \"1988-1989\"}, {\"season_start_year\": 1988, \"team\": \"Stuttgarter Kickers\", \"wins\": 9, \"season\": \"1988-1989\"}, {\"season_start_year\": 1988, \"team\": \"VfB Stuttgart\", \"wins\": 15, \"season\": \"1988-1989\"}, {\"season_start_year\": 1988, \"team\": \"VfL Bochum\", \"wins\": 8, \"season\": \"1988-1989\"}, {\"season_start_year\": 1988, \"team\": \"Werder Bremen\", \"wins\": 17, \"season\": \"1988-1989\"}, {\"season_start_year\": 1989, \"team\": \"1. FC Kaiserslautern\", \"wins\": 9, \"season\": \"1989-1990\"}, {\"season_start_year\": 1989, \"team\": \"1. FC K\\u00f6ln\", \"wins\": 16, \"season\": \"1989-1990\"}, {\"season_start_year\": 1989, \"team\": \"1. FC N\\u00fcrnberg\", \"wins\": 11, \"season\": \"1989-1990\"}, {\"season_start_year\": 1989, \"team\": \"Bayer 04 Leverkusen\", \"wins\": 11, \"season\": \"1989-1990\"}, {\"season_start_year\": 1989, \"team\": \"Bayern M\\u00fcnchen\", \"wins\": 18, \"season\": \"1989-1990\"}, {\"season_start_year\": 1989, \"team\": \"Bor. M\\u00f6nchengladbach\", \"wins\": 11, \"season\": \"1989-1990\"}, {\"season_start_year\": 1989, \"team\": \"Borussia Dortmund\", \"wins\": 15, \"season\": \"1989-1990\"}, {\"season_start_year\": 1989, \"team\": \"Eintracht Frankfurt\", \"wins\": 14, \"season\": \"1989-1990\"}, {\"season_start_year\": 1989, \"team\": \"FC 08 Homburg\", \"wins\": 8, \"season\": \"1989-1990\"}, {\"season_start_year\": 1989, \"team\": \"FC St. Pauli\", \"wins\": 9, \"season\": \"1989-1990\"}, {\"season_start_year\": 1989, \"team\": \"Fortuna D\\u00fcsseldorf\", \"wins\": 10, \"season\": \"1989-1990\"}, {\"season_start_year\": 1989, \"team\": \"Hamburger SV\", \"wins\": 13, \"season\": \"1989-1990\"}, {\"season_start_year\": 1989, \"team\": \"KFC Uerdingen\", \"wins\": 9, \"season\": \"1989-1990\"}, {\"season_start_year\": 1989, \"team\": \"Karlsruher SC\", \"wins\": 10, \"season\": \"1989-1990\"}, {\"season_start_year\": 1989, \"team\": \"SV Waldhof Mannheim\", \"wins\": 10, \"season\": \"1989-1990\"}, {\"season_start_year\": 1989, \"team\": \"VfB Stuttgart\", \"wins\": 14, \"season\": \"1989-1990\"}, {\"season_start_year\": 1989, \"team\": \"VfL Bochum\", \"wins\": 11, \"season\": \"1989-1990\"}, {\"season_start_year\": 1989, \"team\": \"Werder Bremen\", \"wins\": 10, \"season\": \"1989-1990\"}, {\"season_start_year\": 1990, \"team\": \"1. FC Kaiserslautern\", \"wins\": 19, \"season\": \"1990-1991\"}, {\"season_start_year\": 1990, \"team\": \"1. FC K\\u00f6ln\", \"wins\": 13, \"season\": \"1990-1991\"}, {\"season_start_year\": 1990, \"team\": \"1. FC N\\u00fcrnberg\", \"wins\": 10, \"season\": \"1990-1991\"}, {\"season_start_year\": 1990, \"team\": \"Bayer 04 Leverkusen\", \"wins\": 11, \"season\": \"1990-1991\"}, {\"season_start_year\": 1990, \"team\": \"Bayern M\\u00fcnchen\", \"wins\": 18, \"season\": \"1990-1991\"}, {\"season_start_year\": 1990, \"team\": \"Bor. M\\u00f6nchengladbach\", \"wins\": 9, \"season\": \"1990-1991\"}, {\"season_start_year\": 1990, \"team\": \"Borussia Dortmund\", \"wins\": 10, \"season\": \"1990-1991\"}, {\"season_start_year\": 1990, \"team\": \"Eintracht Frankfurt\", \"wins\": 15, \"season\": \"1990-1991\"}, {\"season_start_year\": 1990, \"team\": \"FC St. Pauli\", \"wins\": 6, \"season\": \"1990-1991\"}, {\"season_start_year\": 1990, \"team\": \"Fortuna D\\u00fcsseldorf\", \"wins\": 11, \"season\": \"1990-1991\"}, {\"season_start_year\": 1990, \"team\": \"Hamburger SV\", \"wins\": 16, \"season\": \"1990-1991\"}, {\"season_start_year\": 1990, \"team\": \"Hertha BSC\", \"wins\": 3, \"season\": \"1990-1991\"}, {\"season_start_year\": 1990, \"team\": \"KFC Uerdingen\", \"wins\": 5, \"season\": \"1990-1991\"}, {\"season_start_year\": 1990, \"team\": \"Karlsruher SC\", \"wins\": 8, \"season\": \"1990-1991\"}, {\"season_start_year\": 1990, \"team\": \"SG Wattenscheid 09\", \"wins\": 9, \"season\": \"1990-1991\"}, {\"season_start_year\": 1990, \"team\": \"VfB Stuttgart\", \"wins\": 14, \"season\": \"1990-1991\"}, {\"season_start_year\": 1990, \"team\": \"VfL Bochum\", \"wins\": 9, \"season\": \"1990-1991\"}, {\"season_start_year\": 1990, \"team\": \"Werder Bremen\", \"wins\": 14, \"season\": \"1990-1991\"}, {\"season_start_year\": 1991, \"team\": \"1. FC Kaiserslautern\", \"wins\": 17, \"season\": \"1991-1992\"}, {\"season_start_year\": 1991, \"team\": \"1. FC K\\u00f6ln\", \"wins\": 13, \"season\": \"1991-1992\"}, {\"season_start_year\": 1991, \"team\": \"1. FC N\\u00fcrnberg\", \"wins\": 18, \"season\": \"1991-1992\"}, {\"season_start_year\": 1991, \"team\": \"Bayer 04 Leverkusen\", \"wins\": 15, \"season\": \"1991-1992\"}, {\"season_start_year\": 1991, \"team\": \"Bayern M\\u00fcnchen\", \"wins\": 13, \"season\": \"1991-1992\"}, {\"season_start_year\": 1991, \"team\": \"Bor. M\\u00f6nchengladbach\", \"wins\": 10, \"season\": \"1991-1992\"}, {\"season_start_year\": 1991, \"team\": \"Borussia Dortmund\", \"wins\": 20, \"season\": \"1991-1992\"}, {\"season_start_year\": 1991, \"team\": \"Dynamo Dresden\", \"wins\": 12, \"season\": \"1991-1992\"}, {\"season_start_year\": 1991, \"team\": \"Eintracht Frankfurt\", \"wins\": 18, \"season\": \"1991-1992\"}, {\"season_start_year\": 1991, \"team\": \"FC Schalke 04\", \"wins\": 11, \"season\": \"1991-1992\"}, {\"season_start_year\": 1991, \"team\": \"Fortuna D\\u00fcsseldorf\", \"wins\": 6, \"season\": \"1991-1992\"}, {\"season_start_year\": 1991, \"team\": \"Hamburger SV\", \"wins\": 9, \"season\": \"1991-1992\"}, {\"season_start_year\": 1991, \"team\": \"Hansa Rostock\", \"wins\": 10, \"season\": \"1991-1992\"}, {\"season_start_year\": 1991, \"team\": \"Karlsruher SC\", \"wins\": 16, \"season\": \"1991-1992\"}, {\"season_start_year\": 1991, \"team\": \"MSV Duisburg\", \"wins\": 7, \"season\": \"1991-1992\"}, {\"season_start_year\": 1991, \"team\": \"SG Wattenscheid 09\", \"wins\": 9, \"season\": \"1991-1992\"}, {\"season_start_year\": 1991, \"team\": \"Stuttgarter Kickers\", \"wins\": 10, \"season\": \"1991-1992\"}, {\"season_start_year\": 1991, \"team\": \"VfB Stuttgart\", \"wins\": 21, \"season\": \"1991-1992\"}, {\"season_start_year\": 1991, \"team\": \"VfL Bochum\", \"wins\": 10, \"season\": \"1991-1992\"}, {\"season_start_year\": 1991, \"team\": \"Werder Bremen\", \"wins\": 11, \"season\": \"1991-1992\"}, {\"season_start_year\": 1992, \"team\": \"1. FC Kaiserslautern\", \"wins\": 13, \"season\": \"1992-1993\"}, {\"season_start_year\": 1992, \"team\": \"1. FC K\\u00f6ln\", \"wins\": 12, \"season\": \"1992-1993\"}, {\"season_start_year\": 1992, \"team\": \"1. FC N\\u00fcrnberg\", \"wins\": 10, \"season\": \"1992-1993\"}, {\"season_start_year\": 1992, \"team\": \"1. FC Saarbr\\u00fccken\", \"wins\": 5, \"season\": \"1992-1993\"}, {\"season_start_year\": 1992, \"team\": \"Bayer 04 Leverkusen\", \"wins\": 14, \"season\": \"1992-1993\"}, {\"season_start_year\": 1992, \"team\": \"Bayern M\\u00fcnchen\", \"wins\": 18, \"season\": \"1992-1993\"}, {\"season_start_year\": 1992, \"team\": \"Bor. M\\u00f6nchengladbach\", \"wins\": 13, \"season\": \"1992-1993\"}, {\"season_start_year\": 1992, \"team\": \"Borussia Dortmund\", \"wins\": 18, \"season\": \"1992-1993\"}, {\"season_start_year\": 1992, \"team\": \"Dynamo Dresden\", \"wins\": 7, \"season\": \"1992-1993\"}, {\"season_start_year\": 1992, \"team\": \"Eintracht Frankfurt\", \"wins\": 15, \"season\": \"1992-1993\"}, {\"season_start_year\": 1992, \"team\": \"FC Schalke 04\", \"wins\": 11, \"season\": \"1992-1993\"}, {\"season_start_year\": 1992, \"team\": \"Hamburger SV\", \"wins\": 8, \"season\": \"1992-1993\"}, {\"season_start_year\": 1992, \"team\": \"KFC Uerdingen\", \"wins\": 7, \"season\": \"1992-1993\"}, {\"season_start_year\": 1992, \"team\": \"Karlsruher SC\", \"wins\": 14, \"season\": \"1992-1993\"}, {\"season_start_year\": 1992, \"team\": \"SG Wattenscheid 09\", \"wins\": 10, \"season\": \"1992-1993\"}, {\"season_start_year\": 1992, \"team\": \"VfB Stuttgart\", \"wins\": 12, \"season\": \"1992-1993\"}, {\"season_start_year\": 1992, \"team\": \"VfL Bochum\", \"wins\": 8, \"season\": \"1992-1993\"}, {\"season_start_year\": 1992, \"team\": \"Werder Bremen\", \"wins\": 19, \"season\": \"1992-1993\"}, {\"season_start_year\": 1993, \"team\": \"1. FC Kaiserslautern\", \"wins\": 18, \"season\": \"1993-1994\"}, {\"season_start_year\": 1993, \"team\": \"1. FC K\\u00f6ln\", \"wins\": 14, \"season\": \"1993-1994\"}, {\"season_start_year\": 1993, \"team\": \"1. FC N\\u00fcrnberg\", \"wins\": 10, \"season\": \"1993-1994\"}, {\"season_start_year\": 1993, \"team\": \"Bayer 04 Leverkusen\", \"wins\": 14, \"season\": \"1993-1994\"}, {\"season_start_year\": 1993, \"team\": \"Bayern M\\u00fcnchen\", \"wins\": 17, \"season\": \"1993-1994\"}, {\"season_start_year\": 1993, \"team\": \"Bor. M\\u00f6nchengladbach\", \"wins\": 14, \"season\": \"1993-1994\"}, {\"season_start_year\": 1993, \"team\": \"Borussia Dortmund\", \"wins\": 15, \"season\": \"1993-1994\"}, {\"season_start_year\": 1993, \"team\": \"Dynamo Dresden\", \"wins\": 10, \"season\": \"1993-1994\"}, {\"season_start_year\": 1993, \"team\": \"Eintracht Frankfurt\", \"wins\": 15, \"season\": \"1993-1994\"}, {\"season_start_year\": 1993, \"team\": \"FC Schalke 04\", \"wins\": 10, \"season\": \"1993-1994\"}, {\"season_start_year\": 1993, \"team\": \"Hamburger SV\", \"wins\": 13, \"season\": \"1993-1994\"}, {\"season_start_year\": 1993, \"team\": \"Karlsruher SC\", \"wins\": 14, \"season\": \"1993-1994\"}, {\"season_start_year\": 1993, \"team\": \"MSV Duisburg\", \"wins\": 14, \"season\": \"1993-1994\"}, {\"season_start_year\": 1993, \"team\": \"SC Freiburg\", \"wins\": 10, \"season\": \"1993-1994\"}, {\"season_start_year\": 1993, \"team\": \"SG Wattenscheid 09\", \"wins\": 6, \"season\": \"1993-1994\"}, {\"season_start_year\": 1993, \"team\": \"VfB Leipzig\", \"wins\": 3, \"season\": \"1993-1994\"}, {\"season_start_year\": 1993, \"team\": \"VfB Stuttgart\", \"wins\": 13, \"season\": \"1993-1994\"}, {\"season_start_year\": 1993, \"team\": \"Werder Bremen\", \"wins\": 13, \"season\": \"1993-1994\"}, {\"season_start_year\": 1994, \"team\": \"1. FC Kaiserslautern\", \"wins\": 17, \"season\": \"1994-1995\"}, {\"season_start_year\": 1994, \"team\": \"1. FC K\\u00f6ln\", \"wins\": 11, \"season\": \"1994-1995\"}, {\"season_start_year\": 1994, \"team\": \"Bayer 04 Leverkusen\", \"wins\": 13, \"season\": \"1994-1995\"}, {\"season_start_year\": 1994, \"team\": \"Bayern M\\u00fcnchen\", \"wins\": 15, \"season\": \"1994-1995\"}, {\"season_start_year\": 1994, \"team\": \"Bor. M\\u00f6nchengladbach\", \"wins\": 17, \"season\": \"1994-1995\"}, {\"season_start_year\": 1994, \"team\": \"Borussia Dortmund\", \"wins\": 20, \"season\": \"1994-1995\"}, {\"season_start_year\": 1994, \"team\": \"Dynamo Dresden\", \"wins\": 4, \"season\": \"1994-1995\"}, {\"season_start_year\": 1994, \"team\": \"Eintracht Frankfurt\", \"wins\": 12, \"season\": \"1994-1995\"}, {\"season_start_year\": 1994, \"team\": \"FC Schalke 04\", \"wins\": 10, \"season\": \"1994-1995\"}, {\"season_start_year\": 1994, \"team\": \"Hamburger SV\", \"wins\": 10, \"season\": \"1994-1995\"}, {\"season_start_year\": 1994, \"team\": \"KFC Uerdingen\", \"wins\": 7, \"season\": \"1994-1995\"}, {\"season_start_year\": 1994, \"team\": \"Karlsruher SC\", \"wins\": 11, \"season\": \"1994-1995\"}, {\"season_start_year\": 1994, \"team\": \"MSV Duisburg\", \"wins\": 6, \"season\": \"1994-1995\"}, {\"season_start_year\": 1994, \"team\": \"SC Freiburg\", \"wins\": 20, \"season\": \"1994-1995\"}, {\"season_start_year\": 1994, \"team\": \"TSV 1860 M\\u00fcnchen\", \"wins\": 8, \"season\": \"1994-1995\"}, {\"season_start_year\": 1994, \"team\": \"VfB Stuttgart\", \"wins\": 10, \"season\": \"1994-1995\"}, {\"season_start_year\": 1994, \"team\": \"VfL Bochum\", \"wins\": 9, \"season\": \"1994-1995\"}, {\"season_start_year\": 1994, \"team\": \"Werder Bremen\", \"wins\": 20, \"season\": \"1994-1995\"}, {\"season_start_year\": 1995, \"team\": \"1. FC Kaiserslautern\", \"wins\": 6, \"season\": \"1995-1996\"}, {\"season_start_year\": 1995, \"team\": \"1. FC K\\u00f6ln\", \"wins\": 9, \"season\": \"1995-1996\"}, {\"season_start_year\": 1995, \"team\": \"Bayer 04 Leverkusen\", \"wins\": 8, \"season\": \"1995-1996\"}, {\"season_start_year\": 1995, \"team\": \"Bayern M\\u00fcnchen\", \"wins\": 19, \"season\": \"1995-1996\"}, {\"season_start_year\": 1995, \"team\": \"Bor. M\\u00f6nchengladbach\", \"wins\": 15, \"season\": \"1995-1996\"}, {\"season_start_year\": 1995, \"team\": \"Borussia Dortmund\", \"wins\": 19, \"season\": \"1995-1996\"}, {\"season_start_year\": 1995, \"team\": \"Eintracht Frankfurt\", \"wins\": 7, \"season\": \"1995-1996\"}, {\"season_start_year\": 1995, \"team\": \"FC Schalke 04\", \"wins\": 14, \"season\": \"1995-1996\"}, {\"season_start_year\": 1995, \"team\": \"FC St. Pauli\", \"wins\": 9, \"season\": \"1995-1996\"}, {\"season_start_year\": 1995, \"team\": \"Fortuna D\\u00fcsseldorf\", \"wins\": 8, \"season\": \"1995-1996\"}, {\"season_start_year\": 1995, \"team\": \"Hamburger SV\", \"wins\": 12, \"season\": \"1995-1996\"}, {\"season_start_year\": 1995, \"team\": \"Hansa Rostock\", \"wins\": 13, \"season\": \"1995-1996\"}, {\"season_start_year\": 1995, \"team\": \"KFC Uerdingen\", \"wins\": 5, \"season\": \"1995-1996\"}, {\"season_start_year\": 1995, \"team\": \"Karlsruher SC\", \"wins\": 12, \"season\": \"1995-1996\"}, {\"season_start_year\": 1995, \"team\": \"SC Freiburg\", \"wins\": 11, \"season\": \"1995-1996\"}, {\"season_start_year\": 1995, \"team\": \"TSV 1860 M\\u00fcnchen\", \"wins\": 11, \"season\": \"1995-1996\"}, {\"season_start_year\": 1995, \"team\": \"VfB Stuttgart\", \"wins\": 10, \"season\": \"1995-1996\"}, {\"season_start_year\": 1995, \"team\": \"Werder Bremen\", \"wins\": 10, \"season\": \"1995-1996\"}, {\"season_start_year\": 1996, \"team\": \"1. FC K\\u00f6ln\", \"wins\": 13, \"season\": \"1996-1997\"}, {\"season_start_year\": 1996, \"team\": \"Arminia Bielefeld\", \"wins\": 11, \"season\": \"1996-1997\"}, {\"season_start_year\": 1996, \"team\": \"Bayer 04 Leverkusen\", \"wins\": 21, \"season\": \"1996-1997\"}, {\"season_start_year\": 1996, \"team\": \"Bayern M\\u00fcnchen\", \"wins\": 20, \"season\": \"1996-1997\"}, {\"season_start_year\": 1996, \"team\": \"Bor. M\\u00f6nchengladbach\", \"wins\": 12, \"season\": \"1996-1997\"}, {\"season_start_year\": 1996, \"team\": \"Borussia Dortmund\", \"wins\": 19, \"season\": \"1996-1997\"}, {\"season_start_year\": 1996, \"team\": \"FC Schalke 04\", \"wins\": 11, \"season\": \"1996-1997\"}, {\"season_start_year\": 1996, \"team\": \"FC St. Pauli\", \"wins\": 7, \"season\": \"1996-1997\"}, {\"season_start_year\": 1996, \"team\": \"Fortuna D\\u00fcsseldorf\", \"wins\": 9, \"season\": \"1996-1997\"}, {\"season_start_year\": 1996, \"team\": \"Hamburger SV\", \"wins\": 10, \"season\": \"1996-1997\"}, {\"season_start_year\": 1996, \"team\": \"Hansa Rostock\", \"wins\": 11, \"season\": \"1996-1997\"}, {\"season_start_year\": 1996, \"team\": \"Karlsruher SC\", \"wins\": 13, \"season\": \"1996-1997\"}, {\"season_start_year\": 1996, \"team\": \"MSV Duisburg\", \"wins\": 12, \"season\": \"1996-1997\"}, {\"season_start_year\": 1996, \"team\": \"SC Freiburg\", \"wins\": 8, \"season\": \"1996-1997\"}, {\"season_start_year\": 1996, \"team\": \"TSV 1860 M\\u00fcnchen\", \"wins\": 13, \"season\": \"1996-1997\"}, {\"season_start_year\": 1996, \"team\": \"VfB Stuttgart\", \"wins\": 18, \"season\": \"1996-1997\"}, {\"season_start_year\": 1996, \"team\": \"VfL Bochum\", \"wins\": 14, \"season\": \"1996-1997\"}, {\"season_start_year\": 1996, \"team\": \"Werder Bremen\", \"wins\": 14, \"season\": \"1996-1997\"}, {\"season_start_year\": 1997, \"team\": \"1. FC Kaiserslautern\", \"wins\": 19, \"season\": \"1997-1998\"}, {\"season_start_year\": 1997, \"team\": \"1. FC K\\u00f6ln\", \"wins\": 10, \"season\": \"1997-1998\"}, {\"season_start_year\": 1997, \"team\": \"Arminia Bielefeld\", \"wins\": 8, \"season\": \"1997-1998\"}, {\"season_start_year\": 1997, \"team\": \"Bayer 04 Leverkusen\", \"wins\": 14, \"season\": \"1997-1998\"}, {\"season_start_year\": 1997, \"team\": \"Bayern M\\u00fcnchen\", \"wins\": 19, \"season\": \"1997-1998\"}, {\"season_start_year\": 1997, \"team\": \"Bor. M\\u00f6nchengladbach\", \"wins\": 9, \"season\": \"1997-1998\"}, {\"season_start_year\": 1997, \"team\": \"Borussia Dortmund\", \"wins\": 11, \"season\": \"1997-1998\"}, {\"season_start_year\": 1997, \"team\": \"FC Schalke 04\", \"wins\": 13, \"season\": \"1997-1998\"}, {\"season_start_year\": 1997, \"team\": \"Hamburger SV\", \"wins\": 11, \"season\": \"1997-1998\"}, {\"season_start_year\": 1997, \"team\": \"Hansa Rostock\", \"wins\": 14, \"season\": \"1997-1998\"}, {\"season_start_year\": 1997, \"team\": \"Hertha BSC\", \"wins\": 12, \"season\": \"1997-1998\"}, {\"season_start_year\": 1997, \"team\": \"Karlsruher SC\", \"wins\": 9, \"season\": \"1997-1998\"}, {\"season_start_year\": 1997, \"team\": \"MSV Duisburg\", \"wins\": 11, \"season\": \"1997-1998\"}, {\"season_start_year\": 1997, \"team\": \"TSV 1860 M\\u00fcnchen\", \"wins\": 11, \"season\": \"1997-1998\"}, {\"season_start_year\": 1997, \"team\": \"VfB Stuttgart\", \"wins\": 14, \"season\": \"1997-1998\"}, {\"season_start_year\": 1997, \"team\": \"VfL Bochum\", \"wins\": 11, \"season\": \"1997-1998\"}, {\"season_start_year\": 1997, \"team\": \"VfL Wolfsburg\", \"wins\": 11, \"season\": \"1997-1998\"}, {\"season_start_year\": 1997, \"team\": \"Werder Bremen\", \"wins\": 14, \"season\": \"1997-1998\"}, {\"season_start_year\": 1998, \"team\": \"1. FC Kaiserslautern\", \"wins\": 17, \"season\": \"1998-1999\"}, {\"season_start_year\": 1998, \"team\": \"1. FC N\\u00fcrnberg\", \"wins\": 7, \"season\": \"1998-1999\"}, {\"season_start_year\": 1998, \"team\": \"Bayer 04 Leverkusen\", \"wins\": 17, \"season\": \"1998-1999\"}, {\"season_start_year\": 1998, \"team\": \"Bayern M\\u00fcnchen\", \"wins\": 24, \"season\": \"1998-1999\"}, {\"season_start_year\": 1998, \"team\": \"Bor. M\\u00f6nchengladbach\", \"wins\": 4, \"season\": \"1998-1999\"}, {\"season_start_year\": 1998, \"team\": \"Borussia Dortmund\", \"wins\": 16, \"season\": \"1998-1999\"}, {\"season_start_year\": 1998, \"team\": \"Eintracht Frankfurt\", \"wins\": 9, \"season\": \"1998-1999\"}, {\"season_start_year\": 1998, \"team\": \"FC Schalke 04\", \"wins\": 10, \"season\": \"1998-1999\"}, {\"season_start_year\": 1998, \"team\": \"Hamburger SV\", \"wins\": 13, \"season\": \"1998-1999\"}, {\"season_start_year\": 1998, \"team\": \"Hansa Rostock\", \"wins\": 9, \"season\": \"1998-1999\"}, {\"season_start_year\": 1998, \"team\": \"Hertha BSC\", \"wins\": 18, \"season\": \"1998-1999\"}, {\"season_start_year\": 1998, \"team\": \"MSV Duisburg\", \"wins\": 13, \"season\": \"1998-1999\"}, {\"season_start_year\": 1998, \"team\": \"SC Freiburg\", \"wins\": 10, \"season\": \"1998-1999\"}, {\"season_start_year\": 1998, \"team\": \"TSV 1860 M\\u00fcnchen\", \"wins\": 11, \"season\": \"1998-1999\"}, {\"season_start_year\": 1998, \"team\": \"VfB Stuttgart\", \"wins\": 9, \"season\": \"1998-1999\"}, {\"season_start_year\": 1998, \"team\": \"VfL Bochum\", \"wins\": 7, \"season\": \"1998-1999\"}, {\"season_start_year\": 1998, \"team\": \"VfL Wolfsburg\", \"wins\": 15, \"season\": \"1998-1999\"}, {\"season_start_year\": 1998, \"team\": \"Werder Bremen\", \"wins\": 10, \"season\": \"1998-1999\"}, {\"season_start_year\": 1999, \"team\": \"1. FC Kaiserslautern\", \"wins\": 15, \"season\": \"1999-2000\"}, {\"season_start_year\": 1999, \"team\": \"Arminia Bielefeld\", \"wins\": 7, \"season\": \"1999-2000\"}, {\"season_start_year\": 1999, \"team\": \"Bayer 04 Leverkusen\", \"wins\": 21, \"season\": \"1999-2000\"}, {\"season_start_year\": 1999, \"team\": \"Bayern M\\u00fcnchen\", \"wins\": 22, \"season\": \"1999-2000\"}, {\"season_start_year\": 1999, \"team\": \"Borussia Dortmund\", \"wins\": 9, \"season\": \"1999-2000\"}, {\"season_start_year\": 1999, \"team\": \"Eintracht Frankfurt\", \"wins\": 12, \"season\": \"1999-2000\"}, {\"season_start_year\": 1999, \"team\": \"FC Schalke 04\", \"wins\": 8, \"season\": \"1999-2000\"}, {\"season_start_year\": 1999, \"team\": \"Hamburger SV\", \"wins\": 16, \"season\": \"1999-2000\"}, {\"season_start_year\": 1999, \"team\": \"Hansa Rostock\", \"wins\": 8, \"season\": \"1999-2000\"}, {\"season_start_year\": 1999, \"team\": \"Hertha BSC\", \"wins\": 13, \"season\": \"1999-2000\"}, {\"season_start_year\": 1999, \"team\": \"MSV Duisburg\", \"wins\": 4, \"season\": \"1999-2000\"}, {\"season_start_year\": 1999, \"team\": \"SC Freiburg\", \"wins\": 10, \"season\": \"1999-2000\"}, {\"season_start_year\": 1999, \"team\": \"SSV Ulm 1846\", \"wins\": 9, \"season\": \"1999-2000\"}, {\"season_start_year\": 1999, \"team\": \"SpVgg Unterhaching\", \"wins\": 12, \"season\": \"1999-2000\"}, {\"season_start_year\": 1999, \"team\": \"TSV 1860 M\\u00fcnchen\", \"wins\": 14, \"season\": \"1999-2000\"}, {\"season_start_year\": 1999, \"team\": \"VfB Stuttgart\", \"wins\": 14, \"season\": \"1999-2000\"}, {\"season_start_year\": 1999, \"team\": \"VfL Wolfsburg\", \"wins\": 12, \"season\": \"1999-2000\"}, {\"season_start_year\": 1999, \"team\": \"Werder Bremen\", \"wins\": 13, \"season\": \"1999-2000\"}, {\"season_start_year\": 2000, \"team\": \"1. FC Kaiserslautern\", \"wins\": 16, \"season\": \"2000-2001\"}, {\"season_start_year\": 2000, \"team\": \"1. FC K\\u00f6ln\", \"wins\": 12, \"season\": \"2000-2001\"}, {\"season_start_year\": 2000, \"team\": \"Bayer 04 Leverkusen\", \"wins\": 18, \"season\": \"2000-2001\"}, {\"season_start_year\": 2000, \"team\": \"Bayern M\\u00fcnchen\", \"wins\": 19, \"season\": \"2000-2001\"}, {\"season_start_year\": 2000, \"team\": \"Bor. M\\u00f6nchengladbach\", \"wins\": 1, \"season\": \"2000-2001\"}, {\"season_start_year\": 2000, \"team\": \"Borussia Dortmund\", \"wins\": 17, \"season\": \"2000-2001\"}, {\"season_start_year\": 2000, \"team\": \"Eintracht Frankfurt\", \"wins\": 10, \"season\": \"2000-2001\"}, {\"season_start_year\": 2000, \"team\": \"Energie Cottbus\", \"wins\": 13, \"season\": \"2000-2001\"}, {\"season_start_year\": 2000, \"team\": \"FC Schalke 04\", \"wins\": 18, \"season\": \"2000-2001\"}, {\"season_start_year\": 2000, \"team\": \"Hamburger SV\", \"wins\": 10, \"season\": \"2000-2001\"}, {\"season_start_year\": 2000, \"team\": \"Hansa Rostock\", \"wins\": 12, \"season\": \"2000-2001\"}, {\"season_start_year\": 2000, \"team\": \"Hertha BSC\", \"wins\": 18, \"season\": \"2000-2001\"}, {\"season_start_year\": 2000, \"team\": \"SC Freiburg\", \"wins\": 16, \"season\": \"2000-2001\"}, {\"season_start_year\": 2000, \"team\": \"SpVgg Unterhaching\", \"wins\": 8, \"season\": \"2000-2001\"}, {\"season_start_year\": 2000, \"team\": \"TSV 1860 M\\u00fcnchen\", \"wins\": 12, \"season\": \"2000-2001\"}, {\"season_start_year\": 2000, \"team\": \"VfB Stuttgart\", \"wins\": 9, \"season\": \"2000-2001\"}, {\"season_start_year\": 2000, \"team\": \"VfL Bochum\", \"wins\": 7, \"season\": \"2000-2001\"}, {\"season_start_year\": 2000, \"team\": \"VfL Wolfsburg\", \"wins\": 12, \"season\": \"2000-2001\"}, {\"season_start_year\": 2000, \"team\": \"Werder Bremen\", \"wins\": 15, \"season\": \"2000-2001\"}, {\"season_start_year\": 2001, \"team\": \"1. FC Kaiserslautern\", \"wins\": 16, \"season\": \"2001-2002\"}, {\"season_start_year\": 2001, \"team\": \"1. FC K\\u00f6ln\", \"wins\": 7, \"season\": \"2001-2002\"}, {\"season_start_year\": 2001, \"team\": \"1. FC N\\u00fcrnberg\", \"wins\": 10, \"season\": \"2001-2002\"}, {\"season_start_year\": 2001, \"team\": \"Bayer 04 Leverkusen\", \"wins\": 20, \"season\": \"2001-2002\"}, {\"season_start_year\": 2001, \"team\": \"Bayern M\\u00fcnchen\", \"wins\": 20, \"season\": \"2001-2002\"}, {\"season_start_year\": 2001, \"team\": \"Bor. M\\u00f6nchengladbach\", \"wins\": 8, \"season\": \"2001-2002\"}, {\"season_start_year\": 2001, \"team\": \"Borussia Dortmund\", \"wins\": 20, \"season\": \"2001-2002\"}, {\"season_start_year\": 2001, \"team\": \"Energie Cottbus\", \"wins\": 8, \"season\": \"2001-2002\"}, {\"season_start_year\": 2001, \"team\": \"FC Schalke 04\", \"wins\": 18, \"season\": \"2001-2002\"}, {\"season_start_year\": 2001, \"team\": \"FC St. Pauli\", \"wins\": 4, \"season\": \"2001-2002\"}, {\"season_start_year\": 2001, \"team\": \"Hamburger SV\", \"wins\": 10, \"season\": \"2001-2002\"}, {\"season_start_year\": 2001, \"team\": \"Hansa Rostock\", \"wins\": 9, \"season\": \"2001-2002\"}, {\"season_start_year\": 2001, \"team\": \"Hertha BSC\", \"wins\": 18, \"season\": \"2001-2002\"}, {\"season_start_year\": 2001, \"team\": \"SC Freiburg\", \"wins\": 6, \"season\": \"2001-2002\"}, {\"season_start_year\": 2001, \"team\": \"TSV 1860 M\\u00fcnchen\", \"wins\": 15, \"season\": \"2001-2002\"}, {\"season_start_year\": 2001, \"team\": \"VfB Stuttgart\", \"wins\": 13, \"season\": \"2001-2002\"}, {\"season_start_year\": 2001, \"team\": \"VfL Wolfsburg\", \"wins\": 13, \"season\": \"2001-2002\"}, {\"season_start_year\": 2001, \"team\": \"Werder Bremen\", \"wins\": 17, \"season\": \"2001-2002\"}, {\"season_start_year\": 2002, \"team\": \"1. FC Kaiserslautern\", \"wins\": 10, \"season\": \"2002-2003\"}, {\"season_start_year\": 2002, \"team\": \"1. FC N\\u00fcrnberg\", \"wins\": 8, \"season\": \"2002-2003\"}, {\"season_start_year\": 2002, \"team\": \"Arminia Bielefeld\", \"wins\": 8, \"season\": \"2002-2003\"}, {\"season_start_year\": 2002, \"team\": \"Bayer 04 Leverkusen\", \"wins\": 11, \"season\": \"2002-2003\"}, {\"season_start_year\": 2002, \"team\": \"Bayern M\\u00fcnchen\", \"wins\": 23, \"season\": \"2002-2003\"}, {\"season_start_year\": 2002, \"team\": \"Bor. M\\u00f6nchengladbach\", \"wins\": 11, \"season\": \"2002-2003\"}, {\"season_start_year\": 2002, \"team\": \"Borussia Dortmund\", \"wins\": 15, \"season\": \"2002-2003\"}, {\"season_start_year\": 2002, \"team\": \"Energie Cottbus\", \"wins\": 7, \"season\": \"2002-2003\"}, {\"season_start_year\": 2002, \"team\": \"FC Schalke 04\", \"wins\": 12, \"season\": \"2002-2003\"}, {\"season_start_year\": 2002, \"team\": \"Hamburger SV\", \"wins\": 15, \"season\": \"2002-2003\"}, {\"season_start_year\": 2002, \"team\": \"Hannover 96\", \"wins\": 12, \"season\": \"2002-2003\"}, {\"season_start_year\": 2002, \"team\": \"Hansa Rostock\", \"wins\": 11, \"season\": \"2002-2003\"}, {\"season_start_year\": 2002, \"team\": \"Hertha BSC\", \"wins\": 16, \"season\": \"2002-2003\"}, {\"season_start_year\": 2002, \"team\": \"TSV 1860 M\\u00fcnchen\", \"wins\": 12, \"season\": \"2002-2003\"}, {\"season_start_year\": 2002, \"team\": \"VfB Stuttgart\", \"wins\": 17, \"season\": \"2002-2003\"}, {\"season_start_year\": 2002, \"team\": \"VfL Bochum\", \"wins\": 12, \"season\": \"2002-2003\"}, {\"season_start_year\": 2002, \"team\": \"VfL Wolfsburg\", \"wins\": 13, \"season\": \"2002-2003\"}, {\"season_start_year\": 2002, \"team\": \"Werder Bremen\", \"wins\": 16, \"season\": \"2002-2003\"}, {\"season_start_year\": 2003, \"team\": \"1. FC Kaiserslautern\", \"wins\": 11, \"season\": \"2003-2004\"}, {\"season_start_year\": 2003, \"team\": \"1. FC K\\u00f6ln\", \"wins\": 6, \"season\": \"2003-2004\"}, {\"season_start_year\": 2003, \"team\": \"Bayer 04 Leverkusen\", \"wins\": 19, \"season\": \"2003-2004\"}, {\"season_start_year\": 2003, \"team\": \"Bayern M\\u00fcnchen\", \"wins\": 20, \"season\": \"2003-2004\"}, {\"season_start_year\": 2003, \"team\": \"Bor. M\\u00f6nchengladbach\", \"wins\": 10, \"season\": \"2003-2004\"}, {\"season_start_year\": 2003, \"team\": \"Borussia Dortmund\", \"wins\": 16, \"season\": \"2003-2004\"}, {\"season_start_year\": 2003, \"team\": \"Eintracht Frankfurt\", \"wins\": 9, \"season\": \"2003-2004\"}, {\"season_start_year\": 2003, \"team\": \"FC Schalke 04\", \"wins\": 13, \"season\": \"2003-2004\"}, {\"season_start_year\": 2003, \"team\": \"Hamburger SV\", \"wins\": 14, \"season\": \"2003-2004\"}, {\"season_start_year\": 2003, \"team\": \"Hannover 96\", \"wins\": 9, \"season\": \"2003-2004\"}, {\"season_start_year\": 2003, \"team\": \"Hansa Rostock\", \"wins\": 12, \"season\": \"2003-2004\"}, {\"season_start_year\": 2003, \"team\": \"Hertha BSC\", \"wins\": 9, \"season\": \"2003-2004\"}, {\"season_start_year\": 2003, \"team\": \"SC Freiburg\", \"wins\": 10, \"season\": \"2003-2004\"}, {\"season_start_year\": 2003, \"team\": \"TSV 1860 M\\u00fcnchen\", \"wins\": 8, \"season\": \"2003-2004\"}, {\"season_start_year\": 2003, \"team\": \"VfB Stuttgart\", \"wins\": 18, \"season\": \"2003-2004\"}, {\"season_start_year\": 2003, \"team\": \"VfL Bochum\", \"wins\": 15, \"season\": \"2003-2004\"}, {\"season_start_year\": 2003, \"team\": \"VfL Wolfsburg\", \"wins\": 13, \"season\": \"2003-2004\"}, {\"season_start_year\": 2003, \"team\": \"Werder Bremen\", \"wins\": 22, \"season\": \"2003-2004\"}, {\"season_start_year\": 2004, \"team\": \"1. FC Kaiserslautern\", \"wins\": 12, \"season\": \"2004-2005\"}, {\"season_start_year\": 2004, \"team\": \"1. FC N\\u00fcrnberg\", \"wins\": 10, \"season\": \"2004-2005\"}, {\"season_start_year\": 2004, \"team\": \"1. FSV Mainz 05\", \"wins\": 12, \"season\": \"2004-2005\"}, {\"season_start_year\": 2004, \"team\": \"Arminia Bielefeld\", \"wins\": 11, \"season\": \"2004-2005\"}, {\"season_start_year\": 2004, \"team\": \"Bayer 04 Leverkusen\", \"wins\": 16, \"season\": \"2004-2005\"}, {\"season_start_year\": 2004, \"team\": \"Bayern M\\u00fcnchen\", \"wins\": 24, \"season\": \"2004-2005\"}, {\"season_start_year\": 2004, \"team\": \"Bor. M\\u00f6nchengladbach\", \"wins\": 8, \"season\": \"2004-2005\"}, {\"season_start_year\": 2004, \"team\": \"Borussia Dortmund\", \"wins\": 15, \"season\": \"2004-2005\"}, {\"season_start_year\": 2004, \"team\": \"FC Schalke 04\", \"wins\": 20, \"season\": \"2004-2005\"}, {\"season_start_year\": 2004, \"team\": \"Hamburger SV\", \"wins\": 16, \"season\": \"2004-2005\"}, {\"season_start_year\": 2004, \"team\": \"Hannover 96\", \"wins\": 13, \"season\": \"2004-2005\"}, {\"season_start_year\": 2004, \"team\": \"Hansa Rostock\", \"wins\": 7, \"season\": \"2004-2005\"}, {\"season_start_year\": 2004, \"team\": \"Hertha BSC\", \"wins\": 15, \"season\": \"2004-2005\"}, {\"season_start_year\": 2004, \"team\": \"SC Freiburg\", \"wins\": 3, \"season\": \"2004-2005\"}, {\"season_start_year\": 2004, \"team\": \"VfB Stuttgart\", \"wins\": 17, \"season\": \"2004-2005\"}, {\"season_start_year\": 2004, \"team\": \"VfL Bochum\", \"wins\": 9, \"season\": \"2004-2005\"}, {\"season_start_year\": 2004, \"team\": \"VfL Wolfsburg\", \"wins\": 15, \"season\": \"2004-2005\"}, {\"season_start_year\": 2004, \"team\": \"Werder Bremen\", \"wins\": 18, \"season\": \"2004-2005\"}, {\"season_start_year\": 2005, \"team\": \"1. FC Kaiserslautern\", \"wins\": 8, \"season\": \"2005-2006\"}, {\"season_start_year\": 2005, \"team\": \"1. FC K\\u00f6ln\", \"wins\": 7, \"season\": \"2005-2006\"}, {\"season_start_year\": 2005, \"team\": \"1. FC N\\u00fcrnberg\", \"wins\": 12, \"season\": \"2005-2006\"}, {\"season_start_year\": 2005, \"team\": \"1. FSV Mainz 05\", \"wins\": 9, \"season\": \"2005-2006\"}, {\"season_start_year\": 2005, \"team\": \"Arminia Bielefeld\", \"wins\": 10, \"season\": \"2005-2006\"}, {\"season_start_year\": 2005, \"team\": \"Bayer 04 Leverkusen\", \"wins\": 14, \"season\": \"2005-2006\"}, {\"season_start_year\": 2005, \"team\": \"Bayern M\\u00fcnchen\", \"wins\": 22, \"season\": \"2005-2006\"}, {\"season_start_year\": 2005, \"team\": \"Bor. M\\u00f6nchengladbach\", \"wins\": 10, \"season\": \"2005-2006\"}, {\"season_start_year\": 2005, \"team\": \"Borussia Dortmund\", \"wins\": 11, \"season\": \"2005-2006\"}, {\"season_start_year\": 2005, \"team\": \"Eintracht Frankfurt\", \"wins\": 9, \"season\": \"2005-2006\"}, {\"season_start_year\": 2005, \"team\": \"FC Schalke 04\", \"wins\": 16, \"season\": \"2005-2006\"}, {\"season_start_year\": 2005, \"team\": \"Hamburger SV\", \"wins\": 21, \"season\": \"2005-2006\"}, {\"season_start_year\": 2005, \"team\": \"Hannover 96\", \"wins\": 7, \"season\": \"2005-2006\"}, {\"season_start_year\": 2005, \"team\": \"Hertha BSC\", \"wins\": 12, \"season\": \"2005-2006\"}, {\"season_start_year\": 2005, \"team\": \"MSV Duisburg\", \"wins\": 5, \"season\": \"2005-2006\"}, {\"season_start_year\": 2005, \"team\": \"VfB Stuttgart\", \"wins\": 9, \"season\": \"2005-2006\"}, {\"season_start_year\": 2005, \"team\": \"VfL Wolfsburg\", \"wins\": 7, \"season\": \"2005-2006\"}, {\"season_start_year\": 2005, \"team\": \"Werder Bremen\", \"wins\": 21, \"season\": \"2005-2006\"}, {\"season_start_year\": 2006, \"team\": \"1. FC N\\u00fcrnberg\", \"wins\": 11, \"season\": \"2006-2007\"}, {\"season_start_year\": 2006, \"team\": \"1. FSV Mainz 05\", \"wins\": 8, \"season\": \"2006-2007\"}, {\"season_start_year\": 2006, \"team\": \"Alemannia Aachen\", \"wins\": 9, \"season\": \"2006-2007\"}, {\"season_start_year\": 2006, \"team\": \"Arminia Bielefeld\", \"wins\": 11, \"season\": \"2006-2007\"}, {\"season_start_year\": 2006, \"team\": \"Bayer 04 Leverkusen\", \"wins\": 15, \"season\": \"2006-2007\"}, {\"season_start_year\": 2006, \"team\": \"Bayern M\\u00fcnchen\", \"wins\": 18, \"season\": \"2006-2007\"}, {\"season_start_year\": 2006, \"team\": \"Bor. M\\u00f6nchengladbach\", \"wins\": 6, \"season\": \"2006-2007\"}, {\"season_start_year\": 2006, \"team\": \"Borussia Dortmund\", \"wins\": 12, \"season\": \"2006-2007\"}, {\"season_start_year\": 2006, \"team\": \"Eintracht Frankfurt\", \"wins\": 9, \"season\": \"2006-2007\"}, {\"season_start_year\": 2006, \"team\": \"Energie Cottbus\", \"wins\": 11, \"season\": \"2006-2007\"}, {\"season_start_year\": 2006, \"team\": \"FC Schalke 04\", \"wins\": 21, \"season\": \"2006-2007\"}, {\"season_start_year\": 2006, \"team\": \"Hamburger SV\", \"wins\": 10, \"season\": \"2006-2007\"}, {\"season_start_year\": 2006, \"team\": \"Hannover 96\", \"wins\": 12, \"season\": \"2006-2007\"}, {\"season_start_year\": 2006, \"team\": \"Hertha BSC\", \"wins\": 12, \"season\": \"2006-2007\"}, {\"season_start_year\": 2006, \"team\": \"VfB Stuttgart\", \"wins\": 21, \"season\": \"2006-2007\"}, {\"season_start_year\": 2006, \"team\": \"VfL Bochum\", \"wins\": 13, \"season\": \"2006-2007\"}, {\"season_start_year\": 2006, \"team\": \"VfL Wolfsburg\", \"wins\": 8, \"season\": \"2006-2007\"}, {\"season_start_year\": 2006, \"team\": \"Werder Bremen\", \"wins\": 20, \"season\": \"2006-2007\"}, {\"season_start_year\": 2007, \"team\": \"1. FC N\\u00fcrnberg\", \"wins\": 7, \"season\": \"2007-2008\"}, {\"season_start_year\": 2007, \"team\": \"Arminia Bielefeld\", \"wins\": 8, \"season\": \"2007-2008\"}, {\"season_start_year\": 2007, \"team\": \"Bayer 04 Leverkusen\", \"wins\": 15, \"season\": \"2007-2008\"}, {\"season_start_year\": 2007, \"team\": \"Bayern M\\u00fcnchen\", \"wins\": 22, \"season\": \"2007-2008\"}, {\"season_start_year\": 2007, \"team\": \"Borussia Dortmund\", \"wins\": 10, \"season\": \"2007-2008\"}, {\"season_start_year\": 2007, \"team\": \"Eintracht Frankfurt\", \"wins\": 12, \"season\": \"2007-2008\"}, {\"season_start_year\": 2007, \"team\": \"Energie Cottbus\", \"wins\": 9, \"season\": \"2007-2008\"}, {\"season_start_year\": 2007, \"team\": \"FC Schalke 04\", \"wins\": 18, \"season\": \"2007-2008\"}, {\"season_start_year\": 2007, \"team\": \"Hamburger SV\", \"wins\": 14, \"season\": \"2007-2008\"}, {\"season_start_year\": 2007, \"team\": \"Hannover 96\", \"wins\": 13, \"season\": \"2007-2008\"}, {\"season_start_year\": 2007, \"team\": \"Hansa Rostock\", \"wins\": 8, \"season\": \"2007-2008\"}, {\"season_start_year\": 2007, \"team\": \"Hertha BSC\", \"wins\": 12, \"season\": \"2007-2008\"}, {\"season_start_year\": 2007, \"team\": \"Karlsruher SC\", \"wins\": 11, \"season\": \"2007-2008\"}, {\"season_start_year\": 2007, \"team\": \"MSV Duisburg\", \"wins\": 8, \"season\": \"2007-2008\"}, {\"season_start_year\": 2007, \"team\": \"VfB Stuttgart\", \"wins\": 16, \"season\": \"2007-2008\"}, {\"season_start_year\": 2007, \"team\": \"VfL Bochum\", \"wins\": 10, \"season\": \"2007-2008\"}, {\"season_start_year\": 2007, \"team\": \"VfL Wolfsburg\", \"wins\": 15, \"season\": \"2007-2008\"}, {\"season_start_year\": 2007, \"team\": \"Werder Bremen\", \"wins\": 20, \"season\": \"2007-2008\"}, {\"season_start_year\": 2008, \"team\": \"1. FC K\\u00f6ln\", \"wins\": 11, \"season\": \"2008-2009\"}, {\"season_start_year\": 2008, \"team\": \"Arminia Bielefeld\", \"wins\": 4, \"season\": \"2008-2009\"}, {\"season_start_year\": 2008, \"team\": \"Bayer 04 Leverkusen\", \"wins\": 14, \"season\": \"2008-2009\"}, {\"season_start_year\": 2008, \"team\": \"Bayern M\\u00fcnchen\", \"wins\": 20, \"season\": \"2008-2009\"}, {\"season_start_year\": 2008, \"team\": \"Bor. M\\u00f6nchengladbach\", \"wins\": 8, \"season\": \"2008-2009\"}, {\"season_start_year\": 2008, \"team\": \"Borussia Dortmund\", \"wins\": 15, \"season\": \"2008-2009\"}, {\"season_start_year\": 2008, \"team\": \"Eintracht Frankfurt\", \"wins\": 8, \"season\": \"2008-2009\"}, {\"season_start_year\": 2008, \"team\": \"Energie Cottbus\", \"wins\": 8, \"season\": \"2008-2009\"}, {\"season_start_year\": 2008, \"team\": \"FC Schalke 04\", \"wins\": 14, \"season\": \"2008-2009\"}, {\"season_start_year\": 2008, \"team\": \"Hamburger SV\", \"wins\": 19, \"season\": \"2008-2009\"}, {\"season_start_year\": 2008, \"team\": \"Hannover 96\", \"wins\": 10, \"season\": \"2008-2009\"}, {\"season_start_year\": 2008, \"team\": \"Hertha BSC\", \"wins\": 19, \"season\": \"2008-2009\"}, {\"season_start_year\": 2008, \"team\": \"Karlsruher SC\", \"wins\": 8, \"season\": \"2008-2009\"}, {\"season_start_year\": 2008, \"team\": \"TSG 1899 Hoffenheim\", \"wins\": 15, \"season\": \"2008-2009\"}, {\"season_start_year\": 2008, \"team\": \"VfB Stuttgart\", \"wins\": 19, \"season\": \"2008-2009\"}, {\"season_start_year\": 2008, \"team\": \"VfL Bochum\", \"wins\": 7, \"season\": \"2008-2009\"}, {\"season_start_year\": 2008, \"team\": \"VfL Wolfsburg\", \"wins\": 21, \"season\": \"2008-2009\"}, {\"season_start_year\": 2008, \"team\": \"Werder Bremen\", \"wins\": 12, \"season\": \"2008-2009\"}, {\"season_start_year\": 2009, \"team\": \"1. FC K\\u00f6ln\", \"wins\": 9, \"season\": \"2009-2010\"}, {\"season_start_year\": 2009, \"team\": \"1. FC N\\u00fcrnberg\", \"wins\": 8, \"season\": \"2009-2010\"}, {\"season_start_year\": 2009, \"team\": \"1. FSV Mainz 05\", \"wins\": 12, \"season\": \"2009-2010\"}, {\"season_start_year\": 2009, \"team\": \"Bayer 04 Leverkusen\", \"wins\": 15, \"season\": \"2009-2010\"}, {\"season_start_year\": 2009, \"team\": \"Bayern M\\u00fcnchen\", \"wins\": 20, \"season\": \"2009-2010\"}, {\"season_start_year\": 2009, \"team\": \"Bor. M\\u00f6nchengladbach\", \"wins\": 10, \"season\": \"2009-2010\"}, {\"season_start_year\": 2009, \"team\": \"Borussia Dortmund\", \"wins\": 16, \"season\": \"2009-2010\"}, {\"season_start_year\": 2009, \"team\": \"Eintracht Frankfurt\", \"wins\": 12, \"season\": \"2009-2010\"}, {\"season_start_year\": 2009, \"team\": \"FC Schalke 04\", \"wins\": 19, \"season\": \"2009-2010\"}, {\"season_start_year\": 2009, \"team\": \"Hamburger SV\", \"wins\": 13, \"season\": \"2009-2010\"}, {\"season_start_year\": 2009, \"team\": \"Hannover 96\", \"wins\": 9, \"season\": \"2009-2010\"}, {\"season_start_year\": 2009, \"team\": \"Hertha BSC\", \"wins\": 5, \"season\": \"2009-2010\"}, {\"season_start_year\": 2009, \"team\": \"SC Freiburg\", \"wins\": 9, \"season\": \"2009-2010\"}, {\"season_start_year\": 2009, \"team\": \"TSG 1899 Hoffenheim\", \"wins\": 11, \"season\": \"2009-2010\"}, {\"season_start_year\": 2009, \"team\": \"VfB Stuttgart\", \"wins\": 15, \"season\": \"2009-2010\"}, {\"season_start_year\": 2009, \"team\": \"VfL Bochum\", \"wins\": 6, \"season\": \"2009-2010\"}, {\"season_start_year\": 2009, \"team\": \"VfL Wolfsburg\", \"wins\": 14, \"season\": \"2009-2010\"}, {\"season_start_year\": 2009, \"team\": \"Werder Bremen\", \"wins\": 17, \"season\": \"2009-2010\"}, {\"season_start_year\": 2010, \"team\": \"1. FC Kaiserslautern\", \"wins\": 13, \"season\": \"2010-2011\"}, {\"season_start_year\": 2010, \"team\": \"1. FC K\\u00f6ln\", \"wins\": 13, \"season\": \"2010-2011\"}, {\"season_start_year\": 2010, \"team\": \"1. FC N\\u00fcrnberg\", \"wins\": 13, \"season\": \"2010-2011\"}, {\"season_start_year\": 2010, \"team\": \"1. FSV Mainz 05\", \"wins\": 18, \"season\": \"2010-2011\"}, {\"season_start_year\": 2010, \"team\": \"Bayer 04 Leverkusen\", \"wins\": 20, \"season\": \"2010-2011\"}, {\"season_start_year\": 2010, \"team\": \"Bayern M\\u00fcnchen\", \"wins\": 19, \"season\": \"2010-2011\"}, {\"season_start_year\": 2010, \"team\": \"Bor. M\\u00f6nchengladbach\", \"wins\": 10, \"season\": \"2010-2011\"}, {\"season_start_year\": 2010, \"team\": \"Borussia Dortmund\", \"wins\": 23, \"season\": \"2010-2011\"}, {\"season_start_year\": 2010, \"team\": \"Eintracht Frankfurt\", \"wins\": 9, \"season\": \"2010-2011\"}, {\"season_start_year\": 2010, \"team\": \"FC Schalke 04\", \"wins\": 11, \"season\": \"2010-2011\"}, {\"season_start_year\": 2010, \"team\": \"FC St. Pauli\", \"wins\": 8, \"season\": \"2010-2011\"}, {\"season_start_year\": 2010, \"team\": \"Hamburger SV\", \"wins\": 12, \"season\": \"2010-2011\"}, {\"season_start_year\": 2010, \"team\": \"Hannover 96\", \"wins\": 19, \"season\": \"2010-2011\"}, {\"season_start_year\": 2010, \"team\": \"SC Freiburg\", \"wins\": 13, \"season\": \"2010-2011\"}, {\"season_start_year\": 2010, \"team\": \"TSG 1899 Hoffenheim\", \"wins\": 11, \"season\": \"2010-2011\"}, {\"season_start_year\": 2010, \"team\": \"VfB Stuttgart\", \"wins\": 12, \"season\": \"2010-2011\"}, {\"season_start_year\": 2010, \"team\": \"VfL Wolfsburg\", \"wins\": 9, \"season\": \"2010-2011\"}, {\"season_start_year\": 2010, \"team\": \"Werder Bremen\", \"wins\": 10, \"season\": \"2010-2011\"}, {\"season_start_year\": 2011, \"team\": \"1. FC Kaiserslautern\", \"wins\": 4, \"season\": \"2011-2012\"}, {\"season_start_year\": 2011, \"team\": \"1. FC K\\u00f6ln\", \"wins\": 8, \"season\": \"2011-2012\"}, {\"season_start_year\": 2011, \"team\": \"1. FC N\\u00fcrnberg\", \"wins\": 12, \"season\": \"2011-2012\"}, {\"season_start_year\": 2011, \"team\": \"1. FSV Mainz 05\", \"wins\": 9, \"season\": \"2011-2012\"}, {\"season_start_year\": 2011, \"team\": \"Bayer 04 Leverkusen\", \"wins\": 15, \"season\": \"2011-2012\"}, {\"season_start_year\": 2011, \"team\": \"Bayern M\\u00fcnchen\", \"wins\": 23, \"season\": \"2011-2012\"}, {\"season_start_year\": 2011, \"team\": \"Bor. M\\u00f6nchengladbach\", \"wins\": 17, \"season\": \"2011-2012\"}, {\"season_start_year\": 2011, \"team\": \"Borussia Dortmund\", \"wins\": 25, \"season\": \"2011-2012\"}, {\"season_start_year\": 2011, \"team\": \"FC Augsburg\", \"wins\": 8, \"season\": \"2011-2012\"}, {\"season_start_year\": 2011, \"team\": \"FC Schalke 04\", \"wins\": 20, \"season\": \"2011-2012\"}, {\"season_start_year\": 2011, \"team\": \"Hamburger SV\", \"wins\": 8, \"season\": \"2011-2012\"}, {\"season_start_year\": 2011, \"team\": \"Hannover 96\", \"wins\": 12, \"season\": \"2011-2012\"}, {\"season_start_year\": 2011, \"team\": \"Hertha BSC\", \"wins\": 7, \"season\": \"2011-2012\"}, {\"season_start_year\": 2011, \"team\": \"SC Freiburg\", \"wins\": 10, \"season\": \"2011-2012\"}, {\"season_start_year\": 2011, \"team\": \"TSG 1899 Hoffenheim\", \"wins\": 10, \"season\": \"2011-2012\"}, {\"season_start_year\": 2011, \"team\": \"VfB Stuttgart\", \"wins\": 15, \"season\": \"2011-2012\"}, {\"season_start_year\": 2011, \"team\": \"VfL Wolfsburg\", \"wins\": 13, \"season\": \"2011-2012\"}, {\"season_start_year\": 2011, \"team\": \"Werder Bremen\", \"wins\": 11, \"season\": \"2011-2012\"}, {\"season_start_year\": 2012, \"team\": \"1. FC N\\u00fcrnberg\", \"wins\": 11, \"season\": \"2012-2013\"}, {\"season_start_year\": 2012, \"team\": \"1. FSV Mainz 05\", \"wins\": 10, \"season\": \"2012-2013\"}, {\"season_start_year\": 2012, \"team\": \"Bayer 04 Leverkusen\", \"wins\": 19, \"season\": \"2012-2013\"}, {\"season_start_year\": 2012, \"team\": \"Bayern M\\u00fcnchen\", \"wins\": 29, \"season\": \"2012-2013\"}, {\"season_start_year\": 2012, \"team\": \"Bor. M\\u00f6nchengladbach\", \"wins\": 12, \"season\": \"2012-2013\"}, {\"season_start_year\": 2012, \"team\": \"Borussia Dortmund\", \"wins\": 19, \"season\": \"2012-2013\"}, {\"season_start_year\": 2012, \"team\": \"Eintracht Frankfurt\", \"wins\": 14, \"season\": \"2012-2013\"}, {\"season_start_year\": 2012, \"team\": \"FC Augsburg\", \"wins\": 8, \"season\": \"2012-2013\"}, {\"season_start_year\": 2012, \"team\": \"FC Schalke 04\", \"wins\": 16, \"season\": \"2012-2013\"}, {\"season_start_year\": 2012, \"team\": \"Fortuna D\\u00fcsseldorf\", \"wins\": 7, \"season\": \"2012-2013\"}, {\"season_start_year\": 2012, \"team\": \"Hamburger SV\", \"wins\": 14, \"season\": \"2012-2013\"}, {\"season_start_year\": 2012, \"team\": \"Hannover 96\", \"wins\": 13, \"season\": \"2012-2013\"}, {\"season_start_year\": 2012, \"team\": \"SC Freiburg\", \"wins\": 14, \"season\": \"2012-2013\"}, {\"season_start_year\": 2012, \"team\": \"SpVgg Greuther F\\u00fcrth\", \"wins\": 4, \"season\": \"2012-2013\"}, {\"season_start_year\": 2012, \"team\": \"TSG 1899 Hoffenheim\", \"wins\": 8, \"season\": \"2012-2013\"}, {\"season_start_year\": 2012, \"team\": \"VfB Stuttgart\", \"wins\": 12, \"season\": \"2012-2013\"}, {\"season_start_year\": 2012, \"team\": \"VfL Wolfsburg\", \"wins\": 10, \"season\": \"2012-2013\"}, {\"season_start_year\": 2012, \"team\": \"Werder Bremen\", \"wins\": 8, \"season\": \"2012-2013\"}, {\"season_start_year\": 2013, \"team\": \"1. FC N\\u00fcrnberg\", \"wins\": 5, \"season\": \"2013-2014\"}, {\"season_start_year\": 2013, \"team\": \"1. FSV Mainz 05\", \"wins\": 16, \"season\": \"2013-2014\"}, {\"season_start_year\": 2013, \"team\": \"Bayer 04 Leverkusen\", \"wins\": 19, \"season\": \"2013-2014\"}, {\"season_start_year\": 2013, \"team\": \"Bayern M\\u00fcnchen\", \"wins\": 29, \"season\": \"2013-2014\"}, {\"season_start_year\": 2013, \"team\": \"Bor. M\\u00f6nchengladbach\", \"wins\": 16, \"season\": \"2013-2014\"}, {\"season_start_year\": 2013, \"team\": \"Borussia Dortmund\", \"wins\": 22, \"season\": \"2013-2014\"}, {\"season_start_year\": 2013, \"team\": \"Eintracht Braunschweig\", \"wins\": 6, \"season\": \"2013-2014\"}, {\"season_start_year\": 2013, \"team\": \"Eintracht Frankfurt\", \"wins\": 9, \"season\": \"2013-2014\"}, {\"season_start_year\": 2013, \"team\": \"FC Augsburg\", \"wins\": 15, \"season\": \"2013-2014\"}, {\"season_start_year\": 2013, \"team\": \"FC Schalke 04\", \"wins\": 19, \"season\": \"2013-2014\"}, {\"season_start_year\": 2013, \"team\": \"Hamburger SV\", \"wins\": 7, \"season\": \"2013-2014\"}, {\"season_start_year\": 2013, \"team\": \"Hannover 96\", \"wins\": 12, \"season\": \"2013-2014\"}, {\"season_start_year\": 2013, \"team\": \"Hertha BSC\", \"wins\": 11, \"season\": \"2013-2014\"}, {\"season_start_year\": 2013, \"team\": \"SC Freiburg\", \"wins\": 9, \"season\": \"2013-2014\"}, {\"season_start_year\": 2013, \"team\": \"TSG 1899 Hoffenheim\", \"wins\": 11, \"season\": \"2013-2014\"}, {\"season_start_year\": 2013, \"team\": \"VfB Stuttgart\", \"wins\": 8, \"season\": \"2013-2014\"}, {\"season_start_year\": 2013, \"team\": \"VfL Wolfsburg\", \"wins\": 18, \"season\": \"2013-2014\"}, {\"season_start_year\": 2013, \"team\": \"Werder Bremen\", \"wins\": 10, \"season\": \"2013-2014\"}, {\"season_start_year\": 2014, \"team\": \"1. FC K\\u00f6ln\", \"wins\": 9, \"season\": \"2014-2015\"}, {\"season_start_year\": 2014, \"team\": \"1. FSV Mainz 05\", \"wins\": 9, \"season\": \"2014-2015\"}, {\"season_start_year\": 2014, \"team\": \"Bayer 04 Leverkusen\", \"wins\": 17, \"season\": \"2014-2015\"}, {\"season_start_year\": 2014, \"team\": \"Bayern M\\u00fcnchen\", \"wins\": 25, \"season\": \"2014-2015\"}, {\"season_start_year\": 2014, \"team\": \"Bor. M\\u00f6nchengladbach\", \"wins\": 19, \"season\": \"2014-2015\"}, {\"season_start_year\": 2014, \"team\": \"Borussia Dortmund\", \"wins\": 13, \"season\": \"2014-2015\"}, {\"season_start_year\": 2014, \"team\": \"Eintracht Frankfurt\", \"wins\": 11, \"season\": \"2014-2015\"}, {\"season_start_year\": 2014, \"team\": \"FC Augsburg\", \"wins\": 15, \"season\": \"2014-2015\"}, {\"season_start_year\": 2014, \"team\": \"FC Schalke 04\", \"wins\": 13, \"season\": \"2014-2015\"}, {\"season_start_year\": 2014, \"team\": \"Hamburger SV\", \"wins\": 9, \"season\": \"2014-2015\"}, {\"season_start_year\": 2014, \"team\": \"Hannover 96\", \"wins\": 9, \"season\": \"2014-2015\"}, {\"season_start_year\": 2014, \"team\": \"Hertha BSC\", \"wins\": 9, \"season\": \"2014-2015\"}, {\"season_start_year\": 2014, \"team\": \"SC Freiburg\", \"wins\": 7, \"season\": \"2014-2015\"}, {\"season_start_year\": 2014, \"team\": \"SC Paderborn 07\", \"wins\": 7, \"season\": \"2014-2015\"}, {\"season_start_year\": 2014, \"team\": \"TSG 1899 Hoffenheim\", \"wins\": 12, \"season\": \"2014-2015\"}, {\"season_start_year\": 2014, \"team\": \"VfB Stuttgart\", \"wins\": 9, \"season\": \"2014-2015\"}, {\"season_start_year\": 2014, \"team\": \"VfL Wolfsburg\", \"wins\": 20, \"season\": \"2014-2015\"}, {\"season_start_year\": 2014, \"team\": \"Werder Bremen\", \"wins\": 11, \"season\": \"2014-2015\"}, {\"season_start_year\": 2015, \"team\": \"1. FC K\\u00f6ln\", \"wins\": 10, \"season\": \"2015-2016\"}, {\"season_start_year\": 2015, \"team\": \"1. FSV Mainz 05\", \"wins\": 14, \"season\": \"2015-2016\"}, {\"season_start_year\": 2015, \"team\": \"Bayer 04 Leverkusen\", \"wins\": 18, \"season\": \"2015-2016\"}, {\"season_start_year\": 2015, \"team\": \"Bayern M\\u00fcnchen\", \"wins\": 28, \"season\": \"2015-2016\"}, {\"season_start_year\": 2015, \"team\": \"Bor. M\\u00f6nchengladbach\", \"wins\": 17, \"season\": \"2015-2016\"}, {\"season_start_year\": 2015, \"team\": \"Borussia Dortmund\", \"wins\": 24, \"season\": \"2015-2016\"}, {\"season_start_year\": 2015, \"team\": \"Eintracht Frankfurt\", \"wins\": 9, \"season\": \"2015-2016\"}, {\"season_start_year\": 2015, \"team\": \"FC Augsburg\", \"wins\": 9, \"season\": \"2015-2016\"}, {\"season_start_year\": 2015, \"team\": \"FC Ingolstadt 04\", \"wins\": 10, \"season\": \"2015-2016\"}, {\"season_start_year\": 2015, \"team\": \"FC Schalke 04\", \"wins\": 15, \"season\": \"2015-2016\"}, {\"season_start_year\": 2015, \"team\": \"Hamburger SV\", \"wins\": 11, \"season\": \"2015-2016\"}, {\"season_start_year\": 2015, \"team\": \"Hannover 96\", \"wins\": 7, \"season\": \"2015-2016\"}, {\"season_start_year\": 2015, \"team\": \"Hertha BSC\", \"wins\": 14, \"season\": \"2015-2016\"}, {\"season_start_year\": 2015, \"team\": \"SV Darmstadt 98\", \"wins\": 9, \"season\": \"2015-2016\"}, {\"season_start_year\": 2015, \"team\": \"TSG 1899 Hoffenheim\", \"wins\": 9, \"season\": \"2015-2016\"}, {\"season_start_year\": 2015, \"team\": \"VfB Stuttgart\", \"wins\": 9, \"season\": \"2015-2016\"}, {\"season_start_year\": 2015, \"team\": \"VfL Wolfsburg\", \"wins\": 12, \"season\": \"2015-2016\"}, {\"season_start_year\": 2015, \"team\": \"Werder Bremen\", \"wins\": 10, \"season\": \"2015-2016\"}, {\"season_start_year\": 2016, \"team\": \"1. FC K\\u00f6ln\", \"wins\": 12, \"season\": \"2016-2017\"}, {\"season_start_year\": 2016, \"team\": \"1. FSV Mainz 05\", \"wins\": 10, \"season\": \"2016-2017\"}, {\"season_start_year\": 2016, \"team\": \"Bayer 04 Leverkusen\", \"wins\": 11, \"season\": \"2016-2017\"}, {\"season_start_year\": 2016, \"team\": \"Bayern M\\u00fcnchen\", \"wins\": 25, \"season\": \"2016-2017\"}, {\"season_start_year\": 2016, \"team\": \"Bor. M\\u00f6nchengladbach\", \"wins\": 12, \"season\": \"2016-2017\"}, {\"season_start_year\": 2016, \"team\": \"Borussia Dortmund\", \"wins\": 18, \"season\": \"2016-2017\"}, {\"season_start_year\": 2016, \"team\": \"Eintracht Frankfurt\", \"wins\": 11, \"season\": \"2016-2017\"}, {\"season_start_year\": 2016, \"team\": \"FC Augsburg\", \"wins\": 9, \"season\": \"2016-2017\"}, {\"season_start_year\": 2016, \"team\": \"FC Ingolstadt 04\", \"wins\": 8, \"season\": \"2016-2017\"}, {\"season_start_year\": 2016, \"team\": \"FC Schalke 04\", \"wins\": 11, \"season\": \"2016-2017\"}, {\"season_start_year\": 2016, \"team\": \"Hamburger SV\", \"wins\": 10, \"season\": \"2016-2017\"}, {\"season_start_year\": 2016, \"team\": \"Hertha BSC\", \"wins\": 15, \"season\": \"2016-2017\"}, {\"season_start_year\": 2016, \"team\": \"RB Leipzig\", \"wins\": 20, \"season\": \"2016-2017\"}, {\"season_start_year\": 2016, \"team\": \"SC Freiburg\", \"wins\": 14, \"season\": \"2016-2017\"}, {\"season_start_year\": 2016, \"team\": \"SV Darmstadt 98\", \"wins\": 7, \"season\": \"2016-2017\"}, {\"season_start_year\": 2016, \"team\": \"TSG 1899 Hoffenheim\", \"wins\": 16, \"season\": \"2016-2017\"}, {\"season_start_year\": 2016, \"team\": \"VfL Wolfsburg\", \"wins\": 10, \"season\": \"2016-2017\"}, {\"season_start_year\": 2016, \"team\": \"Werder Bremen\", \"wins\": 13, \"season\": \"2016-2017\"}, {\"season_start_year\": 2017, \"team\": \"1. FC K\\u00f6ln\", \"wins\": 5, \"season\": \"2017-2018\"}, {\"season_start_year\": 2017, \"team\": \"1. FSV Mainz 05\", \"wins\": 9, \"season\": \"2017-2018\"}, {\"season_start_year\": 2017, \"team\": \"Bayer 04 Leverkusen\", \"wins\": 15, \"season\": \"2017-2018\"}, {\"season_start_year\": 2017, \"team\": \"Bayern M\\u00fcnchen\", \"wins\": 27, \"season\": \"2017-2018\"}, {\"season_start_year\": 2017, \"team\": \"Bor. M\\u00f6nchengladbach\", \"wins\": 13, \"season\": \"2017-2018\"}, {\"season_start_year\": 2017, \"team\": \"Borussia Dortmund\", \"wins\": 15, \"season\": \"2017-2018\"}, {\"season_start_year\": 2017, \"team\": \"Eintracht Frankfurt\", \"wins\": 14, \"season\": \"2017-2018\"}, {\"season_start_year\": 2017, \"team\": \"FC Augsburg\", \"wins\": 10, \"season\": \"2017-2018\"}, {\"season_start_year\": 2017, \"team\": \"FC Schalke 04\", \"wins\": 18, \"season\": \"2017-2018\"}, {\"season_start_year\": 2017, \"team\": \"Hamburger SV\", \"wins\": 8, \"season\": \"2017-2018\"}, {\"season_start_year\": 2017, \"team\": \"Hannover 96\", \"wins\": 10, \"season\": \"2017-2018\"}, {\"season_start_year\": 2017, \"team\": \"Hertha BSC\", \"wins\": 10, \"season\": \"2017-2018\"}, {\"season_start_year\": 2017, \"team\": \"RB Leipzig\", \"wins\": 15, \"season\": \"2017-2018\"}, {\"season_start_year\": 2017, \"team\": \"SC Freiburg\", \"wins\": 8, \"season\": \"2017-2018\"}, {\"season_start_year\": 2017, \"team\": \"TSG 1899 Hoffenheim\", \"wins\": 15, \"season\": \"2017-2018\"}, {\"season_start_year\": 2017, \"team\": \"VfB Stuttgart\", \"wins\": 15, \"season\": \"2017-2018\"}, {\"season_start_year\": 2017, \"team\": \"VfL Wolfsburg\", \"wins\": 6, \"season\": \"2017-2018\"}, {\"season_start_year\": 2017, \"team\": \"Werder Bremen\", \"wins\": 10, \"season\": \"2017-2018\"}, {\"season_start_year\": 2018, \"team\": \"1. FC N\\u00fcrnberg\", \"wins\": 3, \"season\": \"2018-2019\"}, {\"season_start_year\": 2018, \"team\": \"1. FSV Mainz 05\", \"wins\": 12, \"season\": \"2018-2019\"}, {\"season_start_year\": 2018, \"team\": \"1899 Hoffenheim\", \"wins\": 6, \"season\": \"2018-2019\"}, {\"season_start_year\": 2018, \"team\": \"Bayer 04 Leverkusen\", \"wins\": 18, \"season\": \"2018-2019\"}, {\"season_start_year\": 2018, \"team\": \"Bayern M\\u00fcnchen\", \"wins\": 24, \"season\": \"2018-2019\"}, {\"season_start_year\": 2018, \"team\": \"Bor. M\\u00f6nchengladbach\", \"wins\": 16, \"season\": \"2018-2019\"}, {\"season_start_year\": 2018, \"team\": \"Borussia Dortmund\", \"wins\": 23, \"season\": \"2018-2019\"}, {\"season_start_year\": 2018, \"team\": \"Eintracht Frankfurt\", \"wins\": 15, \"season\": \"2018-2019\"}, {\"season_start_year\": 2018, \"team\": \"FC Augsburg\", \"wins\": 8, \"season\": \"2018-2019\"}, {\"season_start_year\": 2018, \"team\": \"FC Schalke 04\", \"wins\": 8, \"season\": \"2018-2019\"}, {\"season_start_year\": 2018, \"team\": \"Fortuna D\\u00fcsseldorf\", \"wins\": 13, \"season\": \"2018-2019\"}, {\"season_start_year\": 2018, \"team\": \"Hannover 96\", \"wins\": 5, \"season\": \"2018-2019\"}, {\"season_start_year\": 2018, \"team\": \"Hertha BSC\", \"wins\": 11, \"season\": \"2018-2019\"}, {\"season_start_year\": 2018, \"team\": \"RB Leipzig\", \"wins\": 19, \"season\": \"2018-2019\"}, {\"season_start_year\": 2018, \"team\": \"SC Freiburg\", \"wins\": 8, \"season\": \"2018-2019\"}, {\"season_start_year\": 2018, \"team\": \"TSG 1899 Hoffenheim\", \"wins\": 7, \"season\": \"2018-2019\"}, {\"season_start_year\": 2018, \"team\": \"VfB Stuttgart\", \"wins\": 7, \"season\": \"2018-2019\"}, {\"season_start_year\": 2018, \"team\": \"VfL Wolfsburg\", \"wins\": 16, \"season\": \"2018-2019\"}, {\"season_start_year\": 2018, \"team\": \"Werder Bremen\", \"wins\": 14, \"season\": \"2018-2019\"}, {\"season_start_year\": 2019, \"team\": \"1. FC K\\u00f6ln\", \"wins\": 10, \"season\": \"2019-2020\"}, {\"season_start_year\": 2019, \"team\": \"1. FC Union Berlin\", \"wins\": 12, \"season\": \"2019-2020\"}, {\"season_start_year\": 2019, \"team\": \"1. FSV Mainz 05\", \"wins\": 11, \"season\": \"2019-2020\"}, {\"season_start_year\": 2019, \"team\": \"Bayer 04 Leverkusen\", \"wins\": 19, \"season\": \"2019-2020\"}, {\"season_start_year\": 2019, \"team\": \"Bayern M\\u00fcnchen\", \"wins\": 26, \"season\": \"2019-2020\"}, {\"season_start_year\": 2019, \"team\": \"Bor. M\\u00f6nchengladbach\", \"wins\": 20, \"season\": \"2019-2020\"}, {\"season_start_year\": 2019, \"team\": \"Borussia Dortmund\", \"wins\": 21, \"season\": \"2019-2020\"}, {\"season_start_year\": 2019, \"team\": \"Eintracht Frankfurt\", \"wins\": 13, \"season\": \"2019-2020\"}, {\"season_start_year\": 2019, \"team\": \"FC Augsburg\", \"wins\": 9, \"season\": \"2019-2020\"}, {\"season_start_year\": 2019, \"team\": \"FC Schalke 04\", \"wins\": 9, \"season\": \"2019-2020\"}, {\"season_start_year\": 2019, \"team\": \"Fortuna D\\u00fcsseldorf\", \"wins\": 6, \"season\": \"2019-2020\"}, {\"season_start_year\": 2019, \"team\": \"Hertha BSC\", \"wins\": 11, \"season\": \"2019-2020\"}, {\"season_start_year\": 2019, \"team\": \"RB Leipzig\", \"wins\": 18, \"season\": \"2019-2020\"}, {\"season_start_year\": 2019, \"team\": \"SC Freiburg\", \"wins\": 13, \"season\": \"2019-2020\"}, {\"season_start_year\": 2019, \"team\": \"SC Paderborn 07\", \"wins\": 4, \"season\": \"2019-2020\"}, {\"season_start_year\": 2019, \"team\": \"TSG 1899 Hoffenheim\", \"wins\": 15, \"season\": \"2019-2020\"}, {\"season_start_year\": 2019, \"team\": \"VfL Wolfsburg\", \"wins\": 13, \"season\": \"2019-2020\"}, {\"season_start_year\": 2019, \"team\": \"Werder Bremen\", \"wins\": 8, \"season\": \"2019-2020\"}, {\"season_start_year\": 2020, \"team\": \"1. FC K\\u00f6ln\", \"wins\": 8, \"season\": \"2020-2021\"}, {\"season_start_year\": 2020, \"team\": \"1. FC Union Berlin\", \"wins\": 12, \"season\": \"2020-2021\"}, {\"season_start_year\": 2020, \"team\": \"1. FSV Mainz 05\", \"wins\": 10, \"season\": \"2020-2021\"}, {\"season_start_year\": 2020, \"team\": \"Arminia Bielefeld\", \"wins\": 9, \"season\": \"2020-2021\"}, {\"season_start_year\": 2020, \"team\": \"Bayer 04 Leverkusen\", \"wins\": 14, \"season\": \"2020-2021\"}, {\"season_start_year\": 2020, \"team\": \"Bayern M\\u00fcnchen\", \"wins\": 24, \"season\": \"2020-2021\"}, {\"season_start_year\": 2020, \"team\": \"Bor. M\\u00f6nchengladbach\", \"wins\": 13, \"season\": \"2020-2021\"}, {\"season_start_year\": 2020, \"team\": \"Borussia Dortmund\", \"wins\": 20, \"season\": \"2020-2021\"}, {\"season_start_year\": 2020, \"team\": \"Eintracht Frankfurt\", \"wins\": 16, \"season\": \"2020-2021\"}, {\"season_start_year\": 2020, \"team\": \"FC Augsburg\", \"wins\": 10, \"season\": \"2020-2021\"}, {\"season_start_year\": 2020, \"team\": \"FC Schalke 04\", \"wins\": 3, \"season\": \"2020-2021\"}, {\"season_start_year\": 2020, \"team\": \"Hertha BSC\", \"wins\": 8, \"season\": \"2020-2021\"}, {\"season_start_year\": 2020, \"team\": \"RB Leipzig\", \"wins\": 19, \"season\": \"2020-2021\"}, {\"season_start_year\": 2020, \"team\": \"SC Freiburg\", \"wins\": 12, \"season\": \"2020-2021\"}, {\"season_start_year\": 2020, \"team\": \"TSG 1899 Hoffenheim\", \"wins\": 11, \"season\": \"2020-2021\"}, {\"season_start_year\": 2020, \"team\": \"VfB Stuttgart\", \"wins\": 12, \"season\": \"2020-2021\"}, {\"season_start_year\": 2020, \"team\": \"VfL Wolfsburg\", \"wins\": 17, \"season\": \"2020-2021\"}, {\"season_start_year\": 2020, \"team\": \"Werder Bremen\", \"wins\": 7, \"season\": \"2020-2021\"}, {\"season_start_year\": 2021, \"team\": \"1. FC K\\u00f6ln\", \"wins\": 14, \"season\": \"2021-2022\"}, {\"season_start_year\": 2021, \"team\": \"1. FC Union Berlin\", \"wins\": 16, \"season\": \"2021-2022\"}, {\"season_start_year\": 2021, \"team\": \"1. FSV Mainz 05\", \"wins\": 13, \"season\": \"2021-2022\"}, {\"season_start_year\": 2021, \"team\": \"Arminia Bielefeld\", \"wins\": 5, \"season\": \"2021-2022\"}, {\"season_start_year\": 2021, \"team\": \"Bayer 04 Leverkusen\", \"wins\": 19, \"season\": \"2021-2022\"}, {\"season_start_year\": 2021, \"team\": \"Bayern M\\u00fcnchen\", \"wins\": 24, \"season\": \"2021-2022\"}, {\"season_start_year\": 2021, \"team\": \"Bor. M\\u00f6nchengladbach\", \"wins\": 12, \"season\": \"2021-2022\"}, {\"season_start_year\": 2021, \"team\": \"Borussia Dortmund\", \"wins\": 22, \"season\": \"2021-2022\"}, {\"season_start_year\": 2021, \"team\": \"Eintracht Frankfurt\", \"wins\": 10, \"season\": \"2021-2022\"}, {\"season_start_year\": 2021, \"team\": \"FC Augsburg\", \"wins\": 10, \"season\": \"2021-2022\"}, {\"season_start_year\": 2021, \"team\": \"Hertha BSC\", \"wins\": 9, \"season\": \"2021-2022\"}, {\"season_start_year\": 2021, \"team\": \"RB Leipzig\", \"wins\": 17, \"season\": \"2021-2022\"}, {\"season_start_year\": 2021, \"team\": \"SC Freiburg\", \"wins\": 15, \"season\": \"2021-2022\"}, {\"season_start_year\": 2021, \"team\": \"SpVgg Greuther F\\u00fcrth\", \"wins\": 3, \"season\": \"2021-2022\"}, {\"season_start_year\": 2021, \"team\": \"TSG 1899 Hoffenheim\", \"wins\": 13, \"season\": \"2021-2022\"}, {\"season_start_year\": 2021, \"team\": \"VfB Stuttgart\", \"wins\": 7, \"season\": \"2021-2022\"}, {\"season_start_year\": 2021, \"team\": \"VfL Bochum\", \"wins\": 12, \"season\": \"2021-2022\"}, {\"season_start_year\": 2021, \"team\": \"VfL Wolfsburg\", \"wins\": 12, \"season\": \"2021-2022\"}, {\"season_start_year\": 2022, \"team\": \"1. FC K\\u00f6ln\", \"wins\": 10, \"season\": \"2022-2023\"}, {\"season_start_year\": 2022, \"team\": \"1. FC Union Berlin\", \"wins\": 18, \"season\": \"2022-2023\"}, {\"season_start_year\": 2022, \"team\": \"1. FSV Mainz 05\", \"wins\": 12, \"season\": \"2022-2023\"}, {\"season_start_year\": 2022, \"team\": \"Bayer 04 Leverkusen\", \"wins\": 14, \"season\": \"2022-2023\"}, {\"season_start_year\": 2022, \"team\": \"Bayern M\\u00fcnchen\", \"wins\": 21, \"season\": \"2022-2023\"}, {\"season_start_year\": 2022, \"team\": \"Bor. M\\u00f6nchengladbach\", \"wins\": 11, \"season\": \"2022-2023\"}, {\"season_start_year\": 2022, \"team\": \"Borussia Dortmund\", \"wins\": 22, \"season\": \"2022-2023\"}, {\"season_start_year\": 2022, \"team\": \"Eintracht Frankfurt\", \"wins\": 13, \"season\": \"2022-2023\"}, {\"season_start_year\": 2022, \"team\": \"FC Augsburg\", \"wins\": 9, \"season\": \"2022-2023\"}, {\"season_start_year\": 2022, \"team\": \"FC Schalke 04\", \"wins\": 7, \"season\": \"2022-2023\"}, {\"season_start_year\": 2022, \"team\": \"Hertha BSC\", \"wins\": 7, \"season\": \"2022-2023\"}, {\"season_start_year\": 2022, \"team\": \"RB Leipzig\", \"wins\": 20, \"season\": \"2022-2023\"}, {\"season_start_year\": 2022, \"team\": \"SC Freiburg\", \"wins\": 17, \"season\": \"2022-2023\"}, {\"season_start_year\": 2022, \"team\": \"TSG 1899 Hoffenheim\", \"wins\": 10, \"season\": \"2022-2023\"}, {\"season_start_year\": 2022, \"team\": \"VfB Stuttgart\", \"wins\": 7, \"season\": \"2022-2023\"}, {\"season_start_year\": 2022, \"team\": \"VfL Bochum\", \"wins\": 10, \"season\": \"2022-2023\"}, {\"season_start_year\": 2022, \"team\": \"VfL Wolfsburg\", \"wins\": 13, \"season\": \"2022-2023\"}, {\"season_start_year\": 2022, \"team\": \"Werder Bremen\", \"wins\": 10, \"season\": \"2022-2023\"}, {\"season_start_year\": 2023, \"team\": \"1. FC Heidenheim\", \"wins\": 10, \"season\": \"2023-2024\"}, {\"season_start_year\": 2023, \"team\": \"1. FC K\\u00f6ln\", \"wins\": 5, \"season\": \"2023-2024\"}, {\"season_start_year\": 2023, \"team\": \"1. FC Union Berlin\", \"wins\": 9, \"season\": \"2023-2024\"}, {\"season_start_year\": 2023, \"team\": \"1. FSV Mainz 05\", \"wins\": 7, \"season\": \"2023-2024\"}, {\"season_start_year\": 2023, \"team\": \"Bayer 04 Leverkusen\", \"wins\": 28, \"season\": \"2023-2024\"}, {\"season_start_year\": 2023, \"team\": \"Bayern M\\u00fcnchen\", \"wins\": 23, \"season\": \"2023-2024\"}, {\"season_start_year\": 2023, \"team\": \"Bor. M\\u00f6nchengladbach\", \"wins\": 7, \"season\": \"2023-2024\"}, {\"season_start_year\": 2023, \"team\": \"Borussia Dortmund\", \"wins\": 18, \"season\": \"2023-2024\"}, {\"season_start_year\": 2023, \"team\": \"Eintracht Frankfurt\", \"wins\": 11, \"season\": \"2023-2024\"}, {\"season_start_year\": 2023, \"team\": \"FC Augsburg\", \"wins\": 10, \"season\": \"2023-2024\"}, {\"season_start_year\": 2023, \"team\": \"RB Leipzig\", \"wins\": 19, \"season\": \"2023-2024\"}, {\"season_start_year\": 2023, \"team\": \"SC Freiburg\", \"wins\": 11, \"season\": \"2023-2024\"}, {\"season_start_year\": 2023, \"team\": \"SV Darmstadt 98\", \"wins\": 3, \"season\": \"2023-2024\"}, {\"season_start_year\": 2023, \"team\": \"TSG 1899 Hoffenheim\", \"wins\": 13, \"season\": \"2023-2024\"}, {\"season_start_year\": 2023, \"team\": \"VfB Stuttgart\", \"wins\": 23, \"season\": \"2023-2024\"}, {\"season_start_year\": 2023, \"team\": \"VfL Bochum\", \"wins\": 7, \"season\": \"2023-2024\"}, {\"season_start_year\": 2023, \"team\": \"VfL Wolfsburg\", \"wins\": 10, \"season\": \"2023-2024\"}, {\"season_start_year\": 2023, \"team\": \"Werder Bremen\", \"wins\": 11, \"season\": \"2023-2024\"}]}}, {\"mode\": \"vega-lite\"});\n",
       "</script>"
      ],
      "text/plain": [
       "alt.Chart(...)"
      ]
     },
     "metadata": {},
     "output_type": "display_data"
    }
   ],
   "source": [
    "# Plot total wins by team \n",
    "\n",
    "df_bundesliga['season_start_year'] = df_bundesliga['date'].apply(lambda x: x.year if x.month >= 8 else x.year - 1)\n",
    "\n",
    "home_wins = df_bundesliga[df_bundesliga['winner'] == 0].groupby(['season_start_year', 'home_team']).size().reset_index(name='wins')\n",
    "\n",
    "\n",
    "away_wins = df_bundesliga[df_bundesliga['winner'] == 2].groupby(['season_start_year', 'away_team']).size().reset_index(name='wins')\n",
    "\n",
    "home_wins.rename(columns={'home_team': 'team'}, inplace=True)\n",
    "away_wins.rename(columns={'away_team': 'team'}, inplace=True)\n",
    "\n",
    "total_wins = pd.concat([home_wins, away_wins]).groupby(['season_start_year', 'team'])['wins'].sum().reset_index()\n",
    "\n",
    "total_wins['season'] = total_wins['season_start_year'].astype(str) + '-' + (total_wins['season_start_year'] + 1).astype(str)\n",
    "\n",
    "rb_leipzig_wins_2023_2024 = total_wins[(total_wins['team'] == 'RB Leipzig') & (total_wins['season'] == '2023-2024')]['wins'].sum()\n",
    "print(f\"RB Leipzig has {rb_leipzig_wins_2023_2024} wins in the 2023-2024 season.\")\n",
    "\n",
    "bayern_wins_2023_2024 = total_wins[(total_wins['team'] == 'Bayern München') & (total_wins['season'] == '2023-2024')]['wins'].sum()\n",
    "print(f\"Bayern München has {bayern_wins_2023_2024} wins in the 2023-2024 season.\")\n",
    "\n",
    "highlight = alt.selection_point(fields=['team'], bind='legend')\n",
    "\n",
    "chart = alt.Chart(total_wins).mark_line().encode(\n",
    "    x=alt.X('season:O', title='Season', sort=alt.EncodingSortField('season_start_year', order='ascending')),\n",
    "    y=alt.Y('wins:Q', title='Total Wins'),\n",
    "    color=alt.Color('team:N', legend=alt.Legend(title=\"Teams\", orient=\"right\")),\n",
    "    opacity=alt.condition(highlight, alt.value(1), alt.value(0.1)),\n",
    "    tooltip=['season', 'team', 'wins']\n",
    ").add_params(\n",
    "    highlight\n",
    ").properties(\n",
    "    width=800,\n",
    "    height=500,\n",
    "    title='Total Wins per Team per Season'\n",
    ").configure_legend(\n",
    "    symbolLimit=0  \n",
    ")\n",
    "\n",
    "chart.display()"
   ]
  },
  {
   "cell_type": "code",
   "execution_count": 8,
   "metadata": {},
   "outputs": [
    {
     "name": "stdout",
     "output_type": "stream",
     "text": [
      "RB Leipzig scored 77 goals in the 2023-2024 season.\n",
      "Bayern München scored 94 goals in the 2023-2024 season.\n"
     ]
    },
    {
     "data": {
      "text/html": [
       "\n",
       "<style>\n",
       "  #altair-viz-3a8bf291d0114d95b9587c902fdc9890.vega-embed {\n",
       "    width: 100%;\n",
       "    display: flex;\n",
       "  }\n",
       "\n",
       "  #altair-viz-3a8bf291d0114d95b9587c902fdc9890.vega-embed details,\n",
       "  #altair-viz-3a8bf291d0114d95b9587c902fdc9890.vega-embed details summary {\n",
       "    position: relative;\n",
       "  }\n",
       "</style>\n",
       "<div id=\"altair-viz-3a8bf291d0114d95b9587c902fdc9890\"></div>\n",
       "<script type=\"text/javascript\">\n",
       "  var VEGA_DEBUG = (typeof VEGA_DEBUG == \"undefined\") ? {} : VEGA_DEBUG;\n",
       "  (function(spec, embedOpt){\n",
       "    let outputDiv = document.currentScript.previousElementSibling;\n",
       "    if (outputDiv.id !== \"altair-viz-3a8bf291d0114d95b9587c902fdc9890\") {\n",
       "      outputDiv = document.getElementById(\"altair-viz-3a8bf291d0114d95b9587c902fdc9890\");\n",
       "    }\n",
       "    const paths = {\n",
       "      \"vega\": \"https://cdn.jsdelivr.net/npm/vega@5?noext\",\n",
       "      \"vega-lib\": \"https://cdn.jsdelivr.net/npm/vega-lib?noext\",\n",
       "      \"vega-lite\": \"https://cdn.jsdelivr.net/npm/vega-lite@5.8.0?noext\",\n",
       "      \"vega-embed\": \"https://cdn.jsdelivr.net/npm/vega-embed@6?noext\",\n",
       "    };\n",
       "\n",
       "    function maybeLoadScript(lib, version) {\n",
       "      var key = `${lib.replace(\"-\", \"\")}_version`;\n",
       "      return (VEGA_DEBUG[key] == version) ?\n",
       "        Promise.resolve(paths[lib]) :\n",
       "        new Promise(function(resolve, reject) {\n",
       "          var s = document.createElement('script');\n",
       "          document.getElementsByTagName(\"head\")[0].appendChild(s);\n",
       "          s.async = true;\n",
       "          s.onload = () => {\n",
       "            VEGA_DEBUG[key] = version;\n",
       "            return resolve(paths[lib]);\n",
       "          };\n",
       "          s.onerror = () => reject(`Error loading script: ${paths[lib]}`);\n",
       "          s.src = paths[lib];\n",
       "        });\n",
       "    }\n",
       "\n",
       "    function showError(err) {\n",
       "      outputDiv.innerHTML = `<div class=\"error\" style=\"color:red;\">${err}</div>`;\n",
       "      throw err;\n",
       "    }\n",
       "\n",
       "    function displayChart(vegaEmbed) {\n",
       "      vegaEmbed(outputDiv, spec, embedOpt)\n",
       "        .catch(err => showError(`Javascript Error: ${err.message}<br>This usually means there's a typo in your chart specification. See the javascript console for the full traceback.`));\n",
       "    }\n",
       "\n",
       "    if(typeof define === \"function\" && define.amd) {\n",
       "      requirejs.config({paths});\n",
       "      require([\"vega-embed\"], displayChart, err => showError(`Error loading script: ${err.message}`));\n",
       "    } else {\n",
       "      maybeLoadScript(\"vega\", \"5\")\n",
       "        .then(() => maybeLoadScript(\"vega-lite\", \"5.8.0\"))\n",
       "        .then(() => maybeLoadScript(\"vega-embed\", \"6\"))\n",
       "        .catch(showError)\n",
       "        .then(() => displayChart(vegaEmbed));\n",
       "    }\n",
       "  })({\"config\": {\"view\": {\"continuousWidth\": 300, \"continuousHeight\": 300}, \"legend\": {\"symbolLimit\": 0}}, \"data\": {\"name\": \"data-4876477a3b1aba6fac0c9aede3e037ab\"}, \"mark\": {\"type\": \"line\"}, \"encoding\": {\"color\": {\"field\": \"team\", \"legend\": {\"orient\": \"right\", \"title\": \"Teams\"}, \"type\": \"nominal\"}, \"opacity\": {\"condition\": {\"param\": \"param_2\", \"value\": 1}, \"value\": 0.1}, \"tooltip\": [{\"field\": \"season\", \"type\": \"nominal\"}, {\"field\": \"team\", \"type\": \"nominal\"}, {\"field\": \"goals\", \"type\": \"quantitative\"}], \"x\": {\"field\": \"season\", \"sort\": {\"field\": \"season_start_year\", \"order\": \"ascending\"}, \"title\": \"Season\", \"type\": \"ordinal\"}, \"y\": {\"field\": \"goals\", \"title\": \"Total Goals\", \"type\": \"quantitative\"}}, \"height\": 500, \"params\": [{\"name\": \"param_2\", \"select\": {\"type\": \"point\", \"fields\": [\"team\"]}, \"bind\": \"legend\"}], \"title\": \"Total Goals per Team per Season\", \"width\": 800, \"$schema\": \"https://vega.github.io/schema/vega-lite/v5.8.0.json\", \"datasets\": {\"data-4876477a3b1aba6fac0c9aede3e037ab\": [{\"season_start_year\": 1963, \"team\": \"1. FC Kaiserslautern\", \"goals\": 48, \"season\": \"1963-1964\"}, {\"season_start_year\": 1963, \"team\": \"1. FC K\\u00f6ln\", \"goals\": 78, \"season\": \"1963-1964\"}, {\"season_start_year\": 1963, \"team\": \"1. FC N\\u00fcrnberg\", \"goals\": 45, \"season\": \"1963-1964\"}, {\"season_start_year\": 1963, \"team\": \"1. FC Saarbr\\u00fccken\", \"goals\": 44, \"season\": \"1963-1964\"}, {\"season_start_year\": 1963, \"team\": \"Borussia Dortmund\", \"goals\": 73, \"season\": \"1963-1964\"}, {\"season_start_year\": 1963, \"team\": \"Eintracht Braunschweig\", \"goals\": 36, \"season\": \"1963-1964\"}, {\"season_start_year\": 1963, \"team\": \"Eintracht Frankfurt\", \"goals\": 65, \"season\": \"1963-1964\"}, {\"season_start_year\": 1963, \"team\": \"FC Schalke 04\", \"goals\": 51, \"season\": \"1963-1964\"}, {\"season_start_year\": 1963, \"team\": \"Hamburger SV\", \"goals\": 69, \"season\": \"1963-1964\"}, {\"season_start_year\": 1963, \"team\": \"Hertha BSC\", \"goals\": 45, \"season\": \"1963-1964\"}, {\"season_start_year\": 1963, \"team\": \"Karlsruher SC\", \"goals\": 42, \"season\": \"1963-1964\"}, {\"season_start_year\": 1963, \"team\": \"MSV Duisburg\", \"goals\": 60, \"season\": \"1963-1964\"}, {\"season_start_year\": 1963, \"team\": \"Preussen M\\u00fcnster\", \"goals\": 34, \"season\": \"1963-1964\"}, {\"season_start_year\": 1963, \"team\": \"TSV 1860 M\\u00fcnchen\", \"goals\": 66, \"season\": \"1963-1964\"}, {\"season_start_year\": 1963, \"team\": \"VfB Stuttgart\", \"goals\": 48, \"season\": \"1963-1964\"}, {\"season_start_year\": 1963, \"team\": \"Werder Bremen\", \"goals\": 53, \"season\": \"1963-1964\"}, {\"season_start_year\": 1964, \"team\": \"1. FC Kaiserslautern\", \"goals\": 41, \"season\": \"1964-1965\"}, {\"season_start_year\": 1964, \"team\": \"1. FC K\\u00f6ln\", \"goals\": 66, \"season\": \"1964-1965\"}, {\"season_start_year\": 1964, \"team\": \"1. FC N\\u00fcrnberg\", \"goals\": 44, \"season\": \"1964-1965\"}, {\"season_start_year\": 1964, \"team\": \"Borussia Dortmund\", \"goals\": 67, \"season\": \"1964-1965\"}, {\"season_start_year\": 1964, \"team\": \"Borussia Neunkirchen\", \"goals\": 44, \"season\": \"1964-1965\"}, {\"season_start_year\": 1964, \"team\": \"Eintracht Braunschweig\", \"goals\": 42, \"season\": \"1964-1965\"}, {\"season_start_year\": 1964, \"team\": \"Eintracht Frankfurt\", \"goals\": 50, \"season\": \"1964-1965\"}, {\"season_start_year\": 1964, \"team\": \"FC Schalke 04\", \"goals\": 45, \"season\": \"1964-1965\"}, {\"season_start_year\": 1964, \"team\": \"Hamburger SV\", \"goals\": 46, \"season\": \"1964-1965\"}, {\"season_start_year\": 1964, \"team\": \"Hannover 96\", \"goals\": 48, \"season\": \"1964-1965\"}, {\"season_start_year\": 1964, \"team\": \"Hertha BSC\", \"goals\": 40, \"season\": \"1964-1965\"}, {\"season_start_year\": 1964, \"team\": \"Karlsruher SC\", \"goals\": 47, \"season\": \"1964-1965\"}, {\"season_start_year\": 1964, \"team\": \"MSV Duisburg\", \"goals\": 46, \"season\": \"1964-1965\"}, {\"season_start_year\": 1964, \"team\": \"TSV 1860 M\\u00fcnchen\", \"goals\": 70, \"season\": \"1964-1965\"}, {\"season_start_year\": 1964, \"team\": \"VfB Stuttgart\", \"goals\": 46, \"season\": \"1964-1965\"}, {\"season_start_year\": 1964, \"team\": \"Werder Bremen\", \"goals\": 54, \"season\": \"1964-1965\"}, {\"season_start_year\": 1965, \"team\": \"1. FC Kaiserslautern\", \"goals\": 42, \"season\": \"1965-1966\"}, {\"season_start_year\": 1965, \"team\": \"1. FC K\\u00f6ln\", \"goals\": 74, \"season\": \"1965-1966\"}, {\"season_start_year\": 1965, \"team\": \"1. FC N\\u00fcrnberg\", \"goals\": 54, \"season\": \"1965-1966\"}, {\"season_start_year\": 1965, \"team\": \"Bayern M\\u00fcnchen\", \"goals\": 71, \"season\": \"1965-1966\"}, {\"season_start_year\": 1965, \"team\": \"Bor. M\\u00f6nchengladbach\", \"goals\": 57, \"season\": \"1965-1966\"}, {\"season_start_year\": 1965, \"team\": \"Borussia Dortmund\", \"goals\": 70, \"season\": \"1965-1966\"}, {\"season_start_year\": 1965, \"team\": \"Borussia Neunkirchen\", \"goals\": 32, \"season\": \"1965-1966\"}, {\"season_start_year\": 1965, \"team\": \"Eintracht Braunschweig\", \"goals\": 49, \"season\": \"1965-1966\"}, {\"season_start_year\": 1965, \"team\": \"Eintracht Frankfurt\", \"goals\": 64, \"season\": \"1965-1966\"}, {\"season_start_year\": 1965, \"team\": \"FC Schalke 04\", \"goals\": 33, \"season\": \"1965-1966\"}, {\"season_start_year\": 1965, \"team\": \"Hamburger SV\", \"goals\": 64, \"season\": \"1965-1966\"}, {\"season_start_year\": 1965, \"team\": \"Hannover 96\", \"goals\": 59, \"season\": \"1965-1966\"}, {\"season_start_year\": 1965, \"team\": \"Karlsruher SC\", \"goals\": 35, \"season\": \"1965-1966\"}, {\"season_start_year\": 1965, \"team\": \"MSV Duisburg\", \"goals\": 70, \"season\": \"1965-1966\"}, {\"season_start_year\": 1965, \"team\": \"SC Tasmania 1900 Berlin\", \"goals\": 15, \"season\": \"1965-1966\"}, {\"season_start_year\": 1965, \"team\": \"TSV 1860 M\\u00fcnchen\", \"goals\": 80, \"season\": \"1965-1966\"}, {\"season_start_year\": 1965, \"team\": \"VfB Stuttgart\", \"goals\": 42, \"season\": \"1965-1966\"}, {\"season_start_year\": 1965, \"team\": \"Werder Bremen\", \"goals\": 76, \"season\": \"1965-1966\"}, {\"season_start_year\": 1966, \"team\": \"1. FC Kaiserslautern\", \"goals\": 43, \"season\": \"1966-1967\"}, {\"season_start_year\": 1966, \"team\": \"1. FC K\\u00f6ln\", \"goals\": 48, \"season\": \"1966-1967\"}, {\"season_start_year\": 1966, \"team\": \"1. FC N\\u00fcrnberg\", \"goals\": 43, \"season\": \"1966-1967\"}, {\"season_start_year\": 1966, \"team\": \"Bayern M\\u00fcnchen\", \"goals\": 62, \"season\": \"1966-1967\"}, {\"season_start_year\": 1966, \"team\": \"Bor. M\\u00f6nchengladbach\", \"goals\": 70, \"season\": \"1966-1967\"}, {\"season_start_year\": 1966, \"team\": \"Borussia Dortmund\", \"goals\": 70, \"season\": \"1966-1967\"}, {\"season_start_year\": 1966, \"team\": \"Eintracht Braunschweig\", \"goals\": 49, \"season\": \"1966-1967\"}, {\"season_start_year\": 1966, \"team\": \"Eintracht Frankfurt\", \"goals\": 66, \"season\": \"1966-1967\"}, {\"season_start_year\": 1966, \"team\": \"FC Schalke 04\", \"goals\": 37, \"season\": \"1966-1967\"}, {\"season_start_year\": 1966, \"team\": \"Fortuna D\\u00fcsseldorf\", \"goals\": 44, \"season\": \"1966-1967\"}, {\"season_start_year\": 1966, \"team\": \"Hamburger SV\", \"goals\": 37, \"season\": \"1966-1967\"}, {\"season_start_year\": 1966, \"team\": \"Hannover 96\", \"goals\": 40, \"season\": \"1966-1967\"}, {\"season_start_year\": 1966, \"team\": \"Karlsruher SC\", \"goals\": 54, \"season\": \"1966-1967\"}, {\"season_start_year\": 1966, \"team\": \"MSV Duisburg\", \"goals\": 40, \"season\": \"1966-1967\"}, {\"season_start_year\": 1966, \"team\": \"Rot-Weiss Essen\", \"goals\": 35, \"season\": \"1966-1967\"}, {\"season_start_year\": 1966, \"team\": \"TSV 1860 M\\u00fcnchen\", \"goals\": 60, \"season\": \"1966-1967\"}, {\"season_start_year\": 1966, \"team\": \"VfB Stuttgart\", \"goals\": 48, \"season\": \"1966-1967\"}, {\"season_start_year\": 1966, \"team\": \"Werder Bremen\", \"goals\": 49, \"season\": \"1966-1967\"}, {\"season_start_year\": 1967, \"team\": \"1. FC Kaiserslautern\", \"goals\": 39, \"season\": \"1967-1968\"}, {\"season_start_year\": 1967, \"team\": \"1. FC K\\u00f6ln\", \"goals\": 68, \"season\": \"1967-1968\"}, {\"season_start_year\": 1967, \"team\": \"1. FC N\\u00fcrnberg\", \"goals\": 71, \"season\": \"1967-1968\"}, {\"season_start_year\": 1967, \"team\": \"Alemannia Aachen\", \"goals\": 52, \"season\": \"1967-1968\"}, {\"season_start_year\": 1967, \"team\": \"Bayern M\\u00fcnchen\", \"goals\": 68, \"season\": \"1967-1968\"}, {\"season_start_year\": 1967, \"team\": \"Bor. M\\u00f6nchengladbach\", \"goals\": 77, \"season\": \"1967-1968\"}, {\"season_start_year\": 1967, \"team\": \"Borussia Dortmund\", \"goals\": 60, \"season\": \"1967-1968\"}, {\"season_start_year\": 1967, \"team\": \"Borussia Neunkirchen\", \"goals\": 33, \"season\": \"1967-1968\"}, {\"season_start_year\": 1967, \"team\": \"Eintracht Braunschweig\", \"goals\": 37, \"season\": \"1967-1968\"}, {\"season_start_year\": 1967, \"team\": \"Eintracht Frankfurt\", \"goals\": 58, \"season\": \"1967-1968\"}, {\"season_start_year\": 1967, \"team\": \"FC Schalke 04\", \"goals\": 42, \"season\": \"1967-1968\"}, {\"season_start_year\": 1967, \"team\": \"Hamburger SV\", \"goals\": 51, \"season\": \"1967-1968\"}, {\"season_start_year\": 1967, \"team\": \"Hannover 96\", \"goals\": 48, \"season\": \"1967-1968\"}, {\"season_start_year\": 1967, \"team\": \"Karlsruher SC\", \"goals\": 32, \"season\": \"1967-1968\"}, {\"season_start_year\": 1967, \"team\": \"MSV Duisburg\", \"goals\": 69, \"season\": \"1967-1968\"}, {\"season_start_year\": 1967, \"team\": \"TSV 1860 M\\u00fcnchen\", \"goals\": 55, \"season\": \"1967-1968\"}, {\"season_start_year\": 1967, \"team\": \"VfB Stuttgart\", \"goals\": 65, \"season\": \"1967-1968\"}, {\"season_start_year\": 1967, \"team\": \"Werder Bremen\", \"goals\": 68, \"season\": \"1967-1968\"}, {\"season_start_year\": 1968, \"team\": \"1. FC Kaiserslautern\", \"goals\": 45, \"season\": \"1968-1969\"}, {\"season_start_year\": 1968, \"team\": \"1. FC K\\u00f6ln\", \"goals\": 47, \"season\": \"1968-1969\"}, {\"season_start_year\": 1968, \"team\": \"1. FC N\\u00fcrnberg\", \"goals\": 45, \"season\": \"1968-1969\"}, {\"season_start_year\": 1968, \"team\": \"Alemannia Aachen\", \"goals\": 57, \"season\": \"1968-1969\"}, {\"season_start_year\": 1968, \"team\": \"Bayern M\\u00fcnchen\", \"goals\": 61, \"season\": \"1968-1969\"}, {\"season_start_year\": 1968, \"team\": \"Bor. M\\u00f6nchengladbach\", \"goals\": 61, \"season\": \"1968-1969\"}, {\"season_start_year\": 1968, \"team\": \"Borussia Dortmund\", \"goals\": 49, \"season\": \"1968-1969\"}, {\"season_start_year\": 1968, \"team\": \"Eintracht Braunschweig\", \"goals\": 46, \"season\": \"1968-1969\"}, {\"season_start_year\": 1968, \"team\": \"Eintracht Frankfurt\", \"goals\": 46, \"season\": \"1968-1969\"}, {\"season_start_year\": 1968, \"team\": \"FC Schalke 04\", \"goals\": 45, \"season\": \"1968-1969\"}, {\"season_start_year\": 1968, \"team\": \"Hamburger SV\", \"goals\": 55, \"season\": \"1968-1969\"}, {\"season_start_year\": 1968, \"team\": \"Hannover 96\", \"goals\": 47, \"season\": \"1968-1969\"}, {\"season_start_year\": 1968, \"team\": \"Hertha BSC\", \"goals\": 31, \"season\": \"1968-1969\"}, {\"season_start_year\": 1968, \"team\": \"Kickers Offenbach\", \"goals\": 42, \"season\": \"1968-1969\"}, {\"season_start_year\": 1968, \"team\": \"MSV Duisburg\", \"goals\": 33, \"season\": \"1968-1969\"}, {\"season_start_year\": 1968, \"team\": \"TSV 1860 M\\u00fcnchen\", \"goals\": 44, \"season\": \"1968-1969\"}, {\"season_start_year\": 1968, \"team\": \"VfB Stuttgart\", \"goals\": 60, \"season\": \"1968-1969\"}, {\"season_start_year\": 1968, \"team\": \"Werder Bremen\", \"goals\": 59, \"season\": \"1968-1969\"}, {\"season_start_year\": 1969, \"team\": \"1. FC Kaiserslautern\", \"goals\": 44, \"season\": \"1969-1970\"}, {\"season_start_year\": 1969, \"team\": \"1. FC K\\u00f6ln\", \"goals\": 83, \"season\": \"1969-1970\"}, {\"season_start_year\": 1969, \"team\": \"Alemannia Aachen\", \"goals\": 31, \"season\": \"1969-1970\"}, {\"season_start_year\": 1969, \"team\": \"Bayern M\\u00fcnchen\", \"goals\": 88, \"season\": \"1969-1970\"}, {\"season_start_year\": 1969, \"team\": \"Bor. M\\u00f6nchengladbach\", \"goals\": 71, \"season\": \"1969-1970\"}, {\"season_start_year\": 1969, \"team\": \"Borussia Dortmund\", \"goals\": 60, \"season\": \"1969-1970\"}, {\"season_start_year\": 1969, \"team\": \"Eintracht Braunschweig\", \"goals\": 40, \"season\": \"1969-1970\"}, {\"season_start_year\": 1969, \"team\": \"Eintracht Frankfurt\", \"goals\": 54, \"season\": \"1969-1970\"}, {\"season_start_year\": 1969, \"team\": \"FC Schalke 04\", \"goals\": 43, \"season\": \"1969-1970\"}, {\"season_start_year\": 1969, \"team\": \"Hamburger SV\", \"goals\": 57, \"season\": \"1969-1970\"}, {\"season_start_year\": 1969, \"team\": \"Hannover 96\", \"goals\": 49, \"season\": \"1969-1970\"}, {\"season_start_year\": 1969, \"team\": \"Hertha BSC\", \"goals\": 67, \"season\": \"1969-1970\"}, {\"season_start_year\": 1969, \"team\": \"MSV Duisburg\", \"goals\": 35, \"season\": \"1969-1970\"}, {\"season_start_year\": 1969, \"team\": \"Rot-Weiss Essen\", \"goals\": 41, \"season\": \"1969-1970\"}, {\"season_start_year\": 1969, \"team\": \"Rot-Wei\\u00df Oberhausen\", \"goals\": 50, \"season\": \"1969-1970\"}, {\"season_start_year\": 1969, \"team\": \"TSV 1860 M\\u00fcnchen\", \"goals\": 41, \"season\": \"1969-1970\"}, {\"season_start_year\": 1969, \"team\": \"VfB Stuttgart\", \"goals\": 59, \"season\": \"1969-1970\"}, {\"season_start_year\": 1969, \"team\": \"Werder Bremen\", \"goals\": 38, \"season\": \"1969-1970\"}, {\"season_start_year\": 1970, \"team\": \"1. FC Kaiserslautern\", \"goals\": 54, \"season\": \"1970-1971\"}, {\"season_start_year\": 1970, \"team\": \"1. FC K\\u00f6ln\", \"goals\": 46, \"season\": \"1970-1971\"}, {\"season_start_year\": 1970, \"team\": \"Arminia Bielefeld\", \"goals\": 34, \"season\": \"1970-1971\"}, {\"season_start_year\": 1970, \"team\": \"Bayern M\\u00fcnchen\", \"goals\": 74, \"season\": \"1970-1971\"}, {\"season_start_year\": 1970, \"team\": \"Bor. M\\u00f6nchengladbach\", \"goals\": 77, \"season\": \"1970-1971\"}, {\"season_start_year\": 1970, \"team\": \"Borussia Dortmund\", \"goals\": 54, \"season\": \"1970-1971\"}, {\"season_start_year\": 1970, \"team\": \"Eintracht Braunschweig\", \"goals\": 52, \"season\": \"1970-1971\"}, {\"season_start_year\": 1970, \"team\": \"Eintracht Frankfurt\", \"goals\": 39, \"season\": \"1970-1971\"}, {\"season_start_year\": 1970, \"team\": \"FC Schalke 04\", \"goals\": 44, \"season\": \"1970-1971\"}, {\"season_start_year\": 1970, \"team\": \"Hamburger SV\", \"goals\": 54, \"season\": \"1970-1971\"}, {\"season_start_year\": 1970, \"team\": \"Hannover 96\", \"goals\": 53, \"season\": \"1970-1971\"}, {\"season_start_year\": 1970, \"team\": \"Hertha BSC\", \"goals\": 61, \"season\": \"1970-1971\"}, {\"season_start_year\": 1970, \"team\": \"Kickers Offenbach\", \"goals\": 49, \"season\": \"1970-1971\"}, {\"season_start_year\": 1970, \"team\": \"MSV Duisburg\", \"goals\": 43, \"season\": \"1970-1971\"}, {\"season_start_year\": 1970, \"team\": \"Rot-Weiss Essen\", \"goals\": 48, \"season\": \"1970-1971\"}, {\"season_start_year\": 1970, \"team\": \"Rot-Wei\\u00df Oberhausen\", \"goals\": 54, \"season\": \"1970-1971\"}, {\"season_start_year\": 1970, \"team\": \"VfB Stuttgart\", \"goals\": 49, \"season\": \"1970-1971\"}, {\"season_start_year\": 1970, \"team\": \"Werder Bremen\", \"goals\": 41, \"season\": \"1970-1971\"}, {\"season_start_year\": 1971, \"team\": \"1. FC Kaiserslautern\", \"goals\": 59, \"season\": \"1971-1972\"}, {\"season_start_year\": 1971, \"team\": \"1. FC K\\u00f6ln\", \"goals\": 64, \"season\": \"1971-1972\"}, {\"season_start_year\": 1971, \"team\": \"Arminia Bielefeld\", \"goals\": 41, \"season\": \"1971-1972\"}, {\"season_start_year\": 1971, \"team\": \"Bayern M\\u00fcnchen\", \"goals\": 101, \"season\": \"1971-1972\"}, {\"season_start_year\": 1971, \"team\": \"Bor. M\\u00f6nchengladbach\", \"goals\": 82, \"season\": \"1971-1972\"}, {\"season_start_year\": 1971, \"team\": \"Borussia Dortmund\", \"goals\": 34, \"season\": \"1971-1972\"}, {\"season_start_year\": 1971, \"team\": \"Eintracht Braunschweig\", \"goals\": 43, \"season\": \"1971-1972\"}, {\"season_start_year\": 1971, \"team\": \"Eintracht Frankfurt\", \"goals\": 71, \"season\": \"1971-1972\"}, {\"season_start_year\": 1971, \"team\": \"FC Schalke 04\", \"goals\": 76, \"season\": \"1971-1972\"}, {\"season_start_year\": 1971, \"team\": \"Fortuna D\\u00fcsseldorf\", \"goals\": 40, \"season\": \"1971-1972\"}, {\"season_start_year\": 1971, \"team\": \"Hamburger SV\", \"goals\": 52, \"season\": \"1971-1972\"}, {\"season_start_year\": 1971, \"team\": \"Hannover 96\", \"goals\": 54, \"season\": \"1971-1972\"}, {\"season_start_year\": 1971, \"team\": \"Hertha BSC\", \"goals\": 46, \"season\": \"1971-1972\"}, {\"season_start_year\": 1971, \"team\": \"MSV Duisburg\", \"goals\": 36, \"season\": \"1971-1972\"}, {\"season_start_year\": 1971, \"team\": \"Rot-Wei\\u00df Oberhausen\", \"goals\": 33, \"season\": \"1971-1972\"}, {\"season_start_year\": 1971, \"team\": \"VfB Stuttgart\", \"goals\": 52, \"season\": \"1971-1972\"}, {\"season_start_year\": 1971, \"team\": \"VfL Bochum\", \"goals\": 59, \"season\": \"1971-1972\"}, {\"season_start_year\": 1971, \"team\": \"Werder Bremen\", \"goals\": 63, \"season\": \"1971-1972\"}, {\"season_start_year\": 1972, \"team\": \"1. FC Kaiserslautern\", \"goals\": 58, \"season\": \"1972-1973\"}, {\"season_start_year\": 1972, \"team\": \"1. FC K\\u00f6ln\", \"goals\": 66, \"season\": \"1972-1973\"}, {\"season_start_year\": 1972, \"team\": \"Bayern M\\u00fcnchen\", \"goals\": 93, \"season\": \"1972-1973\"}, {\"season_start_year\": 1972, \"team\": \"Bor. M\\u00f6nchengladbach\", \"goals\": 82, \"season\": \"1972-1973\"}, {\"season_start_year\": 1972, \"team\": \"Eintracht Braunschweig\", \"goals\": 33, \"season\": \"1972-1973\"}, {\"season_start_year\": 1972, \"team\": \"Eintracht Frankfurt\", \"goals\": 58, \"season\": \"1972-1973\"}, {\"season_start_year\": 1972, \"team\": \"FC Schalke 04\", \"goals\": 46, \"season\": \"1972-1973\"}, {\"season_start_year\": 1972, \"team\": \"Fortuna D\\u00fcsseldorf\", \"goals\": 62, \"season\": \"1972-1973\"}, {\"season_start_year\": 1972, \"team\": \"Hamburger SV\", \"goals\": 53, \"season\": \"1972-1973\"}, {\"season_start_year\": 1972, \"team\": \"Hannover 96\", \"goals\": 49, \"season\": \"1972-1973\"}, {\"season_start_year\": 1972, \"team\": \"Hertha BSC\", \"goals\": 53, \"season\": \"1972-1973\"}, {\"season_start_year\": 1972, \"team\": \"Kickers Offenbach\", \"goals\": 61, \"season\": \"1972-1973\"}, {\"season_start_year\": 1972, \"team\": \"MSV Duisburg\", \"goals\": 53, \"season\": \"1972-1973\"}, {\"season_start_year\": 1972, \"team\": \"Rot-Wei\\u00df Oberhausen\", \"goals\": 45, \"season\": \"1972-1973\"}, {\"season_start_year\": 1972, \"team\": \"VfB Stuttgart\", \"goals\": 71, \"season\": \"1972-1973\"}, {\"season_start_year\": 1972, \"team\": \"VfL Bochum\", \"goals\": 50, \"season\": \"1972-1973\"}, {\"season_start_year\": 1972, \"team\": \"Werder Bremen\", \"goals\": 50, \"season\": \"1972-1973\"}, {\"season_start_year\": 1972, \"team\": \"Wuppertaler SV\", \"goals\": 62, \"season\": \"1972-1973\"}, {\"season_start_year\": 1973, \"team\": \"1. FC Kaiserslautern\", \"goals\": 80, \"season\": \"1973-1974\"}, {\"season_start_year\": 1973, \"team\": \"1. FC K\\u00f6ln\", \"goals\": 69, \"season\": \"1973-1974\"}, {\"season_start_year\": 1973, \"team\": \"Bayern M\\u00fcnchen\", \"goals\": 95, \"season\": \"1973-1974\"}, {\"season_start_year\": 1973, \"team\": \"Bor. M\\u00f6nchengladbach\", \"goals\": 93, \"season\": \"1973-1974\"}, {\"season_start_year\": 1973, \"team\": \"Eintracht Frankfurt\", \"goals\": 63, \"season\": \"1973-1974\"}, {\"season_start_year\": 1973, \"team\": \"FC Schalke 04\", \"goals\": 72, \"season\": \"1973-1974\"}, {\"season_start_year\": 1973, \"team\": \"Fortuna D\\u00fcsseldorf\", \"goals\": 61, \"season\": \"1973-1974\"}, {\"season_start_year\": 1973, \"team\": \"Fortuna K\\u00f6ln\", \"goals\": 46, \"season\": \"1973-1974\"}, {\"season_start_year\": 1973, \"team\": \"Hamburger SV\", \"goals\": 53, \"season\": \"1973-1974\"}, {\"season_start_year\": 1973, \"team\": \"Hannover 96\", \"goals\": 50, \"season\": \"1973-1974\"}, {\"season_start_year\": 1973, \"team\": \"Hertha BSC\", \"goals\": 56, \"season\": \"1973-1974\"}, {\"season_start_year\": 1973, \"team\": \"Kickers Offenbach\", \"goals\": 56, \"season\": \"1973-1974\"}, {\"season_start_year\": 1973, \"team\": \"MSV Duisburg\", \"goals\": 42, \"season\": \"1973-1974\"}, {\"season_start_year\": 1973, \"team\": \"Rot-Weiss Essen\", \"goals\": 56, \"season\": \"1973-1974\"}, {\"season_start_year\": 1973, \"team\": \"VfB Stuttgart\", \"goals\": 58, \"season\": \"1973-1974\"}, {\"season_start_year\": 1973, \"team\": \"VfL Bochum\", \"goals\": 45, \"season\": \"1973-1974\"}, {\"season_start_year\": 1973, \"team\": \"Werder Bremen\", \"goals\": 48, \"season\": \"1973-1974\"}, {\"season_start_year\": 1973, \"team\": \"Wuppertaler SV\", \"goals\": 42, \"season\": \"1973-1974\"}, {\"season_start_year\": 1974, \"team\": \"1. FC Kaiserslautern\", \"goals\": 56, \"season\": \"1974-1975\"}, {\"season_start_year\": 1974, \"team\": \"1. FC K\\u00f6ln\", \"goals\": 77, \"season\": \"1974-1975\"}, {\"season_start_year\": 1974, \"team\": \"Bayern M\\u00fcnchen\", \"goals\": 57, \"season\": \"1974-1975\"}, {\"season_start_year\": 1974, \"team\": \"Bor. M\\u00f6nchengladbach\", \"goals\": 86, \"season\": \"1974-1975\"}, {\"season_start_year\": 1974, \"team\": \"Eintracht Braunschweig\", \"goals\": 52, \"season\": \"1974-1975\"}, {\"season_start_year\": 1974, \"team\": \"Eintracht Frankfurt\", \"goals\": 89, \"season\": \"1974-1975\"}, {\"season_start_year\": 1974, \"team\": \"FC Schalke 04\", \"goals\": 52, \"season\": \"1974-1975\"}, {\"season_start_year\": 1974, \"team\": \"Fortuna D\\u00fcsseldorf\", \"goals\": 66, \"season\": \"1974-1975\"}, {\"season_start_year\": 1974, \"team\": \"Hamburger SV\", \"goals\": 55, \"season\": \"1974-1975\"}, {\"season_start_year\": 1974, \"team\": \"Hertha BSC\", \"goals\": 61, \"season\": \"1974-1975\"}, {\"season_start_year\": 1974, \"team\": \"Kickers Offenbach\", \"goals\": 72, \"season\": \"1974-1975\"}, {\"season_start_year\": 1974, \"team\": \"MSV Duisburg\", \"goals\": 59, \"season\": \"1974-1975\"}, {\"season_start_year\": 1974, \"team\": \"Rot-Weiss Essen\", \"goals\": 56, \"season\": \"1974-1975\"}, {\"season_start_year\": 1974, \"team\": \"Tennis Borussia Berlin\", \"goals\": 38, \"season\": \"1974-1975\"}, {\"season_start_year\": 1974, \"team\": \"VfB Stuttgart\", \"goals\": 50, \"season\": \"1974-1975\"}, {\"season_start_year\": 1974, \"team\": \"VfL Bochum\", \"goals\": 53, \"season\": \"1974-1975\"}, {\"season_start_year\": 1974, \"team\": \"Werder Bremen\", \"goals\": 45, \"season\": \"1974-1975\"}, {\"season_start_year\": 1974, \"team\": \"Wuppertaler SV\", \"goals\": 32, \"season\": \"1974-1975\"}, {\"season_start_year\": 1975, \"team\": \"1. FC Kaiserslautern\", \"goals\": 66, \"season\": \"1975-1976\"}, {\"season_start_year\": 1975, \"team\": \"1. FC K\\u00f6ln\", \"goals\": 62, \"season\": \"1975-1976\"}, {\"season_start_year\": 1975, \"team\": \"Bayern M\\u00fcnchen\", \"goals\": 72, \"season\": \"1975-1976\"}, {\"season_start_year\": 1975, \"team\": \"Bor. M\\u00f6nchengladbach\", \"goals\": 66, \"season\": \"1975-1976\"}, {\"season_start_year\": 1975, \"team\": \"Eintracht Braunschweig\", \"goals\": 52, \"season\": \"1975-1976\"}, {\"season_start_year\": 1975, \"team\": \"Eintracht Frankfurt\", \"goals\": 79, \"season\": \"1975-1976\"}, {\"season_start_year\": 1975, \"team\": \"FC Schalke 04\", \"goals\": 76, \"season\": \"1975-1976\"}, {\"season_start_year\": 1975, \"team\": \"Fortuna D\\u00fcsseldorf\", \"goals\": 47, \"season\": \"1975-1976\"}, {\"season_start_year\": 1975, \"team\": \"Hamburger SV\", \"goals\": 59, \"season\": \"1975-1976\"}, {\"season_start_year\": 1975, \"team\": \"Hannover 96\", \"goals\": 48, \"season\": \"1975-1976\"}, {\"season_start_year\": 1975, \"team\": \"Hertha BSC\", \"goals\": 59, \"season\": \"1975-1976\"}, {\"season_start_year\": 1975, \"team\": \"KFC Uerdingen\", \"goals\": 28, \"season\": \"1975-1976\"}, {\"season_start_year\": 1975, \"team\": \"Karlsruher SC\", \"goals\": 46, \"season\": \"1975-1976\"}, {\"season_start_year\": 1975, \"team\": \"Kickers Offenbach\", \"goals\": 40, \"season\": \"1975-1976\"}, {\"season_start_year\": 1975, \"team\": \"MSV Duisburg\", \"goals\": 55, \"season\": \"1975-1976\"}, {\"season_start_year\": 1975, \"team\": \"Rot-Weiss Essen\", \"goals\": 61, \"season\": \"1975-1976\"}, {\"season_start_year\": 1975, \"team\": \"VfL Bochum\", \"goals\": 49, \"season\": \"1975-1976\"}, {\"season_start_year\": 1975, \"team\": \"Werder Bremen\", \"goals\": 44, \"season\": \"1975-1976\"}, {\"season_start_year\": 1976, \"team\": \"1. FC Kaiserslautern\", \"goals\": 53, \"season\": \"1976-1977\"}, {\"season_start_year\": 1976, \"team\": \"1. FC K\\u00f6ln\", \"goals\": 83, \"season\": \"1976-1977\"}, {\"season_start_year\": 1976, \"team\": \"1. FC Saarbr\\u00fccken\", \"goals\": 43, \"season\": \"1976-1977\"}, {\"season_start_year\": 1976, \"team\": \"Bayern M\\u00fcnchen\", \"goals\": 74, \"season\": \"1976-1977\"}, {\"season_start_year\": 1976, \"team\": \"Bor. M\\u00f6nchengladbach\", \"goals\": 58, \"season\": \"1976-1977\"}, {\"season_start_year\": 1976, \"team\": \"Borussia Dortmund\", \"goals\": 73, \"season\": \"1976-1977\"}, {\"season_start_year\": 1976, \"team\": \"Eintracht Braunschweig\", \"goals\": 56, \"season\": \"1976-1977\"}, {\"season_start_year\": 1976, \"team\": \"Eintracht Frankfurt\", \"goals\": 86, \"season\": \"1976-1977\"}, {\"season_start_year\": 1976, \"team\": \"FC Schalke 04\", \"goals\": 77, \"season\": \"1976-1977\"}, {\"season_start_year\": 1976, \"team\": \"Fortuna D\\u00fcsseldorf\", \"goals\": 52, \"season\": \"1976-1977\"}, {\"season_start_year\": 1976, \"team\": \"Hamburger SV\", \"goals\": 67, \"season\": \"1976-1977\"}, {\"season_start_year\": 1976, \"team\": \"Hertha BSC\", \"goals\": 55, \"season\": \"1976-1977\"}, {\"season_start_year\": 1976, \"team\": \"Karlsruher SC\", \"goals\": 53, \"season\": \"1976-1977\"}, {\"season_start_year\": 1976, \"team\": \"MSV Duisburg\", \"goals\": 60, \"season\": \"1976-1977\"}, {\"season_start_year\": 1976, \"team\": \"Rot-Weiss Essen\", \"goals\": 49, \"season\": \"1976-1977\"}, {\"season_start_year\": 1976, \"team\": \"Tennis Borussia Berlin\", \"goals\": 47, \"season\": \"1976-1977\"}, {\"season_start_year\": 1976, \"team\": \"VfL Bochum\", \"goals\": 47, \"season\": \"1976-1977\"}, {\"season_start_year\": 1976, \"team\": \"Werder Bremen\", \"goals\": 51, \"season\": \"1976-1977\"}, {\"season_start_year\": 1977, \"team\": \"1. FC Kaiserslautern\", \"goals\": 64, \"season\": \"1977-1978\"}, {\"season_start_year\": 1977, \"team\": \"1. FC K\\u00f6ln\", \"goals\": 86, \"season\": \"1977-1978\"}, {\"season_start_year\": 1977, \"team\": \"1. FC Saarbr\\u00fccken\", \"goals\": 39, \"season\": \"1977-1978\"}, {\"season_start_year\": 1977, \"team\": \"Bayern M\\u00fcnchen\", \"goals\": 62, \"season\": \"1977-1978\"}, {\"season_start_year\": 1977, \"team\": \"Bor. M\\u00f6nchengladbach\", \"goals\": 86, \"season\": \"1977-1978\"}, {\"season_start_year\": 1977, \"team\": \"Borussia Dortmund\", \"goals\": 57, \"season\": \"1977-1978\"}, {\"season_start_year\": 1977, \"team\": \"Eintracht Braunschweig\", \"goals\": 43, \"season\": \"1977-1978\"}, {\"season_start_year\": 1977, \"team\": \"Eintracht Frankfurt\", \"goals\": 59, \"season\": \"1977-1978\"}, {\"season_start_year\": 1977, \"team\": \"FC Schalke 04\", \"goals\": 47, \"season\": \"1977-1978\"}, {\"season_start_year\": 1977, \"team\": \"FC St. Pauli\", \"goals\": 44, \"season\": \"1977-1978\"}, {\"season_start_year\": 1977, \"team\": \"Fortuna D\\u00fcsseldorf\", \"goals\": 49, \"season\": \"1977-1978\"}, {\"season_start_year\": 1977, \"team\": \"Hamburger SV\", \"goals\": 61, \"season\": \"1977-1978\"}, {\"season_start_year\": 1977, \"team\": \"Hertha BSC\", \"goals\": 59, \"season\": \"1977-1978\"}, {\"season_start_year\": 1977, \"team\": \"MSV Duisburg\", \"goals\": 62, \"season\": \"1977-1978\"}, {\"season_start_year\": 1977, \"team\": \"TSV 1860 M\\u00fcnchen\", \"goals\": 41, \"season\": \"1977-1978\"}, {\"season_start_year\": 1977, \"team\": \"VfB Stuttgart\", \"goals\": 58, \"season\": \"1977-1978\"}, {\"season_start_year\": 1977, \"team\": \"VfL Bochum\", \"goals\": 49, \"season\": \"1977-1978\"}, {\"season_start_year\": 1977, \"team\": \"Werder Bremen\", \"goals\": 48, \"season\": \"1977-1978\"}, {\"season_start_year\": 1978, \"team\": \"1. FC Kaiserslautern\", \"goals\": 62, \"season\": \"1978-1979\"}, {\"season_start_year\": 1978, \"team\": \"1. FC K\\u00f6ln\", \"goals\": 55, \"season\": \"1978-1979\"}, {\"season_start_year\": 1978, \"team\": \"1. FC N\\u00fcrnberg\", \"goals\": 36, \"season\": \"1978-1979\"}, {\"season_start_year\": 1978, \"team\": \"Arminia Bielefeld\", \"goals\": 43, \"season\": \"1978-1979\"}, {\"season_start_year\": 1978, \"team\": \"Bayern M\\u00fcnchen\", \"goals\": 69, \"season\": \"1978-1979\"}, {\"season_start_year\": 1978, \"team\": \"Bor. M\\u00f6nchengladbach\", \"goals\": 50, \"season\": \"1978-1979\"}, {\"season_start_year\": 1978, \"team\": \"Borussia Dortmund\", \"goals\": 54, \"season\": \"1978-1979\"}, {\"season_start_year\": 1978, \"team\": \"Eintracht Braunschweig\", \"goals\": 50, \"season\": \"1978-1979\"}, {\"season_start_year\": 1978, \"team\": \"Eintracht Frankfurt\", \"goals\": 50, \"season\": \"1978-1979\"}, {\"season_start_year\": 1978, \"team\": \"FC Schalke 04\", \"goals\": 55, \"season\": \"1978-1979\"}, {\"season_start_year\": 1978, \"team\": \"Fortuna D\\u00fcsseldorf\", \"goals\": 70, \"season\": \"1978-1979\"}, {\"season_start_year\": 1978, \"team\": \"Hamburger SV\", \"goals\": 78, \"season\": \"1978-1979\"}, {\"season_start_year\": 1978, \"team\": \"Hertha BSC\", \"goals\": 40, \"season\": \"1978-1979\"}, {\"season_start_year\": 1978, \"team\": \"MSV Duisburg\", \"goals\": 43, \"season\": \"1978-1979\"}, {\"season_start_year\": 1978, \"team\": \"SV Darmstadt 98\", \"goals\": 40, \"season\": \"1978-1979\"}, {\"season_start_year\": 1978, \"team\": \"VfB Stuttgart\", \"goals\": 73, \"season\": \"1978-1979\"}, {\"season_start_year\": 1978, \"team\": \"VfL Bochum\", \"goals\": 47, \"season\": \"1978-1979\"}, {\"season_start_year\": 1978, \"team\": \"Werder Bremen\", \"goals\": 48, \"season\": \"1978-1979\"}, {\"season_start_year\": 1979, \"team\": \"1. FC Kaiserslautern\", \"goals\": 75, \"season\": \"1979-1980\"}, {\"season_start_year\": 1979, \"team\": \"1. FC K\\u00f6ln\", \"goals\": 72, \"season\": \"1979-1980\"}, {\"season_start_year\": 1979, \"team\": \"Bayer 04 Leverkusen\", \"goals\": 45, \"season\": \"1979-1980\"}, {\"season_start_year\": 1979, \"team\": \"Bayern M\\u00fcnchen\", \"goals\": 84, \"season\": \"1979-1980\"}, {\"season_start_year\": 1979, \"team\": \"Bor. M\\u00f6nchengladbach\", \"goals\": 61, \"season\": \"1979-1980\"}, {\"season_start_year\": 1979, \"team\": \"Borussia Dortmund\", \"goals\": 64, \"season\": \"1979-1980\"}, {\"season_start_year\": 1979, \"team\": \"Eintracht Braunschweig\", \"goals\": 32, \"season\": \"1979-1980\"}, {\"season_start_year\": 1979, \"team\": \"Eintracht Frankfurt\", \"goals\": 65, \"season\": \"1979-1980\"}, {\"season_start_year\": 1979, \"team\": \"FC Schalke 04\", \"goals\": 40, \"season\": \"1979-1980\"}, {\"season_start_year\": 1979, \"team\": \"Fortuna D\\u00fcsseldorf\", \"goals\": 62, \"season\": \"1979-1980\"}, {\"season_start_year\": 1979, \"team\": \"Hamburger SV\", \"goals\": 86, \"season\": \"1979-1980\"}, {\"season_start_year\": 1979, \"team\": \"Hertha BSC\", \"goals\": 41, \"season\": \"1979-1980\"}, {\"season_start_year\": 1979, \"team\": \"KFC Uerdingen\", \"goals\": 43, \"season\": \"1979-1980\"}, {\"season_start_year\": 1979, \"team\": \"MSV Duisburg\", \"goals\": 43, \"season\": \"1979-1980\"}, {\"season_start_year\": 1979, \"team\": \"TSV 1860 M\\u00fcnchen\", \"goals\": 42, \"season\": \"1979-1980\"}, {\"season_start_year\": 1979, \"team\": \"VfB Stuttgart\", \"goals\": 75, \"season\": \"1979-1980\"}, {\"season_start_year\": 1979, \"team\": \"VfL Bochum\", \"goals\": 41, \"season\": \"1979-1980\"}, {\"season_start_year\": 1979, \"team\": \"Werder Bremen\", \"goals\": 52, \"season\": \"1979-1980\"}, {\"season_start_year\": 1980, \"team\": \"1. FC Kaiserslautern\", \"goals\": 60, \"season\": \"1980-1981\"}, {\"season_start_year\": 1980, \"team\": \"1. FC K\\u00f6ln\", \"goals\": 54, \"season\": \"1980-1981\"}, {\"season_start_year\": 1980, \"team\": \"1. FC N\\u00fcrnberg\", \"goals\": 47, \"season\": \"1980-1981\"}, {\"season_start_year\": 1980, \"team\": \"Arminia Bielefeld\", \"goals\": 46, \"season\": \"1980-1981\"}, {\"season_start_year\": 1980, \"team\": \"Bayer 04 Leverkusen\", \"goals\": 52, \"season\": \"1980-1981\"}, {\"season_start_year\": 1980, \"team\": \"Bayern M\\u00fcnchen\", \"goals\": 89, \"season\": \"1980-1981\"}, {\"season_start_year\": 1980, \"team\": \"Bor. M\\u00f6nchengladbach\", \"goals\": 68, \"season\": \"1980-1981\"}, {\"season_start_year\": 1980, \"team\": \"Borussia Dortmund\", \"goals\": 69, \"season\": \"1980-1981\"}, {\"season_start_year\": 1980, \"team\": \"Eintracht Frankfurt\", \"goals\": 61, \"season\": \"1980-1981\"}, {\"season_start_year\": 1980, \"team\": \"FC Schalke 04\", \"goals\": 43, \"season\": \"1980-1981\"}, {\"season_start_year\": 1980, \"team\": \"Fortuna D\\u00fcsseldorf\", \"goals\": 57, \"season\": \"1980-1981\"}, {\"season_start_year\": 1980, \"team\": \"Hamburger SV\", \"goals\": 73, \"season\": \"1980-1981\"}, {\"season_start_year\": 1980, \"team\": \"KFC Uerdingen\", \"goals\": 47, \"season\": \"1980-1981\"}, {\"season_start_year\": 1980, \"team\": \"Karlsruher SC\", \"goals\": 56, \"season\": \"1980-1981\"}, {\"season_start_year\": 1980, \"team\": \"MSV Duisburg\", \"goals\": 45, \"season\": \"1980-1981\"}, {\"season_start_year\": 1980, \"team\": \"TSV 1860 M\\u00fcnchen\", \"goals\": 49, \"season\": \"1980-1981\"}, {\"season_start_year\": 1980, \"team\": \"VfB Stuttgart\", \"goals\": 70, \"season\": \"1980-1981\"}, {\"season_start_year\": 1980, \"team\": \"VfL Bochum\", \"goals\": 53, \"season\": \"1980-1981\"}, {\"season_start_year\": 1981, \"team\": \"1. FC Kaiserslautern\", \"goals\": 70, \"season\": \"1981-1982\"}, {\"season_start_year\": 1981, \"team\": \"1. FC K\\u00f6ln\", \"goals\": 72, \"season\": \"1981-1982\"}, {\"season_start_year\": 1981, \"team\": \"1. FC N\\u00fcrnberg\", \"goals\": 53, \"season\": \"1981-1982\"}, {\"season_start_year\": 1981, \"team\": \"Arminia Bielefeld\", \"goals\": 46, \"season\": \"1981-1982\"}, {\"season_start_year\": 1981, \"team\": \"Bayer 04 Leverkusen\", \"goals\": 45, \"season\": \"1981-1982\"}, {\"season_start_year\": 1981, \"team\": \"Bayern M\\u00fcnchen\", \"goals\": 77, \"season\": \"1981-1982\"}, {\"season_start_year\": 1981, \"team\": \"Bor. M\\u00f6nchengladbach\", \"goals\": 61, \"season\": \"1981-1982\"}, {\"season_start_year\": 1981, \"team\": \"Borussia Dortmund\", \"goals\": 59, \"season\": \"1981-1982\"}, {\"season_start_year\": 1981, \"team\": \"Eintracht Braunschweig\", \"goals\": 61, \"season\": \"1981-1982\"}, {\"season_start_year\": 1981, \"team\": \"Eintracht Frankfurt\", \"goals\": 83, \"season\": \"1981-1982\"}, {\"season_start_year\": 1981, \"team\": \"Fortuna D\\u00fcsseldorf\", \"goals\": 48, \"season\": \"1981-1982\"}, {\"season_start_year\": 1981, \"team\": \"Hamburger SV\", \"goals\": 95, \"season\": \"1981-1982\"}, {\"season_start_year\": 1981, \"team\": \"Karlsruher SC\", \"goals\": 50, \"season\": \"1981-1982\"}, {\"season_start_year\": 1981, \"team\": \"MSV Duisburg\", \"goals\": 40, \"season\": \"1981-1982\"}, {\"season_start_year\": 1981, \"team\": \"SV Darmstadt 98\", \"goals\": 46, \"season\": \"1981-1982\"}, {\"season_start_year\": 1981, \"team\": \"VfB Stuttgart\", \"goals\": 62, \"season\": \"1981-1982\"}, {\"season_start_year\": 1981, \"team\": \"VfL Bochum\", \"goals\": 52, \"season\": \"1981-1982\"}, {\"season_start_year\": 1981, \"team\": \"Werder Bremen\", \"goals\": 61, \"season\": \"1981-1982\"}, {\"season_start_year\": 1982, \"team\": \"1. FC Kaiserslautern\", \"goals\": 57, \"season\": \"1982-1983\"}, {\"season_start_year\": 1982, \"team\": \"1. FC K\\u00f6ln\", \"goals\": 69, \"season\": \"1982-1983\"}, {\"season_start_year\": 1982, \"team\": \"1. FC N\\u00fcrnberg\", \"goals\": 44, \"season\": \"1982-1983\"}, {\"season_start_year\": 1982, \"team\": \"Arminia Bielefeld\", \"goals\": 46, \"season\": \"1982-1983\"}, {\"season_start_year\": 1982, \"team\": \"Bayer 04 Leverkusen\", \"goals\": 43, \"season\": \"1982-1983\"}, {\"season_start_year\": 1982, \"team\": \"Bayern M\\u00fcnchen\", \"goals\": 74, \"season\": \"1982-1983\"}, {\"season_start_year\": 1982, \"team\": \"Bor. M\\u00f6nchengladbach\", \"goals\": 64, \"season\": \"1982-1983\"}, {\"season_start_year\": 1982, \"team\": \"Borussia Dortmund\", \"goals\": 78, \"season\": \"1982-1983\"}, {\"season_start_year\": 1982, \"team\": \"Eintracht Braunschweig\", \"goals\": 42, \"season\": \"1982-1983\"}, {\"season_start_year\": 1982, \"team\": \"Eintracht Frankfurt\", \"goals\": 48, \"season\": \"1982-1983\"}, {\"season_start_year\": 1982, \"team\": \"FC Schalke 04\", \"goals\": 48, \"season\": \"1982-1983\"}, {\"season_start_year\": 1982, \"team\": \"Fortuna D\\u00fcsseldorf\", \"goals\": 63, \"season\": \"1982-1983\"}, {\"season_start_year\": 1982, \"team\": \"Hamburger SV\", \"goals\": 79, \"season\": \"1982-1983\"}, {\"season_start_year\": 1982, \"team\": \"Hertha BSC\", \"goals\": 43, \"season\": \"1982-1983\"}, {\"season_start_year\": 1982, \"team\": \"Karlsruher SC\", \"goals\": 39, \"season\": \"1982-1983\"}, {\"season_start_year\": 1982, \"team\": \"VfB Stuttgart\", \"goals\": 80, \"season\": \"1982-1983\"}, {\"season_start_year\": 1982, \"team\": \"VfL Bochum\", \"goals\": 43, \"season\": \"1982-1983\"}, {\"season_start_year\": 1982, \"team\": \"Werder Bremen\", \"goals\": 76, \"season\": \"1982-1983\"}, {\"season_start_year\": 1983, \"team\": \"1. FC Kaiserslautern\", \"goals\": 68, \"season\": \"1983-1984\"}, {\"season_start_year\": 1983, \"team\": \"1. FC K\\u00f6ln\", \"goals\": 70, \"season\": \"1983-1984\"}, {\"season_start_year\": 1983, \"team\": \"1. FC N\\u00fcrnberg\", \"goals\": 38, \"season\": \"1983-1984\"}, {\"season_start_year\": 1983, \"team\": \"Arminia Bielefeld\", \"goals\": 40, \"season\": \"1983-1984\"}, {\"season_start_year\": 1983, \"team\": \"Bayer 04 Leverkusen\", \"goals\": 50, \"season\": \"1983-1984\"}, {\"season_start_year\": 1983, \"team\": \"Bayern M\\u00fcnchen\", \"goals\": 84, \"season\": \"1983-1984\"}, {\"season_start_year\": 1983, \"team\": \"Bor. M\\u00f6nchengladbach\", \"goals\": 81, \"season\": \"1983-1984\"}, {\"season_start_year\": 1983, \"team\": \"Borussia Dortmund\", \"goals\": 54, \"season\": \"1983-1984\"}, {\"season_start_year\": 1983, \"team\": \"Eintracht Braunschweig\", \"goals\": 54, \"season\": \"1983-1984\"}, {\"season_start_year\": 1983, \"team\": \"Eintracht Frankfurt\", \"goals\": 45, \"season\": \"1983-1984\"}, {\"season_start_year\": 1983, \"team\": \"Fortuna D\\u00fcsseldorf\", \"goals\": 63, \"season\": \"1983-1984\"}, {\"season_start_year\": 1983, \"team\": \"Hamburger SV\", \"goals\": 75, \"season\": \"1983-1984\"}, {\"season_start_year\": 1983, \"team\": \"KFC Uerdingen\", \"goals\": 66, \"season\": \"1983-1984\"}, {\"season_start_year\": 1983, \"team\": \"Kickers Offenbach\", \"goals\": 48, \"season\": \"1983-1984\"}, {\"season_start_year\": 1983, \"team\": \"SV Waldhof Mannheim\", \"goals\": 45, \"season\": \"1983-1984\"}, {\"season_start_year\": 1983, \"team\": \"VfB Stuttgart\", \"goals\": 79, \"season\": \"1983-1984\"}, {\"season_start_year\": 1983, \"team\": \"VfL Bochum\", \"goals\": 58, \"season\": \"1983-1984\"}, {\"season_start_year\": 1983, \"team\": \"Werder Bremen\", \"goals\": 79, \"season\": \"1983-1984\"}, {\"season_start_year\": 1984, \"team\": \"1. FC Kaiserslautern\", \"goals\": 56, \"season\": \"1984-1985\"}, {\"season_start_year\": 1984, \"team\": \"1. FC K\\u00f6ln\", \"goals\": 69, \"season\": \"1984-1985\"}, {\"season_start_year\": 1984, \"team\": \"Arminia Bielefeld\", \"goals\": 46, \"season\": \"1984-1985\"}, {\"season_start_year\": 1984, \"team\": \"Bayer 04 Leverkusen\", \"goals\": 52, \"season\": \"1984-1985\"}, {\"season_start_year\": 1984, \"team\": \"Bayern M\\u00fcnchen\", \"goals\": 79, \"season\": \"1984-1985\"}, {\"season_start_year\": 1984, \"team\": \"Bor. M\\u00f6nchengladbach\", \"goals\": 77, \"season\": \"1984-1985\"}, {\"season_start_year\": 1984, \"team\": \"Borussia Dortmund\", \"goals\": 51, \"season\": \"1984-1985\"}, {\"season_start_year\": 1984, \"team\": \"Eintracht Braunschweig\", \"goals\": 39, \"season\": \"1984-1985\"}, {\"season_start_year\": 1984, \"team\": \"Eintracht Frankfurt\", \"goals\": 62, \"season\": \"1984-1985\"}, {\"season_start_year\": 1984, \"team\": \"FC Schalke 04\", \"goals\": 63, \"season\": \"1984-1985\"}, {\"season_start_year\": 1984, \"team\": \"Fortuna D\\u00fcsseldorf\", \"goals\": 53, \"season\": \"1984-1985\"}, {\"season_start_year\": 1984, \"team\": \"Hamburger SV\", \"goals\": 58, \"season\": \"1984-1985\"}, {\"season_start_year\": 1984, \"team\": \"KFC Uerdingen\", \"goals\": 57, \"season\": \"1984-1985\"}, {\"season_start_year\": 1984, \"team\": \"Karlsruher SC\", \"goals\": 47, \"season\": \"1984-1985\"}, {\"season_start_year\": 1984, \"team\": \"SV Waldhof Mannheim\", \"goals\": 47, \"season\": \"1984-1985\"}, {\"season_start_year\": 1984, \"team\": \"VfB Stuttgart\", \"goals\": 79, \"season\": \"1984-1985\"}, {\"season_start_year\": 1984, \"team\": \"VfL Bochum\", \"goals\": 52, \"season\": \"1984-1985\"}, {\"season_start_year\": 1984, \"team\": \"Werder Bremen\", \"goals\": 87, \"season\": \"1984-1985\"}, {\"season_start_year\": 1985, \"team\": \"1. FC Kaiserslautern\", \"goals\": 49, \"season\": \"1985-1986\"}, {\"season_start_year\": 1985, \"team\": \"1. FC K\\u00f6ln\", \"goals\": 46, \"season\": \"1985-1986\"}, {\"season_start_year\": 1985, \"team\": \"1. FC N\\u00fcrnberg\", \"goals\": 51, \"season\": \"1985-1986\"}, {\"season_start_year\": 1985, \"team\": \"1. FC Saarbr\\u00fccken\", \"goals\": 39, \"season\": \"1985-1986\"}, {\"season_start_year\": 1985, \"team\": \"Bayer 04 Leverkusen\", \"goals\": 63, \"season\": \"1985-1986\"}, {\"season_start_year\": 1985, \"team\": \"Bayern M\\u00fcnchen\", \"goals\": 82, \"season\": \"1985-1986\"}, {\"season_start_year\": 1985, \"team\": \"Bor. M\\u00f6nchengladbach\", \"goals\": 65, \"season\": \"1985-1986\"}, {\"season_start_year\": 1985, \"team\": \"Borussia Dortmund\", \"goals\": 49, \"season\": \"1985-1986\"}, {\"season_start_year\": 1985, \"team\": \"Eintracht Frankfurt\", \"goals\": 35, \"season\": \"1985-1986\"}, {\"season_start_year\": 1985, \"team\": \"FC Schalke 04\", \"goals\": 53, \"season\": \"1985-1986\"}, {\"season_start_year\": 1985, \"team\": \"Fortuna D\\u00fcsseldorf\", \"goals\": 54, \"season\": \"1985-1986\"}, {\"season_start_year\": 1985, \"team\": \"Hamburger SV\", \"goals\": 52, \"season\": \"1985-1986\"}, {\"season_start_year\": 1985, \"team\": \"Hannover 96\", \"goals\": 43, \"season\": \"1985-1986\"}, {\"season_start_year\": 1985, \"team\": \"KFC Uerdingen\", \"goals\": 63, \"season\": \"1985-1986\"}, {\"season_start_year\": 1985, \"team\": \"SV Waldhof Mannheim\", \"goals\": 41, \"season\": \"1985-1986\"}, {\"season_start_year\": 1985, \"team\": \"VfB Stuttgart\", \"goals\": 69, \"season\": \"1985-1986\"}, {\"season_start_year\": 1985, \"team\": \"VfL Bochum\", \"goals\": 55, \"season\": \"1985-1986\"}, {\"season_start_year\": 1985, \"team\": \"Werder Bremen\", \"goals\": 83, \"season\": \"1985-1986\"}, {\"season_start_year\": 1986, \"team\": \"1. FC Kaiserslautern\", \"goals\": 64, \"season\": \"1986-1987\"}, {\"season_start_year\": 1986, \"team\": \"1. FC K\\u00f6ln\", \"goals\": 50, \"season\": \"1986-1987\"}, {\"season_start_year\": 1986, \"team\": \"1. FC N\\u00fcrnberg\", \"goals\": 64, \"season\": \"1986-1987\"}, {\"season_start_year\": 1986, \"team\": \"Bayer 04 Leverkusen\", \"goals\": 57, \"season\": \"1986-1987\"}, {\"season_start_year\": 1986, \"team\": \"Bayern M\\u00fcnchen\", \"goals\": 67, \"season\": \"1986-1987\"}, {\"season_start_year\": 1986, \"team\": \"Blau-Wei\\u00df 90 Berlin\", \"goals\": 36, \"season\": \"1986-1987\"}, {\"season_start_year\": 1986, \"team\": \"Bor. M\\u00f6nchengladbach\", \"goals\": 76, \"season\": \"1986-1987\"}, {\"season_start_year\": 1986, \"team\": \"Borussia Dortmund\", \"goals\": 70, \"season\": \"1986-1987\"}, {\"season_start_year\": 1986, \"team\": \"Eintracht Frankfurt\", \"goals\": 42, \"season\": \"1986-1987\"}, {\"season_start_year\": 1986, \"team\": \"FC 08 Homburg\", \"goals\": 33, \"season\": \"1986-1987\"}, {\"season_start_year\": 1986, \"team\": \"FC Schalke 04\", \"goals\": 50, \"season\": \"1986-1987\"}, {\"season_start_year\": 1986, \"team\": \"Fortuna D\\u00fcsseldorf\", \"goals\": 42, \"season\": \"1986-1987\"}, {\"season_start_year\": 1986, \"team\": \"Hamburger SV\", \"goals\": 69, \"season\": \"1986-1987\"}, {\"season_start_year\": 1986, \"team\": \"KFC Uerdingen\", \"goals\": 51, \"season\": \"1986-1987\"}, {\"season_start_year\": 1986, \"team\": \"SV Waldhof Mannheim\", \"goals\": 52, \"season\": \"1986-1987\"}, {\"season_start_year\": 1986, \"team\": \"VfB Stuttgart\", \"goals\": 55, \"season\": \"1986-1987\"}, {\"season_start_year\": 1986, \"team\": \"VfL Bochum\", \"goals\": 53, \"season\": \"1986-1987\"}, {\"season_start_year\": 1986, \"team\": \"Werder Bremen\", \"goals\": 65, \"season\": \"1986-1987\"}, {\"season_start_year\": 1987, \"team\": \"1. FC Kaiserslautern\", \"goals\": 54, \"season\": \"1987-1988\"}, {\"season_start_year\": 1987, \"team\": \"1. FC K\\u00f6ln\", \"goals\": 60, \"season\": \"1987-1988\"}, {\"season_start_year\": 1987, \"team\": \"1. FC N\\u00fcrnberg\", \"goals\": 43, \"season\": \"1987-1988\"}, {\"season_start_year\": 1987, \"team\": \"Bayer 04 Leverkusen\", \"goals\": 56, \"season\": \"1987-1988\"}, {\"season_start_year\": 1987, \"team\": \"Bayern M\\u00fcnchen\", \"goals\": 88, \"season\": \"1987-1988\"}, {\"season_start_year\": 1987, \"team\": \"Bor. M\\u00f6nchengladbach\", \"goals\": 58, \"season\": \"1987-1988\"}, {\"season_start_year\": 1987, \"team\": \"Borussia Dortmund\", \"goals\": 52, \"season\": \"1987-1988\"}, {\"season_start_year\": 1987, \"team\": \"Eintracht Frankfurt\", \"goals\": 52, \"season\": \"1987-1988\"}, {\"season_start_year\": 1987, \"team\": \"FC 08 Homburg\", \"goals\": 37, \"season\": \"1987-1988\"}, {\"season_start_year\": 1987, \"team\": \"FC Schalke 04\", \"goals\": 48, \"season\": \"1987-1988\"}, {\"season_start_year\": 1987, \"team\": \"FC St. Pauli\", \"goals\": 0, \"season\": \"1987-1988\"}, {\"season_start_year\": 1987, \"team\": \"Hamburger SV\", \"goals\": 64, \"season\": \"1987-1988\"}, {\"season_start_year\": 1987, \"team\": \"Hannover 96\", \"goals\": 62, \"season\": \"1987-1988\"}, {\"season_start_year\": 1987, \"team\": \"KFC Uerdingen\", \"goals\": 60, \"season\": \"1987-1988\"}, {\"season_start_year\": 1987, \"team\": \"Karlsruher SC\", \"goals\": 42, \"season\": \"1987-1988\"}, {\"season_start_year\": 1987, \"team\": \"SV Waldhof Mannheim\", \"goals\": 36, \"season\": \"1987-1988\"}, {\"season_start_year\": 1987, \"team\": \"Stuttgarter Kickers\", \"goals\": 3, \"season\": \"1987-1988\"}, {\"season_start_year\": 1987, \"team\": \"VfB Stuttgart\", \"goals\": 73, \"season\": \"1987-1988\"}, {\"season_start_year\": 1987, \"team\": \"VfL Bochum\", \"goals\": 48, \"season\": \"1987-1988\"}, {\"season_start_year\": 1987, \"team\": \"Werder Bremen\", \"goals\": 63, \"season\": \"1987-1988\"}, {\"season_start_year\": 1988, \"team\": \"1. FC Kaiserslautern\", \"goals\": 48, \"season\": \"1988-1989\"}, {\"season_start_year\": 1988, \"team\": \"1. FC K\\u00f6ln\", \"goals\": 56, \"season\": \"1988-1989\"}, {\"season_start_year\": 1988, \"team\": \"1. FC N\\u00fcrnberg\", \"goals\": 37, \"season\": \"1988-1989\"}, {\"season_start_year\": 1988, \"team\": \"Bayer 04 Leverkusen\", \"goals\": 42, \"season\": \"1988-1989\"}, {\"season_start_year\": 1988, \"team\": \"Bayern M\\u00fcnchen\", \"goals\": 65, \"season\": \"1988-1989\"}, {\"season_start_year\": 1988, \"team\": \"Bor. M\\u00f6nchengladbach\", \"goals\": 40, \"season\": \"1988-1989\"}, {\"season_start_year\": 1988, \"team\": \"Borussia Dortmund\", \"goals\": 55, \"season\": \"1988-1989\"}, {\"season_start_year\": 1988, \"team\": \"Eintracht Frankfurt\", \"goals\": 32, \"season\": \"1988-1989\"}, {\"season_start_year\": 1988, \"team\": \"FC 08 Homburg\", \"goals\": 0, \"season\": \"1988-1989\"}, {\"season_start_year\": 1988, \"team\": \"FC St. Pauli\", \"goals\": 41, \"season\": \"1988-1989\"}, {\"season_start_year\": 1988, \"team\": \"Fortuna D\\u00fcsseldorf\", \"goals\": 1, \"season\": \"1988-1989\"}, {\"season_start_year\": 1988, \"team\": \"Hamburger SV\", \"goals\": 60, \"season\": \"1988-1989\"}, {\"season_start_year\": 1988, \"team\": \"Hannover 96\", \"goals\": 33, \"season\": \"1988-1989\"}, {\"season_start_year\": 1988, \"team\": \"KFC Uerdingen\", \"goals\": 52, \"season\": \"1988-1989\"}, {\"season_start_year\": 1988, \"team\": \"Karlsruher SC\", \"goals\": 43, \"season\": \"1988-1989\"}, {\"season_start_year\": 1988, \"team\": \"SV Waldhof Mannheim\", \"goals\": 43, \"season\": \"1988-1989\"}, {\"season_start_year\": 1988, \"team\": \"Stuttgarter Kickers\", \"goals\": 38, \"season\": \"1988-1989\"}, {\"season_start_year\": 1988, \"team\": \"VfB Stuttgart\", \"goals\": 56, \"season\": \"1988-1989\"}, {\"season_start_year\": 1988, \"team\": \"VfL Bochum\", \"goals\": 35, \"season\": \"1988-1989\"}, {\"season_start_year\": 1988, \"team\": \"Werder Bremen\", \"goals\": 53, \"season\": \"1988-1989\"}, {\"season_start_year\": 1989, \"team\": \"1. FC Kaiserslautern\", \"goals\": 40, \"season\": \"1989-1990\"}, {\"season_start_year\": 1989, \"team\": \"1. FC K\\u00f6ln\", \"goals\": 53, \"season\": \"1989-1990\"}, {\"season_start_year\": 1989, \"team\": \"1. FC N\\u00fcrnberg\", \"goals\": 40, \"season\": \"1989-1990\"}, {\"season_start_year\": 1989, \"team\": \"Bayer 04 Leverkusen\", \"goals\": 39, \"season\": \"1989-1990\"}, {\"season_start_year\": 1989, \"team\": \"Bayern M\\u00fcnchen\", \"goals\": 61, \"season\": \"1989-1990\"}, {\"season_start_year\": 1989, \"team\": \"Bor. M\\u00f6nchengladbach\", \"goals\": 36, \"season\": \"1989-1990\"}, {\"season_start_year\": 1989, \"team\": \"Borussia Dortmund\", \"goals\": 51, \"season\": \"1989-1990\"}, {\"season_start_year\": 1989, \"team\": \"Eintracht Frankfurt\", \"goals\": 58, \"season\": \"1989-1990\"}, {\"season_start_year\": 1989, \"team\": \"FC 08 Homburg\", \"goals\": 33, \"season\": \"1989-1990\"}, {\"season_start_year\": 1989, \"team\": \"FC St. Pauli\", \"goals\": 31, \"season\": \"1989-1990\"}, {\"season_start_year\": 1989, \"team\": \"Fortuna D\\u00fcsseldorf\", \"goals\": 40, \"season\": \"1989-1990\"}, {\"season_start_year\": 1989, \"team\": \"Hamburger SV\", \"goals\": 38, \"season\": \"1989-1990\"}, {\"season_start_year\": 1989, \"team\": \"KFC Uerdingen\", \"goals\": 38, \"season\": \"1989-1990\"}, {\"season_start_year\": 1989, \"team\": \"Karlsruher SC\", \"goals\": 32, \"season\": \"1989-1990\"}, {\"season_start_year\": 1989, \"team\": \"SV Waldhof Mannheim\", \"goals\": 35, \"season\": \"1989-1990\"}, {\"season_start_year\": 1989, \"team\": \"VfB Stuttgart\", \"goals\": 51, \"season\": \"1989-1990\"}, {\"season_start_year\": 1989, \"team\": \"VfL Bochum\", \"goals\": 44, \"season\": \"1989-1990\"}, {\"season_start_year\": 1989, \"team\": \"Werder Bremen\", \"goals\": 49, \"season\": \"1989-1990\"}, {\"season_start_year\": 1990, \"team\": \"1. FC Kaiserslautern\", \"goals\": 72, \"season\": \"1990-1991\"}, {\"season_start_year\": 1990, \"team\": \"1. FC K\\u00f6ln\", \"goals\": 50, \"season\": \"1990-1991\"}, {\"season_start_year\": 1990, \"team\": \"1. FC N\\u00fcrnberg\", \"goals\": 40, \"season\": \"1990-1991\"}, {\"season_start_year\": 1990, \"team\": \"Bayer 04 Leverkusen\", \"goals\": 47, \"season\": \"1990-1991\"}, {\"season_start_year\": 1990, \"team\": \"Bayern M\\u00fcnchen\", \"goals\": 74, \"season\": \"1990-1991\"}, {\"season_start_year\": 1990, \"team\": \"Bor. M\\u00f6nchengladbach\", \"goals\": 49, \"season\": \"1990-1991\"}, {\"season_start_year\": 1990, \"team\": \"Borussia Dortmund\", \"goals\": 46, \"season\": \"1990-1991\"}, {\"season_start_year\": 1990, \"team\": \"Eintracht Frankfurt\", \"goals\": 63, \"season\": \"1990-1991\"}, {\"season_start_year\": 1990, \"team\": \"FC St. Pauli\", \"goals\": 33, \"season\": \"1990-1991\"}, {\"season_start_year\": 1990, \"team\": \"Fortuna D\\u00fcsseldorf\", \"goals\": 40, \"season\": \"1990-1991\"}, {\"season_start_year\": 1990, \"team\": \"Hamburger SV\", \"goals\": 60, \"season\": \"1990-1991\"}, {\"season_start_year\": 1990, \"team\": \"Hertha BSC\", \"goals\": 37, \"season\": \"1990-1991\"}, {\"season_start_year\": 1990, \"team\": \"KFC Uerdingen\", \"goals\": 34, \"season\": \"1990-1991\"}, {\"season_start_year\": 1990, \"team\": \"Karlsruher SC\", \"goals\": 46, \"season\": \"1990-1991\"}, {\"season_start_year\": 1990, \"team\": \"SG Wattenscheid 09\", \"goals\": 42, \"season\": \"1990-1991\"}, {\"season_start_year\": 1990, \"team\": \"VfB Stuttgart\", \"goals\": 57, \"season\": \"1990-1991\"}, {\"season_start_year\": 1990, \"team\": \"VfL Bochum\", \"goals\": 50, \"season\": \"1990-1991\"}, {\"season_start_year\": 1990, \"team\": \"Werder Bremen\", \"goals\": 46, \"season\": \"1990-1991\"}, {\"season_start_year\": 1991, \"team\": \"1. FC Kaiserslautern\", \"goals\": 58, \"season\": \"1991-1992\"}, {\"season_start_year\": 1991, \"team\": \"1. FC K\\u00f6ln\", \"goals\": 58, \"season\": \"1991-1992\"}, {\"season_start_year\": 1991, \"team\": \"1. FC N\\u00fcrnberg\", \"goals\": 54, \"season\": \"1991-1992\"}, {\"season_start_year\": 1991, \"team\": \"Bayer 04 Leverkusen\", \"goals\": 53, \"season\": \"1991-1992\"}, {\"season_start_year\": 1991, \"team\": \"Bayern M\\u00fcnchen\", \"goals\": 59, \"season\": \"1991-1992\"}, {\"season_start_year\": 1991, \"team\": \"Bor. M\\u00f6nchengladbach\", \"goals\": 37, \"season\": \"1991-1992\"}, {\"season_start_year\": 1991, \"team\": \"Borussia Dortmund\", \"goals\": 66, \"season\": \"1991-1992\"}, {\"season_start_year\": 1991, \"team\": \"Dynamo Dresden\", \"goals\": 34, \"season\": \"1991-1992\"}, {\"season_start_year\": 1991, \"team\": \"Eintracht Frankfurt\", \"goals\": 76, \"season\": \"1991-1992\"}, {\"season_start_year\": 1991, \"team\": \"FC Schalke 04\", \"goals\": 45, \"season\": \"1991-1992\"}, {\"season_start_year\": 1991, \"team\": \"Fortuna D\\u00fcsseldorf\", \"goals\": 41, \"season\": \"1991-1992\"}, {\"season_start_year\": 1991, \"team\": \"Hamburger SV\", \"goals\": 32, \"season\": \"1991-1992\"}, {\"season_start_year\": 1991, \"team\": \"Hansa Rostock\", \"goals\": 43, \"season\": \"1991-1992\"}, {\"season_start_year\": 1991, \"team\": \"Karlsruher SC\", \"goals\": 48, \"season\": \"1991-1992\"}, {\"season_start_year\": 1991, \"team\": \"MSV Duisburg\", \"goals\": 43, \"season\": \"1991-1992\"}, {\"season_start_year\": 1991, \"team\": \"SG Wattenscheid 09\", \"goals\": 50, \"season\": \"1991-1992\"}, {\"season_start_year\": 1991, \"team\": \"Stuttgarter Kickers\", \"goals\": 53, \"season\": \"1991-1992\"}, {\"season_start_year\": 1991, \"team\": \"VfB Stuttgart\", \"goals\": 62, \"season\": \"1991-1992\"}, {\"season_start_year\": 1991, \"team\": \"VfL Bochum\", \"goals\": 38, \"season\": \"1991-1992\"}, {\"season_start_year\": 1991, \"team\": \"Werder Bremen\", \"goals\": 44, \"season\": \"1991-1992\"}, {\"season_start_year\": 1992, \"team\": \"1. FC Kaiserslautern\", \"goals\": 50, \"season\": \"1992-1993\"}, {\"season_start_year\": 1992, \"team\": \"1. FC K\\u00f6ln\", \"goals\": 41, \"season\": \"1992-1993\"}, {\"season_start_year\": 1992, \"team\": \"1. FC N\\u00fcrnberg\", \"goals\": 30, \"season\": \"1992-1993\"}, {\"season_start_year\": 1992, \"team\": \"1. FC Saarbr\\u00fccken\", \"goals\": 37, \"season\": \"1992-1993\"}, {\"season_start_year\": 1992, \"team\": \"Bayer 04 Leverkusen\", \"goals\": 64, \"season\": \"1992-1993\"}, {\"season_start_year\": 1992, \"team\": \"Bayern M\\u00fcnchen\", \"goals\": 74, \"season\": \"1992-1993\"}, {\"season_start_year\": 1992, \"team\": \"Bor. M\\u00f6nchengladbach\", \"goals\": 59, \"season\": \"1992-1993\"}, {\"season_start_year\": 1992, \"team\": \"Borussia Dortmund\", \"goals\": 61, \"season\": \"1992-1993\"}, {\"season_start_year\": 1992, \"team\": \"Dynamo Dresden\", \"goals\": 32, \"season\": \"1992-1993\"}, {\"season_start_year\": 1992, \"team\": \"Eintracht Frankfurt\", \"goals\": 56, \"season\": \"1992-1993\"}, {\"season_start_year\": 1992, \"team\": \"FC Schalke 04\", \"goals\": 42, \"season\": \"1992-1993\"}, {\"season_start_year\": 1992, \"team\": \"Hamburger SV\", \"goals\": 42, \"season\": \"1992-1993\"}, {\"season_start_year\": 1992, \"team\": \"KFC Uerdingen\", \"goals\": 35, \"season\": \"1992-1993\"}, {\"season_start_year\": 1992, \"team\": \"Karlsruher SC\", \"goals\": 60, \"season\": \"1992-1993\"}, {\"season_start_year\": 1992, \"team\": \"SG Wattenscheid 09\", \"goals\": 46, \"season\": \"1992-1993\"}, {\"season_start_year\": 1992, \"team\": \"VfB Stuttgart\", \"goals\": 56, \"season\": \"1992-1993\"}, {\"season_start_year\": 1992, \"team\": \"VfL Bochum\", \"goals\": 45, \"season\": \"1992-1993\"}, {\"season_start_year\": 1992, \"team\": \"Werder Bremen\", \"goals\": 63, \"season\": \"1992-1993\"}, {\"season_start_year\": 1993, \"team\": \"1. FC Kaiserslautern\", \"goals\": 64, \"season\": \"1993-1994\"}, {\"season_start_year\": 1993, \"team\": \"1. FC K\\u00f6ln\", \"goals\": 49, \"season\": \"1993-1994\"}, {\"season_start_year\": 1993, \"team\": \"1. FC N\\u00fcrnberg\", \"goals\": 41, \"season\": \"1993-1994\"}, {\"season_start_year\": 1993, \"team\": \"Bayer 04 Leverkusen\", \"goals\": 60, \"season\": \"1993-1994\"}, {\"season_start_year\": 1993, \"team\": \"Bayern M\\u00fcnchen\", \"goals\": 68, \"season\": \"1993-1994\"}, {\"season_start_year\": 1993, \"team\": \"Bor. M\\u00f6nchengladbach\", \"goals\": 65, \"season\": \"1993-1994\"}, {\"season_start_year\": 1993, \"team\": \"Borussia Dortmund\", \"goals\": 49, \"season\": \"1993-1994\"}, {\"season_start_year\": 1993, \"team\": \"Dynamo Dresden\", \"goals\": 33, \"season\": \"1993-1994\"}, {\"season_start_year\": 1993, \"team\": \"Eintracht Frankfurt\", \"goals\": 57, \"season\": \"1993-1994\"}, {\"season_start_year\": 1993, \"team\": \"FC Schalke 04\", \"goals\": 38, \"season\": \"1993-1994\"}, {\"season_start_year\": 1993, \"team\": \"Hamburger SV\", \"goals\": 48, \"season\": \"1993-1994\"}, {\"season_start_year\": 1993, \"team\": \"Karlsruher SC\", \"goals\": 46, \"season\": \"1993-1994\"}, {\"season_start_year\": 1993, \"team\": \"MSV Duisburg\", \"goals\": 41, \"season\": \"1993-1994\"}, {\"season_start_year\": 1993, \"team\": \"SC Freiburg\", \"goals\": 54, \"season\": \"1993-1994\"}, {\"season_start_year\": 1993, \"team\": \"SG Wattenscheid 09\", \"goals\": 48, \"season\": \"1993-1994\"}, {\"season_start_year\": 1993, \"team\": \"VfB Leipzig\", \"goals\": 32, \"season\": \"1993-1994\"}, {\"season_start_year\": 1993, \"team\": \"VfB Stuttgart\", \"goals\": 51, \"season\": \"1993-1994\"}, {\"season_start_year\": 1993, \"team\": \"Werder Bremen\", \"goals\": 51, \"season\": \"1993-1994\"}, {\"season_start_year\": 1994, \"team\": \"1. FC Kaiserslautern\", \"goals\": 58, \"season\": \"1994-1995\"}, {\"season_start_year\": 1994, \"team\": \"1. FC K\\u00f6ln\", \"goals\": 54, \"season\": \"1994-1995\"}, {\"season_start_year\": 1994, \"team\": \"Bayer 04 Leverkusen\", \"goals\": 62, \"season\": \"1994-1995\"}, {\"season_start_year\": 1994, \"team\": \"Bayern M\\u00fcnchen\", \"goals\": 55, \"season\": \"1994-1995\"}, {\"season_start_year\": 1994, \"team\": \"Bor. M\\u00f6nchengladbach\", \"goals\": 66, \"season\": \"1994-1995\"}, {\"season_start_year\": 1994, \"team\": \"Borussia Dortmund\", \"goals\": 67, \"season\": \"1994-1995\"}, {\"season_start_year\": 1994, \"team\": \"Dynamo Dresden\", \"goals\": 33, \"season\": \"1994-1995\"}, {\"season_start_year\": 1994, \"team\": \"Eintracht Frankfurt\", \"goals\": 41, \"season\": \"1994-1995\"}, {\"season_start_year\": 1994, \"team\": \"FC Schalke 04\", \"goals\": 48, \"season\": \"1994-1995\"}, {\"season_start_year\": 1994, \"team\": \"Hamburger SV\", \"goals\": 43, \"season\": \"1994-1995\"}, {\"season_start_year\": 1994, \"team\": \"KFC Uerdingen\", \"goals\": 37, \"season\": \"1994-1995\"}, {\"season_start_year\": 1994, \"team\": \"Karlsruher SC\", \"goals\": 51, \"season\": \"1994-1995\"}, {\"season_start_year\": 1994, \"team\": \"MSV Duisburg\", \"goals\": 31, \"season\": \"1994-1995\"}, {\"season_start_year\": 1994, \"team\": \"SC Freiburg\", \"goals\": 66, \"season\": \"1994-1995\"}, {\"season_start_year\": 1994, \"team\": \"TSV 1860 M\\u00fcnchen\", \"goals\": 41, \"season\": \"1994-1995\"}, {\"season_start_year\": 1994, \"team\": \"VfB Stuttgart\", \"goals\": 52, \"season\": \"1994-1995\"}, {\"season_start_year\": 1994, \"team\": \"VfL Bochum\", \"goals\": 43, \"season\": \"1994-1995\"}, {\"season_start_year\": 1994, \"team\": \"Werder Bremen\", \"goals\": 70, \"season\": \"1994-1995\"}, {\"season_start_year\": 1995, \"team\": \"1. FC Kaiserslautern\", \"goals\": 31, \"season\": \"1995-1996\"}, {\"season_start_year\": 1995, \"team\": \"1. FC K\\u00f6ln\", \"goals\": 33, \"season\": \"1995-1996\"}, {\"season_start_year\": 1995, \"team\": \"Bayer 04 Leverkusen\", \"goals\": 37, \"season\": \"1995-1996\"}, {\"season_start_year\": 1995, \"team\": \"Bayern M\\u00fcnchen\", \"goals\": 66, \"season\": \"1995-1996\"}, {\"season_start_year\": 1995, \"team\": \"Bor. M\\u00f6nchengladbach\", \"goals\": 52, \"season\": \"1995-1996\"}, {\"season_start_year\": 1995, \"team\": \"Borussia Dortmund\", \"goals\": 76, \"season\": \"1995-1996\"}, {\"season_start_year\": 1995, \"team\": \"Eintracht Frankfurt\", \"goals\": 43, \"season\": \"1995-1996\"}, {\"season_start_year\": 1995, \"team\": \"FC Schalke 04\", \"goals\": 45, \"season\": \"1995-1996\"}, {\"season_start_year\": 1995, \"team\": \"FC St. Pauli\", \"goals\": 43, \"season\": \"1995-1996\"}, {\"season_start_year\": 1995, \"team\": \"Fortuna D\\u00fcsseldorf\", \"goals\": 40, \"season\": \"1995-1996\"}, {\"season_start_year\": 1995, \"team\": \"Hamburger SV\", \"goals\": 52, \"season\": \"1995-1996\"}, {\"season_start_year\": 1995, \"team\": \"Hansa Rostock\", \"goals\": 47, \"season\": \"1995-1996\"}, {\"season_start_year\": 1995, \"team\": \"KFC Uerdingen\", \"goals\": 33, \"season\": \"1995-1996\"}, {\"season_start_year\": 1995, \"team\": \"Karlsruher SC\", \"goals\": 53, \"season\": \"1995-1996\"}, {\"season_start_year\": 1995, \"team\": \"SC Freiburg\", \"goals\": 30, \"season\": \"1995-1996\"}, {\"season_start_year\": 1995, \"team\": \"TSV 1860 M\\u00fcnchen\", \"goals\": 52, \"season\": \"1995-1996\"}, {\"season_start_year\": 1995, \"team\": \"VfB Stuttgart\", \"goals\": 59, \"season\": \"1995-1996\"}, {\"season_start_year\": 1995, \"team\": \"Werder Bremen\", \"goals\": 39, \"season\": \"1995-1996\"}, {\"season_start_year\": 1996, \"team\": \"1. FC K\\u00f6ln\", \"goals\": 62, \"season\": \"1996-1997\"}, {\"season_start_year\": 1996, \"team\": \"Arminia Bielefeld\", \"goals\": 46, \"season\": \"1996-1997\"}, {\"season_start_year\": 1996, \"team\": \"Bayer 04 Leverkusen\", \"goals\": 69, \"season\": \"1996-1997\"}, {\"season_start_year\": 1996, \"team\": \"Bayern M\\u00fcnchen\", \"goals\": 68, \"season\": \"1996-1997\"}, {\"season_start_year\": 1996, \"team\": \"Bor. M\\u00f6nchengladbach\", \"goals\": 46, \"season\": \"1996-1997\"}, {\"season_start_year\": 1996, \"team\": \"Borussia Dortmund\", \"goals\": 63, \"season\": \"1996-1997\"}, {\"season_start_year\": 1996, \"team\": \"FC Schalke 04\", \"goals\": 35, \"season\": \"1996-1997\"}, {\"season_start_year\": 1996, \"team\": \"FC St. Pauli\", \"goals\": 32, \"season\": \"1996-1997\"}, {\"season_start_year\": 1996, \"team\": \"Fortuna D\\u00fcsseldorf\", \"goals\": 26, \"season\": \"1996-1997\"}, {\"season_start_year\": 1996, \"team\": \"Hamburger SV\", \"goals\": 46, \"season\": \"1996-1997\"}, {\"season_start_year\": 1996, \"team\": \"Hansa Rostock\", \"goals\": 35, \"season\": \"1996-1997\"}, {\"season_start_year\": 1996, \"team\": \"Karlsruher SC\", \"goals\": 55, \"season\": \"1996-1997\"}, {\"season_start_year\": 1996, \"team\": \"MSV Duisburg\", \"goals\": 44, \"season\": \"1996-1997\"}, {\"season_start_year\": 1996, \"team\": \"SC Freiburg\", \"goals\": 43, \"season\": \"1996-1997\"}, {\"season_start_year\": 1996, \"team\": \"TSV 1860 M\\u00fcnchen\", \"goals\": 56, \"season\": \"1996-1997\"}, {\"season_start_year\": 1996, \"team\": \"VfB Stuttgart\", \"goals\": 78, \"season\": \"1996-1997\"}, {\"season_start_year\": 1996, \"team\": \"VfL Bochum\", \"goals\": 54, \"season\": \"1996-1997\"}, {\"season_start_year\": 1996, \"team\": \"Werder Bremen\", \"goals\": 53, \"season\": \"1996-1997\"}, {\"season_start_year\": 1997, \"team\": \"1. FC Kaiserslautern\", \"goals\": 63, \"season\": \"1997-1998\"}, {\"season_start_year\": 1997, \"team\": \"1. FC K\\u00f6ln\", \"goals\": 49, \"season\": \"1997-1998\"}, {\"season_start_year\": 1997, \"team\": \"Arminia Bielefeld\", \"goals\": 43, \"season\": \"1997-1998\"}, {\"season_start_year\": 1997, \"team\": \"Bayer 04 Leverkusen\", \"goals\": 66, \"season\": \"1997-1998\"}, {\"season_start_year\": 1997, \"team\": \"Bayern M\\u00fcnchen\", \"goals\": 69, \"season\": \"1997-1998\"}, {\"season_start_year\": 1997, \"team\": \"Bor. M\\u00f6nchengladbach\", \"goals\": 54, \"season\": \"1997-1998\"}, {\"season_start_year\": 1997, \"team\": \"Borussia Dortmund\", \"goals\": 57, \"season\": \"1997-1998\"}, {\"season_start_year\": 1997, \"team\": \"FC Schalke 04\", \"goals\": 38, \"season\": \"1997-1998\"}, {\"season_start_year\": 1997, \"team\": \"Hamburger SV\", \"goals\": 38, \"season\": \"1997-1998\"}, {\"season_start_year\": 1997, \"team\": \"Hansa Rostock\", \"goals\": 54, \"season\": \"1997-1998\"}, {\"season_start_year\": 1997, \"team\": \"Hertha BSC\", \"goals\": 41, \"season\": \"1997-1998\"}, {\"season_start_year\": 1997, \"team\": \"Karlsruher SC\", \"goals\": 48, \"season\": \"1997-1998\"}, {\"season_start_year\": 1997, \"team\": \"MSV Duisburg\", \"goals\": 43, \"season\": \"1997-1998\"}, {\"season_start_year\": 1997, \"team\": \"TSV 1860 M\\u00fcnchen\", \"goals\": 43, \"season\": \"1997-1998\"}, {\"season_start_year\": 1997, \"team\": \"VfB Stuttgart\", \"goals\": 55, \"season\": \"1997-1998\"}, {\"season_start_year\": 1997, \"team\": \"VfL Bochum\", \"goals\": 41, \"season\": \"1997-1998\"}, {\"season_start_year\": 1997, \"team\": \"VfL Wolfsburg\", \"goals\": 38, \"season\": \"1997-1998\"}, {\"season_start_year\": 1997, \"team\": \"Werder Bremen\", \"goals\": 43, \"season\": \"1997-1998\"}, {\"season_start_year\": 1998, \"team\": \"1. FC Kaiserslautern\", \"goals\": 51, \"season\": \"1998-1999\"}, {\"season_start_year\": 1998, \"team\": \"1. FC N\\u00fcrnberg\", \"goals\": 40, \"season\": \"1998-1999\"}, {\"season_start_year\": 1998, \"team\": \"Bayer 04 Leverkusen\", \"goals\": 61, \"season\": \"1998-1999\"}, {\"season_start_year\": 1998, \"team\": \"Bayern M\\u00fcnchen\", \"goals\": 76, \"season\": \"1998-1999\"}, {\"season_start_year\": 1998, \"team\": \"Bor. M\\u00f6nchengladbach\", \"goals\": 41, \"season\": \"1998-1999\"}, {\"season_start_year\": 1998, \"team\": \"Borussia Dortmund\", \"goals\": 48, \"season\": \"1998-1999\"}, {\"season_start_year\": 1998, \"team\": \"Eintracht Frankfurt\", \"goals\": 44, \"season\": \"1998-1999\"}, {\"season_start_year\": 1998, \"team\": \"FC Schalke 04\", \"goals\": 41, \"season\": \"1998-1999\"}, {\"season_start_year\": 1998, \"team\": \"Hamburger SV\", \"goals\": 47, \"season\": \"1998-1999\"}, {\"season_start_year\": 1998, \"team\": \"Hansa Rostock\", \"goals\": 49, \"season\": \"1998-1999\"}, {\"season_start_year\": 1998, \"team\": \"Hertha BSC\", \"goals\": 59, \"season\": \"1998-1999\"}, {\"season_start_year\": 1998, \"team\": \"MSV Duisburg\", \"goals\": 48, \"season\": \"1998-1999\"}, {\"season_start_year\": 1998, \"team\": \"SC Freiburg\", \"goals\": 36, \"season\": \"1998-1999\"}, {\"season_start_year\": 1998, \"team\": \"TSV 1860 M\\u00fcnchen\", \"goals\": 49, \"season\": \"1998-1999\"}, {\"season_start_year\": 1998, \"team\": \"VfB Stuttgart\", \"goals\": 41, \"season\": \"1998-1999\"}, {\"season_start_year\": 1998, \"team\": \"VfL Bochum\", \"goals\": 40, \"season\": \"1998-1999\"}, {\"season_start_year\": 1998, \"team\": \"VfL Wolfsburg\", \"goals\": 54, \"season\": \"1998-1999\"}, {\"season_start_year\": 1998, \"team\": \"Werder Bremen\", \"goals\": 41, \"season\": \"1998-1999\"}, {\"season_start_year\": 1999, \"team\": \"1. FC Kaiserslautern\", \"goals\": 54, \"season\": \"1999-2000\"}, {\"season_start_year\": 1999, \"team\": \"Arminia Bielefeld\", \"goals\": 40, \"season\": \"1999-2000\"}, {\"season_start_year\": 1999, \"team\": \"Bayer 04 Leverkusen\", \"goals\": 74, \"season\": \"1999-2000\"}, {\"season_start_year\": 1999, \"team\": \"Bayern M\\u00fcnchen\", \"goals\": 73, \"season\": \"1999-2000\"}, {\"season_start_year\": 1999, \"team\": \"Borussia Dortmund\", \"goals\": 41, \"season\": \"1999-2000\"}, {\"season_start_year\": 1999, \"team\": \"Eintracht Frankfurt\", \"goals\": 42, \"season\": \"1999-2000\"}, {\"season_start_year\": 1999, \"team\": \"FC Schalke 04\", \"goals\": 42, \"season\": \"1999-2000\"}, {\"season_start_year\": 1999, \"team\": \"Hamburger SV\", \"goals\": 63, \"season\": \"1999-2000\"}, {\"season_start_year\": 1999, \"team\": \"Hansa Rostock\", \"goals\": 44, \"season\": \"1999-2000\"}, {\"season_start_year\": 1999, \"team\": \"Hertha BSC\", \"goals\": 39, \"season\": \"1999-2000\"}, {\"season_start_year\": 1999, \"team\": \"MSV Duisburg\", \"goals\": 37, \"season\": \"1999-2000\"}, {\"season_start_year\": 1999, \"team\": \"SC Freiburg\", \"goals\": 45, \"season\": \"1999-2000\"}, {\"season_start_year\": 1999, \"team\": \"SSV Ulm 1846\", \"goals\": 36, \"season\": \"1999-2000\"}, {\"season_start_year\": 1999, \"team\": \"SpVgg Unterhaching\", \"goals\": 40, \"season\": \"1999-2000\"}, {\"season_start_year\": 1999, \"team\": \"TSV 1860 M\\u00fcnchen\", \"goals\": 55, \"season\": \"1999-2000\"}, {\"season_start_year\": 1999, \"team\": \"VfB Stuttgart\", \"goals\": 44, \"season\": \"1999-2000\"}, {\"season_start_year\": 1999, \"team\": \"VfL Wolfsburg\", \"goals\": 51, \"season\": \"1999-2000\"}, {\"season_start_year\": 1999, \"team\": \"Werder Bremen\", \"goals\": 65, \"season\": \"1999-2000\"}, {\"season_start_year\": 2000, \"team\": \"1. FC Kaiserslautern\", \"goals\": 53, \"season\": \"2000-2001\"}, {\"season_start_year\": 2000, \"team\": \"1. FC K\\u00f6ln\", \"goals\": 59, \"season\": \"2000-2001\"}, {\"season_start_year\": 2000, \"team\": \"1. FC N\\u00fcrnberg\", \"goals\": 0, \"season\": \"2000-2001\"}, {\"season_start_year\": 2000, \"team\": \"Bayer 04 Leverkusen\", \"goals\": 56, \"season\": \"2000-2001\"}, {\"season_start_year\": 2000, \"team\": \"Bayern M\\u00fcnchen\", \"goals\": 62, \"season\": \"2000-2001\"}, {\"season_start_year\": 2000, \"team\": \"Bor. M\\u00f6nchengladbach\", \"goals\": 1, \"season\": \"2000-2001\"}, {\"season_start_year\": 2000, \"team\": \"Borussia Dortmund\", \"goals\": 64, \"season\": \"2000-2001\"}, {\"season_start_year\": 2000, \"team\": \"Eintracht Frankfurt\", \"goals\": 41, \"season\": \"2000-2001\"}, {\"season_start_year\": 2000, \"team\": \"Energie Cottbus\", \"goals\": 39, \"season\": \"2000-2001\"}, {\"season_start_year\": 2000, \"team\": \"FC Schalke 04\", \"goals\": 65, \"season\": \"2000-2001\"}, {\"season_start_year\": 2000, \"team\": \"FC St. Pauli\", \"goals\": 0, \"season\": \"2000-2001\"}, {\"season_start_year\": 2000, \"team\": \"Hamburger SV\", \"goals\": 58, \"season\": \"2000-2001\"}, {\"season_start_year\": 2000, \"team\": \"Hansa Rostock\", \"goals\": 34, \"season\": \"2000-2001\"}, {\"season_start_year\": 2000, \"team\": \"Hertha BSC\", \"goals\": 58, \"season\": \"2000-2001\"}, {\"season_start_year\": 2000, \"team\": \"SC Freiburg\", \"goals\": 57, \"season\": \"2000-2001\"}, {\"season_start_year\": 2000, \"team\": \"SpVgg Unterhaching\", \"goals\": 35, \"season\": \"2000-2001\"}, {\"season_start_year\": 2000, \"team\": \"TSV 1860 M\\u00fcnchen\", \"goals\": 43, \"season\": \"2000-2001\"}, {\"season_start_year\": 2000, \"team\": \"VfB Stuttgart\", \"goals\": 42, \"season\": \"2000-2001\"}, {\"season_start_year\": 2000, \"team\": \"VfL Bochum\", \"goals\": 30, \"season\": \"2000-2001\"}, {\"season_start_year\": 2000, \"team\": \"VfL Wolfsburg\", \"goals\": 61, \"season\": \"2000-2001\"}, {\"season_start_year\": 2000, \"team\": \"Werder Bremen\", \"goals\": 53, \"season\": \"2000-2001\"}, {\"season_start_year\": 2001, \"team\": \"1. FC Kaiserslautern\", \"goals\": 58, \"season\": \"2001-2002\"}, {\"season_start_year\": 2001, \"team\": \"1. FC K\\u00f6ln\", \"goals\": 26, \"season\": \"2001-2002\"}, {\"season_start_year\": 2001, \"team\": \"1. FC N\\u00fcrnberg\", \"goals\": 34, \"season\": \"2001-2002\"}, {\"season_start_year\": 2001, \"team\": \"Bayer 04 Leverkusen\", \"goals\": 75, \"season\": \"2001-2002\"}, {\"season_start_year\": 2001, \"team\": \"Bayern M\\u00fcnchen\", \"goals\": 65, \"season\": \"2001-2002\"}, {\"season_start_year\": 2001, \"team\": \"Bor. M\\u00f6nchengladbach\", \"goals\": 40, \"season\": \"2001-2002\"}, {\"season_start_year\": 2001, \"team\": \"Borussia Dortmund\", \"goals\": 60, \"season\": \"2001-2002\"}, {\"season_start_year\": 2001, \"team\": \"Energie Cottbus\", \"goals\": 35, \"season\": \"2001-2002\"}, {\"season_start_year\": 2001, \"team\": \"FC Schalke 04\", \"goals\": 52, \"season\": \"2001-2002\"}, {\"season_start_year\": 2001, \"team\": \"FC St. Pauli\", \"goals\": 37, \"season\": \"2001-2002\"}, {\"season_start_year\": 2001, \"team\": \"Hamburger SV\", \"goals\": 51, \"season\": \"2001-2002\"}, {\"season_start_year\": 2001, \"team\": \"Hansa Rostock\", \"goals\": 35, \"season\": \"2001-2002\"}, {\"season_start_year\": 2001, \"team\": \"Hertha BSC\", \"goals\": 61, \"season\": \"2001-2002\"}, {\"season_start_year\": 2001, \"team\": \"SC Freiburg\", \"goals\": 34, \"season\": \"2001-2002\"}, {\"season_start_year\": 2001, \"team\": \"TSV 1860 M\\u00fcnchen\", \"goals\": 59, \"season\": \"2001-2002\"}, {\"season_start_year\": 2001, \"team\": \"VfB Stuttgart\", \"goals\": 47, \"season\": \"2001-2002\"}, {\"season_start_year\": 2001, \"team\": \"VfL Wolfsburg\", \"goals\": 56, \"season\": \"2001-2002\"}, {\"season_start_year\": 2001, \"team\": \"Werder Bremen\", \"goals\": 54, \"season\": \"2001-2002\"}, {\"season_start_year\": 2002, \"team\": \"1. FC Kaiserslautern\", \"goals\": 40, \"season\": \"2002-2003\"}, {\"season_start_year\": 2002, \"team\": \"1. FC N\\u00fcrnberg\", \"goals\": 33, \"season\": \"2002-2003\"}, {\"season_start_year\": 2002, \"team\": \"Arminia Bielefeld\", \"goals\": 35, \"season\": \"2002-2003\"}, {\"season_start_year\": 2002, \"team\": \"Bayer 04 Leverkusen\", \"goals\": 47, \"season\": \"2002-2003\"}, {\"season_start_year\": 2002, \"team\": \"Bayern M\\u00fcnchen\", \"goals\": 70, \"season\": \"2002-2003\"}, {\"season_start_year\": 2002, \"team\": \"Bor. M\\u00f6nchengladbach\", \"goals\": 43, \"season\": \"2002-2003\"}, {\"season_start_year\": 2002, \"team\": \"Borussia Dortmund\", \"goals\": 51, \"season\": \"2002-2003\"}, {\"season_start_year\": 2002, \"team\": \"Energie Cottbus\", \"goals\": 34, \"season\": \"2002-2003\"}, {\"season_start_year\": 2002, \"team\": \"FC Schalke 04\", \"goals\": 46, \"season\": \"2002-2003\"}, {\"season_start_year\": 2002, \"team\": \"Hamburger SV\", \"goals\": 46, \"season\": \"2002-2003\"}, {\"season_start_year\": 2002, \"team\": \"Hannover 96\", \"goals\": 47, \"season\": \"2002-2003\"}, {\"season_start_year\": 2002, \"team\": \"Hansa Rostock\", \"goals\": 35, \"season\": \"2002-2003\"}, {\"season_start_year\": 2002, \"team\": \"Hertha BSC\", \"goals\": 52, \"season\": \"2002-2003\"}, {\"season_start_year\": 2002, \"team\": \"TSV 1860 M\\u00fcnchen\", \"goals\": 44, \"season\": \"2002-2003\"}, {\"season_start_year\": 2002, \"team\": \"VfB Stuttgart\", \"goals\": 53, \"season\": \"2002-2003\"}, {\"season_start_year\": 2002, \"team\": \"VfL Bochum\", \"goals\": 55, \"season\": \"2002-2003\"}, {\"season_start_year\": 2002, \"team\": \"VfL Wolfsburg\", \"goals\": 39, \"season\": \"2002-2003\"}, {\"season_start_year\": 2002, \"team\": \"Werder Bremen\", \"goals\": 51, \"season\": \"2002-2003\"}, {\"season_start_year\": 2003, \"team\": \"1. FC Kaiserslautern\", \"goals\": 39, \"season\": \"2003-2004\"}, {\"season_start_year\": 2003, \"team\": \"1. FC K\\u00f6ln\", \"goals\": 32, \"season\": \"2003-2004\"}, {\"season_start_year\": 2003, \"team\": \"Bayer 04 Leverkusen\", \"goals\": 73, \"season\": \"2003-2004\"}, {\"season_start_year\": 2003, \"team\": \"Bayern M\\u00fcnchen\", \"goals\": 70, \"season\": \"2003-2004\"}, {\"season_start_year\": 2003, \"team\": \"Bor. M\\u00f6nchengladbach\", \"goals\": 40, \"season\": \"2003-2004\"}, {\"season_start_year\": 2003, \"team\": \"Borussia Dortmund\", \"goals\": 59, \"season\": \"2003-2004\"}, {\"season_start_year\": 2003, \"team\": \"Eintracht Frankfurt\", \"goals\": 36, \"season\": \"2003-2004\"}, {\"season_start_year\": 2003, \"team\": \"FC Schalke 04\", \"goals\": 49, \"season\": \"2003-2004\"}, {\"season_start_year\": 2003, \"team\": \"Hamburger SV\", \"goals\": 47, \"season\": \"2003-2004\"}, {\"season_start_year\": 2003, \"team\": \"Hannover 96\", \"goals\": 49, \"season\": \"2003-2004\"}, {\"season_start_year\": 2003, \"team\": \"Hansa Rostock\", \"goals\": 55, \"season\": \"2003-2004\"}, {\"season_start_year\": 2003, \"team\": \"Hertha BSC\", \"goals\": 42, \"season\": \"2003-2004\"}, {\"season_start_year\": 2003, \"team\": \"SC Freiburg\", \"goals\": 42, \"season\": \"2003-2004\"}, {\"season_start_year\": 2003, \"team\": \"TSV 1860 M\\u00fcnchen\", \"goals\": 32, \"season\": \"2003-2004\"}, {\"season_start_year\": 2003, \"team\": \"VfB Stuttgart\", \"goals\": 52, \"season\": \"2003-2004\"}, {\"season_start_year\": 2003, \"team\": \"VfL Bochum\", \"goals\": 57, \"season\": \"2003-2004\"}, {\"season_start_year\": 2003, \"team\": \"VfL Wolfsburg\", \"goals\": 56, \"season\": \"2003-2004\"}, {\"season_start_year\": 2003, \"team\": \"Werder Bremen\", \"goals\": 79, \"season\": \"2003-2004\"}, {\"season_start_year\": 2004, \"team\": \"1. FC Kaiserslautern\", \"goals\": 43, \"season\": \"2004-2005\"}, {\"season_start_year\": 2004, \"team\": \"1. FC N\\u00fcrnberg\", \"goals\": 55, \"season\": \"2004-2005\"}, {\"season_start_year\": 2004, \"team\": \"1. FSV Mainz 05\", \"goals\": 50, \"season\": \"2004-2005\"}, {\"season_start_year\": 2004, \"team\": \"Arminia Bielefeld\", \"goals\": 37, \"season\": \"2004-2005\"}, {\"season_start_year\": 2004, \"team\": \"Bayer 04 Leverkusen\", \"goals\": 65, \"season\": \"2004-2005\"}, {\"season_start_year\": 2004, \"team\": \"Bayern M\\u00fcnchen\", \"goals\": 75, \"season\": \"2004-2005\"}, {\"season_start_year\": 2004, \"team\": \"Bor. M\\u00f6nchengladbach\", \"goals\": 35, \"season\": \"2004-2005\"}, {\"season_start_year\": 2004, \"team\": \"Borussia Dortmund\", \"goals\": 47, \"season\": \"2004-2005\"}, {\"season_start_year\": 2004, \"team\": \"FC Schalke 04\", \"goals\": 56, \"season\": \"2004-2005\"}, {\"season_start_year\": 2004, \"team\": \"Hamburger SV\", \"goals\": 55, \"season\": \"2004-2005\"}, {\"season_start_year\": 2004, \"team\": \"Hannover 96\", \"goals\": 34, \"season\": \"2004-2005\"}, {\"season_start_year\": 2004, \"team\": \"Hansa Rostock\", \"goals\": 31, \"season\": \"2004-2005\"}, {\"season_start_year\": 2004, \"team\": \"Hertha BSC\", \"goals\": 59, \"season\": \"2004-2005\"}, {\"season_start_year\": 2004, \"team\": \"SC Freiburg\", \"goals\": 30, \"season\": \"2004-2005\"}, {\"season_start_year\": 2004, \"team\": \"VfB Stuttgart\", \"goals\": 54, \"season\": \"2004-2005\"}, {\"season_start_year\": 2004, \"team\": \"VfL Bochum\", \"goals\": 47, \"season\": \"2004-2005\"}, {\"season_start_year\": 2004, \"team\": \"VfL Wolfsburg\", \"goals\": 49, \"season\": \"2004-2005\"}, {\"season_start_year\": 2004, \"team\": \"Werder Bremen\", \"goals\": 68, \"season\": \"2004-2005\"}, {\"season_start_year\": 2005, \"team\": \"1. FC Kaiserslautern\", \"goals\": 47, \"season\": \"2005-2006\"}, {\"season_start_year\": 2005, \"team\": \"1. FC K\\u00f6ln\", \"goals\": 49, \"season\": \"2005-2006\"}, {\"season_start_year\": 2005, \"team\": \"1. FC N\\u00fcrnberg\", \"goals\": 49, \"season\": \"2005-2006\"}, {\"season_start_year\": 2005, \"team\": \"1. FSV Mainz 05\", \"goals\": 46, \"season\": \"2005-2006\"}, {\"season_start_year\": 2005, \"team\": \"Arminia Bielefeld\", \"goals\": 32, \"season\": \"2005-2006\"}, {\"season_start_year\": 2005, \"team\": \"Bayer 04 Leverkusen\", \"goals\": 64, \"season\": \"2005-2006\"}, {\"season_start_year\": 2005, \"team\": \"Bayern M\\u00fcnchen\", \"goals\": 67, \"season\": \"2005-2006\"}, {\"season_start_year\": 2005, \"team\": \"Bor. M\\u00f6nchengladbach\", \"goals\": 42, \"season\": \"2005-2006\"}, {\"season_start_year\": 2005, \"team\": \"Borussia Dortmund\", \"goals\": 45, \"season\": \"2005-2006\"}, {\"season_start_year\": 2005, \"team\": \"Eintracht Frankfurt\", \"goals\": 42, \"season\": \"2005-2006\"}, {\"season_start_year\": 2005, \"team\": \"FC Schalke 04\", \"goals\": 47, \"season\": \"2005-2006\"}, {\"season_start_year\": 2005, \"team\": \"Hamburger SV\", \"goals\": 53, \"season\": \"2005-2006\"}, {\"season_start_year\": 2005, \"team\": \"Hannover 96\", \"goals\": 43, \"season\": \"2005-2006\"}, {\"season_start_year\": 2005, \"team\": \"Hertha BSC\", \"goals\": 52, \"season\": \"2005-2006\"}, {\"season_start_year\": 2005, \"team\": \"MSV Duisburg\", \"goals\": 34, \"season\": \"2005-2006\"}, {\"season_start_year\": 2005, \"team\": \"VfB Stuttgart\", \"goals\": 37, \"season\": \"2005-2006\"}, {\"season_start_year\": 2005, \"team\": \"VfL Wolfsburg\", \"goals\": 33, \"season\": \"2005-2006\"}, {\"season_start_year\": 2005, \"team\": \"Werder Bremen\", \"goals\": 79, \"season\": \"2005-2006\"}, {\"season_start_year\": 2006, \"team\": \"1. FC N\\u00fcrnberg\", \"goals\": 43, \"season\": \"2006-2007\"}, {\"season_start_year\": 2006, \"team\": \"1. FSV Mainz 05\", \"goals\": 34, \"season\": \"2006-2007\"}, {\"season_start_year\": 2006, \"team\": \"Alemannia Aachen\", \"goals\": 46, \"season\": \"2006-2007\"}, {\"season_start_year\": 2006, \"team\": \"Arminia Bielefeld\", \"goals\": 47, \"season\": \"2006-2007\"}, {\"season_start_year\": 2006, \"team\": \"Bayer 04 Leverkusen\", \"goals\": 54, \"season\": \"2006-2007\"}, {\"season_start_year\": 2006, \"team\": \"Bayern M\\u00fcnchen\", \"goals\": 55, \"season\": \"2006-2007\"}, {\"season_start_year\": 2006, \"team\": \"Bor. M\\u00f6nchengladbach\", \"goals\": 23, \"season\": \"2006-2007\"}, {\"season_start_year\": 2006, \"team\": \"Borussia Dortmund\", \"goals\": 41, \"season\": \"2006-2007\"}, {\"season_start_year\": 2006, \"team\": \"Eintracht Frankfurt\", \"goals\": 46, \"season\": \"2006-2007\"}, {\"season_start_year\": 2006, \"team\": \"Energie Cottbus\", \"goals\": 38, \"season\": \"2006-2007\"}, {\"season_start_year\": 2006, \"team\": \"FC Schalke 04\", \"goals\": 53, \"season\": \"2006-2007\"}, {\"season_start_year\": 2006, \"team\": \"Hamburger SV\", \"goals\": 43, \"season\": \"2006-2007\"}, {\"season_start_year\": 2006, \"team\": \"Hannover 96\", \"goals\": 41, \"season\": \"2006-2007\"}, {\"season_start_year\": 2006, \"team\": \"Hertha BSC\", \"goals\": 50, \"season\": \"2006-2007\"}, {\"season_start_year\": 2006, \"team\": \"VfB Stuttgart\", \"goals\": 61, \"season\": \"2006-2007\"}, {\"season_start_year\": 2006, \"team\": \"VfL Bochum\", \"goals\": 49, \"season\": \"2006-2007\"}, {\"season_start_year\": 2006, \"team\": \"VfL Wolfsburg\", \"goals\": 37, \"season\": \"2006-2007\"}, {\"season_start_year\": 2006, \"team\": \"Werder Bremen\", \"goals\": 76, \"season\": \"2006-2007\"}, {\"season_start_year\": 2007, \"team\": \"1. FC N\\u00fcrnberg\", \"goals\": 35, \"season\": \"2007-2008\"}, {\"season_start_year\": 2007, \"team\": \"Arminia Bielefeld\", \"goals\": 35, \"season\": \"2007-2008\"}, {\"season_start_year\": 2007, \"team\": \"Bayer 04 Leverkusen\", \"goals\": 57, \"season\": \"2007-2008\"}, {\"season_start_year\": 2007, \"team\": \"Bayern M\\u00fcnchen\", \"goals\": 68, \"season\": \"2007-2008\"}, {\"season_start_year\": 2007, \"team\": \"Borussia Dortmund\", \"goals\": 50, \"season\": \"2007-2008\"}, {\"season_start_year\": 2007, \"team\": \"Eintracht Frankfurt\", \"goals\": 43, \"season\": \"2007-2008\"}, {\"season_start_year\": 2007, \"team\": \"Energie Cottbus\", \"goals\": 35, \"season\": \"2007-2008\"}, {\"season_start_year\": 2007, \"team\": \"FC Schalke 04\", \"goals\": 55, \"season\": \"2007-2008\"}, {\"season_start_year\": 2007, \"team\": \"Hamburger SV\", \"goals\": 47, \"season\": \"2007-2008\"}, {\"season_start_year\": 2007, \"team\": \"Hannover 96\", \"goals\": 54, \"season\": \"2007-2008\"}, {\"season_start_year\": 2007, \"team\": \"Hansa Rostock\", \"goals\": 30, \"season\": \"2007-2008\"}, {\"season_start_year\": 2007, \"team\": \"Hertha BSC\", \"goals\": 39, \"season\": \"2007-2008\"}, {\"season_start_year\": 2007, \"team\": \"Karlsruher SC\", \"goals\": 38, \"season\": \"2007-2008\"}, {\"season_start_year\": 2007, \"team\": \"MSV Duisburg\", \"goals\": 36, \"season\": \"2007-2008\"}, {\"season_start_year\": 2007, \"team\": \"VfB Stuttgart\", \"goals\": 57, \"season\": \"2007-2008\"}, {\"season_start_year\": 2007, \"team\": \"VfL Bochum\", \"goals\": 48, \"season\": \"2007-2008\"}, {\"season_start_year\": 2007, \"team\": \"VfL Wolfsburg\", \"goals\": 58, \"season\": \"2007-2008\"}, {\"season_start_year\": 2007, \"team\": \"Werder Bremen\", \"goals\": 75, \"season\": \"2007-2008\"}, {\"season_start_year\": 2008, \"team\": \"1. FC K\\u00f6ln\", \"goals\": 35, \"season\": \"2008-2009\"}, {\"season_start_year\": 2008, \"team\": \"Arminia Bielefeld\", \"goals\": 29, \"season\": \"2008-2009\"}, {\"season_start_year\": 2008, \"team\": \"Bayer 04 Leverkusen\", \"goals\": 59, \"season\": \"2008-2009\"}, {\"season_start_year\": 2008, \"team\": \"Bayern M\\u00fcnchen\", \"goals\": 71, \"season\": \"2008-2009\"}, {\"season_start_year\": 2008, \"team\": \"Bor. M\\u00f6nchengladbach\", \"goals\": 39, \"season\": \"2008-2009\"}, {\"season_start_year\": 2008, \"team\": \"Borussia Dortmund\", \"goals\": 60, \"season\": \"2008-2009\"}, {\"season_start_year\": 2008, \"team\": \"Eintracht Frankfurt\", \"goals\": 39, \"season\": \"2008-2009\"}, {\"season_start_year\": 2008, \"team\": \"Energie Cottbus\", \"goals\": 30, \"season\": \"2008-2009\"}, {\"season_start_year\": 2008, \"team\": \"FC Schalke 04\", \"goals\": 47, \"season\": \"2008-2009\"}, {\"season_start_year\": 2008, \"team\": \"Hamburger SV\", \"goals\": 49, \"season\": \"2008-2009\"}, {\"season_start_year\": 2008, \"team\": \"Hannover 96\", \"goals\": 49, \"season\": \"2008-2009\"}, {\"season_start_year\": 2008, \"team\": \"Hertha BSC\", \"goals\": 48, \"season\": \"2008-2009\"}, {\"season_start_year\": 2008, \"team\": \"Karlsruher SC\", \"goals\": 30, \"season\": \"2008-2009\"}, {\"season_start_year\": 2008, \"team\": \"TSG 1899 Hoffenheim\", \"goals\": 63, \"season\": \"2008-2009\"}, {\"season_start_year\": 2008, \"team\": \"VfB Stuttgart\", \"goals\": 63, \"season\": \"2008-2009\"}, {\"season_start_year\": 2008, \"team\": \"VfL Bochum\", \"goals\": 39, \"season\": \"2008-2009\"}, {\"season_start_year\": 2008, \"team\": \"VfL Wolfsburg\", \"goals\": 80, \"season\": \"2008-2009\"}, {\"season_start_year\": 2008, \"team\": \"Werder Bremen\", \"goals\": 64, \"season\": \"2008-2009\"}, {\"season_start_year\": 2009, \"team\": \"1. FC K\\u00f6ln\", \"goals\": 33, \"season\": \"2009-2010\"}, {\"season_start_year\": 2009, \"team\": \"1. FC N\\u00fcrnberg\", \"goals\": 32, \"season\": \"2009-2010\"}, {\"season_start_year\": 2009, \"team\": \"1. FSV Mainz 05\", \"goals\": 36, \"season\": \"2009-2010\"}, {\"season_start_year\": 2009, \"team\": \"Bayer 04 Leverkusen\", \"goals\": 65, \"season\": \"2009-2010\"}, {\"season_start_year\": 2009, \"team\": \"Bayern M\\u00fcnchen\", \"goals\": 72, \"season\": \"2009-2010\"}, {\"season_start_year\": 2009, \"team\": \"Bor. M\\u00f6nchengladbach\", \"goals\": 43, \"season\": \"2009-2010\"}, {\"season_start_year\": 2009, \"team\": \"Borussia Dortmund\", \"goals\": 54, \"season\": \"2009-2010\"}, {\"season_start_year\": 2009, \"team\": \"Eintracht Frankfurt\", \"goals\": 47, \"season\": \"2009-2010\"}, {\"season_start_year\": 2009, \"team\": \"FC Schalke 04\", \"goals\": 53, \"season\": \"2009-2010\"}, {\"season_start_year\": 2009, \"team\": \"Hamburger SV\", \"goals\": 56, \"season\": \"2009-2010\"}, {\"season_start_year\": 2009, \"team\": \"Hannover 96\", \"goals\": 43, \"season\": \"2009-2010\"}, {\"season_start_year\": 2009, \"team\": \"Hertha BSC\", \"goals\": 34, \"season\": \"2009-2010\"}, {\"season_start_year\": 2009, \"team\": \"SC Freiburg\", \"goals\": 35, \"season\": \"2009-2010\"}, {\"season_start_year\": 2009, \"team\": \"TSG 1899 Hoffenheim\", \"goals\": 44, \"season\": \"2009-2010\"}, {\"season_start_year\": 2009, \"team\": \"VfB Stuttgart\", \"goals\": 51, \"season\": \"2009-2010\"}, {\"season_start_year\": 2009, \"team\": \"VfL Bochum\", \"goals\": 33, \"season\": \"2009-2010\"}, {\"season_start_year\": 2009, \"team\": \"VfL Wolfsburg\", \"goals\": 64, \"season\": \"2009-2010\"}, {\"season_start_year\": 2009, \"team\": \"Werder Bremen\", \"goals\": 71, \"season\": \"2009-2010\"}, {\"season_start_year\": 2010, \"team\": \"1. FC Kaiserslautern\", \"goals\": 48, \"season\": \"2010-2011\"}, {\"season_start_year\": 2010, \"team\": \"1. FC K\\u00f6ln\", \"goals\": 47, \"season\": \"2010-2011\"}, {\"season_start_year\": 2010, \"team\": \"1. FC N\\u00fcrnberg\", \"goals\": 47, \"season\": \"2010-2011\"}, {\"season_start_year\": 2010, \"team\": \"1. FSV Mainz 05\", \"goals\": 52, \"season\": \"2010-2011\"}, {\"season_start_year\": 2010, \"team\": \"Bayer 04 Leverkusen\", \"goals\": 64, \"season\": \"2010-2011\"}, {\"season_start_year\": 2010, \"team\": \"Bayern M\\u00fcnchen\", \"goals\": 81, \"season\": \"2010-2011\"}, {\"season_start_year\": 2010, \"team\": \"Bor. M\\u00f6nchengladbach\", \"goals\": 48, \"season\": \"2010-2011\"}, {\"season_start_year\": 2010, \"team\": \"Borussia Dortmund\", \"goals\": 67, \"season\": \"2010-2011\"}, {\"season_start_year\": 2010, \"team\": \"Eintracht Frankfurt\", \"goals\": 31, \"season\": \"2010-2011\"}, {\"season_start_year\": 2010, \"team\": \"FC Schalke 04\", \"goals\": 38, \"season\": \"2010-2011\"}, {\"season_start_year\": 2010, \"team\": \"FC St. Pauli\", \"goals\": 35, \"season\": \"2010-2011\"}, {\"season_start_year\": 2010, \"team\": \"Hamburger SV\", \"goals\": 46, \"season\": \"2010-2011\"}, {\"season_start_year\": 2010, \"team\": \"Hannover 96\", \"goals\": 49, \"season\": \"2010-2011\"}, {\"season_start_year\": 2010, \"team\": \"SC Freiburg\", \"goals\": 41, \"season\": \"2010-2011\"}, {\"season_start_year\": 2010, \"team\": \"TSG 1899 Hoffenheim\", \"goals\": 50, \"season\": \"2010-2011\"}, {\"season_start_year\": 2010, \"team\": \"VfB Stuttgart\", \"goals\": 60, \"season\": \"2010-2011\"}, {\"season_start_year\": 2010, \"team\": \"VfL Wolfsburg\", \"goals\": 43, \"season\": \"2010-2011\"}, {\"season_start_year\": 2010, \"team\": \"Werder Bremen\", \"goals\": 47, \"season\": \"2010-2011\"}, {\"season_start_year\": 2011, \"team\": \"1. FC Kaiserslautern\", \"goals\": 24, \"season\": \"2011-2012\"}, {\"season_start_year\": 2011, \"team\": \"1. FC K\\u00f6ln\", \"goals\": 39, \"season\": \"2011-2012\"}, {\"season_start_year\": 2011, \"team\": \"1. FC N\\u00fcrnberg\", \"goals\": 38, \"season\": \"2011-2012\"}, {\"season_start_year\": 2011, \"team\": \"1. FSV Mainz 05\", \"goals\": 47, \"season\": \"2011-2012\"}, {\"season_start_year\": 2011, \"team\": \"Bayer 04 Leverkusen\", \"goals\": 52, \"season\": \"2011-2012\"}, {\"season_start_year\": 2011, \"team\": \"Bayern M\\u00fcnchen\", \"goals\": 77, \"season\": \"2011-2012\"}, {\"season_start_year\": 2011, \"team\": \"Bor. M\\u00f6nchengladbach\", \"goals\": 49, \"season\": \"2011-2012\"}, {\"season_start_year\": 2011, \"team\": \"Borussia Dortmund\", \"goals\": 80, \"season\": \"2011-2012\"}, {\"season_start_year\": 2011, \"team\": \"FC Augsburg\", \"goals\": 36, \"season\": \"2011-2012\"}, {\"season_start_year\": 2011, \"team\": \"FC Schalke 04\", \"goals\": 74, \"season\": \"2011-2012\"}, {\"season_start_year\": 2011, \"team\": \"Hamburger SV\", \"goals\": 35, \"season\": \"2011-2012\"}, {\"season_start_year\": 2011, \"team\": \"Hannover 96\", \"goals\": 41, \"season\": \"2011-2012\"}, {\"season_start_year\": 2011, \"team\": \"Hertha BSC\", \"goals\": 38, \"season\": \"2011-2012\"}, {\"season_start_year\": 2011, \"team\": \"SC Freiburg\", \"goals\": 45, \"season\": \"2011-2012\"}, {\"season_start_year\": 2011, \"team\": \"TSG 1899 Hoffenheim\", \"goals\": 41, \"season\": \"2011-2012\"}, {\"season_start_year\": 2011, \"team\": \"VfB Stuttgart\", \"goals\": 63, \"season\": \"2011-2012\"}, {\"season_start_year\": 2011, \"team\": \"VfL Wolfsburg\", \"goals\": 47, \"season\": \"2011-2012\"}, {\"season_start_year\": 2011, \"team\": \"Werder Bremen\", \"goals\": 49, \"season\": \"2011-2012\"}, {\"season_start_year\": 2012, \"team\": \"1. FC N\\u00fcrnberg\", \"goals\": 39, \"season\": \"2012-2013\"}, {\"season_start_year\": 2012, \"team\": \"1. FSV Mainz 05\", \"goals\": 42, \"season\": \"2012-2013\"}, {\"season_start_year\": 2012, \"team\": \"Bayer 04 Leverkusen\", \"goals\": 65, \"season\": \"2012-2013\"}, {\"season_start_year\": 2012, \"team\": \"Bayern M\\u00fcnchen\", \"goals\": 98, \"season\": \"2012-2013\"}, {\"season_start_year\": 2012, \"team\": \"Bor. M\\u00f6nchengladbach\", \"goals\": 45, \"season\": \"2012-2013\"}, {\"season_start_year\": 2012, \"team\": \"Borussia Dortmund\", \"goals\": 81, \"season\": \"2012-2013\"}, {\"season_start_year\": 2012, \"team\": \"Eintracht Frankfurt\", \"goals\": 49, \"season\": \"2012-2013\"}, {\"season_start_year\": 2012, \"team\": \"FC Augsburg\", \"goals\": 33, \"season\": \"2012-2013\"}, {\"season_start_year\": 2012, \"team\": \"FC Schalke 04\", \"goals\": 58, \"season\": \"2012-2013\"}, {\"season_start_year\": 2012, \"team\": \"Fortuna D\\u00fcsseldorf\", \"goals\": 39, \"season\": \"2012-2013\"}, {\"season_start_year\": 2012, \"team\": \"Hamburger SV\", \"goals\": 42, \"season\": \"2012-2013\"}, {\"season_start_year\": 2012, \"team\": \"Hannover 96\", \"goals\": 60, \"season\": \"2012-2013\"}, {\"season_start_year\": 2012, \"team\": \"SC Freiburg\", \"goals\": 45, \"season\": \"2012-2013\"}, {\"season_start_year\": 2012, \"team\": \"SpVgg Greuther F\\u00fcrth\", \"goals\": 26, \"season\": \"2012-2013\"}, {\"season_start_year\": 2012, \"team\": \"TSG 1899 Hoffenheim\", \"goals\": 42, \"season\": \"2012-2013\"}, {\"season_start_year\": 2012, \"team\": \"VfB Stuttgart\", \"goals\": 37, \"season\": \"2012-2013\"}, {\"season_start_year\": 2012, \"team\": \"VfL Wolfsburg\", \"goals\": 47, \"season\": \"2012-2013\"}, {\"season_start_year\": 2012, \"team\": \"Werder Bremen\", \"goals\": 50, \"season\": \"2012-2013\"}, {\"season_start_year\": 2013, \"team\": \"1. FC N\\u00fcrnberg\", \"goals\": 37, \"season\": \"2013-2014\"}, {\"season_start_year\": 2013, \"team\": \"1. FSV Mainz 05\", \"goals\": 52, \"season\": \"2013-2014\"}, {\"season_start_year\": 2013, \"team\": \"Bayer 04 Leverkusen\", \"goals\": 60, \"season\": \"2013-2014\"}, {\"season_start_year\": 2013, \"team\": \"Bayern M\\u00fcnchen\", \"goals\": 94, \"season\": \"2013-2014\"}, {\"season_start_year\": 2013, \"team\": \"Bor. M\\u00f6nchengladbach\", \"goals\": 59, \"season\": \"2013-2014\"}, {\"season_start_year\": 2013, \"team\": \"Borussia Dortmund\", \"goals\": 80, \"season\": \"2013-2014\"}, {\"season_start_year\": 2013, \"team\": \"Eintracht Braunschweig\", \"goals\": 29, \"season\": \"2013-2014\"}, {\"season_start_year\": 2013, \"team\": \"Eintracht Frankfurt\", \"goals\": 40, \"season\": \"2013-2014\"}, {\"season_start_year\": 2013, \"team\": \"FC Augsburg\", \"goals\": 47, \"season\": \"2013-2014\"}, {\"season_start_year\": 2013, \"team\": \"FC Schalke 04\", \"goals\": 63, \"season\": \"2013-2014\"}, {\"season_start_year\": 2013, \"team\": \"Hamburger SV\", \"goals\": 51, \"season\": \"2013-2014\"}, {\"season_start_year\": 2013, \"team\": \"Hannover 96\", \"goals\": 46, \"season\": \"2013-2014\"}, {\"season_start_year\": 2013, \"team\": \"Hertha BSC\", \"goals\": 40, \"season\": \"2013-2014\"}, {\"season_start_year\": 2013, \"team\": \"SC Freiburg\", \"goals\": 43, \"season\": \"2013-2014\"}, {\"season_start_year\": 2013, \"team\": \"TSG 1899 Hoffenheim\", \"goals\": 72, \"season\": \"2013-2014\"}, {\"season_start_year\": 2013, \"team\": \"VfB Stuttgart\", \"goals\": 49, \"season\": \"2013-2014\"}, {\"season_start_year\": 2013, \"team\": \"VfL Wolfsburg\", \"goals\": 63, \"season\": \"2013-2014\"}, {\"season_start_year\": 2013, \"team\": \"Werder Bremen\", \"goals\": 42, \"season\": \"2013-2014\"}, {\"season_start_year\": 2014, \"team\": \"1. FC K\\u00f6ln\", \"goals\": 34, \"season\": \"2014-2015\"}, {\"season_start_year\": 2014, \"team\": \"1. FSV Mainz 05\", \"goals\": 45, \"season\": \"2014-2015\"}, {\"season_start_year\": 2014, \"team\": \"Bayer 04 Leverkusen\", \"goals\": 62, \"season\": \"2014-2015\"}, {\"season_start_year\": 2014, \"team\": \"Bayern M\\u00fcnchen\", \"goals\": 80, \"season\": \"2014-2015\"}, {\"season_start_year\": 2014, \"team\": \"Bor. M\\u00f6nchengladbach\", \"goals\": 53, \"season\": \"2014-2015\"}, {\"season_start_year\": 2014, \"team\": \"Borussia Dortmund\", \"goals\": 47, \"season\": \"2014-2015\"}, {\"season_start_year\": 2014, \"team\": \"Eintracht Frankfurt\", \"goals\": 56, \"season\": \"2014-2015\"}, {\"season_start_year\": 2014, \"team\": \"FC Augsburg\", \"goals\": 43, \"season\": \"2014-2015\"}, {\"season_start_year\": 2014, \"team\": \"FC Schalke 04\", \"goals\": 42, \"season\": \"2014-2015\"}, {\"season_start_year\": 2014, \"team\": \"Hamburger SV\", \"goals\": 25, \"season\": \"2014-2015\"}, {\"season_start_year\": 2014, \"team\": \"Hannover 96\", \"goals\": 40, \"season\": \"2014-2015\"}, {\"season_start_year\": 2014, \"team\": \"Hertha BSC\", \"goals\": 36, \"season\": \"2014-2015\"}, {\"season_start_year\": 2014, \"team\": \"SC Freiburg\", \"goals\": 36, \"season\": \"2014-2015\"}, {\"season_start_year\": 2014, \"team\": \"SC Paderborn 07\", \"goals\": 31, \"season\": \"2014-2015\"}, {\"season_start_year\": 2014, \"team\": \"TSG 1899 Hoffenheim\", \"goals\": 49, \"season\": \"2014-2015\"}, {\"season_start_year\": 2014, \"team\": \"VfB Stuttgart\", \"goals\": 42, \"season\": \"2014-2015\"}, {\"season_start_year\": 2014, \"team\": \"VfL Wolfsburg\", \"goals\": 72, \"season\": \"2014-2015\"}, {\"season_start_year\": 2014, \"team\": \"Werder Bremen\", \"goals\": 50, \"season\": \"2014-2015\"}, {\"season_start_year\": 2015, \"team\": \"1. FC K\\u00f6ln\", \"goals\": 38, \"season\": \"2015-2016\"}, {\"season_start_year\": 2015, \"team\": \"1. FSV Mainz 05\", \"goals\": 46, \"season\": \"2015-2016\"}, {\"season_start_year\": 2015, \"team\": \"Bayer 04 Leverkusen\", \"goals\": 56, \"season\": \"2015-2016\"}, {\"season_start_year\": 2015, \"team\": \"Bayern M\\u00fcnchen\", \"goals\": 80, \"season\": \"2015-2016\"}, {\"season_start_year\": 2015, \"team\": \"Bor. M\\u00f6nchengladbach\", \"goals\": 67, \"season\": \"2015-2016\"}, {\"season_start_year\": 2015, \"team\": \"Borussia Dortmund\", \"goals\": 82, \"season\": \"2015-2016\"}, {\"season_start_year\": 2015, \"team\": \"Eintracht Frankfurt\", \"goals\": 34, \"season\": \"2015-2016\"}, {\"season_start_year\": 2015, \"team\": \"FC Augsburg\", \"goals\": 42, \"season\": \"2015-2016\"}, {\"season_start_year\": 2015, \"team\": \"FC Ingolstadt 04\", \"goals\": 33, \"season\": \"2015-2016\"}, {\"season_start_year\": 2015, \"team\": \"FC Schalke 04\", \"goals\": 51, \"season\": \"2015-2016\"}, {\"season_start_year\": 2015, \"team\": \"Hamburger SV\", \"goals\": 40, \"season\": \"2015-2016\"}, {\"season_start_year\": 2015, \"team\": \"Hannover 96\", \"goals\": 31, \"season\": \"2015-2016\"}, {\"season_start_year\": 2015, \"team\": \"Hertha BSC\", \"goals\": 42, \"season\": \"2015-2016\"}, {\"season_start_year\": 2015, \"team\": \"SV Darmstadt 98\", \"goals\": 38, \"season\": \"2015-2016\"}, {\"season_start_year\": 2015, \"team\": \"TSG 1899 Hoffenheim\", \"goals\": 39, \"season\": \"2015-2016\"}, {\"season_start_year\": 2015, \"team\": \"VfB Stuttgart\", \"goals\": 50, \"season\": \"2015-2016\"}, {\"season_start_year\": 2015, \"team\": \"VfL Wolfsburg\", \"goals\": 47, \"season\": \"2015-2016\"}, {\"season_start_year\": 2015, \"team\": \"Werder Bremen\", \"goals\": 50, \"season\": \"2015-2016\"}, {\"season_start_year\": 2016, \"team\": \"1. FC K\\u00f6ln\", \"goals\": 51, \"season\": \"2016-2017\"}, {\"season_start_year\": 2016, \"team\": \"1. FSV Mainz 05\", \"goals\": 44, \"season\": \"2016-2017\"}, {\"season_start_year\": 2016, \"team\": \"Bayer 04 Leverkusen\", \"goals\": 53, \"season\": \"2016-2017\"}, {\"season_start_year\": 2016, \"team\": \"Bayern M\\u00fcnchen\", \"goals\": 89, \"season\": \"2016-2017\"}, {\"season_start_year\": 2016, \"team\": \"Bor. M\\u00f6nchengladbach\", \"goals\": 45, \"season\": \"2016-2017\"}, {\"season_start_year\": 2016, \"team\": \"Borussia Dortmund\", \"goals\": 72, \"season\": \"2016-2017\"}, {\"season_start_year\": 2016, \"team\": \"Eintracht Frankfurt\", \"goals\": 36, \"season\": \"2016-2017\"}, {\"season_start_year\": 2016, \"team\": \"FC Augsburg\", \"goals\": 35, \"season\": \"2016-2017\"}, {\"season_start_year\": 2016, \"team\": \"FC Ingolstadt 04\", \"goals\": 36, \"season\": \"2016-2017\"}, {\"season_start_year\": 2016, \"team\": \"FC Schalke 04\", \"goals\": 45, \"season\": \"2016-2017\"}, {\"season_start_year\": 2016, \"team\": \"Hamburger SV\", \"goals\": 33, \"season\": \"2016-2017\"}, {\"season_start_year\": 2016, \"team\": \"Hertha BSC\", \"goals\": 43, \"season\": \"2016-2017\"}, {\"season_start_year\": 2016, \"team\": \"RB Leipzig\", \"goals\": 66, \"season\": \"2016-2017\"}, {\"season_start_year\": 2016, \"team\": \"SC Freiburg\", \"goals\": 42, \"season\": \"2016-2017\"}, {\"season_start_year\": 2016, \"team\": \"SV Darmstadt 98\", \"goals\": 28, \"season\": \"2016-2017\"}, {\"season_start_year\": 2016, \"team\": \"TSG 1899 Hoffenheim\", \"goals\": 64, \"season\": \"2016-2017\"}, {\"season_start_year\": 2016, \"team\": \"VfL Wolfsburg\", \"goals\": 34, \"season\": \"2016-2017\"}, {\"season_start_year\": 2016, \"team\": \"Werder Bremen\", \"goals\": 61, \"season\": \"2016-2017\"}, {\"season_start_year\": 2017, \"team\": \"1. FC K\\u00f6ln\", \"goals\": 35, \"season\": \"2017-2018\"}, {\"season_start_year\": 2017, \"team\": \"1. FSV Mainz 05\", \"goals\": 38, \"season\": \"2017-2018\"}, {\"season_start_year\": 2017, \"team\": \"Bayer 04 Leverkusen\", \"goals\": 58, \"season\": \"2017-2018\"}, {\"season_start_year\": 2017, \"team\": \"Bayern M\\u00fcnchen\", \"goals\": 92, \"season\": \"2017-2018\"}, {\"season_start_year\": 2017, \"team\": \"Bor. M\\u00f6nchengladbach\", \"goals\": 47, \"season\": \"2017-2018\"}, {\"season_start_year\": 2017, \"team\": \"Borussia Dortmund\", \"goals\": 64, \"season\": \"2017-2018\"}, {\"season_start_year\": 2017, \"team\": \"Eintracht Frankfurt\", \"goals\": 45, \"season\": \"2017-2018\"}, {\"season_start_year\": 2017, \"team\": \"FC Augsburg\", \"goals\": 43, \"season\": \"2017-2018\"}, {\"season_start_year\": 2017, \"team\": \"FC Schalke 04\", \"goals\": 53, \"season\": \"2017-2018\"}, {\"season_start_year\": 2017, \"team\": \"Hamburger SV\", \"goals\": 29, \"season\": \"2017-2018\"}, {\"season_start_year\": 2017, \"team\": \"Hannover 96\", \"goals\": 44, \"season\": \"2017-2018\"}, {\"season_start_year\": 2017, \"team\": \"Hertha BSC\", \"goals\": 43, \"season\": \"2017-2018\"}, {\"season_start_year\": 2017, \"team\": \"RB Leipzig\", \"goals\": 57, \"season\": \"2017-2018\"}, {\"season_start_year\": 2017, \"team\": \"SC Freiburg\", \"goals\": 32, \"season\": \"2017-2018\"}, {\"season_start_year\": 2017, \"team\": \"TSG 1899 Hoffenheim\", \"goals\": 66, \"season\": \"2017-2018\"}, {\"season_start_year\": 2017, \"team\": \"VfB Stuttgart\", \"goals\": 36, \"season\": \"2017-2018\"}, {\"season_start_year\": 2017, \"team\": \"VfL Wolfsburg\", \"goals\": 36, \"season\": \"2017-2018\"}, {\"season_start_year\": 2017, \"team\": \"Werder Bremen\", \"goals\": 37, \"season\": \"2017-2018\"}, {\"season_start_year\": 2018, \"team\": \"1. FC N\\u00fcrnberg\", \"goals\": 26, \"season\": \"2018-2019\"}, {\"season_start_year\": 2018, \"team\": \"1. FSV Mainz 05\", \"goals\": 46, \"season\": \"2018-2019\"}, {\"season_start_year\": 2018, \"team\": \"1899 Hoffenheim\", \"goals\": 42, \"season\": \"2018-2019\"}, {\"season_start_year\": 2018, \"team\": \"Bayer 04 Leverkusen\", \"goals\": 69, \"season\": \"2018-2019\"}, {\"season_start_year\": 2018, \"team\": \"Bayern M\\u00fcnchen\", \"goals\": 88, \"season\": \"2018-2019\"}, {\"season_start_year\": 2018, \"team\": \"Bor. M\\u00f6nchengladbach\", \"goals\": 55, \"season\": \"2018-2019\"}, {\"season_start_year\": 2018, \"team\": \"Borussia Dortmund\", \"goals\": 81, \"season\": \"2018-2019\"}, {\"season_start_year\": 2018, \"team\": \"Eintracht Frankfurt\", \"goals\": 60, \"season\": \"2018-2019\"}, {\"season_start_year\": 2018, \"team\": \"FC Augsburg\", \"goals\": 51, \"season\": \"2018-2019\"}, {\"season_start_year\": 2018, \"team\": \"FC Schalke 04\", \"goals\": 37, \"season\": \"2018-2019\"}, {\"season_start_year\": 2018, \"team\": \"Fortuna D\\u00fcsseldorf\", \"goals\": 49, \"season\": \"2018-2019\"}, {\"season_start_year\": 2018, \"team\": \"Hannover 96\", \"goals\": 31, \"season\": \"2018-2019\"}, {\"season_start_year\": 2018, \"team\": \"Hertha BSC\", \"goals\": 49, \"season\": \"2018-2019\"}, {\"season_start_year\": 2018, \"team\": \"RB Leipzig\", \"goals\": 63, \"season\": \"2018-2019\"}, {\"season_start_year\": 2018, \"team\": \"SC Freiburg\", \"goals\": 46, \"season\": \"2018-2019\"}, {\"season_start_year\": 2018, \"team\": \"TSG 1899 Hoffenheim\", \"goals\": 28, \"season\": \"2018-2019\"}, {\"season_start_year\": 2018, \"team\": \"VfB Stuttgart\", \"goals\": 32, \"season\": \"2018-2019\"}, {\"season_start_year\": 2018, \"team\": \"VfL Wolfsburg\", \"goals\": 62, \"season\": \"2018-2019\"}, {\"season_start_year\": 2018, \"team\": \"Werder Bremen\", \"goals\": 58, \"season\": \"2018-2019\"}, {\"season_start_year\": 2019, \"team\": \"1. FC K\\u00f6ln\", \"goals\": 51, \"season\": \"2019-2020\"}, {\"season_start_year\": 2019, \"team\": \"1. FC Union Berlin\", \"goals\": 41, \"season\": \"2019-2020\"}, {\"season_start_year\": 2019, \"team\": \"1. FSV Mainz 05\", \"goals\": 44, \"season\": \"2019-2020\"}, {\"season_start_year\": 2019, \"team\": \"Bayer 04 Leverkusen\", \"goals\": 61, \"season\": \"2019-2020\"}, {\"season_start_year\": 2019, \"team\": \"Bayern M\\u00fcnchen\", \"goals\": 100, \"season\": \"2019-2020\"}, {\"season_start_year\": 2019, \"team\": \"Bor. M\\u00f6nchengladbach\", \"goals\": 66, \"season\": \"2019-2020\"}, {\"season_start_year\": 2019, \"team\": \"Borussia Dortmund\", \"goals\": 84, \"season\": \"2019-2020\"}, {\"season_start_year\": 2019, \"team\": \"Eintracht Frankfurt\", \"goals\": 59, \"season\": \"2019-2020\"}, {\"season_start_year\": 2019, \"team\": \"FC Augsburg\", \"goals\": 45, \"season\": \"2019-2020\"}, {\"season_start_year\": 2019, \"team\": \"FC Schalke 04\", \"goals\": 38, \"season\": \"2019-2020\"}, {\"season_start_year\": 2019, \"team\": \"Fortuna D\\u00fcsseldorf\", \"goals\": 36, \"season\": \"2019-2020\"}, {\"season_start_year\": 2019, \"team\": \"Hertha BSC\", \"goals\": 48, \"season\": \"2019-2020\"}, {\"season_start_year\": 2019, \"team\": \"RB Leipzig\", \"goals\": 81, \"season\": \"2019-2020\"}, {\"season_start_year\": 2019, \"team\": \"SC Freiburg\", \"goals\": 48, \"season\": \"2019-2020\"}, {\"season_start_year\": 2019, \"team\": \"SC Paderborn 07\", \"goals\": 37, \"season\": \"2019-2020\"}, {\"season_start_year\": 2019, \"team\": \"TSG 1899 Hoffenheim\", \"goals\": 53, \"season\": \"2019-2020\"}, {\"season_start_year\": 2019, \"team\": \"VfL Wolfsburg\", \"goals\": 48, \"season\": \"2019-2020\"}, {\"season_start_year\": 2019, \"team\": \"Werder Bremen\", \"goals\": 42, \"season\": \"2019-2020\"}, {\"season_start_year\": 2020, \"team\": \"1. FC K\\u00f6ln\", \"goals\": 34, \"season\": \"2020-2021\"}, {\"season_start_year\": 2020, \"team\": \"1. FC Union Berlin\", \"goals\": 50, \"season\": \"2020-2021\"}, {\"season_start_year\": 2020, \"team\": \"1. FSV Mainz 05\", \"goals\": 39, \"season\": \"2020-2021\"}, {\"season_start_year\": 2020, \"team\": \"Arminia Bielefeld\", \"goals\": 26, \"season\": \"2020-2021\"}, {\"season_start_year\": 2020, \"team\": \"Bayer 04 Leverkusen\", \"goals\": 53, \"season\": \"2020-2021\"}, {\"season_start_year\": 2020, \"team\": \"Bayern M\\u00fcnchen\", \"goals\": 99, \"season\": \"2020-2021\"}, {\"season_start_year\": 2020, \"team\": \"Bor. M\\u00f6nchengladbach\", \"goals\": 64, \"season\": \"2020-2021\"}, {\"season_start_year\": 2020, \"team\": \"Borussia Dortmund\", \"goals\": 75, \"season\": \"2020-2021\"}, {\"season_start_year\": 2020, \"team\": \"Eintracht Frankfurt\", \"goals\": 69, \"season\": \"2020-2021\"}, {\"season_start_year\": 2020, \"team\": \"FC Augsburg\", \"goals\": 36, \"season\": \"2020-2021\"}, {\"season_start_year\": 2020, \"team\": \"FC Schalke 04\", \"goals\": 25, \"season\": \"2020-2021\"}, {\"season_start_year\": 2020, \"team\": \"Hertha BSC\", \"goals\": 41, \"season\": \"2020-2021\"}, {\"season_start_year\": 2020, \"team\": \"RB Leipzig\", \"goals\": 60, \"season\": \"2020-2021\"}, {\"season_start_year\": 2020, \"team\": \"SC Freiburg\", \"goals\": 52, \"season\": \"2020-2021\"}, {\"season_start_year\": 2020, \"team\": \"TSG 1899 Hoffenheim\", \"goals\": 52, \"season\": \"2020-2021\"}, {\"season_start_year\": 2020, \"team\": \"VfB Stuttgart\", \"goals\": 56, \"season\": \"2020-2021\"}, {\"season_start_year\": 2020, \"team\": \"VfL Wolfsburg\", \"goals\": 61, \"season\": \"2020-2021\"}, {\"season_start_year\": 2020, \"team\": \"Werder Bremen\", \"goals\": 36, \"season\": \"2020-2021\"}, {\"season_start_year\": 2021, \"team\": \"1. FC K\\u00f6ln\", \"goals\": 52, \"season\": \"2021-2022\"}, {\"season_start_year\": 2021, \"team\": \"1. FC Union Berlin\", \"goals\": 50, \"season\": \"2021-2022\"}, {\"season_start_year\": 2021, \"team\": \"1. FSV Mainz 05\", \"goals\": 50, \"season\": \"2021-2022\"}, {\"season_start_year\": 2021, \"team\": \"Arminia Bielefeld\", \"goals\": 27, \"season\": \"2021-2022\"}, {\"season_start_year\": 2021, \"team\": \"Bayer 04 Leverkusen\", \"goals\": 80, \"season\": \"2021-2022\"}, {\"season_start_year\": 2021, \"team\": \"Bayern M\\u00fcnchen\", \"goals\": 97, \"season\": \"2021-2022\"}, {\"season_start_year\": 2021, \"team\": \"Bor. M\\u00f6nchengladbach\", \"goals\": 54, \"season\": \"2021-2022\"}, {\"season_start_year\": 2021, \"team\": \"Borussia Dortmund\", \"goals\": 85, \"season\": \"2021-2022\"}, {\"season_start_year\": 2021, \"team\": \"Eintracht Frankfurt\", \"goals\": 45, \"season\": \"2021-2022\"}, {\"season_start_year\": 2021, \"team\": \"FC Augsburg\", \"goals\": 39, \"season\": \"2021-2022\"}, {\"season_start_year\": 2021, \"team\": \"Hertha BSC\", \"goals\": 37, \"season\": \"2021-2022\"}, {\"season_start_year\": 2021, \"team\": \"RB Leipzig\", \"goals\": 72, \"season\": \"2021-2022\"}, {\"season_start_year\": 2021, \"team\": \"SC Freiburg\", \"goals\": 58, \"season\": \"2021-2022\"}, {\"season_start_year\": 2021, \"team\": \"SpVgg Greuther F\\u00fcrth\", \"goals\": 28, \"season\": \"2021-2022\"}, {\"season_start_year\": 2021, \"team\": \"TSG 1899 Hoffenheim\", \"goals\": 58, \"season\": \"2021-2022\"}, {\"season_start_year\": 2021, \"team\": \"VfB Stuttgart\", \"goals\": 41, \"season\": \"2021-2022\"}, {\"season_start_year\": 2021, \"team\": \"VfL Bochum\", \"goals\": 38, \"season\": \"2021-2022\"}, {\"season_start_year\": 2021, \"team\": \"VfL Wolfsburg\", \"goals\": 43, \"season\": \"2021-2022\"}, {\"season_start_year\": 2022, \"team\": \"1. FC K\\u00f6ln\", \"goals\": 49, \"season\": \"2022-2023\"}, {\"season_start_year\": 2022, \"team\": \"1. FC Union Berlin\", \"goals\": 51, \"season\": \"2022-2023\"}, {\"season_start_year\": 2022, \"team\": \"1. FSV Mainz 05\", \"goals\": 54, \"season\": \"2022-2023\"}, {\"season_start_year\": 2022, \"team\": \"Bayer 04 Leverkusen\", \"goals\": 57, \"season\": \"2022-2023\"}, {\"season_start_year\": 2022, \"team\": \"Bayern M\\u00fcnchen\", \"goals\": 92, \"season\": \"2022-2023\"}, {\"season_start_year\": 2022, \"team\": \"Bor. M\\u00f6nchengladbach\", \"goals\": 52, \"season\": \"2022-2023\"}, {\"season_start_year\": 2022, \"team\": \"Borussia Dortmund\", \"goals\": 83, \"season\": \"2022-2023\"}, {\"season_start_year\": 2022, \"team\": \"Eintracht Frankfurt\", \"goals\": 58, \"season\": \"2022-2023\"}, {\"season_start_year\": 2022, \"team\": \"FC Augsburg\", \"goals\": 42, \"season\": \"2022-2023\"}, {\"season_start_year\": 2022, \"team\": \"FC Schalke 04\", \"goals\": 35, \"season\": \"2022-2023\"}, {\"season_start_year\": 2022, \"team\": \"Hertha BSC\", \"goals\": 42, \"season\": \"2022-2023\"}, {\"season_start_year\": 2022, \"team\": \"RB Leipzig\", \"goals\": 64, \"season\": \"2022-2023\"}, {\"season_start_year\": 2022, \"team\": \"SC Freiburg\", \"goals\": 51, \"season\": \"2022-2023\"}, {\"season_start_year\": 2022, \"team\": \"TSG 1899 Hoffenheim\", \"goals\": 48, \"season\": \"2022-2023\"}, {\"season_start_year\": 2022, \"team\": \"VfB Stuttgart\", \"goals\": 45, \"season\": \"2022-2023\"}, {\"season_start_year\": 2022, \"team\": \"VfL Bochum\", \"goals\": 40, \"season\": \"2022-2023\"}, {\"season_start_year\": 2022, \"team\": \"VfL Wolfsburg\", \"goals\": 57, \"season\": \"2022-2023\"}, {\"season_start_year\": 2022, \"team\": \"Werder Bremen\", \"goals\": 51, \"season\": \"2022-2023\"}, {\"season_start_year\": 2023, \"team\": \"1. FC Heidenheim\", \"goals\": 50, \"season\": \"2023-2024\"}, {\"season_start_year\": 2023, \"team\": \"1. FC K\\u00f6ln\", \"goals\": 28, \"season\": \"2023-2024\"}, {\"season_start_year\": 2023, \"team\": \"1. FC Union Berlin\", \"goals\": 33, \"season\": \"2023-2024\"}, {\"season_start_year\": 2023, \"team\": \"1. FSV Mainz 05\", \"goals\": 39, \"season\": \"2023-2024\"}, {\"season_start_year\": 2023, \"team\": \"Bayer 04 Leverkusen\", \"goals\": 89, \"season\": \"2023-2024\"}, {\"season_start_year\": 2023, \"team\": \"Bayern M\\u00fcnchen\", \"goals\": 94, \"season\": \"2023-2024\"}, {\"season_start_year\": 2023, \"team\": \"Bor. M\\u00f6nchengladbach\", \"goals\": 56, \"season\": \"2023-2024\"}, {\"season_start_year\": 2023, \"team\": \"Borussia Dortmund\", \"goals\": 68, \"season\": \"2023-2024\"}, {\"season_start_year\": 2023, \"team\": \"Eintracht Frankfurt\", \"goals\": 51, \"season\": \"2023-2024\"}, {\"season_start_year\": 2023, \"team\": \"FC Augsburg\", \"goals\": 50, \"season\": \"2023-2024\"}, {\"season_start_year\": 2023, \"team\": \"RB Leipzig\", \"goals\": 77, \"season\": \"2023-2024\"}, {\"season_start_year\": 2023, \"team\": \"SC Freiburg\", \"goals\": 45, \"season\": \"2023-2024\"}, {\"season_start_year\": 2023, \"team\": \"SV Darmstadt 98\", \"goals\": 30, \"season\": \"2023-2024\"}, {\"season_start_year\": 2023, \"team\": \"TSG 1899 Hoffenheim\", \"goals\": 66, \"season\": \"2023-2024\"}, {\"season_start_year\": 2023, \"team\": \"VfB Stuttgart\", \"goals\": 78, \"season\": \"2023-2024\"}, {\"season_start_year\": 2023, \"team\": \"VfL Bochum\", \"goals\": 42, \"season\": \"2023-2024\"}, {\"season_start_year\": 2023, \"team\": \"VfL Wolfsburg\", \"goals\": 41, \"season\": \"2023-2024\"}, {\"season_start_year\": 2023, \"team\": \"Werder Bremen\", \"goals\": 48, \"season\": \"2023-2024\"}]}}, {\"mode\": \"vega-lite\"});\n",
       "</script>"
      ],
      "text/plain": [
       "alt.Chart(...)"
      ]
     },
     "metadata": {},
     "output_type": "display_data"
    }
   ],
   "source": [
    "# Plot total Goals per Team \n",
    "\n",
    "home_goals = df_bundesliga.groupby(['season_start_year', 'home_team'])['home_goals'].sum().reset_index()\n",
    "away_goals = df_bundesliga.groupby(['season_start_year', 'away_team'])['away_goals'].sum().reset_index()\n",
    "\n",
    "home_goals.rename(columns={'home_team': 'team', 'home_goals': 'goals'}, inplace=True)\n",
    "away_goals.rename(columns={'away_team': 'team', 'away_goals': 'goals'}, inplace=True)\n",
    "\n",
    "total_goals = pd.concat([home_goals, away_goals]).groupby(['season_start_year', 'team'])['goals'].sum().reset_index()\n",
    "\n",
    "total_goals['season'] = total_goals['season_start_year'].astype(str) + '-' + (total_goals['season_start_year'] + 1).astype(str)\n",
    "\n",
    "rb_leipzig_goals_2023_2024 = total_goals[(total_goals['team'] == 'RB Leipzig') & (total_goals['season'] == '2023-2024')]['goals'].sum()\n",
    "print(f\"RB Leipzig scored {rb_leipzig_goals_2023_2024} goals in the 2023-2024 season.\")\n",
    "\n",
    "bayern_goals_2023_2024 = total_goals[(total_goals['team'] == 'Bayern München') & (total_goals['season'] == '2023-2024')]['goals'].sum()\n",
    "print(f\"Bayern München scored {bayern_goals_2023_2024} goals in the 2023-2024 season.\")\n",
    "\n",
    "highlight = alt.selection_point(fields=['team'], bind='legend')\n",
    "\n",
    "chart = alt.Chart(total_goals).mark_line().encode(\n",
    "    x=alt.X('season:O', title='Season', sort=alt.EncodingSortField('season_start_year', order='ascending')),\n",
    "    y=alt.Y('goals:Q', title='Total Goals'),\n",
    "    color=alt.Color('team:N', legend=alt.Legend(title=\"Teams\", orient=\"right\")),\n",
    "    opacity=alt.condition(highlight, alt.value(1), alt.value(0.1)),\n",
    "    tooltip=['season', 'team', 'goals']\n",
    ").add_params(\n",
    "    highlight\n",
    ").properties(\n",
    "    width=800,\n",
    "    height=500,\n",
    "    title='Total Goals per Team per Season'\n",
    ").configure_legend(\n",
    "    symbolLimit=0 \n",
    ")\n",
    "\n",
    "chart.display()"
   ]
  },
  {
   "cell_type": "code",
   "execution_count": 9,
   "metadata": {},
   "outputs": [
    {
     "data": {
      "application/vnd.plotly.v1+json": {
       "config": {
        "plotlyServerURL": "https://plot.ly"
       },
       "data": [
        {
         "hovertemplate": "Year=%{x}<br>Average Goals per Match=%{y}<extra></extra>",
         "legendgroup": "",
         "line": {
          "color": "#636efa",
          "dash": "solid"
         },
         "marker": {
          "symbol": "circle"
         },
         "mode": "lines",
         "name": "",
         "orientation": "v",
         "showlegend": false,
         "type": "scatter",
         "x": [
          1963,
          1964,
          1965,
          1966,
          1967,
          1968,
          1969,
          1970,
          1971,
          1972,
          1973,
          1974,
          1975,
          1976,
          1977,
          1978,
          1979,
          1980,
          1981,
          1982,
          1983,
          1984,
          1985,
          1986,
          1987,
          1988,
          1989,
          1990,
          1991,
          1992,
          1993,
          1994,
          1995,
          1996,
          1997,
          1998,
          1999,
          2000,
          2001,
          2002,
          2003,
          2004,
          2005,
          2006,
          2007,
          2008,
          2009,
          2010,
          2011,
          2012,
          2013,
          2014,
          2015,
          2016,
          2017,
          2018,
          2019,
          2020,
          2021,
          2022,
          2023,
          2024
         ],
         "xaxis": "x",
         "y": [
          3.75,
          3.3306451612903225,
          3.321969696969697,
          3.0655737704918034,
          3.090909090909091,
          3.0098039215686274,
          2.9737704918032786,
          2.9283387622149837,
          3.287581699346405,
          3.316993464052288,
          3.5751633986928106,
          3.4451827242524917,
          3.392282958199357,
          3.4019607843137254,
          3.4228395061728394,
          3.263888888888889,
          3.104575163398693,
          3.5326797385620914,
          3.3874172185430464,
          3.42258064516129,
          3.473856209150327,
          3.726973684210526,
          3.3703703703703702,
          3.0724137931034483,
          3.2546583850931676,
          2.9027777777777777,
          2.7551020408163267,
          2.614232209737828,
          2.8275862068965516,
          2.7603833865814695,
          2.9129129129129128,
          2.939068100358423,
          2.9411764705882355,
          2.7442622950819673,
          3.0149700598802394,
          2.8229166666666665,
          2.750841750841751,
          3.022222222222222,
          2.784313725490196,
          2.919191919191919,
          2.816993464052288,
          2.9248366013071894,
          2.8790849673202614,
          2.7254901960784315,
          2.7941176470588234,
          2.911764705882353,
          2.781045751633987,
          3.0326797385620914,
          2.781045751633987,
          2.8790849673202614,
          3.081967213114754,
          2.973941368078176,
          2.7516339869281046,
          2.781144781144781,
          2.888888888888889,
          2.9281045751633985,
          3.2679738562091503,
          3.1814814814814816,
          3.017543859649123,
          3.1666666666666665,
          3.248407643312102,
          3.098159509202454
         ],
         "yaxis": "y"
        },
        {
         "line": {
          "color": "red",
          "dash": "dash"
         },
         "mode": "lines",
         "name": "Overall Average",
         "type": "scatter",
         "x": [
          1963,
          2024
         ],
         "y": [
          3.0733297563305286,
          3.0733297563305286
         ]
        }
       ],
       "layout": {
        "height": 500,
        "legend": {
         "tracegroupgap": 0,
         "x": 0.01,
         "xanchor": "left",
         "y": 0.99,
         "yanchor": "top"
        },
        "template": {
         "data": {
          "bar": [
           {
            "error_x": {
             "color": "#f2f5fa"
            },
            "error_y": {
             "color": "#f2f5fa"
            },
            "marker": {
             "line": {
              "color": "rgb(17,17,17)",
              "width": 0.5
             },
             "pattern": {
              "fillmode": "overlay",
              "size": 10,
              "solidity": 0.2
             }
            },
            "type": "bar"
           }
          ],
          "barpolar": [
           {
            "marker": {
             "line": {
              "color": "rgb(17,17,17)",
              "width": 0.5
             },
             "pattern": {
              "fillmode": "overlay",
              "size": 10,
              "solidity": 0.2
             }
            },
            "type": "barpolar"
           }
          ],
          "carpet": [
           {
            "aaxis": {
             "endlinecolor": "#A2B1C6",
             "gridcolor": "#506784",
             "linecolor": "#506784",
             "minorgridcolor": "#506784",
             "startlinecolor": "#A2B1C6"
            },
            "baxis": {
             "endlinecolor": "#A2B1C6",
             "gridcolor": "#506784",
             "linecolor": "#506784",
             "minorgridcolor": "#506784",
             "startlinecolor": "#A2B1C6"
            },
            "type": "carpet"
           }
          ],
          "choropleth": [
           {
            "colorbar": {
             "outlinewidth": 0,
             "ticks": ""
            },
            "type": "choropleth"
           }
          ],
          "contour": [
           {
            "colorbar": {
             "outlinewidth": 0,
             "ticks": ""
            },
            "colorscale": [
             [
              0,
              "#0d0887"
             ],
             [
              0.1111111111111111,
              "#46039f"
             ],
             [
              0.2222222222222222,
              "#7201a8"
             ],
             [
              0.3333333333333333,
              "#9c179e"
             ],
             [
              0.4444444444444444,
              "#bd3786"
             ],
             [
              0.5555555555555556,
              "#d8576b"
             ],
             [
              0.6666666666666666,
              "#ed7953"
             ],
             [
              0.7777777777777778,
              "#fb9f3a"
             ],
             [
              0.8888888888888888,
              "#fdca26"
             ],
             [
              1,
              "#f0f921"
             ]
            ],
            "type": "contour"
           }
          ],
          "contourcarpet": [
           {
            "colorbar": {
             "outlinewidth": 0,
             "ticks": ""
            },
            "type": "contourcarpet"
           }
          ],
          "heatmap": [
           {
            "colorbar": {
             "outlinewidth": 0,
             "ticks": ""
            },
            "colorscale": [
             [
              0,
              "#0d0887"
             ],
             [
              0.1111111111111111,
              "#46039f"
             ],
             [
              0.2222222222222222,
              "#7201a8"
             ],
             [
              0.3333333333333333,
              "#9c179e"
             ],
             [
              0.4444444444444444,
              "#bd3786"
             ],
             [
              0.5555555555555556,
              "#d8576b"
             ],
             [
              0.6666666666666666,
              "#ed7953"
             ],
             [
              0.7777777777777778,
              "#fb9f3a"
             ],
             [
              0.8888888888888888,
              "#fdca26"
             ],
             [
              1,
              "#f0f921"
             ]
            ],
            "type": "heatmap"
           }
          ],
          "heatmapgl": [
           {
            "colorbar": {
             "outlinewidth": 0,
             "ticks": ""
            },
            "colorscale": [
             [
              0,
              "#0d0887"
             ],
             [
              0.1111111111111111,
              "#46039f"
             ],
             [
              0.2222222222222222,
              "#7201a8"
             ],
             [
              0.3333333333333333,
              "#9c179e"
             ],
             [
              0.4444444444444444,
              "#bd3786"
             ],
             [
              0.5555555555555556,
              "#d8576b"
             ],
             [
              0.6666666666666666,
              "#ed7953"
             ],
             [
              0.7777777777777778,
              "#fb9f3a"
             ],
             [
              0.8888888888888888,
              "#fdca26"
             ],
             [
              1,
              "#f0f921"
             ]
            ],
            "type": "heatmapgl"
           }
          ],
          "histogram": [
           {
            "marker": {
             "pattern": {
              "fillmode": "overlay",
              "size": 10,
              "solidity": 0.2
             }
            },
            "type": "histogram"
           }
          ],
          "histogram2d": [
           {
            "colorbar": {
             "outlinewidth": 0,
             "ticks": ""
            },
            "colorscale": [
             [
              0,
              "#0d0887"
             ],
             [
              0.1111111111111111,
              "#46039f"
             ],
             [
              0.2222222222222222,
              "#7201a8"
             ],
             [
              0.3333333333333333,
              "#9c179e"
             ],
             [
              0.4444444444444444,
              "#bd3786"
             ],
             [
              0.5555555555555556,
              "#d8576b"
             ],
             [
              0.6666666666666666,
              "#ed7953"
             ],
             [
              0.7777777777777778,
              "#fb9f3a"
             ],
             [
              0.8888888888888888,
              "#fdca26"
             ],
             [
              1,
              "#f0f921"
             ]
            ],
            "type": "histogram2d"
           }
          ],
          "histogram2dcontour": [
           {
            "colorbar": {
             "outlinewidth": 0,
             "ticks": ""
            },
            "colorscale": [
             [
              0,
              "#0d0887"
             ],
             [
              0.1111111111111111,
              "#46039f"
             ],
             [
              0.2222222222222222,
              "#7201a8"
             ],
             [
              0.3333333333333333,
              "#9c179e"
             ],
             [
              0.4444444444444444,
              "#bd3786"
             ],
             [
              0.5555555555555556,
              "#d8576b"
             ],
             [
              0.6666666666666666,
              "#ed7953"
             ],
             [
              0.7777777777777778,
              "#fb9f3a"
             ],
             [
              0.8888888888888888,
              "#fdca26"
             ],
             [
              1,
              "#f0f921"
             ]
            ],
            "type": "histogram2dcontour"
           }
          ],
          "mesh3d": [
           {
            "colorbar": {
             "outlinewidth": 0,
             "ticks": ""
            },
            "type": "mesh3d"
           }
          ],
          "parcoords": [
           {
            "line": {
             "colorbar": {
              "outlinewidth": 0,
              "ticks": ""
             }
            },
            "type": "parcoords"
           }
          ],
          "pie": [
           {
            "automargin": true,
            "type": "pie"
           }
          ],
          "scatter": [
           {
            "marker": {
             "line": {
              "color": "#283442"
             }
            },
            "type": "scatter"
           }
          ],
          "scatter3d": [
           {
            "line": {
             "colorbar": {
              "outlinewidth": 0,
              "ticks": ""
             }
            },
            "marker": {
             "colorbar": {
              "outlinewidth": 0,
              "ticks": ""
             }
            },
            "type": "scatter3d"
           }
          ],
          "scattercarpet": [
           {
            "marker": {
             "colorbar": {
              "outlinewidth": 0,
              "ticks": ""
             }
            },
            "type": "scattercarpet"
           }
          ],
          "scattergeo": [
           {
            "marker": {
             "colorbar": {
              "outlinewidth": 0,
              "ticks": ""
             }
            },
            "type": "scattergeo"
           }
          ],
          "scattergl": [
           {
            "marker": {
             "line": {
              "color": "#283442"
             }
            },
            "type": "scattergl"
           }
          ],
          "scattermapbox": [
           {
            "marker": {
             "colorbar": {
              "outlinewidth": 0,
              "ticks": ""
             }
            },
            "type": "scattermapbox"
           }
          ],
          "scatterpolar": [
           {
            "marker": {
             "colorbar": {
              "outlinewidth": 0,
              "ticks": ""
             }
            },
            "type": "scatterpolar"
           }
          ],
          "scatterpolargl": [
           {
            "marker": {
             "colorbar": {
              "outlinewidth": 0,
              "ticks": ""
             }
            },
            "type": "scatterpolargl"
           }
          ],
          "scatterternary": [
           {
            "marker": {
             "colorbar": {
              "outlinewidth": 0,
              "ticks": ""
             }
            },
            "type": "scatterternary"
           }
          ],
          "surface": [
           {
            "colorbar": {
             "outlinewidth": 0,
             "ticks": ""
            },
            "colorscale": [
             [
              0,
              "#0d0887"
             ],
             [
              0.1111111111111111,
              "#46039f"
             ],
             [
              0.2222222222222222,
              "#7201a8"
             ],
             [
              0.3333333333333333,
              "#9c179e"
             ],
             [
              0.4444444444444444,
              "#bd3786"
             ],
             [
              0.5555555555555556,
              "#d8576b"
             ],
             [
              0.6666666666666666,
              "#ed7953"
             ],
             [
              0.7777777777777778,
              "#fb9f3a"
             ],
             [
              0.8888888888888888,
              "#fdca26"
             ],
             [
              1,
              "#f0f921"
             ]
            ],
            "type": "surface"
           }
          ],
          "table": [
           {
            "cells": {
             "fill": {
              "color": "#506784"
             },
             "line": {
              "color": "rgb(17,17,17)"
             }
            },
            "header": {
             "fill": {
              "color": "#2a3f5f"
             },
             "line": {
              "color": "rgb(17,17,17)"
             }
            },
            "type": "table"
           }
          ]
         },
         "layout": {
          "annotationdefaults": {
           "arrowcolor": "#f2f5fa",
           "arrowhead": 0,
           "arrowwidth": 1
          },
          "autotypenumbers": "strict",
          "coloraxis": {
           "colorbar": {
            "outlinewidth": 0,
            "ticks": ""
           }
          },
          "colorscale": {
           "diverging": [
            [
             0,
             "#8e0152"
            ],
            [
             0.1,
             "#c51b7d"
            ],
            [
             0.2,
             "#de77ae"
            ],
            [
             0.3,
             "#f1b6da"
            ],
            [
             0.4,
             "#fde0ef"
            ],
            [
             0.5,
             "#f7f7f7"
            ],
            [
             0.6,
             "#e6f5d0"
            ],
            [
             0.7,
             "#b8e186"
            ],
            [
             0.8,
             "#7fbc41"
            ],
            [
             0.9,
             "#4d9221"
            ],
            [
             1,
             "#276419"
            ]
           ],
           "sequential": [
            [
             0,
             "#0d0887"
            ],
            [
             0.1111111111111111,
             "#46039f"
            ],
            [
             0.2222222222222222,
             "#7201a8"
            ],
            [
             0.3333333333333333,
             "#9c179e"
            ],
            [
             0.4444444444444444,
             "#bd3786"
            ],
            [
             0.5555555555555556,
             "#d8576b"
            ],
            [
             0.6666666666666666,
             "#ed7953"
            ],
            [
             0.7777777777777778,
             "#fb9f3a"
            ],
            [
             0.8888888888888888,
             "#fdca26"
            ],
            [
             1,
             "#f0f921"
            ]
           ],
           "sequentialminus": [
            [
             0,
             "#0d0887"
            ],
            [
             0.1111111111111111,
             "#46039f"
            ],
            [
             0.2222222222222222,
             "#7201a8"
            ],
            [
             0.3333333333333333,
             "#9c179e"
            ],
            [
             0.4444444444444444,
             "#bd3786"
            ],
            [
             0.5555555555555556,
             "#d8576b"
            ],
            [
             0.6666666666666666,
             "#ed7953"
            ],
            [
             0.7777777777777778,
             "#fb9f3a"
            ],
            [
             0.8888888888888888,
             "#fdca26"
            ],
            [
             1,
             "#f0f921"
            ]
           ]
          },
          "colorway": [
           "#636efa",
           "#EF553B",
           "#00cc96",
           "#ab63fa",
           "#FFA15A",
           "#19d3f3",
           "#FF6692",
           "#B6E880",
           "#FF97FF",
           "#FECB52"
          ],
          "font": {
           "color": "#f2f5fa"
          },
          "geo": {
           "bgcolor": "rgb(17,17,17)",
           "lakecolor": "rgb(17,17,17)",
           "landcolor": "rgb(17,17,17)",
           "showlakes": true,
           "showland": true,
           "subunitcolor": "#506784"
          },
          "hoverlabel": {
           "align": "left"
          },
          "hovermode": "closest",
          "mapbox": {
           "style": "dark"
          },
          "paper_bgcolor": "rgb(17,17,17)",
          "plot_bgcolor": "rgb(17,17,17)",
          "polar": {
           "angularaxis": {
            "gridcolor": "#506784",
            "linecolor": "#506784",
            "ticks": ""
           },
           "bgcolor": "rgb(17,17,17)",
           "radialaxis": {
            "gridcolor": "#506784",
            "linecolor": "#506784",
            "ticks": ""
           }
          },
          "scene": {
           "xaxis": {
            "backgroundcolor": "rgb(17,17,17)",
            "gridcolor": "#506784",
            "gridwidth": 2,
            "linecolor": "#506784",
            "showbackground": true,
            "ticks": "",
            "zerolinecolor": "#C8D4E3"
           },
           "yaxis": {
            "backgroundcolor": "rgb(17,17,17)",
            "gridcolor": "#506784",
            "gridwidth": 2,
            "linecolor": "#506784",
            "showbackground": true,
            "ticks": "",
            "zerolinecolor": "#C8D4E3"
           },
           "zaxis": {
            "backgroundcolor": "rgb(17,17,17)",
            "gridcolor": "#506784",
            "gridwidth": 2,
            "linecolor": "#506784",
            "showbackground": true,
            "ticks": "",
            "zerolinecolor": "#C8D4E3"
           }
          },
          "shapedefaults": {
           "line": {
            "color": "#f2f5fa"
           }
          },
          "sliderdefaults": {
           "bgcolor": "#C8D4E3",
           "bordercolor": "rgb(17,17,17)",
           "borderwidth": 1,
           "tickwidth": 0
          },
          "ternary": {
           "aaxis": {
            "gridcolor": "#506784",
            "linecolor": "#506784",
            "ticks": ""
           },
           "baxis": {
            "gridcolor": "#506784",
            "linecolor": "#506784",
            "ticks": ""
           },
           "bgcolor": "rgb(17,17,17)",
           "caxis": {
            "gridcolor": "#506784",
            "linecolor": "#506784",
            "ticks": ""
           }
          },
          "title": {
           "x": 0.05
          },
          "updatemenudefaults": {
           "bgcolor": "#506784",
           "borderwidth": 0
          },
          "xaxis": {
           "automargin": true,
           "gridcolor": "#283442",
           "linecolor": "#506784",
           "ticks": "",
           "title": {
            "standoff": 15
           },
           "zerolinecolor": "#283442",
           "zerolinewidth": 2
          },
          "yaxis": {
           "automargin": true,
           "gridcolor": "#283442",
           "linecolor": "#506784",
           "ticks": "",
           "title": {
            "standoff": 15
           },
           "zerolinecolor": "#283442",
           "zerolinewidth": 2
          }
         }
        },
        "title": {
         "text": "Average Goals per Match in the Bundesliga (All Years)"
        },
        "width": 900,
        "xaxis": {
         "anchor": "y",
         "domain": [
          0,
          1
         ],
         "title": {
          "text": "Year"
         }
        },
        "yaxis": {
         "anchor": "x",
         "domain": [
          0,
          1
         ],
         "title": {
          "text": "Average Goals per Match"
         }
        }
       }
      }
     },
     "metadata": {},
     "output_type": "display_data"
    }
   ],
   "source": [
    "#Plot Average Goals per Season \n",
    "\n",
    "import plotly.express as px\n",
    "import plotly.graph_objects as go\n",
    "\n",
    "df_bundesliga['year'] = df_bundesliga['date'].dt.year\n",
    "\n",
    "df_bundesliga['total_goals'] = df_bundesliga['home_goals'] + df_bundesliga['away_goals']\n",
    "average_goals_per_year = df_bundesliga.groupby('year')['total_goals'].mean().reset_index()\n",
    "\n",
    "average_goals_per_year.columns = ['Year', 'Average Goals per Match']\n",
    "\n",
    "\n",
    "overall_average = average_goals_per_year['Average Goals per Match'].mean()\n",
    "\n",
    "fig = px.line(\n",
    "    average_goals_per_year,\n",
    "    x='Year',\n",
    "    y='Average Goals per Match',\n",
    "    title='Average Goals per Match in the Bundesliga (All Years)',\n",
    "    labels={'Average Goals per Match': 'Average Goals per Match', 'Year': 'Year'}\n",
    ")\n",
    "\n",
    "fig.add_trace(\n",
    "    go.Scatter(\n",
    "        x=[average_goals_per_year['Year'].min(), average_goals_per_year['Year'].max()],\n",
    "        y=[overall_average, overall_average],\n",
    "        mode='lines',\n",
    "        name='Overall Average',\n",
    "        line=dict(color='red', dash='dash')\n",
    "    )\n",
    ")\n",
    "\n",
    "\n",
    "fig.update_layout(\n",
    "    xaxis_title='Year',\n",
    "    yaxis_title='Average Goals per Match',\n",
    "    template='plotly_dark', \n",
    "    width=900,\n",
    "    height=500,\n",
    "    legend=dict(yanchor=\"top\", y=0.99, xanchor=\"left\", x=0.01)\n",
    ")\n",
    "\n",
    "fig.show()"
   ]
  },
  {
   "cell_type": "code",
   "execution_count": 10,
   "metadata": {},
   "outputs": [
    {
     "data": {
      "application/vnd.plotly.v1+json": {
       "config": {
        "plotlyServerURL": "https://plot.ly"
       },
       "data": [
        {
         "alignmentgroup": "True",
         "hovertemplate": "Team=%{x}<br>Number of Titles=%{y}<extra></extra>",
         "legendgroup": "",
         "marker": {
          "color": "#636efa",
          "pattern": {
           "shape": ""
          }
         },
         "name": "",
         "offsetgroup": "",
         "orientation": "v",
         "showlegend": false,
         "textposition": "auto",
         "type": "bar",
         "x": [
          "Bayern Munich",
          "Borussia Dortmund",
          "Borussia Mönchengladbach",
          "Werder Bremen",
          "Hamburger SV",
          "VfB Stuttgart"
         ],
         "xaxis": "x",
         "y": [
          31,
          5,
          5,
          4,
          3,
          3
         ],
         "yaxis": "y"
        }
       ],
       "layout": {
        "barmode": "relative",
        "height": 500,
        "legend": {
         "tracegroupgap": 0
        },
        "paper_bgcolor": "white",
        "plot_bgcolor": "white",
        "template": {
         "data": {
          "bar": [
           {
            "error_x": {
             "color": "rgb(36,36,36)"
            },
            "error_y": {
             "color": "rgb(36,36,36)"
            },
            "marker": {
             "line": {
              "color": "white",
              "width": 0.5
             },
             "pattern": {
              "fillmode": "overlay",
              "size": 10,
              "solidity": 0.2
             }
            },
            "type": "bar"
           }
          ],
          "barpolar": [
           {
            "marker": {
             "line": {
              "color": "white",
              "width": 0.5
             },
             "pattern": {
              "fillmode": "overlay",
              "size": 10,
              "solidity": 0.2
             }
            },
            "type": "barpolar"
           }
          ],
          "carpet": [
           {
            "aaxis": {
             "endlinecolor": "rgb(36,36,36)",
             "gridcolor": "white",
             "linecolor": "white",
             "minorgridcolor": "white",
             "startlinecolor": "rgb(36,36,36)"
            },
            "baxis": {
             "endlinecolor": "rgb(36,36,36)",
             "gridcolor": "white",
             "linecolor": "white",
             "minorgridcolor": "white",
             "startlinecolor": "rgb(36,36,36)"
            },
            "type": "carpet"
           }
          ],
          "choropleth": [
           {
            "colorbar": {
             "outlinewidth": 1,
             "tickcolor": "rgb(36,36,36)",
             "ticks": "outside"
            },
            "type": "choropleth"
           }
          ],
          "contour": [
           {
            "colorbar": {
             "outlinewidth": 1,
             "tickcolor": "rgb(36,36,36)",
             "ticks": "outside"
            },
            "colorscale": [
             [
              0,
              "#440154"
             ],
             [
              0.1111111111111111,
              "#482878"
             ],
             [
              0.2222222222222222,
              "#3e4989"
             ],
             [
              0.3333333333333333,
              "#31688e"
             ],
             [
              0.4444444444444444,
              "#26828e"
             ],
             [
              0.5555555555555556,
              "#1f9e89"
             ],
             [
              0.6666666666666666,
              "#35b779"
             ],
             [
              0.7777777777777778,
              "#6ece58"
             ],
             [
              0.8888888888888888,
              "#b5de2b"
             ],
             [
              1,
              "#fde725"
             ]
            ],
            "type": "contour"
           }
          ],
          "contourcarpet": [
           {
            "colorbar": {
             "outlinewidth": 1,
             "tickcolor": "rgb(36,36,36)",
             "ticks": "outside"
            },
            "type": "contourcarpet"
           }
          ],
          "heatmap": [
           {
            "colorbar": {
             "outlinewidth": 1,
             "tickcolor": "rgb(36,36,36)",
             "ticks": "outside"
            },
            "colorscale": [
             [
              0,
              "#440154"
             ],
             [
              0.1111111111111111,
              "#482878"
             ],
             [
              0.2222222222222222,
              "#3e4989"
             ],
             [
              0.3333333333333333,
              "#31688e"
             ],
             [
              0.4444444444444444,
              "#26828e"
             ],
             [
              0.5555555555555556,
              "#1f9e89"
             ],
             [
              0.6666666666666666,
              "#35b779"
             ],
             [
              0.7777777777777778,
              "#6ece58"
             ],
             [
              0.8888888888888888,
              "#b5de2b"
             ],
             [
              1,
              "#fde725"
             ]
            ],
            "type": "heatmap"
           }
          ],
          "heatmapgl": [
           {
            "colorbar": {
             "outlinewidth": 1,
             "tickcolor": "rgb(36,36,36)",
             "ticks": "outside"
            },
            "colorscale": [
             [
              0,
              "#440154"
             ],
             [
              0.1111111111111111,
              "#482878"
             ],
             [
              0.2222222222222222,
              "#3e4989"
             ],
             [
              0.3333333333333333,
              "#31688e"
             ],
             [
              0.4444444444444444,
              "#26828e"
             ],
             [
              0.5555555555555556,
              "#1f9e89"
             ],
             [
              0.6666666666666666,
              "#35b779"
             ],
             [
              0.7777777777777778,
              "#6ece58"
             ],
             [
              0.8888888888888888,
              "#b5de2b"
             ],
             [
              1,
              "#fde725"
             ]
            ],
            "type": "heatmapgl"
           }
          ],
          "histogram": [
           {
            "marker": {
             "line": {
              "color": "white",
              "width": 0.6
             }
            },
            "type": "histogram"
           }
          ],
          "histogram2d": [
           {
            "colorbar": {
             "outlinewidth": 1,
             "tickcolor": "rgb(36,36,36)",
             "ticks": "outside"
            },
            "colorscale": [
             [
              0,
              "#440154"
             ],
             [
              0.1111111111111111,
              "#482878"
             ],
             [
              0.2222222222222222,
              "#3e4989"
             ],
             [
              0.3333333333333333,
              "#31688e"
             ],
             [
              0.4444444444444444,
              "#26828e"
             ],
             [
              0.5555555555555556,
              "#1f9e89"
             ],
             [
              0.6666666666666666,
              "#35b779"
             ],
             [
              0.7777777777777778,
              "#6ece58"
             ],
             [
              0.8888888888888888,
              "#b5de2b"
             ],
             [
              1,
              "#fde725"
             ]
            ],
            "type": "histogram2d"
           }
          ],
          "histogram2dcontour": [
           {
            "colorbar": {
             "outlinewidth": 1,
             "tickcolor": "rgb(36,36,36)",
             "ticks": "outside"
            },
            "colorscale": [
             [
              0,
              "#440154"
             ],
             [
              0.1111111111111111,
              "#482878"
             ],
             [
              0.2222222222222222,
              "#3e4989"
             ],
             [
              0.3333333333333333,
              "#31688e"
             ],
             [
              0.4444444444444444,
              "#26828e"
             ],
             [
              0.5555555555555556,
              "#1f9e89"
             ],
             [
              0.6666666666666666,
              "#35b779"
             ],
             [
              0.7777777777777778,
              "#6ece58"
             ],
             [
              0.8888888888888888,
              "#b5de2b"
             ],
             [
              1,
              "#fde725"
             ]
            ],
            "type": "histogram2dcontour"
           }
          ],
          "mesh3d": [
           {
            "colorbar": {
             "outlinewidth": 1,
             "tickcolor": "rgb(36,36,36)",
             "ticks": "outside"
            },
            "type": "mesh3d"
           }
          ],
          "parcoords": [
           {
            "line": {
             "colorbar": {
              "outlinewidth": 1,
              "tickcolor": "rgb(36,36,36)",
              "ticks": "outside"
             }
            },
            "type": "parcoords"
           }
          ],
          "pie": [
           {
            "automargin": true,
            "type": "pie"
           }
          ],
          "scatter": [
           {
            "fillpattern": {
             "fillmode": "overlay",
             "size": 10,
             "solidity": 0.2
            },
            "type": "scatter"
           }
          ],
          "scatter3d": [
           {
            "line": {
             "colorbar": {
              "outlinewidth": 1,
              "tickcolor": "rgb(36,36,36)",
              "ticks": "outside"
             }
            },
            "marker": {
             "colorbar": {
              "outlinewidth": 1,
              "tickcolor": "rgb(36,36,36)",
              "ticks": "outside"
             }
            },
            "type": "scatter3d"
           }
          ],
          "scattercarpet": [
           {
            "marker": {
             "colorbar": {
              "outlinewidth": 1,
              "tickcolor": "rgb(36,36,36)",
              "ticks": "outside"
             }
            },
            "type": "scattercarpet"
           }
          ],
          "scattergeo": [
           {
            "marker": {
             "colorbar": {
              "outlinewidth": 1,
              "tickcolor": "rgb(36,36,36)",
              "ticks": "outside"
             }
            },
            "type": "scattergeo"
           }
          ],
          "scattergl": [
           {
            "marker": {
             "colorbar": {
              "outlinewidth": 1,
              "tickcolor": "rgb(36,36,36)",
              "ticks": "outside"
             }
            },
            "type": "scattergl"
           }
          ],
          "scattermapbox": [
           {
            "marker": {
             "colorbar": {
              "outlinewidth": 1,
              "tickcolor": "rgb(36,36,36)",
              "ticks": "outside"
             }
            },
            "type": "scattermapbox"
           }
          ],
          "scatterpolar": [
           {
            "marker": {
             "colorbar": {
              "outlinewidth": 1,
              "tickcolor": "rgb(36,36,36)",
              "ticks": "outside"
             }
            },
            "type": "scatterpolar"
           }
          ],
          "scatterpolargl": [
           {
            "marker": {
             "colorbar": {
              "outlinewidth": 1,
              "tickcolor": "rgb(36,36,36)",
              "ticks": "outside"
             }
            },
            "type": "scatterpolargl"
           }
          ],
          "scatterternary": [
           {
            "marker": {
             "colorbar": {
              "outlinewidth": 1,
              "tickcolor": "rgb(36,36,36)",
              "ticks": "outside"
             }
            },
            "type": "scatterternary"
           }
          ],
          "surface": [
           {
            "colorbar": {
             "outlinewidth": 1,
             "tickcolor": "rgb(36,36,36)",
             "ticks": "outside"
            },
            "colorscale": [
             [
              0,
              "#440154"
             ],
             [
              0.1111111111111111,
              "#482878"
             ],
             [
              0.2222222222222222,
              "#3e4989"
             ],
             [
              0.3333333333333333,
              "#31688e"
             ],
             [
              0.4444444444444444,
              "#26828e"
             ],
             [
              0.5555555555555556,
              "#1f9e89"
             ],
             [
              0.6666666666666666,
              "#35b779"
             ],
             [
              0.7777777777777778,
              "#6ece58"
             ],
             [
              0.8888888888888888,
              "#b5de2b"
             ],
             [
              1,
              "#fde725"
             ]
            ],
            "type": "surface"
           }
          ],
          "table": [
           {
            "cells": {
             "fill": {
              "color": "rgb(237,237,237)"
             },
             "line": {
              "color": "white"
             }
            },
            "header": {
             "fill": {
              "color": "rgb(217,217,217)"
             },
             "line": {
              "color": "white"
             }
            },
            "type": "table"
           }
          ]
         },
         "layout": {
          "annotationdefaults": {
           "arrowhead": 0,
           "arrowwidth": 1
          },
          "autotypenumbers": "strict",
          "coloraxis": {
           "colorbar": {
            "outlinewidth": 1,
            "tickcolor": "rgb(36,36,36)",
            "ticks": "outside"
           }
          },
          "colorscale": {
           "diverging": [
            [
             0,
             "rgb(103,0,31)"
            ],
            [
             0.1,
             "rgb(178,24,43)"
            ],
            [
             0.2,
             "rgb(214,96,77)"
            ],
            [
             0.3,
             "rgb(244,165,130)"
            ],
            [
             0.4,
             "rgb(253,219,199)"
            ],
            [
             0.5,
             "rgb(247,247,247)"
            ],
            [
             0.6,
             "rgb(209,229,240)"
            ],
            [
             0.7,
             "rgb(146,197,222)"
            ],
            [
             0.8,
             "rgb(67,147,195)"
            ],
            [
             0.9,
             "rgb(33,102,172)"
            ],
            [
             1,
             "rgb(5,48,97)"
            ]
           ],
           "sequential": [
            [
             0,
             "#440154"
            ],
            [
             0.1111111111111111,
             "#482878"
            ],
            [
             0.2222222222222222,
             "#3e4989"
            ],
            [
             0.3333333333333333,
             "#31688e"
            ],
            [
             0.4444444444444444,
             "#26828e"
            ],
            [
             0.5555555555555556,
             "#1f9e89"
            ],
            [
             0.6666666666666666,
             "#35b779"
            ],
            [
             0.7777777777777778,
             "#6ece58"
            ],
            [
             0.8888888888888888,
             "#b5de2b"
            ],
            [
             1,
             "#fde725"
            ]
           ],
           "sequentialminus": [
            [
             0,
             "#440154"
            ],
            [
             0.1111111111111111,
             "#482878"
            ],
            [
             0.2222222222222222,
             "#3e4989"
            ],
            [
             0.3333333333333333,
             "#31688e"
            ],
            [
             0.4444444444444444,
             "#26828e"
            ],
            [
             0.5555555555555556,
             "#1f9e89"
            ],
            [
             0.6666666666666666,
             "#35b779"
            ],
            [
             0.7777777777777778,
             "#6ece58"
            ],
            [
             0.8888888888888888,
             "#b5de2b"
            ],
            [
             1,
             "#fde725"
            ]
           ]
          },
          "colorway": [
           "#1F77B4",
           "#FF7F0E",
           "#2CA02C",
           "#D62728",
           "#9467BD",
           "#8C564B",
           "#E377C2",
           "#7F7F7F",
           "#BCBD22",
           "#17BECF"
          ],
          "font": {
           "color": "rgb(36,36,36)"
          },
          "geo": {
           "bgcolor": "white",
           "lakecolor": "white",
           "landcolor": "white",
           "showlakes": true,
           "showland": true,
           "subunitcolor": "white"
          },
          "hoverlabel": {
           "align": "left"
          },
          "hovermode": "closest",
          "mapbox": {
           "style": "light"
          },
          "paper_bgcolor": "white",
          "plot_bgcolor": "white",
          "polar": {
           "angularaxis": {
            "gridcolor": "rgb(232,232,232)",
            "linecolor": "rgb(36,36,36)",
            "showgrid": false,
            "showline": true,
            "ticks": "outside"
           },
           "bgcolor": "white",
           "radialaxis": {
            "gridcolor": "rgb(232,232,232)",
            "linecolor": "rgb(36,36,36)",
            "showgrid": false,
            "showline": true,
            "ticks": "outside"
           }
          },
          "scene": {
           "xaxis": {
            "backgroundcolor": "white",
            "gridcolor": "rgb(232,232,232)",
            "gridwidth": 2,
            "linecolor": "rgb(36,36,36)",
            "showbackground": true,
            "showgrid": false,
            "showline": true,
            "ticks": "outside",
            "zeroline": false,
            "zerolinecolor": "rgb(36,36,36)"
           },
           "yaxis": {
            "backgroundcolor": "white",
            "gridcolor": "rgb(232,232,232)",
            "gridwidth": 2,
            "linecolor": "rgb(36,36,36)",
            "showbackground": true,
            "showgrid": false,
            "showline": true,
            "ticks": "outside",
            "zeroline": false,
            "zerolinecolor": "rgb(36,36,36)"
           },
           "zaxis": {
            "backgroundcolor": "white",
            "gridcolor": "rgb(232,232,232)",
            "gridwidth": 2,
            "linecolor": "rgb(36,36,36)",
            "showbackground": true,
            "showgrid": false,
            "showline": true,
            "ticks": "outside",
            "zeroline": false,
            "zerolinecolor": "rgb(36,36,36)"
           }
          },
          "shapedefaults": {
           "fillcolor": "black",
           "line": {
            "width": 0
           },
           "opacity": 0.3
          },
          "ternary": {
           "aaxis": {
            "gridcolor": "rgb(232,232,232)",
            "linecolor": "rgb(36,36,36)",
            "showgrid": false,
            "showline": true,
            "ticks": "outside"
           },
           "baxis": {
            "gridcolor": "rgb(232,232,232)",
            "linecolor": "rgb(36,36,36)",
            "showgrid": false,
            "showline": true,
            "ticks": "outside"
           },
           "bgcolor": "white",
           "caxis": {
            "gridcolor": "rgb(232,232,232)",
            "linecolor": "rgb(36,36,36)",
            "showgrid": false,
            "showline": true,
            "ticks": "outside"
           }
          },
          "title": {
           "x": 0.05
          },
          "xaxis": {
           "automargin": true,
           "gridcolor": "rgb(232,232,232)",
           "linecolor": "rgb(36,36,36)",
           "showgrid": false,
           "showline": true,
           "ticks": "outside",
           "title": {
            "standoff": 15
           },
           "zeroline": false,
           "zerolinecolor": "rgb(36,36,36)"
          },
          "yaxis": {
           "automargin": true,
           "gridcolor": "rgb(232,232,232)",
           "linecolor": "rgb(36,36,36)",
           "showgrid": false,
           "showline": true,
           "ticks": "outside",
           "title": {
            "standoff": 15
           },
           "zeroline": false,
           "zerolinecolor": "rgb(36,36,36)"
          }
         }
        },
        "title": {
         "font": {
          "color": "black",
          "family": "Arial",
          "size": 22
         },
         "text": "Comparison of Championships: Bayern Munich vs. Other Teams"
        },
        "width": 800,
        "xaxis": {
         "anchor": "y",
         "domain": [
          0,
          1
         ],
         "title": {
          "font": {
           "color": "black",
           "family": "Arial",
           "size": 18
          },
          "text": "Team"
         }
        },
        "yaxis": {
         "anchor": "x",
         "domain": [
          0,
          1
         ],
         "title": {
          "font": {
           "color": "black",
           "family": "Arial",
           "size": 18
          },
          "text": "Number of Titles"
         }
        }
       }
      }
     },
     "metadata": {},
     "output_type": "display_data"
    }
   ],
   "source": [
    "# Comparison of Championships in the Bundesliga across the years \n",
    "teams_titles = {\n",
    "    'Team': ['Bayern Munich', 'Borussia Dortmund', 'Borussia Mönchengladbach', 'Werder Bremen', 'Hamburger SV', 'VfB Stuttgart'],\n",
    "    'Titles': [31, 5, 5, 4, 3, 3]\n",
    "}\n",
    "\n",
    "df_teams = pd.DataFrame(teams_titles)\n",
    "\n",
    "\n",
    "fig = px.bar(df_teams, x='Team', y='Titles',\n",
    "             title='Comparison of Championships: Bayern Munich vs. Other Teams',\n",
    "             labels={'Team': 'Team', 'Titles': 'Number of Titles'})\n",
    "\n",
    "fig.update_layout(template='simple_white', width=800, height=500,\n",
    "                  title_font=dict(size=22, color='black', family=\"Arial\"),\n",
    "                  xaxis_title_font=dict(size=18, color='black', family=\"Arial\"),\n",
    "                  yaxis_title_font=dict(size=18, color='black', family=\"Arial\"),\n",
    "                  plot_bgcolor='white', paper_bgcolor='white')\n",
    "\n",
    "fig.show()"
   ]
  },
  {
   "cell_type": "code",
   "execution_count": 11,
   "metadata": {},
   "outputs": [
    {
     "data": {
      "application/vnd.plotly.v1+json": {
       "config": {
        "plotlyServerURL": "https://plot.ly"
       },
       "data": [
        {
         "hovertemplate": "League=Bundesliga (Germany)<br>Year=%{x}<br>Average Attendance=%{y}<extra></extra>",
         "legendgroup": "Bundesliga (Germany)",
         "line": {
          "color": "#636efa",
          "dash": "solid"
         },
         "marker": {
          "symbol": "circle"
         },
         "mode": "lines+markers",
         "name": "Bundesliga (Germany)",
         "orientation": "v",
         "showlegend": true,
         "type": "scatter",
         "x": [
          "2023/24",
          "2022/23",
          "2021/22",
          "2020/21",
          "2019/20",
          "2018/19",
          "2017/18",
          "2016/17",
          "2015/16",
          "2014/15"
         ],
         "xaxis": "x",
         "y": [
          39490,
          40217,
          43500,
          18500,
          43500,
          43500,
          43500,
          43500,
          43500,
          43500
         ],
         "yaxis": "y"
        },
        {
         "hovertemplate": "League=Premier League (England)<br>Year=%{x}<br>Average Attendance=%{y}<extra></extra>",
         "legendgroup": "Premier League (England)",
         "line": {
          "color": "#EF553B",
          "dash": "solid"
         },
         "marker": {
          "symbol": "circle"
         },
         "mode": "lines+markers",
         "name": "Premier League (England)",
         "orientation": "v",
         "showlegend": true,
         "type": "scatter",
         "x": [
          "2023/24",
          "2022/23",
          "2021/22",
          "2020/21",
          "2019/20",
          "2018/19",
          "2017/18",
          "2016/17",
          "2015/16",
          "2014/15"
         ],
         "xaxis": "x",
         "y": [
          38584,
          40217,
          38000,
          10000,
          38000,
          38000,
          38000,
          36000,
          36000,
          36000
         ],
         "yaxis": "y"
        },
        {
         "hovertemplate": "League=Serie A (Italy)<br>Year=%{x}<br>Average Attendance=%{y}<extra></extra>",
         "legendgroup": "Serie A (Italy)",
         "line": {
          "color": "#00cc96",
          "dash": "solid"
         },
         "marker": {
          "symbol": "circle"
         },
         "mode": "lines+markers",
         "name": "Serie A (Italy)",
         "orientation": "v",
         "showlegend": true,
         "type": "scatter",
         "x": [
          "2023/24",
          "2022/23",
          "2021/22",
          "2020/21",
          "2019/20",
          "2018/19",
          "2017/18",
          "2016/17",
          "2015/16",
          "2014/15"
         ],
         "xaxis": "x",
         "y": [
          30867,
          30000,
          25000,
          14000,
          25000,
          25000,
          25000,
          25000,
          25000,
          25000
         ],
         "yaxis": "y"
        },
        {
         "hovertemplate": "League=La Liga (Spain)<br>Year=%{x}<br>Average Attendance=%{y}<extra></extra>",
         "legendgroup": "La Liga (Spain)",
         "line": {
          "color": "#ab63fa",
          "dash": "solid"
         },
         "marker": {
          "symbol": "circle"
         },
         "mode": "lines+markers",
         "name": "La Liga (Spain)",
         "orientation": "v",
         "showlegend": true,
         "type": "scatter",
         "x": [
          "2023/24",
          "2022/23",
          "2021/22",
          "2020/21",
          "2019/20",
          "2018/19",
          "2017/18",
          "2016/17",
          "2015/16",
          "2014/15"
         ],
         "xaxis": "x",
         "y": [
          29012,
          27000,
          27000,
          12000,
          27000,
          27000,
          27000,
          27000,
          27000,
          27000
         ],
         "yaxis": "y"
        },
        {
         "hovertemplate": "League=Ligue 1 (France)<br>Year=%{x}<br>Average Attendance=%{y}<extra></extra>",
         "legendgroup": "Ligue 1 (France)",
         "line": {
          "color": "#FFA15A",
          "dash": "solid"
         },
         "marker": {
          "symbol": "circle"
         },
         "mode": "lines+markers",
         "name": "Ligue 1 (France)",
         "orientation": "v",
         "showlegend": true,
         "type": "scatter",
         "x": [
          "2023/24",
          "2022/23",
          "2021/22",
          "2020/21",
          "2019/20",
          "2018/19",
          "2017/18",
          "2016/17",
          "2015/16",
          "2014/15"
         ],
         "xaxis": "x",
         "y": [
          26905,
          25000,
          20000,
          10000,
          20000,
          20000,
          20000,
          20000,
          20000,
          20000
         ],
         "yaxis": "y"
        }
       ],
       "layout": {
        "height": 600,
        "legend": {
         "title": {
          "text": "League"
         },
         "tracegroupgap": 0
        },
        "template": {
         "data": {
          "bar": [
           {
            "error_x": {
             "color": "#2a3f5f"
            },
            "error_y": {
             "color": "#2a3f5f"
            },
            "marker": {
             "line": {
              "color": "#E5ECF6",
              "width": 0.5
             },
             "pattern": {
              "fillmode": "overlay",
              "size": 10,
              "solidity": 0.2
             }
            },
            "type": "bar"
           }
          ],
          "barpolar": [
           {
            "marker": {
             "line": {
              "color": "#E5ECF6",
              "width": 0.5
             },
             "pattern": {
              "fillmode": "overlay",
              "size": 10,
              "solidity": 0.2
             }
            },
            "type": "barpolar"
           }
          ],
          "carpet": [
           {
            "aaxis": {
             "endlinecolor": "#2a3f5f",
             "gridcolor": "white",
             "linecolor": "white",
             "minorgridcolor": "white",
             "startlinecolor": "#2a3f5f"
            },
            "baxis": {
             "endlinecolor": "#2a3f5f",
             "gridcolor": "white",
             "linecolor": "white",
             "minorgridcolor": "white",
             "startlinecolor": "#2a3f5f"
            },
            "type": "carpet"
           }
          ],
          "choropleth": [
           {
            "colorbar": {
             "outlinewidth": 0,
             "ticks": ""
            },
            "type": "choropleth"
           }
          ],
          "contour": [
           {
            "colorbar": {
             "outlinewidth": 0,
             "ticks": ""
            },
            "colorscale": [
             [
              0,
              "#0d0887"
             ],
             [
              0.1111111111111111,
              "#46039f"
             ],
             [
              0.2222222222222222,
              "#7201a8"
             ],
             [
              0.3333333333333333,
              "#9c179e"
             ],
             [
              0.4444444444444444,
              "#bd3786"
             ],
             [
              0.5555555555555556,
              "#d8576b"
             ],
             [
              0.6666666666666666,
              "#ed7953"
             ],
             [
              0.7777777777777778,
              "#fb9f3a"
             ],
             [
              0.8888888888888888,
              "#fdca26"
             ],
             [
              1,
              "#f0f921"
             ]
            ],
            "type": "contour"
           }
          ],
          "contourcarpet": [
           {
            "colorbar": {
             "outlinewidth": 0,
             "ticks": ""
            },
            "type": "contourcarpet"
           }
          ],
          "heatmap": [
           {
            "colorbar": {
             "outlinewidth": 0,
             "ticks": ""
            },
            "colorscale": [
             [
              0,
              "#0d0887"
             ],
             [
              0.1111111111111111,
              "#46039f"
             ],
             [
              0.2222222222222222,
              "#7201a8"
             ],
             [
              0.3333333333333333,
              "#9c179e"
             ],
             [
              0.4444444444444444,
              "#bd3786"
             ],
             [
              0.5555555555555556,
              "#d8576b"
             ],
             [
              0.6666666666666666,
              "#ed7953"
             ],
             [
              0.7777777777777778,
              "#fb9f3a"
             ],
             [
              0.8888888888888888,
              "#fdca26"
             ],
             [
              1,
              "#f0f921"
             ]
            ],
            "type": "heatmap"
           }
          ],
          "heatmapgl": [
           {
            "colorbar": {
             "outlinewidth": 0,
             "ticks": ""
            },
            "colorscale": [
             [
              0,
              "#0d0887"
             ],
             [
              0.1111111111111111,
              "#46039f"
             ],
             [
              0.2222222222222222,
              "#7201a8"
             ],
             [
              0.3333333333333333,
              "#9c179e"
             ],
             [
              0.4444444444444444,
              "#bd3786"
             ],
             [
              0.5555555555555556,
              "#d8576b"
             ],
             [
              0.6666666666666666,
              "#ed7953"
             ],
             [
              0.7777777777777778,
              "#fb9f3a"
             ],
             [
              0.8888888888888888,
              "#fdca26"
             ],
             [
              1,
              "#f0f921"
             ]
            ],
            "type": "heatmapgl"
           }
          ],
          "histogram": [
           {
            "marker": {
             "pattern": {
              "fillmode": "overlay",
              "size": 10,
              "solidity": 0.2
             }
            },
            "type": "histogram"
           }
          ],
          "histogram2d": [
           {
            "colorbar": {
             "outlinewidth": 0,
             "ticks": ""
            },
            "colorscale": [
             [
              0,
              "#0d0887"
             ],
             [
              0.1111111111111111,
              "#46039f"
             ],
             [
              0.2222222222222222,
              "#7201a8"
             ],
             [
              0.3333333333333333,
              "#9c179e"
             ],
             [
              0.4444444444444444,
              "#bd3786"
             ],
             [
              0.5555555555555556,
              "#d8576b"
             ],
             [
              0.6666666666666666,
              "#ed7953"
             ],
             [
              0.7777777777777778,
              "#fb9f3a"
             ],
             [
              0.8888888888888888,
              "#fdca26"
             ],
             [
              1,
              "#f0f921"
             ]
            ],
            "type": "histogram2d"
           }
          ],
          "histogram2dcontour": [
           {
            "colorbar": {
             "outlinewidth": 0,
             "ticks": ""
            },
            "colorscale": [
             [
              0,
              "#0d0887"
             ],
             [
              0.1111111111111111,
              "#46039f"
             ],
             [
              0.2222222222222222,
              "#7201a8"
             ],
             [
              0.3333333333333333,
              "#9c179e"
             ],
             [
              0.4444444444444444,
              "#bd3786"
             ],
             [
              0.5555555555555556,
              "#d8576b"
             ],
             [
              0.6666666666666666,
              "#ed7953"
             ],
             [
              0.7777777777777778,
              "#fb9f3a"
             ],
             [
              0.8888888888888888,
              "#fdca26"
             ],
             [
              1,
              "#f0f921"
             ]
            ],
            "type": "histogram2dcontour"
           }
          ],
          "mesh3d": [
           {
            "colorbar": {
             "outlinewidth": 0,
             "ticks": ""
            },
            "type": "mesh3d"
           }
          ],
          "parcoords": [
           {
            "line": {
             "colorbar": {
              "outlinewidth": 0,
              "ticks": ""
             }
            },
            "type": "parcoords"
           }
          ],
          "pie": [
           {
            "automargin": true,
            "type": "pie"
           }
          ],
          "scatter": [
           {
            "fillpattern": {
             "fillmode": "overlay",
             "size": 10,
             "solidity": 0.2
            },
            "type": "scatter"
           }
          ],
          "scatter3d": [
           {
            "line": {
             "colorbar": {
              "outlinewidth": 0,
              "ticks": ""
             }
            },
            "marker": {
             "colorbar": {
              "outlinewidth": 0,
              "ticks": ""
             }
            },
            "type": "scatter3d"
           }
          ],
          "scattercarpet": [
           {
            "marker": {
             "colorbar": {
              "outlinewidth": 0,
              "ticks": ""
             }
            },
            "type": "scattercarpet"
           }
          ],
          "scattergeo": [
           {
            "marker": {
             "colorbar": {
              "outlinewidth": 0,
              "ticks": ""
             }
            },
            "type": "scattergeo"
           }
          ],
          "scattergl": [
           {
            "marker": {
             "colorbar": {
              "outlinewidth": 0,
              "ticks": ""
             }
            },
            "type": "scattergl"
           }
          ],
          "scattermapbox": [
           {
            "marker": {
             "colorbar": {
              "outlinewidth": 0,
              "ticks": ""
             }
            },
            "type": "scattermapbox"
           }
          ],
          "scatterpolar": [
           {
            "marker": {
             "colorbar": {
              "outlinewidth": 0,
              "ticks": ""
             }
            },
            "type": "scatterpolar"
           }
          ],
          "scatterpolargl": [
           {
            "marker": {
             "colorbar": {
              "outlinewidth": 0,
              "ticks": ""
             }
            },
            "type": "scatterpolargl"
           }
          ],
          "scatterternary": [
           {
            "marker": {
             "colorbar": {
              "outlinewidth": 0,
              "ticks": ""
             }
            },
            "type": "scatterternary"
           }
          ],
          "surface": [
           {
            "colorbar": {
             "outlinewidth": 0,
             "ticks": ""
            },
            "colorscale": [
             [
              0,
              "#0d0887"
             ],
             [
              0.1111111111111111,
              "#46039f"
             ],
             [
              0.2222222222222222,
              "#7201a8"
             ],
             [
              0.3333333333333333,
              "#9c179e"
             ],
             [
              0.4444444444444444,
              "#bd3786"
             ],
             [
              0.5555555555555556,
              "#d8576b"
             ],
             [
              0.6666666666666666,
              "#ed7953"
             ],
             [
              0.7777777777777778,
              "#fb9f3a"
             ],
             [
              0.8888888888888888,
              "#fdca26"
             ],
             [
              1,
              "#f0f921"
             ]
            ],
            "type": "surface"
           }
          ],
          "table": [
           {
            "cells": {
             "fill": {
              "color": "#EBF0F8"
             },
             "line": {
              "color": "white"
             }
            },
            "header": {
             "fill": {
              "color": "#C8D4E3"
             },
             "line": {
              "color": "white"
             }
            },
            "type": "table"
           }
          ]
         },
         "layout": {
          "annotationdefaults": {
           "arrowcolor": "#2a3f5f",
           "arrowhead": 0,
           "arrowwidth": 1
          },
          "autotypenumbers": "strict",
          "coloraxis": {
           "colorbar": {
            "outlinewidth": 0,
            "ticks": ""
           }
          },
          "colorscale": {
           "diverging": [
            [
             0,
             "#8e0152"
            ],
            [
             0.1,
             "#c51b7d"
            ],
            [
             0.2,
             "#de77ae"
            ],
            [
             0.3,
             "#f1b6da"
            ],
            [
             0.4,
             "#fde0ef"
            ],
            [
             0.5,
             "#f7f7f7"
            ],
            [
             0.6,
             "#e6f5d0"
            ],
            [
             0.7,
             "#b8e186"
            ],
            [
             0.8,
             "#7fbc41"
            ],
            [
             0.9,
             "#4d9221"
            ],
            [
             1,
             "#276419"
            ]
           ],
           "sequential": [
            [
             0,
             "#0d0887"
            ],
            [
             0.1111111111111111,
             "#46039f"
            ],
            [
             0.2222222222222222,
             "#7201a8"
            ],
            [
             0.3333333333333333,
             "#9c179e"
            ],
            [
             0.4444444444444444,
             "#bd3786"
            ],
            [
             0.5555555555555556,
             "#d8576b"
            ],
            [
             0.6666666666666666,
             "#ed7953"
            ],
            [
             0.7777777777777778,
             "#fb9f3a"
            ],
            [
             0.8888888888888888,
             "#fdca26"
            ],
            [
             1,
             "#f0f921"
            ]
           ],
           "sequentialminus": [
            [
             0,
             "#0d0887"
            ],
            [
             0.1111111111111111,
             "#46039f"
            ],
            [
             0.2222222222222222,
             "#7201a8"
            ],
            [
             0.3333333333333333,
             "#9c179e"
            ],
            [
             0.4444444444444444,
             "#bd3786"
            ],
            [
             0.5555555555555556,
             "#d8576b"
            ],
            [
             0.6666666666666666,
             "#ed7953"
            ],
            [
             0.7777777777777778,
             "#fb9f3a"
            ],
            [
             0.8888888888888888,
             "#fdca26"
            ],
            [
             1,
             "#f0f921"
            ]
           ]
          },
          "colorway": [
           "#636efa",
           "#EF553B",
           "#00cc96",
           "#ab63fa",
           "#FFA15A",
           "#19d3f3",
           "#FF6692",
           "#B6E880",
           "#FF97FF",
           "#FECB52"
          ],
          "font": {
           "color": "#2a3f5f"
          },
          "geo": {
           "bgcolor": "white",
           "lakecolor": "white",
           "landcolor": "#E5ECF6",
           "showlakes": true,
           "showland": true,
           "subunitcolor": "white"
          },
          "hoverlabel": {
           "align": "left"
          },
          "hovermode": "closest",
          "mapbox": {
           "style": "light"
          },
          "paper_bgcolor": "white",
          "plot_bgcolor": "#E5ECF6",
          "polar": {
           "angularaxis": {
            "gridcolor": "white",
            "linecolor": "white",
            "ticks": ""
           },
           "bgcolor": "#E5ECF6",
           "radialaxis": {
            "gridcolor": "white",
            "linecolor": "white",
            "ticks": ""
           }
          },
          "scene": {
           "xaxis": {
            "backgroundcolor": "#E5ECF6",
            "gridcolor": "white",
            "gridwidth": 2,
            "linecolor": "white",
            "showbackground": true,
            "ticks": "",
            "zerolinecolor": "white"
           },
           "yaxis": {
            "backgroundcolor": "#E5ECF6",
            "gridcolor": "white",
            "gridwidth": 2,
            "linecolor": "white",
            "showbackground": true,
            "ticks": "",
            "zerolinecolor": "white"
           },
           "zaxis": {
            "backgroundcolor": "#E5ECF6",
            "gridcolor": "white",
            "gridwidth": 2,
            "linecolor": "white",
            "showbackground": true,
            "ticks": "",
            "zerolinecolor": "white"
           }
          },
          "shapedefaults": {
           "line": {
            "color": "#2a3f5f"
           }
          },
          "ternary": {
           "aaxis": {
            "gridcolor": "white",
            "linecolor": "white",
            "ticks": ""
           },
           "baxis": {
            "gridcolor": "white",
            "linecolor": "white",
            "ticks": ""
           },
           "bgcolor": "#E5ECF6",
           "caxis": {
            "gridcolor": "white",
            "linecolor": "white",
            "ticks": ""
           }
          },
          "title": {
           "x": 0.05
          },
          "xaxis": {
           "automargin": true,
           "gridcolor": "white",
           "linecolor": "white",
           "ticks": "",
           "title": {
            "standoff": 15
           },
           "zerolinecolor": "white",
           "zerolinewidth": 2
          },
          "yaxis": {
           "automargin": true,
           "gridcolor": "white",
           "linecolor": "white",
           "ticks": "",
           "title": {
            "standoff": 15
           },
           "zerolinecolor": "white",
           "zerolinewidth": 2
          }
         }
        },
        "title": {
         "text": "Average Attendance in Major European Football Leagues (2014/15 - 2023/24)"
        },
        "width": 800,
        "xaxis": {
         "anchor": "y",
         "categoryarray": [
          "2014/15",
          "2015/16",
          "2016/17",
          "2017/18",
          "2018/19",
          "2019/20",
          "2020/21",
          "2021/22",
          "2022/23",
          "2023/24"
         ],
         "categoryorder": "array",
         "domain": [
          0,
          1
         ],
         "title": {
          "text": "Season"
         }
        },
        "yaxis": {
         "anchor": "x",
         "domain": [
          0,
          1
         ],
         "tickmode": "array",
         "tickvals": [
          10000,
          20000,
          30000,
          40000,
          50000
         ],
         "title": {
          "text": "Average Attendance"
         }
        }
       }
      }
     },
     "metadata": {},
     "output_type": "display_data"
    }
   ],
   "source": [
    "# Plot Average attendance for most popular football leagues \n",
    "\n",
    "# Data for average attendance\n",
    "data = {\n",
    "    'Year': ['2023/24', '2022/23', '2021/22', '2020/21', '2019/20', '2018/19', '2017/18', '2016/17', '2015/16', '2014/15'],\n",
    "    'Bundesliga (Germany)': [39490, 40217, 43500, 18500, 43500, 43500, 43500, 43500, 43500, 43500],\n",
    "    'Premier League (England)': [38584, 40217, 38000, 10000, 38000, 38000, 38000, 36000, 36000, 36000],\n",
    "    'Serie A (Italy)': [30867, 30000, 25000, 14000, 25000, 25000, 25000, 25000, 25000, 25000],\n",
    "    'La Liga (Spain)': [29012, 27000, 27000, 12000, 27000, 27000, 27000, 27000, 27000, 27000],\n",
    "    'Ligue 1 (France)': [26905, 25000, 20000, 10000, 20000, 20000, 20000, 20000, 20000, 20000]\n",
    "}\n",
    "\n",
    "df = pd.DataFrame(data)\n",
    "\n",
    "df_melted = df.melt(id_vars=['Year'], var_name='League', value_name='Average Attendance')\n",
    "\n",
    "df_melted['Year'] = pd.Categorical(df_melted['Year'], categories=df['Year'][::-1], ordered=True)\n",
    "\n",
    "fig = px.line(df_melted, x='Year', y='Average Attendance', color='League',\n",
    "              title='Average Attendance in Major European Football Leagues (2014/15 - 2023/24)',\n",
    "              markers=True)\n",
    "\n",
    "fig.update_layout(\n",
    "    xaxis_title='Season',\n",
    "    yaxis_title='Average Attendance',\n",
    "    xaxis=dict(categoryorder='array', categoryarray=df['Year'][::-1]),\n",
    "    yaxis=dict(tickmode='array', tickvals=[10000, 20000, 30000, 40000, 50000]),\n",
    "    width=800,\n",
    "    height=600\n",
    ")\n",
    "\n",
    "fig.show()"
   ]
  },
  {
   "cell_type": "code",
   "execution_count": 12,
   "metadata": {},
   "outputs": [
    {
     "data": {
      "text/html": [
       "\n",
       "<style>\n",
       "  #altair-viz-9de3ef71d0ee4d1ca64476545ce92512.vega-embed {\n",
       "    width: 100%;\n",
       "    display: flex;\n",
       "  }\n",
       "\n",
       "  #altair-viz-9de3ef71d0ee4d1ca64476545ce92512.vega-embed details,\n",
       "  #altair-viz-9de3ef71d0ee4d1ca64476545ce92512.vega-embed details summary {\n",
       "    position: relative;\n",
       "  }\n",
       "</style>\n",
       "<div id=\"altair-viz-9de3ef71d0ee4d1ca64476545ce92512\"></div>\n",
       "<script type=\"text/javascript\">\n",
       "  var VEGA_DEBUG = (typeof VEGA_DEBUG == \"undefined\") ? {} : VEGA_DEBUG;\n",
       "  (function(spec, embedOpt){\n",
       "    let outputDiv = document.currentScript.previousElementSibling;\n",
       "    if (outputDiv.id !== \"altair-viz-9de3ef71d0ee4d1ca64476545ce92512\") {\n",
       "      outputDiv = document.getElementById(\"altair-viz-9de3ef71d0ee4d1ca64476545ce92512\");\n",
       "    }\n",
       "    const paths = {\n",
       "      \"vega\": \"https://cdn.jsdelivr.net/npm/vega@5?noext\",\n",
       "      \"vega-lib\": \"https://cdn.jsdelivr.net/npm/vega-lib?noext\",\n",
       "      \"vega-lite\": \"https://cdn.jsdelivr.net/npm/vega-lite@5.8.0?noext\",\n",
       "      \"vega-embed\": \"https://cdn.jsdelivr.net/npm/vega-embed@6?noext\",\n",
       "    };\n",
       "\n",
       "    function maybeLoadScript(lib, version) {\n",
       "      var key = `${lib.replace(\"-\", \"\")}_version`;\n",
       "      return (VEGA_DEBUG[key] == version) ?\n",
       "        Promise.resolve(paths[lib]) :\n",
       "        new Promise(function(resolve, reject) {\n",
       "          var s = document.createElement('script');\n",
       "          document.getElementsByTagName(\"head\")[0].appendChild(s);\n",
       "          s.async = true;\n",
       "          s.onload = () => {\n",
       "            VEGA_DEBUG[key] = version;\n",
       "            return resolve(paths[lib]);\n",
       "          };\n",
       "          s.onerror = () => reject(`Error loading script: ${paths[lib]}`);\n",
       "          s.src = paths[lib];\n",
       "        });\n",
       "    }\n",
       "\n",
       "    function showError(err) {\n",
       "      outputDiv.innerHTML = `<div class=\"error\" style=\"color:red;\">${err}</div>`;\n",
       "      throw err;\n",
       "    }\n",
       "\n",
       "    function displayChart(vegaEmbed) {\n",
       "      vegaEmbed(outputDiv, spec, embedOpt)\n",
       "        .catch(err => showError(`Javascript Error: ${err.message}<br>This usually means there's a typo in your chart specification. See the javascript console for the full traceback.`));\n",
       "    }\n",
       "\n",
       "    if(typeof define === \"function\" && define.amd) {\n",
       "      requirejs.config({paths});\n",
       "      require([\"vega-embed\"], displayChart, err => showError(`Error loading script: ${err.message}`));\n",
       "    } else {\n",
       "      maybeLoadScript(\"vega\", \"5\")\n",
       "        .then(() => maybeLoadScript(\"vega-lite\", \"5.8.0\"))\n",
       "        .then(() => maybeLoadScript(\"vega-embed\", \"6\"))\n",
       "        .catch(showError)\n",
       "        .then(() => displayChart(vegaEmbed));\n",
       "    }\n",
       "  })({\"config\": {\"view\": {\"continuousWidth\": 300, \"continuousHeight\": 300}, \"axis\": {\"labelFontSize\": 12, \"titleFontSize\": 14}, \"legend\": {\"labelFontSize\": 12, \"symbolSize\": 150, \"titleFontSize\": 14}, \"title\": {\"fontSize\": 18, \"fontWeight\": \"bold\"}}, \"data\": {\"name\": \"data-e945487b3b5b883f217990300dd9e2da\"}, \"mark\": {\"type\": \"circle\", \"opacity\": 0.8, \"size\": 200}, \"encoding\": {\"color\": {\"field\": \"Club\", \"legend\": {\"title\": \"Club\"}, \"type\": \"nominal\"}, \"tooltip\": [{\"field\": \"Club\", \"type\": \"nominal\"}, {\"field\": \"Year\", \"type\": \"nominal\"}, {\"field\": \"City\", \"type\": \"nominal\"}], \"x\": {\"axis\": {\"labelAngle\": 0}, \"field\": \"City\", \"title\": \"City\", \"type\": \"nominal\"}, \"y\": {\"field\": \"Year\", \"sort\": \"ascending\", \"title\": \"Championship Year\", \"type\": \"ordinal\"}}, \"height\": 400, \"title\": {\"text\": \"First Seven Bundesliga Champions by City\", \"anchor\": \"middle\", \"fontSize\": 20, \"subtitle\": \"Each dot represents a club and the year they won the Bundesliga\"}, \"width\": 600, \"$schema\": \"https://vega.github.io/schema/vega-lite/v5.8.0.json\", \"datasets\": {\"data-e945487b3b5b883f217990300dd9e2da\": [{\"City\": \"K\\u00f6ln\", \"Club\": \"1. FC K\\u00f6ln\", \"Year\": \"1963-1964\"}, {\"City\": \"Bremen\", \"Club\": \"Werder Bremen\", \"Year\": \"1964-1965\"}, {\"City\": \"M\\u00fcnchen\", \"Club\": \"TSV 1860 M\\u00fcnchen\", \"Year\": \"1965-1966\"}, {\"City\": \"Braunschweig\", \"Club\": \"Eintracht Braunschweig\", \"Year\": \"1966-1967\"}, {\"City\": \"N\\u00fcrnberg\", \"Club\": \"1. FC N\\u00fcrnberg\", \"Year\": \"1967-1968\"}, {\"City\": \"M\\u00fcnchen\", \"Club\": \"Bayern M\\u00fcnchen\", \"Year\": \"1968-1969\"}, {\"City\": \"M\\u00f6nchengladbach\", \"Club\": \"Borussia M\\u00f6nchengladbach\", \"Year\": \"1969-1970\"}]}}, {\"mode\": \"vega-lite\"});\n",
       "</script>"
      ],
      "text/plain": [
       "alt.Chart(...)"
      ]
     },
     "metadata": {},
     "output_type": "display_data"
    }
   ],
   "source": [
    "# Plot the first seven champions of the Bundesliga \n",
    "\n",
    "data = {\n",
    "    'City': ['Köln', 'Bremen', 'München', 'Braunschweig', \n",
    "             'Nürnberg', 'München', 'Mönchengladbach'],\n",
    "    'Club': ['1. FC Köln', 'Werder Bremen', 'TSV 1860 München', 'Eintracht Braunschweig', \n",
    "             '1. FC Nürnberg', 'Bayern München', 'Borussia Mönchengladbach'],\n",
    "    'Year': ['1963-1964', '1964-1965', '1965-1966', '1966-1967', '1967-1968', '1968-1969', '1969-1970']\n",
    "}\n",
    "\n",
    "df = pd.DataFrame(data)\n",
    "\n",
    "scatter = alt.Chart(df).mark_circle(size=200, opacity=0.8).encode(\n",
    "    x=alt.X('City:N', title='City', axis=alt.Axis(labelAngle=0)),\n",
    "    y=alt.Y('Year:O', title='Championship Year', sort='ascending'),\n",
    "    color=alt.Color('Club:N', legend=alt.Legend(title=\"Club\")),\n",
    "    tooltip=['Club', 'Year', 'City']\n",
    ").properties(\n",
    "    title=alt.TitleParams(\n",
    "        text='First Seven Bundesliga Champions by City',\n",
    "        subtitle='Each dot represents a club and the year they won the Bundesliga',\n",
    "        anchor='middle',\n",
    "        fontSize=20\n",
    "    ),\n",
    "    width=600,\n",
    "    height=400\n",
    ").configure_axis(\n",
    "    labelFontSize=12,\n",
    "    titleFontSize=14\n",
    ").configure_legend(\n",
    "    titleFontSize=14,\n",
    "    labelFontSize=12,\n",
    "    symbolSize=150\n",
    ").configure_title(\n",
    "    fontSize=18,\n",
    "    fontWeight='bold'\n",
    ")\n",
    "\n",
    "scatter.display()"
   ]
  },
  {
   "cell_type": "markdown",
   "metadata": {},
   "source": [
    "Append recency-based performance metrics for each team"
   ]
  },
  {
   "cell_type": "code",
   "execution_count": 13,
   "metadata": {},
   "outputs": [
    {
     "name": "stdout",
     "output_type": "stream",
     "text": [
      "    Unnamed: 0  matchday       date               home_team final_result   \n",
      "0            0         1 1963-08-24           Werder Bremen          3-2  \\\n",
      "1            1         1 1963-08-24       1. FC Saarbrücken          0-2   \n",
      "2            2         1 1963-08-24        TSV 1860 München          1-1   \n",
      "3            3         1 1963-08-24     Eintracht Frankfurt          1-1   \n",
      "4            4         1 1963-08-24           FC Schalke 04          2-0   \n",
      "5            5         1 1963-08-24        Preussen Münster          1-1   \n",
      "6            6         1 1963-08-24           Karlsruher SC          1-4   \n",
      "7            7         1 1963-08-24              Hertha BSC          1-1   \n",
      "15          15         2 1963-08-31              1. FC Köln          4-0   \n",
      "14          14         2 1963-08-31            Hamburger SV          4-2   \n",
      "13          13         2 1963-08-31          1. FC Nürnberg          3-0   \n",
      "12          12         2 1963-08-31       Borussia Dortmund          3-3   \n",
      "9            9         2 1963-08-31            MSV Duisburg          3-1   \n",
      "10          10         2 1963-08-31           VfB Stuttgart          2-0   \n",
      "8            8         2 1963-08-31  Eintracht Braunschweig          1-0   \n",
      "11          11         2 1963-08-31    1. FC Kaiserslautern          2-3   \n",
      "21          21         3 1963-09-07     Eintracht Frankfurt          2-3   \n",
      "23          23         3 1963-09-07           FC Schalke 04          3-1   \n",
      "22          22         3 1963-09-07           Karlsruher SC          0-4   \n",
      "20          20         3 1963-09-07        TSV 1860 München          1-3   \n",
      "\n",
      "                 away_team  home_goals  away_goals  winner  goal_difference   \n",
      "0        Borussia Dortmund           3           2       0                1  \\\n",
      "1               1. FC Köln           0           2       2                2   \n",
      "2   Eintracht Braunschweig           1           1       1                0   \n",
      "3     1. FC Kaiserslautern           1           1       1                0   \n",
      "4            VfB Stuttgart           2           0       0                2   \n",
      "5             Hamburger SV           1           1       1                0   \n",
      "6             MSV Duisburg           1           4       2                3   \n",
      "7           1. FC Nürnberg           1           1       1                0   \n",
      "15           Karlsruher SC           4           0       0                4   \n",
      "14       1. FC Saarbrücken           4           2       0                2   \n",
      "13           Werder Bremen           3           0       0                3   \n",
      "12        TSV 1860 München           3           3       1                0   \n",
      "9      Eintracht Frankfurt           3           1       0                2   \n",
      "10              Hertha BSC           2           0       0                2   \n",
      "8         Preussen Münster           1           0       0                1   \n",
      "11           FC Schalke 04           2           3       2                1   \n",
      "21          1. FC Nürnberg           2           3       2                1   \n",
      "23       Borussia Dortmund           3           1       0                2   \n",
      "22            Hamburger SV           0           4       2                4   \n",
      "20              1. FC Köln           1           3       2                2   \n",
      "\n",
      "    ...  away_recent_goals_scored_n3  away_recent_goals_conceded_n3   \n",
      "0   ...                          0.0                            0.0  \\\n",
      "1   ...                          0.0                            0.0   \n",
      "2   ...                          0.0                            0.0   \n",
      "3   ...                          0.0                            0.0   \n",
      "4   ...                          0.0                            0.0   \n",
      "5   ...                          0.0                            0.0   \n",
      "6   ...                          0.0                            0.0   \n",
      "7   ...                          0.0                            0.0   \n",
      "15  ...                          0.0                            0.0   \n",
      "14  ...                          0.0                            0.0   \n",
      "13  ...                          0.0                            0.0   \n",
      "12  ...                          0.0                            0.0   \n",
      "9   ...                          0.0                            0.0   \n",
      "10  ...                          0.0                            0.0   \n",
      "8   ...                          0.0                            0.0   \n",
      "11  ...                          0.0                            0.0   \n",
      "21  ...                          1.0                            1.0   \n",
      "23  ...                          2.0                            3.0   \n",
      "22  ...                          1.0                            1.0   \n",
      "20  ...                          2.0                            0.0   \n",
      "\n",
      "    home_recent_goals_scored_n5  home_recent_goals_conceded_n5   \n",
      "0                           0.0                            0.0  \\\n",
      "1                           0.0                            0.0   \n",
      "2                           0.0                            0.0   \n",
      "3                           0.0                            0.0   \n",
      "4                           0.0                            0.0   \n",
      "5                           0.0                            0.0   \n",
      "6                           0.0                            0.0   \n",
      "7                           0.0                            0.0   \n",
      "15                          0.0                            0.0   \n",
      "14                          0.0                            0.0   \n",
      "13                          0.0                            0.0   \n",
      "12                          0.0                            0.0   \n",
      "9                           0.0                            0.0   \n",
      "10                          0.0                            0.0   \n",
      "8                           0.0                            0.0   \n",
      "11                          0.0                            0.0   \n",
      "21                          1.0                            1.0   \n",
      "23                          2.0                            0.0   \n",
      "22                          1.0                            4.0   \n",
      "20                          1.0                            1.0   \n",
      "\n",
      "    away_recent_goals_scored_n5  away_recent_goals_conceded_n5   \n",
      "0                           0.0                            0.0  \\\n",
      "1                           0.0                            0.0   \n",
      "2                           0.0                            0.0   \n",
      "3                           0.0                            0.0   \n",
      "4                           0.0                            0.0   \n",
      "5                           0.0                            0.0   \n",
      "6                           0.0                            0.0   \n",
      "7                           0.0                            0.0   \n",
      "15                          0.0                            0.0   \n",
      "14                          0.0                            0.0   \n",
      "13                          0.0                            0.0   \n",
      "12                          0.0                            0.0   \n",
      "9                           0.0                            0.0   \n",
      "10                          0.0                            0.0   \n",
      "8                           0.0                            0.0   \n",
      "11                          0.0                            0.0   \n",
      "21                          1.0                            1.0   \n",
      "23                          2.0                            3.0   \n",
      "22                          1.0                            1.0   \n",
      "20                          2.0                            0.0   \n",
      "\n",
      "    home_recent_goals_scored_n10  home_recent_goals_conceded_n10   \n",
      "0                            0.0                             0.0  \\\n",
      "1                            0.0                             0.0   \n",
      "2                            0.0                             0.0   \n",
      "3                            0.0                             0.0   \n",
      "4                            0.0                             0.0   \n",
      "5                            0.0                             0.0   \n",
      "6                            0.0                             0.0   \n",
      "7                            0.0                             0.0   \n",
      "15                           0.0                             0.0   \n",
      "14                           0.0                             0.0   \n",
      "13                           0.0                             0.0   \n",
      "12                           0.0                             0.0   \n",
      "9                            0.0                             0.0   \n",
      "10                           0.0                             0.0   \n",
      "8                            0.0                             0.0   \n",
      "11                           0.0                             0.0   \n",
      "21                           1.0                             1.0   \n",
      "23                           2.0                             0.0   \n",
      "22                           1.0                             4.0   \n",
      "20                           1.0                             1.0   \n",
      "\n",
      "    away_recent_goals_scored_n10  away_recent_goals_conceded_n10  \n",
      "0                            0.0                             0.0  \n",
      "1                            0.0                             0.0  \n",
      "2                            0.0                             0.0  \n",
      "3                            0.0                             0.0  \n",
      "4                            0.0                             0.0  \n",
      "5                            0.0                             0.0  \n",
      "6                            0.0                             0.0  \n",
      "7                            0.0                             0.0  \n",
      "15                           0.0                             0.0  \n",
      "14                           0.0                             0.0  \n",
      "13                           0.0                             0.0  \n",
      "12                           0.0                             0.0  \n",
      "9                            0.0                             0.0  \n",
      "10                           0.0                             0.0  \n",
      "8                            0.0                             0.0  \n",
      "11                           0.0                             0.0  \n",
      "21                           1.0                             1.0  \n",
      "23                           2.0                             3.0  \n",
      "22                           1.0                             1.0  \n",
      "20                           2.0                             0.0  \n",
      "\n",
      "[20 rows x 25 columns]\n"
     ]
    }
   ],
   "source": [
    "# Add recent goals scored/condeded for every team \n",
    "\n",
    "# Recent performance will be calculated on the last n matches \n",
    "n_values = [3, 5, 10]\n",
    "\n",
    "df_bundesliga['date'] = pd.to_datetime(df_bundesliga['date'])\n",
    "df_bundesliga = df_bundesliga.sort_values(by='date')\n",
    "\n",
    "for n in n_values:\n",
    "    df_bundesliga[f'home_recent_goals_scored_n{n}'] = 0\n",
    "    df_bundesliga[f'home_recent_goals_conceded_n{n}'] = 0\n",
    "    df_bundesliga[f'away_recent_goals_scored_n{n}'] = 0\n",
    "    df_bundesliga[f'away_recent_goals_conceded_n{n}'] = 0\n",
    "\n",
    "for team in df_bundesliga['home_team'].unique():\n",
    "    home_matches = df_bundesliga[df_bundesliga['home_team'] == team]\n",
    "    away_matches = df_bundesliga[df_bundesliga['away_team'] == team]\n",
    "\n",
    "    for n in n_values:\n",
    "        # Calculate recent performance metrics for home games\n",
    "        df_bundesliga.loc[df_bundesliga['home_team'] == team, f'home_recent_goals_scored_n{n}'] = home_matches['home_goals'].rolling(window=n, min_periods=1).sum().shift(1)\n",
    "        df_bundesliga.loc[df_bundesliga['home_team'] == team, f'home_recent_goals_conceded_n{n}'] = home_matches['away_goals'].rolling(window=n, min_periods=1).sum().shift(1)\n",
    "\n",
    "        # Calculate recent performance metrics for away games\n",
    "        df_bundesliga.loc[df_bundesliga['away_team'] == team, f'away_recent_goals_scored_n{n}'] = away_matches['away_goals'].rolling(window=n, min_periods=1).sum().shift(1)\n",
    "        df_bundesliga.loc[df_bundesliga['away_team'] == team, f'away_recent_goals_conceded_n{n}'] = away_matches['home_goals'].rolling(window=n, min_periods=1).sum().shift(1)\n",
    "\n",
    "# Handle missing values (e.g., for the first few games of each team where there isn't enough history)\n",
    "df_bundesliga.fillna(0, inplace=True)\n",
    "\n",
    "print(df_bundesliga.head(20))\n"
   ]
  },
  {
   "cell_type": "code",
   "execution_count": 14,
   "metadata": {},
   "outputs": [],
   "source": [
    "# Add previous win \n",
    "\n",
    "df_bundesliga['previous_win'] = 0\n",
    "\n",
    "for team in df_bundesliga['home_team'].unique():\n",
    "    team_matches = df_bundesliga[(df_bundesliga['home_team'] == team) | (df_bundesliga['away_team'] == team)].sort_values('date')\n",
    "    team_matches['previous_win'] = team_matches['winner'].shift(1)\n",
    "    \n",
    "    df_bundesliga.loc[(df_bundesliga['home_team'] == team), 'previous_win'] = team_matches['previous_win'].apply(lambda x: 1 if x == 0 else 0)\n",
    "    df_bundesliga.loc[(df_bundesliga['away_team'] == team), 'previous_win'] = team_matches['previous_win'].apply(lambda x: 1 if x == 2 else 0)\n",
    "\n",
    "df_bundesliga['previous_win'].fillna(0, inplace=True)  "
   ]
  },
  {
   "cell_type": "code",
   "execution_count": 15,
   "metadata": {},
   "outputs": [
    {
     "data": {
      "text/html": [
       "<div>\n",
       "<style scoped>\n",
       "    .dataframe tbody tr th:only-of-type {\n",
       "        vertical-align: middle;\n",
       "    }\n",
       "\n",
       "    .dataframe tbody tr th {\n",
       "        vertical-align: top;\n",
       "    }\n",
       "\n",
       "    .dataframe thead th {\n",
       "        text-align: right;\n",
       "    }\n",
       "</style>\n",
       "<table border=\"1\" class=\"dataframe\">\n",
       "  <thead>\n",
       "    <tr style=\"text-align: right;\">\n",
       "      <th></th>\n",
       "      <th>Unnamed: 0</th>\n",
       "      <th>matchday</th>\n",
       "      <th>date</th>\n",
       "      <th>home_team</th>\n",
       "      <th>final_result</th>\n",
       "      <th>away_team</th>\n",
       "      <th>home_goals</th>\n",
       "      <th>away_goals</th>\n",
       "      <th>winner</th>\n",
       "      <th>goal_difference</th>\n",
       "      <th>...</th>\n",
       "      <th>home_recent_goals_conceded_n5</th>\n",
       "      <th>away_recent_goals_scored_n5</th>\n",
       "      <th>away_recent_goals_conceded_n5</th>\n",
       "      <th>home_recent_goals_scored_n10</th>\n",
       "      <th>home_recent_goals_conceded_n10</th>\n",
       "      <th>away_recent_goals_scored_n10</th>\n",
       "      <th>away_recent_goals_conceded_n10</th>\n",
       "      <th>previous_win</th>\n",
       "      <th>home_team_position</th>\n",
       "      <th>away_team_position</th>\n",
       "    </tr>\n",
       "  </thead>\n",
       "  <tbody>\n",
       "    <tr>\n",
       "      <th>0</th>\n",
       "      <td>0</td>\n",
       "      <td>1</td>\n",
       "      <td>1963-08-24</td>\n",
       "      <td>Werder Bremen</td>\n",
       "      <td>3-2</td>\n",
       "      <td>Borussia Dortmund</td>\n",
       "      <td>3</td>\n",
       "      <td>2</td>\n",
       "      <td>0</td>\n",
       "      <td>1</td>\n",
       "      <td>...</td>\n",
       "      <td>0.0</td>\n",
       "      <td>0.0</td>\n",
       "      <td>0.0</td>\n",
       "      <td>0.0</td>\n",
       "      <td>0.0</td>\n",
       "      <td>0.0</td>\n",
       "      <td>0.0</td>\n",
       "      <td>0</td>\n",
       "      <td>1.0</td>\n",
       "      <td>12.0</td>\n",
       "    </tr>\n",
       "    <tr>\n",
       "      <th>1</th>\n",
       "      <td>1</td>\n",
       "      <td>1</td>\n",
       "      <td>1963-08-24</td>\n",
       "      <td>1. FC Saarbrücken</td>\n",
       "      <td>0-2</td>\n",
       "      <td>1. FC Köln</td>\n",
       "      <td>0</td>\n",
       "      <td>2</td>\n",
       "      <td>2</td>\n",
       "      <td>2</td>\n",
       "      <td>...</td>\n",
       "      <td>0.0</td>\n",
       "      <td>0.0</td>\n",
       "      <td>0.0</td>\n",
       "      <td>0.0</td>\n",
       "      <td>0.0</td>\n",
       "      <td>0.0</td>\n",
       "      <td>0.0</td>\n",
       "      <td>0</td>\n",
       "      <td>3.0</td>\n",
       "      <td>2.0</td>\n",
       "    </tr>\n",
       "    <tr>\n",
       "      <th>2</th>\n",
       "      <td>2</td>\n",
       "      <td>1</td>\n",
       "      <td>1963-08-24</td>\n",
       "      <td>TSV 1860 München</td>\n",
       "      <td>1-1</td>\n",
       "      <td>Eintracht Braunschweig</td>\n",
       "      <td>1</td>\n",
       "      <td>1</td>\n",
       "      <td>1</td>\n",
       "      <td>0</td>\n",
       "      <td>...</td>\n",
       "      <td>0.0</td>\n",
       "      <td>0.0</td>\n",
       "      <td>0.0</td>\n",
       "      <td>0.0</td>\n",
       "      <td>0.0</td>\n",
       "      <td>0.0</td>\n",
       "      <td>0.0</td>\n",
       "      <td>0</td>\n",
       "      <td>3.0</td>\n",
       "      <td>4.0</td>\n",
       "    </tr>\n",
       "    <tr>\n",
       "      <th>3</th>\n",
       "      <td>3</td>\n",
       "      <td>1</td>\n",
       "      <td>1963-08-24</td>\n",
       "      <td>Eintracht Frankfurt</td>\n",
       "      <td>1-1</td>\n",
       "      <td>1. FC Kaiserslautern</td>\n",
       "      <td>1</td>\n",
       "      <td>1</td>\n",
       "      <td>1</td>\n",
       "      <td>0</td>\n",
       "      <td>...</td>\n",
       "      <td>0.0</td>\n",
       "      <td>0.0</td>\n",
       "      <td>0.0</td>\n",
       "      <td>0.0</td>\n",
       "      <td>0.0</td>\n",
       "      <td>0.0</td>\n",
       "      <td>0.0</td>\n",
       "      <td>0</td>\n",
       "      <td>4.0</td>\n",
       "      <td>6.0</td>\n",
       "    </tr>\n",
       "    <tr>\n",
       "      <th>4</th>\n",
       "      <td>4</td>\n",
       "      <td>1</td>\n",
       "      <td>1963-08-24</td>\n",
       "      <td>FC Schalke 04</td>\n",
       "      <td>2-0</td>\n",
       "      <td>VfB Stuttgart</td>\n",
       "      <td>2</td>\n",
       "      <td>0</td>\n",
       "      <td>0</td>\n",
       "      <td>2</td>\n",
       "      <td>...</td>\n",
       "      <td>0.0</td>\n",
       "      <td>0.0</td>\n",
       "      <td>0.0</td>\n",
       "      <td>0.0</td>\n",
       "      <td>0.0</td>\n",
       "      <td>0.0</td>\n",
       "      <td>0.0</td>\n",
       "      <td>0</td>\n",
       "      <td>2.0</td>\n",
       "      <td>16.0</td>\n",
       "    </tr>\n",
       "    <tr>\n",
       "      <th>...</th>\n",
       "      <td>...</td>\n",
       "      <td>...</td>\n",
       "      <td>...</td>\n",
       "      <td>...</td>\n",
       "      <td>...</td>\n",
       "      <td>...</td>\n",
       "      <td>...</td>\n",
       "      <td>...</td>\n",
       "      <td>...</td>\n",
       "      <td>...</td>\n",
       "      <td>...</td>\n",
       "      <td>...</td>\n",
       "      <td>...</td>\n",
       "      <td>...</td>\n",
       "      <td>...</td>\n",
       "      <td>...</td>\n",
       "      <td>...</td>\n",
       "      <td>...</td>\n",
       "      <td>...</td>\n",
       "      <td>...</td>\n",
       "      <td>...</td>\n",
       "    </tr>\n",
       "    <tr>\n",
       "      <th>18601</th>\n",
       "      <td>18601</td>\n",
       "      <td>34</td>\n",
       "      <td>2024-05-18</td>\n",
       "      <td>VfB Stuttgart</td>\n",
       "      <td>4-0</td>\n",
       "      <td>Bor. Mönchengladbach</td>\n",
       "      <td>4</td>\n",
       "      <td>0</td>\n",
       "      <td>0</td>\n",
       "      <td>4</td>\n",
       "      <td>...</td>\n",
       "      <td>5.0</td>\n",
       "      <td>10.0</td>\n",
       "      <td>9.0</td>\n",
       "      <td>26.0</td>\n",
       "      <td>9.0</td>\n",
       "      <td>13.0</td>\n",
       "      <td>19.0</td>\n",
       "      <td>0</td>\n",
       "      <td>2.0</td>\n",
       "      <td>14.0</td>\n",
       "    </tr>\n",
       "    <tr>\n",
       "      <th>18600</th>\n",
       "      <td>18600</td>\n",
       "      <td>34</td>\n",
       "      <td>2024-05-18</td>\n",
       "      <td>Werder Bremen</td>\n",
       "      <td>4-1</td>\n",
       "      <td>VfL Bochum</td>\n",
       "      <td>4</td>\n",
       "      <td>1</td>\n",
       "      <td>0</td>\n",
       "      <td>3</td>\n",
       "      <td>...</td>\n",
       "      <td>8.0</td>\n",
       "      <td>7.0</td>\n",
       "      <td>13.0</td>\n",
       "      <td>13.0</td>\n",
       "      <td>15.0</td>\n",
       "      <td>10.0</td>\n",
       "      <td>24.0</td>\n",
       "      <td>1</td>\n",
       "      <td>9.0</td>\n",
       "      <td>16.0</td>\n",
       "    </tr>\n",
       "    <tr>\n",
       "      <th>18599</th>\n",
       "      <td>18599</td>\n",
       "      <td>34</td>\n",
       "      <td>2024-05-18</td>\n",
       "      <td>1. FC Heidenheim</td>\n",
       "      <td>4-1</td>\n",
       "      <td>1. FC Köln</td>\n",
       "      <td>4</td>\n",
       "      <td>1</td>\n",
       "      <td>0</td>\n",
       "      <td>3</td>\n",
       "      <td>...</td>\n",
       "      <td>8.0</td>\n",
       "      <td>6.0</td>\n",
       "      <td>8.0</td>\n",
       "      <td>15.0</td>\n",
       "      <td>15.0</td>\n",
       "      <td>9.0</td>\n",
       "      <td>14.0</td>\n",
       "      <td>0</td>\n",
       "      <td>8.0</td>\n",
       "      <td>17.0</td>\n",
       "    </tr>\n",
       "    <tr>\n",
       "      <th>18602</th>\n",
       "      <td>18602</td>\n",
       "      <td>34</td>\n",
       "      <td>2024-05-18</td>\n",
       "      <td>Bayer 04 Leverkusen</td>\n",
       "      <td>2-1</td>\n",
       "      <td>FC Augsburg</td>\n",
       "      <td>2</td>\n",
       "      <td>1</td>\n",
       "      <td>0</td>\n",
       "      <td>1</td>\n",
       "      <td>...</td>\n",
       "      <td>4.0</td>\n",
       "      <td>12.0</td>\n",
       "      <td>12.0</td>\n",
       "      <td>24.0</td>\n",
       "      <td>5.0</td>\n",
       "      <td>15.0</td>\n",
       "      <td>20.0</td>\n",
       "      <td>1</td>\n",
       "      <td>1.0</td>\n",
       "      <td>11.0</td>\n",
       "    </tr>\n",
       "    <tr>\n",
       "      <th>18607</th>\n",
       "      <td>18607</td>\n",
       "      <td>34</td>\n",
       "      <td>2024-05-18</td>\n",
       "      <td>Borussia Dortmund</td>\n",
       "      <td>4-0</td>\n",
       "      <td>SV Darmstadt 98</td>\n",
       "      <td>4</td>\n",
       "      <td>0</td>\n",
       "      <td>0</td>\n",
       "      <td>4</td>\n",
       "      <td>...</td>\n",
       "      <td>7.0</td>\n",
       "      <td>4.0</td>\n",
       "      <td>11.0</td>\n",
       "      <td>24.0</td>\n",
       "      <td>14.0</td>\n",
       "      <td>10.0</td>\n",
       "      <td>19.0</td>\n",
       "      <td>1</td>\n",
       "      <td>5.0</td>\n",
       "      <td>18.0</td>\n",
       "    </tr>\n",
       "  </tbody>\n",
       "</table>\n",
       "<p>18608 rows × 28 columns</p>\n",
       "</div>"
      ],
      "text/plain": [
       "       Unnamed: 0  matchday       date            home_team final_result   \n",
       "0               0         1 1963-08-24        Werder Bremen          3-2  \\\n",
       "1               1         1 1963-08-24    1. FC Saarbrücken          0-2   \n",
       "2               2         1 1963-08-24     TSV 1860 München          1-1   \n",
       "3               3         1 1963-08-24  Eintracht Frankfurt          1-1   \n",
       "4               4         1 1963-08-24        FC Schalke 04          2-0   \n",
       "...           ...       ...        ...                  ...          ...   \n",
       "18601       18601        34 2024-05-18        VfB Stuttgart          4-0   \n",
       "18600       18600        34 2024-05-18        Werder Bremen          4-1   \n",
       "18599       18599        34 2024-05-18     1. FC Heidenheim          4-1   \n",
       "18602       18602        34 2024-05-18  Bayer 04 Leverkusen          2-1   \n",
       "18607       18607        34 2024-05-18    Borussia Dortmund          4-0   \n",
       "\n",
       "                    away_team  home_goals  away_goals  winner   \n",
       "0           Borussia Dortmund           3           2       0  \\\n",
       "1                  1. FC Köln           0           2       2   \n",
       "2      Eintracht Braunschweig           1           1       1   \n",
       "3        1. FC Kaiserslautern           1           1       1   \n",
       "4               VfB Stuttgart           2           0       0   \n",
       "...                       ...         ...         ...     ...   \n",
       "18601    Bor. Mönchengladbach           4           0       0   \n",
       "18600              VfL Bochum           4           1       0   \n",
       "18599              1. FC Köln           4           1       0   \n",
       "18602             FC Augsburg           2           1       0   \n",
       "18607         SV Darmstadt 98           4           0       0   \n",
       "\n",
       "       goal_difference  ...  home_recent_goals_conceded_n5   \n",
       "0                    1  ...                            0.0  \\\n",
       "1                    2  ...                            0.0   \n",
       "2                    0  ...                            0.0   \n",
       "3                    0  ...                            0.0   \n",
       "4                    2  ...                            0.0   \n",
       "...                ...  ...                            ...   \n",
       "18601                4  ...                            5.0   \n",
       "18600                3  ...                            8.0   \n",
       "18599                3  ...                            8.0   \n",
       "18602                1  ...                            4.0   \n",
       "18607                4  ...                            7.0   \n",
       "\n",
       "       away_recent_goals_scored_n5  away_recent_goals_conceded_n5   \n",
       "0                              0.0                            0.0  \\\n",
       "1                              0.0                            0.0   \n",
       "2                              0.0                            0.0   \n",
       "3                              0.0                            0.0   \n",
       "4                              0.0                            0.0   \n",
       "...                            ...                            ...   \n",
       "18601                         10.0                            9.0   \n",
       "18600                          7.0                           13.0   \n",
       "18599                          6.0                            8.0   \n",
       "18602                         12.0                           12.0   \n",
       "18607                          4.0                           11.0   \n",
       "\n",
       "       home_recent_goals_scored_n10  home_recent_goals_conceded_n10   \n",
       "0                               0.0                             0.0  \\\n",
       "1                               0.0                             0.0   \n",
       "2                               0.0                             0.0   \n",
       "3                               0.0                             0.0   \n",
       "4                               0.0                             0.0   \n",
       "...                             ...                             ...   \n",
       "18601                          26.0                             9.0   \n",
       "18600                          13.0                            15.0   \n",
       "18599                          15.0                            15.0   \n",
       "18602                          24.0                             5.0   \n",
       "18607                          24.0                            14.0   \n",
       "\n",
       "       away_recent_goals_scored_n10  away_recent_goals_conceded_n10   \n",
       "0                               0.0                             0.0  \\\n",
       "1                               0.0                             0.0   \n",
       "2                               0.0                             0.0   \n",
       "3                               0.0                             0.0   \n",
       "4                               0.0                             0.0   \n",
       "...                             ...                             ...   \n",
       "18601                          13.0                            19.0   \n",
       "18600                          10.0                            24.0   \n",
       "18599                           9.0                            14.0   \n",
       "18602                          15.0                            20.0   \n",
       "18607                          10.0                            19.0   \n",
       "\n",
       "       previous_win  home_team_position  away_team_position  \n",
       "0                 0                 1.0                12.0  \n",
       "1                 0                 3.0                 2.0  \n",
       "2                 0                 3.0                 4.0  \n",
       "3                 0                 4.0                 6.0  \n",
       "4                 0                 2.0                16.0  \n",
       "...             ...                 ...                 ...  \n",
       "18601             0                 2.0                14.0  \n",
       "18600             1                 9.0                16.0  \n",
       "18599             0                 8.0                17.0  \n",
       "18602             1                 1.0                11.0  \n",
       "18607             1                 5.0                18.0  \n",
       "\n",
       "[18608 rows x 28 columns]"
      ]
     },
     "execution_count": 15,
     "metadata": {},
     "output_type": "execute_result"
    }
   ],
   "source": [
    "# Add current league position of home and away team \n",
    "\n",
    "import numpy as np\n",
    "\n",
    "df_bundesliga = df_bundesliga.sort_values(by=['season_start_year', 'matchday'])\n",
    "\n",
    "df_bundesliga['home_team_position'] = np.nan\n",
    "df_bundesliga['away_team_position'] = np.nan\n",
    "\n",
    "for season in df_bundesliga['season_start_year'].unique():\n",
    "    season_matches = df_bundesliga[df_bundesliga['season_start_year'] == season]\n",
    "    \n",
    "   # list of unique teams per season\n",
    "    teams_in_season = pd.concat([season_matches['home_team'], season_matches['away_team']]).unique()\n",
    "    \n",
    "    # Initialize points table for the season with only the teams in that season\n",
    "    points_table = {team: 0 for team in teams_in_season}\n",
    "    league_table = pd.DataFrame(columns=['team', 'points', 'position'])\n",
    "    \n",
    "    # Loop through each match in the season\n",
    "    for index, row in season_matches.iterrows(): #itterows() returns the index and the row of the df, so each match can be processed individually\n",
    "        if row['winner'] == 0:  # Home win\n",
    "            points_table[row['home_team']] += 3\n",
    "        elif row['winner'] == 2:  # Away win\n",
    "            points_table[row['away_team']] += 3\n",
    "        else:  # Draw\n",
    "            points_table[row['home_team']] += 1\n",
    "            points_table[row['away_team']] += 1\n",
    "\n",
    "\n",
    "        # Update the league table\n",
    "        league_table = pd.DataFrame(list(points_table.items()), columns=['team', 'points'])\n",
    "        league_table = league_table.sort_values(by='points', ascending=False).reset_index(drop=True)\n",
    "        league_table['position'] = league_table.index + 1\n",
    "        \n",
    "        # Assign positions to the respective teams if they are in the league table\n",
    "        if row['home_team'] in league_table['team'].values:\n",
    "            df_bundesliga.loc[index, 'home_team_position'] = league_table[league_table['team'] == row['home_team']]['position'].values[0]\n",
    "        if row['away_team'] in league_table['team'].values:\n",
    "            df_bundesliga.loc[index, 'away_team_position'] = league_table[league_table['team'] == row['away_team']]['position'].values[0]\n",
    "\n",
    "\n",
    "df_bundesliga \n"
   ]
  },
  {
   "cell_type": "code",
   "execution_count": 16,
   "metadata": {},
   "outputs": [],
   "source": [
    "#Add Strenght difference: \n",
    "\n",
    "df_bundesliga['strength_difference'] = df_bundesliga['home_team_position'] - df_bundesliga['away_team_position']"
   ]
  },
  {
   "cell_type": "code",
   "execution_count": 17,
   "metadata": {},
   "outputs": [],
   "source": [
    "# Extract the month from the date\n",
    "df_bundesliga['month'] = pd.to_datetime(df_bundesliga['date']).dt.month"
   ]
  },
  {
   "cell_type": "code",
   "execution_count": 18,
   "metadata": {},
   "outputs": [
    {
     "data": {
      "text/html": [
       "<div>\n",
       "<style scoped>\n",
       "    .dataframe tbody tr th:only-of-type {\n",
       "        vertical-align: middle;\n",
       "    }\n",
       "\n",
       "    .dataframe tbody tr th {\n",
       "        vertical-align: top;\n",
       "    }\n",
       "\n",
       "    .dataframe thead th {\n",
       "        text-align: right;\n",
       "    }\n",
       "</style>\n",
       "<table border=\"1\" class=\"dataframe\">\n",
       "  <thead>\n",
       "    <tr style=\"text-align: right;\">\n",
       "      <th></th>\n",
       "      <th>Unnamed: 0</th>\n",
       "      <th>matchday</th>\n",
       "      <th>date</th>\n",
       "      <th>home_team</th>\n",
       "      <th>final_result</th>\n",
       "      <th>away_team</th>\n",
       "      <th>home_goals</th>\n",
       "      <th>away_goals</th>\n",
       "      <th>winner</th>\n",
       "      <th>goal_difference</th>\n",
       "      <th>...</th>\n",
       "      <th>away_recent_goals_conceded_n5</th>\n",
       "      <th>home_recent_goals_scored_n10</th>\n",
       "      <th>home_recent_goals_conceded_n10</th>\n",
       "      <th>away_recent_goals_scored_n10</th>\n",
       "      <th>away_recent_goals_conceded_n10</th>\n",
       "      <th>previous_win</th>\n",
       "      <th>home_team_position</th>\n",
       "      <th>away_team_position</th>\n",
       "      <th>strength_difference</th>\n",
       "      <th>month</th>\n",
       "    </tr>\n",
       "  </thead>\n",
       "  <tbody>\n",
       "    <tr>\n",
       "      <th>0</th>\n",
       "      <td>0</td>\n",
       "      <td>1</td>\n",
       "      <td>1963-08-24</td>\n",
       "      <td>Werder Bremen</td>\n",
       "      <td>3-2</td>\n",
       "      <td>Borussia Dortmund</td>\n",
       "      <td>3</td>\n",
       "      <td>2</td>\n",
       "      <td>0</td>\n",
       "      <td>1</td>\n",
       "      <td>...</td>\n",
       "      <td>0.0</td>\n",
       "      <td>0.0</td>\n",
       "      <td>0.0</td>\n",
       "      <td>0.0</td>\n",
       "      <td>0.0</td>\n",
       "      <td>0</td>\n",
       "      <td>1.0</td>\n",
       "      <td>12.0</td>\n",
       "      <td>-11.0</td>\n",
       "      <td>8</td>\n",
       "    </tr>\n",
       "    <tr>\n",
       "      <th>1</th>\n",
       "      <td>1</td>\n",
       "      <td>1</td>\n",
       "      <td>1963-08-24</td>\n",
       "      <td>1. FC Saarbrücken</td>\n",
       "      <td>0-2</td>\n",
       "      <td>1. FC Köln</td>\n",
       "      <td>0</td>\n",
       "      <td>2</td>\n",
       "      <td>2</td>\n",
       "      <td>2</td>\n",
       "      <td>...</td>\n",
       "      <td>0.0</td>\n",
       "      <td>0.0</td>\n",
       "      <td>0.0</td>\n",
       "      <td>0.0</td>\n",
       "      <td>0.0</td>\n",
       "      <td>0</td>\n",
       "      <td>3.0</td>\n",
       "      <td>2.0</td>\n",
       "      <td>1.0</td>\n",
       "      <td>8</td>\n",
       "    </tr>\n",
       "    <tr>\n",
       "      <th>2</th>\n",
       "      <td>2</td>\n",
       "      <td>1</td>\n",
       "      <td>1963-08-24</td>\n",
       "      <td>TSV 1860 München</td>\n",
       "      <td>1-1</td>\n",
       "      <td>Eintracht Braunschweig</td>\n",
       "      <td>1</td>\n",
       "      <td>1</td>\n",
       "      <td>1</td>\n",
       "      <td>0</td>\n",
       "      <td>...</td>\n",
       "      <td>0.0</td>\n",
       "      <td>0.0</td>\n",
       "      <td>0.0</td>\n",
       "      <td>0.0</td>\n",
       "      <td>0.0</td>\n",
       "      <td>0</td>\n",
       "      <td>3.0</td>\n",
       "      <td>4.0</td>\n",
       "      <td>-1.0</td>\n",
       "      <td>8</td>\n",
       "    </tr>\n",
       "    <tr>\n",
       "      <th>3</th>\n",
       "      <td>3</td>\n",
       "      <td>1</td>\n",
       "      <td>1963-08-24</td>\n",
       "      <td>Eintracht Frankfurt</td>\n",
       "      <td>1-1</td>\n",
       "      <td>1. FC Kaiserslautern</td>\n",
       "      <td>1</td>\n",
       "      <td>1</td>\n",
       "      <td>1</td>\n",
       "      <td>0</td>\n",
       "      <td>...</td>\n",
       "      <td>0.0</td>\n",
       "      <td>0.0</td>\n",
       "      <td>0.0</td>\n",
       "      <td>0.0</td>\n",
       "      <td>0.0</td>\n",
       "      <td>0</td>\n",
       "      <td>4.0</td>\n",
       "      <td>6.0</td>\n",
       "      <td>-2.0</td>\n",
       "      <td>8</td>\n",
       "    </tr>\n",
       "    <tr>\n",
       "      <th>4</th>\n",
       "      <td>4</td>\n",
       "      <td>1</td>\n",
       "      <td>1963-08-24</td>\n",
       "      <td>FC Schalke 04</td>\n",
       "      <td>2-0</td>\n",
       "      <td>VfB Stuttgart</td>\n",
       "      <td>2</td>\n",
       "      <td>0</td>\n",
       "      <td>0</td>\n",
       "      <td>2</td>\n",
       "      <td>...</td>\n",
       "      <td>0.0</td>\n",
       "      <td>0.0</td>\n",
       "      <td>0.0</td>\n",
       "      <td>0.0</td>\n",
       "      <td>0.0</td>\n",
       "      <td>0</td>\n",
       "      <td>2.0</td>\n",
       "      <td>16.0</td>\n",
       "      <td>-14.0</td>\n",
       "      <td>8</td>\n",
       "    </tr>\n",
       "    <tr>\n",
       "      <th>...</th>\n",
       "      <td>...</td>\n",
       "      <td>...</td>\n",
       "      <td>...</td>\n",
       "      <td>...</td>\n",
       "      <td>...</td>\n",
       "      <td>...</td>\n",
       "      <td>...</td>\n",
       "      <td>...</td>\n",
       "      <td>...</td>\n",
       "      <td>...</td>\n",
       "      <td>...</td>\n",
       "      <td>...</td>\n",
       "      <td>...</td>\n",
       "      <td>...</td>\n",
       "      <td>...</td>\n",
       "      <td>...</td>\n",
       "      <td>...</td>\n",
       "      <td>...</td>\n",
       "      <td>...</td>\n",
       "      <td>...</td>\n",
       "      <td>...</td>\n",
       "    </tr>\n",
       "    <tr>\n",
       "      <th>18601</th>\n",
       "      <td>18601</td>\n",
       "      <td>34</td>\n",
       "      <td>2024-05-18</td>\n",
       "      <td>VfB Stuttgart</td>\n",
       "      <td>4-0</td>\n",
       "      <td>Bor. Mönchengladbach</td>\n",
       "      <td>4</td>\n",
       "      <td>0</td>\n",
       "      <td>0</td>\n",
       "      <td>4</td>\n",
       "      <td>...</td>\n",
       "      <td>9.0</td>\n",
       "      <td>26.0</td>\n",
       "      <td>9.0</td>\n",
       "      <td>13.0</td>\n",
       "      <td>19.0</td>\n",
       "      <td>0</td>\n",
       "      <td>2.0</td>\n",
       "      <td>14.0</td>\n",
       "      <td>-12.0</td>\n",
       "      <td>5</td>\n",
       "    </tr>\n",
       "    <tr>\n",
       "      <th>18600</th>\n",
       "      <td>18600</td>\n",
       "      <td>34</td>\n",
       "      <td>2024-05-18</td>\n",
       "      <td>Werder Bremen</td>\n",
       "      <td>4-1</td>\n",
       "      <td>VfL Bochum</td>\n",
       "      <td>4</td>\n",
       "      <td>1</td>\n",
       "      <td>0</td>\n",
       "      <td>3</td>\n",
       "      <td>...</td>\n",
       "      <td>13.0</td>\n",
       "      <td>13.0</td>\n",
       "      <td>15.0</td>\n",
       "      <td>10.0</td>\n",
       "      <td>24.0</td>\n",
       "      <td>1</td>\n",
       "      <td>9.0</td>\n",
       "      <td>16.0</td>\n",
       "      <td>-7.0</td>\n",
       "      <td>5</td>\n",
       "    </tr>\n",
       "    <tr>\n",
       "      <th>18599</th>\n",
       "      <td>18599</td>\n",
       "      <td>34</td>\n",
       "      <td>2024-05-18</td>\n",
       "      <td>1. FC Heidenheim</td>\n",
       "      <td>4-1</td>\n",
       "      <td>1. FC Köln</td>\n",
       "      <td>4</td>\n",
       "      <td>1</td>\n",
       "      <td>0</td>\n",
       "      <td>3</td>\n",
       "      <td>...</td>\n",
       "      <td>8.0</td>\n",
       "      <td>15.0</td>\n",
       "      <td>15.0</td>\n",
       "      <td>9.0</td>\n",
       "      <td>14.0</td>\n",
       "      <td>0</td>\n",
       "      <td>8.0</td>\n",
       "      <td>17.0</td>\n",
       "      <td>-9.0</td>\n",
       "      <td>5</td>\n",
       "    </tr>\n",
       "    <tr>\n",
       "      <th>18602</th>\n",
       "      <td>18602</td>\n",
       "      <td>34</td>\n",
       "      <td>2024-05-18</td>\n",
       "      <td>Bayer 04 Leverkusen</td>\n",
       "      <td>2-1</td>\n",
       "      <td>FC Augsburg</td>\n",
       "      <td>2</td>\n",
       "      <td>1</td>\n",
       "      <td>0</td>\n",
       "      <td>1</td>\n",
       "      <td>...</td>\n",
       "      <td>12.0</td>\n",
       "      <td>24.0</td>\n",
       "      <td>5.0</td>\n",
       "      <td>15.0</td>\n",
       "      <td>20.0</td>\n",
       "      <td>1</td>\n",
       "      <td>1.0</td>\n",
       "      <td>11.0</td>\n",
       "      <td>-10.0</td>\n",
       "      <td>5</td>\n",
       "    </tr>\n",
       "    <tr>\n",
       "      <th>18607</th>\n",
       "      <td>18607</td>\n",
       "      <td>34</td>\n",
       "      <td>2024-05-18</td>\n",
       "      <td>Borussia Dortmund</td>\n",
       "      <td>4-0</td>\n",
       "      <td>SV Darmstadt 98</td>\n",
       "      <td>4</td>\n",
       "      <td>0</td>\n",
       "      <td>0</td>\n",
       "      <td>4</td>\n",
       "      <td>...</td>\n",
       "      <td>11.0</td>\n",
       "      <td>24.0</td>\n",
       "      <td>14.0</td>\n",
       "      <td>10.0</td>\n",
       "      <td>19.0</td>\n",
       "      <td>1</td>\n",
       "      <td>5.0</td>\n",
       "      <td>18.0</td>\n",
       "      <td>-13.0</td>\n",
       "      <td>5</td>\n",
       "    </tr>\n",
       "  </tbody>\n",
       "</table>\n",
       "<p>18608 rows × 30 columns</p>\n",
       "</div>"
      ],
      "text/plain": [
       "       Unnamed: 0  matchday       date            home_team final_result   \n",
       "0               0         1 1963-08-24        Werder Bremen          3-2  \\\n",
       "1               1         1 1963-08-24    1. FC Saarbrücken          0-2   \n",
       "2               2         1 1963-08-24     TSV 1860 München          1-1   \n",
       "3               3         1 1963-08-24  Eintracht Frankfurt          1-1   \n",
       "4               4         1 1963-08-24        FC Schalke 04          2-0   \n",
       "...           ...       ...        ...                  ...          ...   \n",
       "18601       18601        34 2024-05-18        VfB Stuttgart          4-0   \n",
       "18600       18600        34 2024-05-18        Werder Bremen          4-1   \n",
       "18599       18599        34 2024-05-18     1. FC Heidenheim          4-1   \n",
       "18602       18602        34 2024-05-18  Bayer 04 Leverkusen          2-1   \n",
       "18607       18607        34 2024-05-18    Borussia Dortmund          4-0   \n",
       "\n",
       "                    away_team  home_goals  away_goals  winner   \n",
       "0           Borussia Dortmund           3           2       0  \\\n",
       "1                  1. FC Köln           0           2       2   \n",
       "2      Eintracht Braunschweig           1           1       1   \n",
       "3        1. FC Kaiserslautern           1           1       1   \n",
       "4               VfB Stuttgart           2           0       0   \n",
       "...                       ...         ...         ...     ...   \n",
       "18601    Bor. Mönchengladbach           4           0       0   \n",
       "18600              VfL Bochum           4           1       0   \n",
       "18599              1. FC Köln           4           1       0   \n",
       "18602             FC Augsburg           2           1       0   \n",
       "18607         SV Darmstadt 98           4           0       0   \n",
       "\n",
       "       goal_difference  ...  away_recent_goals_conceded_n5   \n",
       "0                    1  ...                            0.0  \\\n",
       "1                    2  ...                            0.0   \n",
       "2                    0  ...                            0.0   \n",
       "3                    0  ...                            0.0   \n",
       "4                    2  ...                            0.0   \n",
       "...                ...  ...                            ...   \n",
       "18601                4  ...                            9.0   \n",
       "18600                3  ...                           13.0   \n",
       "18599                3  ...                            8.0   \n",
       "18602                1  ...                           12.0   \n",
       "18607                4  ...                           11.0   \n",
       "\n",
       "       home_recent_goals_scored_n10  home_recent_goals_conceded_n10   \n",
       "0                               0.0                             0.0  \\\n",
       "1                               0.0                             0.0   \n",
       "2                               0.0                             0.0   \n",
       "3                               0.0                             0.0   \n",
       "4                               0.0                             0.0   \n",
       "...                             ...                             ...   \n",
       "18601                          26.0                             9.0   \n",
       "18600                          13.0                            15.0   \n",
       "18599                          15.0                            15.0   \n",
       "18602                          24.0                             5.0   \n",
       "18607                          24.0                            14.0   \n",
       "\n",
       "       away_recent_goals_scored_n10  away_recent_goals_conceded_n10   \n",
       "0                               0.0                             0.0  \\\n",
       "1                               0.0                             0.0   \n",
       "2                               0.0                             0.0   \n",
       "3                               0.0                             0.0   \n",
       "4                               0.0                             0.0   \n",
       "...                             ...                             ...   \n",
       "18601                          13.0                            19.0   \n",
       "18600                          10.0                            24.0   \n",
       "18599                           9.0                            14.0   \n",
       "18602                          15.0                            20.0   \n",
       "18607                          10.0                            19.0   \n",
       "\n",
       "       previous_win  home_team_position  away_team_position   \n",
       "0                 0                 1.0                12.0  \\\n",
       "1                 0                 3.0                 2.0   \n",
       "2                 0                 3.0                 4.0   \n",
       "3                 0                 4.0                 6.0   \n",
       "4                 0                 2.0                16.0   \n",
       "...             ...                 ...                 ...   \n",
       "18601             0                 2.0                14.0   \n",
       "18600             1                 9.0                16.0   \n",
       "18599             0                 8.0                17.0   \n",
       "18602             1                 1.0                11.0   \n",
       "18607             1                 5.0                18.0   \n",
       "\n",
       "       strength_difference  month  \n",
       "0                    -11.0      8  \n",
       "1                      1.0      8  \n",
       "2                     -1.0      8  \n",
       "3                     -2.0      8  \n",
       "4                    -14.0      8  \n",
       "...                    ...    ...  \n",
       "18601                -12.0      5  \n",
       "18600                 -7.0      5  \n",
       "18599                 -9.0      5  \n",
       "18602                -10.0      5  \n",
       "18607                -13.0      5  \n",
       "\n",
       "[18608 rows x 30 columns]"
      ]
     },
     "execution_count": 18,
     "metadata": {},
     "output_type": "execute_result"
    }
   ],
   "source": [
    "df_bundesliga_recencyfeatures_final = df_bundesliga \n",
    "\n",
    "df_bundesliga_recencyfeatures_final\n"
   ]
  },
  {
   "cell_type": "code",
   "execution_count": 19,
   "metadata": {},
   "outputs": [],
   "source": [
    "df_bundesliga_recencyfeatures_final.to_csv('df_bundesliga_recencyfeatures.csv', index=False)"
   ]
  }
 ],
 "metadata": {
  "kernelspec": {
   "display_name": "Python 3",
   "language": "python",
   "name": "python3"
  },
  "language_info": {
   "codemirror_mode": {
    "name": "ipython",
    "version": 3
   },
   "file_extension": ".py",
   "mimetype": "text/x-python",
   "name": "python",
   "nbconvert_exporter": "python",
   "pygments_lexer": "ipython3",
   "version": "3.11.3"
  }
 },
 "nbformat": 4,
 "nbformat_minor": 2
}
